{
  "nbformat": 4,
  "nbformat_minor": 0,
  "metadata": {
    "colab": {
      "name": "AC_python_classifiers_latest.ipynb",
      "provenance": [],
      "collapsed_sections": [],
      "toc_visible": true,
      "authorship_tag": "ABX9TyPN3D++dFh0d68wtQYywFSk",
      "include_colab_link": true
    },
    "kernelspec": {
      "name": "python3",
      "display_name": "Python 3"
    }
  },
  "cells": [
    {
      "cell_type": "markdown",
      "metadata": {
        "id": "view-in-github",
        "colab_type": "text"
      },
      "source": [
        "<a href=\"https://colab.research.google.com/github/manu675/analytics_cup_21/blob/main/AC_python_classifiers_latest.ipynb\" target=\"_parent\"><img src=\"https://colab.research.google.com/assets/colab-badge.svg\" alt=\"Open In Colab\"/></a>"
      ]
    },
    {
      "cell_type": "markdown",
      "metadata": {
        "id": "E2ODJLpinREX"
      },
      "source": [
        "# Business Analytics - Analytics Cup 21"
      ]
    },
    {
      "cell_type": "markdown",
      "metadata": {
        "id": "B0VibpYcQoYX"
      },
      "source": [
        "**Status Quo (January 27):**   \n",
        "XGB Classifier - balanced accuracy: 0.6835  \n",
        "Logistic Regression - balanced accuracy: 0.5206  \n",
        "Naive Bayes - balanced accuracy: 0.5297  "
      ]
    },
    {
      "cell_type": "markdown",
      "metadata": {
        "id": "xxjUQevkqatd"
      },
      "source": [
        "General background on imbalanced classification:  \n",
        "https://towardsdatascience.com/guide-to-classification-on-imbalanced-datasets-d6653aa5fa23"
      ]
    },
    {
      "cell_type": "markdown",
      "metadata": {
        "id": "Ah95bJj1nF1e"
      },
      "source": [
        "# Importing Libraries"
      ]
    },
    {
      "cell_type": "code",
      "metadata": {
        "colab": {
          "base_uri": "https://localhost:8080/"
        },
        "id": "5HzAXqivnQpi",
        "outputId": "879742e3-920c-49a6-8e4f-3006bf798478"
      },
      "source": [
        "# installing a library to learn from imbalanced data sets via the terminal\n",
        "## ! sudo pip install imbalanced-learn "
      ],
      "execution_count": null,
      "outputs": [
        {
          "output_type": "stream",
          "text": [
            "Requirement already satisfied: imbalanced-learn in /usr/local/lib/python3.6/dist-packages (0.4.3)\n",
            "Requirement already satisfied: scikit-learn>=0.20 in /usr/local/lib/python3.6/dist-packages (from imbalanced-learn) (0.22.2.post1)\n",
            "Requirement already satisfied: scipy>=0.13.3 in /usr/local/lib/python3.6/dist-packages (from imbalanced-learn) (1.4.1)\n",
            "Requirement already satisfied: numpy>=1.8.2 in /usr/local/lib/python3.6/dist-packages (from imbalanced-learn) (1.19.5)\n",
            "Requirement already satisfied: joblib>=0.11 in /usr/local/lib/python3.6/dist-packages (from scikit-learn>=0.20->imbalanced-learn) (1.0.0)\n"
          ],
          "name": "stdout"
        }
      ]
    },
    {
      "cell_type": "code",
      "metadata": {
        "id": "8fwxwIAcVzZr",
        "colab": {
          "base_uri": "https://localhost:8080/"
        },
        "outputId": "a2ba64da-373e-403c-acb6-17ff38bd3792"
      },
      "source": [
        "# importing libaries:\n",
        "\n",
        "import pandas as pd\n",
        "import numpy as np\n",
        "import matplotlib.pyplot as plt\n",
        "\n",
        "import xgboost as xgb\n",
        "from sklearn.metrics import accuracy_score\n",
        "from sklearn.model_selection import train_test_split, GridSearchCV, RandomizedSearchCV, RepeatedStratifiedKFold\n",
        "from sklearn.metrics import confusion_matrix, balanced_accuracy_score, roc_curve, roc_auc_score\n",
        "from sklearn.preprocessing import OneHotEncoder, OrdinalEncoder\n",
        "\n",
        "from sklearn.model_selection import cross_val_score, KFold, StratifiedKFold\n",
        "from sklearn.linear_model import LogisticRegression\n",
        "from sklearn.naive_bayes import GaussianNB\n",
        "\n",
        "from collections import Counter\n",
        "\n",
        "from scipy.stats import loguniform, randint, uniform\n",
        "\n",
        "import imblearn\n",
        "print(imblearn.__version__)\n",
        "\n",
        "from imblearn.over_sampling import RandomOverSampler\n",
        "from sklearn.utils import class_weight\n"
      ],
      "execution_count": 23,
      "outputs": [
        {
          "output_type": "stream",
          "text": [
            "0.4.3\n"
          ],
          "name": "stdout"
        }
      ]
    },
    {
      "cell_type": "code",
      "metadata": {
        "id": "T7HfIUDGN6Fu"
      },
      "source": [
        "# hiding warnings\n",
        "import warnings\n",
        "warnings.filterwarnings('ignore')"
      ],
      "execution_count": 24,
      "outputs": []
    },
    {
      "cell_type": "markdown",
      "metadata": {
        "id": "XP95P5UkeEOE"
      },
      "source": [
        "## Reading in the data"
      ]
    },
    {
      "cell_type": "code",
      "metadata": {
        "colab": {
          "resources": {
            "http://localhost:8080/nbextensions/google.colab/files.js": {
              "data": "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",
              "ok": true,
              "headers": [
                [
                  "content-type",
                  "application/javascript"
                ]
              ],
              "status": 200,
              "status_text": "OK"
            }
          },
          "base_uri": "https://localhost:8080/",
          "height": 72
        },
        "id": "RW07U3uPV9tu",
        "outputId": "e5971ac7-650b-481b-8384-3d9befe0a468"
      },
      "source": [
        "## Way 2: uploading the local data to google colab\n",
        "# importing local data to google colab:\n",
        "from google.colab import files\n",
        "uploaded = files.upload()\n"
      ],
      "execution_count": 37,
      "outputs": [
        {
          "output_type": "display_data",
          "data": {
            "text/html": [
              "\n",
              "     <input type=\"file\" id=\"files-2c58ba76-82ea-4d10-a7f3-4e5e2f7e7f2a\" name=\"files[]\" multiple disabled\n",
              "        style=\"border:none\" />\n",
              "     <output id=\"result-2c58ba76-82ea-4d10-a7f3-4e5e2f7e7f2a\">\n",
              "      Upload widget is only available when the cell has been executed in the\n",
              "      current browser session. Please rerun this cell to enable.\n",
              "      </output>\n",
              "      <script src=\"/nbextensions/google.colab/files.js\"></script> "
            ],
            "text/plain": [
              "<IPython.core.display.HTML object>"
            ]
          },
          "metadata": {
            "tags": []
          }
        },
        {
          "output_type": "stream",
          "text": [
            "Saving train_physicians_df_22_F.csv to train_physicians_df_22_F.csv\n"
          ],
          "name": "stdout"
        }
      ]
    },
    {
      "cell_type": "code",
      "metadata": {
        "colab": {
          "resources": {
            "http://localhost:8080/nbextensions/google.colab/files.js": {
              "data": "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",
              "ok": true,
              "headers": [
                [
                  "content-type",
                  "application/javascript"
                ]
              ],
              "status": 200,
              "status_text": "OK"
            }
          },
          "base_uri": "https://localhost:8080/",
          "height": 72
        },
        "id": "LFHfnqKgva_W",
        "outputId": "950324bf-0e9a-4f46-e31a-3cedc0cec084"
      },
      "source": [
        "## Way 2: uploading the local data to google colab\n",
        "# importing local data to google colab:\n",
        "from google.colab import files\n",
        "uploaded = files.upload()\n"
      ],
      "execution_count": 38,
      "outputs": [
        {
          "output_type": "display_data",
          "data": {
            "text/html": [
              "\n",
              "     <input type=\"file\" id=\"files-b5e4d3c2-65e0-4ed5-8adc-7c050041257f\" name=\"files[]\" multiple disabled\n",
              "        style=\"border:none\" />\n",
              "     <output id=\"result-b5e4d3c2-65e0-4ed5-8adc-7c050041257f\">\n",
              "      Upload widget is only available when the cell has been executed in the\n",
              "      current browser session. Please rerun this cell to enable.\n",
              "      </output>\n",
              "      <script src=\"/nbextensions/google.colab/files.js\"></script> "
            ],
            "text/plain": [
              "<IPython.core.display.HTML object>"
            ]
          },
          "metadata": {
            "tags": []
          }
        },
        {
          "output_type": "stream",
          "text": [
            "Saving test_physicians_df_22_F.csv to test_physicians_df_22_F.csv\n"
          ],
          "name": "stdout"
        }
      ]
    },
    {
      "cell_type": "code",
      "metadata": {
        "id": "As67ZzCexgNH"
      },
      "source": [
        "train = pd.read_csv(\"train_physicians_df_22_F.csv\", sep =\";\")"
      ],
      "execution_count": 41,
      "outputs": []
    },
    {
      "cell_type": "code",
      "metadata": {
        "id": "-phjbGRAxgTO"
      },
      "source": [
        "test = pd.read_csv(\"test_physicians_df_22_F.csv\", sep =\";\")"
      ],
      "execution_count": 42,
      "outputs": []
    },
    {
      "cell_type": "code",
      "metadata": {
        "colab": {
          "base_uri": "https://localhost:8080/",
          "height": 487
        },
        "id": "1mGNXvDMxprc",
        "outputId": "8257e258-190f-4b50-f068-85eb53a1f525"
      },
      "source": [
        "train.head()"
      ],
      "execution_count": 43,
      "outputs": [
        {
          "output_type": "execute_result",
          "data": {
            "text/html": [
              "<div>\n",
              "<style scoped>\n",
              "    .dataframe tbody tr th:only-of-type {\n",
              "        vertical-align: middle;\n",
              "    }\n",
              "\n",
              "    .dataframe tbody tr th {\n",
              "        vertical-align: top;\n",
              "    }\n",
              "\n",
              "    .dataframe thead th {\n",
              "        text-align: right;\n",
              "    }\n",
              "</style>\n",
              "<table border=\"1\" class=\"dataframe\">\n",
              "  <thead>\n",
              "    <tr style=\"text-align: right;\">\n",
              "      <th></th>\n",
              "      <th>Physician_ID</th>\n",
              "      <th>State</th>\n",
              "      <th>Primary_Specialty</th>\n",
              "      <th>Ownership_Indicator</th>\n",
              "      <th>total_payments</th>\n",
              "      <th>number_of_payments</th>\n",
              "      <th>top_nature</th>\n",
              "      <th>total_of_top_nature</th>\n",
              "      <th>range_count</th>\n",
              "      <th>range_total</th>\n",
              "      <th>top_company</th>\n",
              "      <th>pay_count</th>\n",
              "      <th>std</th>\n",
              "      <th>top_rpi</th>\n",
              "      <th>rpi_count</th>\n",
              "      <th>cash</th>\n",
              "      <th>services</th>\n",
              "      <th>stock</th>\n",
              "      <th>stock_opt</th>\n",
              "      <th>any_ownership</th>\n",
              "      <th>dividend</th>\n",
              "      <th>stock_or_other</th>\n",
              "      <th>top_fop</th>\n",
              "      <th>fop_count</th>\n",
              "    </tr>\n",
              "  </thead>\n",
              "  <tbody>\n",
              "    <tr>\n",
              "      <th>0</th>\n",
              "      <td>1</td>\n",
              "      <td>FL</td>\n",
              "      <td>Obstetrics &amp; Gynecology</td>\n",
              "      <td>0</td>\n",
              "      <td>952.93</td>\n",
              "      <td>47</td>\n",
              "      <td>Food and Beverage</td>\n",
              "      <td>842.44</td>\n",
              "      <td>8</td>\n",
              "      <td>170.41</td>\n",
              "      <td>550</td>\n",
              "      <td>18</td>\n",
              "      <td>6.498346</td>\n",
              "      <td>Covered</td>\n",
              "      <td>26</td>\n",
              "      <td>4.0</td>\n",
              "      <td>43.0</td>\n",
              "      <td>0.0</td>\n",
              "      <td>0.0</td>\n",
              "      <td>0.0</td>\n",
              "      <td>0.0</td>\n",
              "      <td>0.0</td>\n",
              "      <td>In-kind items and services</td>\n",
              "      <td>43</td>\n",
              "    </tr>\n",
              "    <tr>\n",
              "      <th>1</th>\n",
              "      <td>2</td>\n",
              "      <td>MD</td>\n",
              "      <td>Anesthesiology</td>\n",
              "      <td>0</td>\n",
              "      <td>120924.92</td>\n",
              "      <td>154</td>\n",
              "      <td>Compensation for services other than consultin...</td>\n",
              "      <td>45190.70</td>\n",
              "      <td>45</td>\n",
              "      <td>35030.52</td>\n",
              "      <td>601</td>\n",
              "      <td>13</td>\n",
              "      <td>478.199770</td>\n",
              "      <td>Covered</td>\n",
              "      <td>88</td>\n",
              "      <td>72.0</td>\n",
              "      <td>82.0</td>\n",
              "      <td>0.0</td>\n",
              "      <td>0.0</td>\n",
              "      <td>0.0</td>\n",
              "      <td>0.0</td>\n",
              "      <td>0.0</td>\n",
              "      <td>In-kind items and services</td>\n",
              "      <td>82</td>\n",
              "    </tr>\n",
              "    <tr>\n",
              "      <th>2</th>\n",
              "      <td>3</td>\n",
              "      <td>NY</td>\n",
              "      <td>Podiatric Medicine &amp; Surgery Service Providers</td>\n",
              "      <td>0</td>\n",
              "      <td>3523.93</td>\n",
              "      <td>132</td>\n",
              "      <td>Food and Beverage</td>\n",
              "      <td>3523.93</td>\n",
              "      <td>12</td>\n",
              "      <td>462.42</td>\n",
              "      <td>340</td>\n",
              "      <td>15</td>\n",
              "      <td>35.449082</td>\n",
              "      <td>Yes</td>\n",
              "      <td>75</td>\n",
              "      <td>39.0</td>\n",
              "      <td>93.0</td>\n",
              "      <td>0.0</td>\n",
              "      <td>0.0</td>\n",
              "      <td>0.0</td>\n",
              "      <td>0.0</td>\n",
              "      <td>0.0</td>\n",
              "      <td>In-kind items and services</td>\n",
              "      <td>93</td>\n",
              "    </tr>\n",
              "    <tr>\n",
              "      <th>3</th>\n",
              "      <td>4</td>\n",
              "      <td>GA</td>\n",
              "      <td>Internal Medicine</td>\n",
              "      <td>0</td>\n",
              "      <td>26745.61</td>\n",
              "      <td>411</td>\n",
              "      <td>Compensation for services other than consultin...</td>\n",
              "      <td>18011.81</td>\n",
              "      <td>50</td>\n",
              "      <td>13247.09</td>\n",
              "      <td>18</td>\n",
              "      <td>32</td>\n",
              "      <td>129.869365</td>\n",
              "      <td>Yes</td>\n",
              "      <td>231</td>\n",
              "      <td>131.0</td>\n",
              "      <td>280.0</td>\n",
              "      <td>0.0</td>\n",
              "      <td>0.0</td>\n",
              "      <td>0.0</td>\n",
              "      <td>0.0</td>\n",
              "      <td>0.0</td>\n",
              "      <td>In-kind items and services</td>\n",
              "      <td>280</td>\n",
              "    </tr>\n",
              "    <tr>\n",
              "      <th>4</th>\n",
              "      <td>5</td>\n",
              "      <td>NM</td>\n",
              "      <td>Orthopaedic Surgery</td>\n",
              "      <td>0</td>\n",
              "      <td>25411.21</td>\n",
              "      <td>98</td>\n",
              "      <td>Education</td>\n",
              "      <td>8792.00</td>\n",
              "      <td>18</td>\n",
              "      <td>9079.72</td>\n",
              "      <td>442</td>\n",
              "      <td>13</td>\n",
              "      <td>1741.832451</td>\n",
              "      <td>Covered</td>\n",
              "      <td>41</td>\n",
              "      <td>16.0</td>\n",
              "      <td>82.0</td>\n",
              "      <td>0.0</td>\n",
              "      <td>0.0</td>\n",
              "      <td>0.0</td>\n",
              "      <td>0.0</td>\n",
              "      <td>0.0</td>\n",
              "      <td>In-kind items and services</td>\n",
              "      <td>82</td>\n",
              "    </tr>\n",
              "  </tbody>\n",
              "</table>\n",
              "</div>"
            ],
            "text/plain": [
              "   Physician_ID State  ...                     top_fop  fop_count\n",
              "0             1    FL  ...  In-kind items and services         43\n",
              "1             2    MD  ...  In-kind items and services         82\n",
              "2             3    NY  ...  In-kind items and services         93\n",
              "3             4    GA  ...  In-kind items and services        280\n",
              "4             5    NM  ...  In-kind items and services         82\n",
              "\n",
              "[5 rows x 24 columns]"
            ]
          },
          "metadata": {
            "tags": []
          },
          "execution_count": 43
        }
      ]
    },
    {
      "cell_type": "code",
      "metadata": {
        "colab": {
          "base_uri": "https://localhost:8080/",
          "height": 487
        },
        "id": "IR_LmYeFxp8i",
        "outputId": "1a2e371f-b784-4a79-d44d-51af662d2209"
      },
      "source": [
        "test.head()"
      ],
      "execution_count": 44,
      "outputs": [
        {
          "output_type": "execute_result",
          "data": {
            "text/html": [
              "<div>\n",
              "<style scoped>\n",
              "    .dataframe tbody tr th:only-of-type {\n",
              "        vertical-align: middle;\n",
              "    }\n",
              "\n",
              "    .dataframe tbody tr th {\n",
              "        vertical-align: top;\n",
              "    }\n",
              "\n",
              "    .dataframe thead th {\n",
              "        text-align: right;\n",
              "    }\n",
              "</style>\n",
              "<table border=\"1\" class=\"dataframe\">\n",
              "  <thead>\n",
              "    <tr style=\"text-align: right;\">\n",
              "      <th></th>\n",
              "      <th>Physician_ID</th>\n",
              "      <th>State</th>\n",
              "      <th>Primary_Specialty</th>\n",
              "      <th>total_payments</th>\n",
              "      <th>number_of_payments</th>\n",
              "      <th>top_nature</th>\n",
              "      <th>total_of_top_nature</th>\n",
              "      <th>range_count</th>\n",
              "      <th>range_total</th>\n",
              "      <th>top_company</th>\n",
              "      <th>pay_count</th>\n",
              "      <th>std</th>\n",
              "      <th>top_rpi</th>\n",
              "      <th>rpi_count</th>\n",
              "      <th>cash</th>\n",
              "      <th>services</th>\n",
              "      <th>stock</th>\n",
              "      <th>stock_opt</th>\n",
              "      <th>any_ownership</th>\n",
              "      <th>dividend</th>\n",
              "      <th>stock_or_other</th>\n",
              "      <th>top_fop</th>\n",
              "      <th>fop_count</th>\n",
              "    </tr>\n",
              "  </thead>\n",
              "  <tbody>\n",
              "    <tr>\n",
              "      <th>0</th>\n",
              "      <td>14</td>\n",
              "      <td>FL</td>\n",
              "      <td>Pain Medicine</td>\n",
              "      <td>5775.53</td>\n",
              "      <td>539</td>\n",
              "      <td>Food and Beverage</td>\n",
              "      <td>5626.66</td>\n",
              "      <td>96</td>\n",
              "      <td>514.07</td>\n",
              "      <td>197</td>\n",
              "      <td>35</td>\n",
              "      <td>4.599791</td>\n",
              "      <td>Yes</td>\n",
              "      <td>360</td>\n",
              "      <td>56.0</td>\n",
              "      <td>483.0</td>\n",
              "      <td>0.0</td>\n",
              "      <td>0.0</td>\n",
              "      <td>0.0</td>\n",
              "      <td>0.0</td>\n",
              "      <td>0.0</td>\n",
              "      <td>In-kind items and services</td>\n",
              "      <td>483</td>\n",
              "    </tr>\n",
              "    <tr>\n",
              "      <th>1</th>\n",
              "      <td>18</td>\n",
              "      <td>NY</td>\n",
              "      <td>Internal Medicine</td>\n",
              "      <td>92123.24</td>\n",
              "      <td>584</td>\n",
              "      <td>Consulting Fee</td>\n",
              "      <td>39516.38</td>\n",
              "      <td>68</td>\n",
              "      <td>42697.24</td>\n",
              "      <td>2285</td>\n",
              "      <td>46</td>\n",
              "      <td>162.675507</td>\n",
              "      <td>Yes</td>\n",
              "      <td>417</td>\n",
              "      <td>100.0</td>\n",
              "      <td>484.0</td>\n",
              "      <td>0.0</td>\n",
              "      <td>0.0</td>\n",
              "      <td>0.0</td>\n",
              "      <td>0.0</td>\n",
              "      <td>0.0</td>\n",
              "      <td>In-kind items and services</td>\n",
              "      <td>484</td>\n",
              "    </tr>\n",
              "    <tr>\n",
              "      <th>2</th>\n",
              "      <td>42</td>\n",
              "      <td>NY</td>\n",
              "      <td>Obstetrics &amp; Gynecology</td>\n",
              "      <td>3159.49</td>\n",
              "      <td>180</td>\n",
              "      <td>Food and Beverage</td>\n",
              "      <td>3066.04</td>\n",
              "      <td>16</td>\n",
              "      <td>256.09</td>\n",
              "      <td>190</td>\n",
              "      <td>27</td>\n",
              "      <td>3.431789</td>\n",
              "      <td>Yes</td>\n",
              "      <td>108</td>\n",
              "      <td>8.0</td>\n",
              "      <td>172.0</td>\n",
              "      <td>0.0</td>\n",
              "      <td>0.0</td>\n",
              "      <td>0.0</td>\n",
              "      <td>0.0</td>\n",
              "      <td>0.0</td>\n",
              "      <td>In-kind items and services</td>\n",
              "      <td>172</td>\n",
              "    </tr>\n",
              "    <tr>\n",
              "      <th>3</th>\n",
              "      <td>46</td>\n",
              "      <td>MI</td>\n",
              "      <td>NaN</td>\n",
              "      <td>1614.34</td>\n",
              "      <td>64</td>\n",
              "      <td>Food and Beverage</td>\n",
              "      <td>1614.34</td>\n",
              "      <td>15</td>\n",
              "      <td>547.14</td>\n",
              "      <td>897</td>\n",
              "      <td>17</td>\n",
              "      <td>20.521972</td>\n",
              "      <td>Yes</td>\n",
              "      <td>49</td>\n",
              "      <td>2.0</td>\n",
              "      <td>62.0</td>\n",
              "      <td>0.0</td>\n",
              "      <td>0.0</td>\n",
              "      <td>0.0</td>\n",
              "      <td>0.0</td>\n",
              "      <td>0.0</td>\n",
              "      <td>In-kind items and services</td>\n",
              "      <td>62</td>\n",
              "    </tr>\n",
              "    <tr>\n",
              "      <th>4</th>\n",
              "      <td>47</td>\n",
              "      <td>MD</td>\n",
              "      <td>Internal Medicine</td>\n",
              "      <td>6494.00</td>\n",
              "      <td>296</td>\n",
              "      <td>Food and Beverage</td>\n",
              "      <td>6444.00</td>\n",
              "      <td>96</td>\n",
              "      <td>1557.50</td>\n",
              "      <td>123</td>\n",
              "      <td>31</td>\n",
              "      <td>13.168132</td>\n",
              "      <td>Yes</td>\n",
              "      <td>253</td>\n",
              "      <td>21.0</td>\n",
              "      <td>275.0</td>\n",
              "      <td>0.0</td>\n",
              "      <td>0.0</td>\n",
              "      <td>0.0</td>\n",
              "      <td>0.0</td>\n",
              "      <td>0.0</td>\n",
              "      <td>In-kind items and services</td>\n",
              "      <td>275</td>\n",
              "    </tr>\n",
              "  </tbody>\n",
              "</table>\n",
              "</div>"
            ],
            "text/plain": [
              "   Physician_ID State  ...                     top_fop  fop_count\n",
              "0            14    FL  ...  In-kind items and services        483\n",
              "1            18    NY  ...  In-kind items and services        484\n",
              "2            42    NY  ...  In-kind items and services        172\n",
              "3            46    MI  ...  In-kind items and services         62\n",
              "4            47    MD  ...  In-kind items and services        275\n",
              "\n",
              "[5 rows x 23 columns]"
            ]
          },
          "metadata": {
            "tags": []
          },
          "execution_count": 44
        }
      ]
    },
    {
      "cell_type": "code",
      "metadata": {
        "colab": {
          "base_uri": "https://localhost:8080/"
        },
        "id": "OHn-nLYJSiH1",
        "outputId": "723930ac-226a-4ed8-c52f-63bdaf4ba8ae"
      },
      "source": [
        "train.shape"
      ],
      "execution_count": 47,
      "outputs": [
        {
          "output_type": "execute_result",
          "data": {
            "text/plain": [
              "(5000, 24)"
            ]
          },
          "metadata": {
            "tags": []
          },
          "execution_count": 47
        }
      ]
    },
    {
      "cell_type": "code",
      "metadata": {
        "colab": {
          "base_uri": "https://localhost:8080/"
        },
        "id": "NTXuu59l-8cE",
        "outputId": "19706745-674d-41a0-fe1f-3a2e51e1151a"
      },
      "source": [
        "test.shape"
      ],
      "execution_count": 48,
      "outputs": [
        {
          "output_type": "execute_result",
          "data": {
            "text/plain": [
              "(1000, 23)"
            ]
          },
          "metadata": {
            "tags": []
          },
          "execution_count": 48
        }
      ]
    },
    {
      "cell_type": "code",
      "metadata": {
        "id": "muQmoBuGy8wb"
      },
      "source": [
        "train = train.set_index('Physician_ID')"
      ],
      "execution_count": 49,
      "outputs": []
    },
    {
      "cell_type": "code",
      "metadata": {
        "colab": {
          "base_uri": "https://localhost:8080/"
        },
        "id": "Ab_hVKT8Glcs",
        "outputId": "bc54763a-d7c5-4b45-b036-02b2ca6bd529"
      },
      "source": [
        "train[\"Ownership_Indicator\"].value_counts()"
      ],
      "execution_count": 51,
      "outputs": [
        {
          "output_type": "execute_result",
          "data": {
            "text/plain": [
              "0    4700\n",
              "1     300\n",
              "Name: Ownership_Indicator, dtype: int64"
            ]
          },
          "metadata": {
            "tags": []
          },
          "execution_count": 51
        }
      ]
    },
    {
      "cell_type": "code",
      "metadata": {
        "colab": {
          "base_uri": "https://localhost:8080/"
        },
        "id": "HNNZQQ4Ex3JB",
        "outputId": "7ccf503d-982d-43d7-b45c-1653c213ce1b"
      },
      "source": [
        "# labels \n",
        "y_train = train[\"Ownership_Indicator\"][0:4000]\n",
        "\n",
        "y_test = train[\"Ownership_Indicator\"][4001:5000]\n",
        "\n",
        "print(y_train, y_test)"
      ],
      "execution_count": 52,
      "outputs": [
        {
          "output_type": "stream",
          "text": [
            "Physician_ID\n",
            "1       0\n",
            "2       0\n",
            "3       0\n",
            "4       0\n",
            "5       0\n",
            "       ..\n",
            "4805    0\n",
            "4806    0\n",
            "4808    0\n",
            "4809    0\n",
            "4810    0\n",
            "Name: Ownership_Indicator, Length: 4000, dtype: int64 Physician_ID\n",
            "4814    0\n",
            "4815    0\n",
            "4816    0\n",
            "4819    0\n",
            "4820    0\n",
            "       ..\n",
            "5995    0\n",
            "5996    0\n",
            "5997    0\n",
            "5998    0\n",
            "6000    0\n",
            "Name: Ownership_Indicator, Length: 999, dtype: int64\n"
          ],
          "name": "stdout"
        }
      ]
    },
    {
      "cell_type": "code",
      "metadata": {
        "colab": {
          "base_uri": "https://localhost:8080/"
        },
        "id": "9py6VZ9mLpon",
        "outputId": "5f97b206-ec8c-4829-fc51-5290ba42c43d"
      },
      "source": [
        "y_train.value_counts()"
      ],
      "execution_count": 53,
      "outputs": [
        {
          "output_type": "execute_result",
          "data": {
            "text/plain": [
              "0    3757\n",
              "1     243\n",
              "Name: Ownership_Indicator, dtype: int64"
            ]
          },
          "metadata": {
            "tags": []
          },
          "execution_count": 53
        }
      ]
    },
    {
      "cell_type": "code",
      "metadata": {
        "colab": {
          "base_uri": "https://localhost:8080/"
        },
        "id": "G1Z3t7ZSLOVT",
        "outputId": "62e62f5d-d83d-4cb4-d6ab-20f6e69b185e"
      },
      "source": [
        "y_test.value_counts()"
      ],
      "execution_count": 54,
      "outputs": [
        {
          "output_type": "execute_result",
          "data": {
            "text/plain": [
              "0    942\n",
              "1     57\n",
              "Name: Ownership_Indicator, dtype: int64"
            ]
          },
          "metadata": {
            "tags": []
          },
          "execution_count": 54
        }
      ]
    },
    {
      "cell_type": "code",
      "metadata": {
        "colab": {
          "base_uri": "https://localhost:8080/"
        },
        "id": "f7oIrvmMLtRH",
        "outputId": "0a99bfcd-6929-426e-c5e8-83b0947e75da"
      },
      "source": [
        "train.columns"
      ],
      "execution_count": 55,
      "outputs": [
        {
          "output_type": "execute_result",
          "data": {
            "text/plain": [
              "Index(['State', 'Primary_Specialty', 'Ownership_Indicator', 'total_payments',\n",
              "       'number_of_payments', 'top_nature', 'total_of_top_nature',\n",
              "       'range_count', 'range_total', 'top_company', 'pay_count', 'std',\n",
              "       'top_rpi', 'rpi_count', 'cash', 'services', 'stock', 'stock_opt',\n",
              "       'any_ownership', 'dividend', 'stock_or_other', 'top_fop', 'fop_count'],\n",
              "      dtype='object')"
            ]
          },
          "metadata": {
            "tags": []
          },
          "execution_count": 55
        }
      ]
    },
    {
      "cell_type": "code",
      "metadata": {
        "id": "oLnecGlox3OU"
      },
      "source": [
        "# features (manually)\n",
        "X_train = train[['Primary_Specialty', 'Ownership_Indicator', 'total_payments',\n",
        "       'number_of_payments', 'top_nature', 'total_of_top_nature',\n",
        "       'range_count', 'range_total', 'top_company', 'pay_count', 'std',\n",
        "       'top_rpi', 'rpi_count', 'cash', 'services', 'stock', 'stock_opt',\n",
        "       'any_ownership', 'dividend', 'stock_or_other', 'top_fop', 'fop_count']][0:4000]\n",
        "\n",
        "X_test = train[['Primary_Specialty', 'Ownership_Indicator', 'total_payments',\n",
        "       'number_of_payments', 'top_nature', 'total_of_top_nature',\n",
        "       'range_count', 'range_total', 'top_company', 'pay_count', 'std',\n",
        "       'top_rpi', 'rpi_count', 'cash', 'services', 'stock', 'stock_opt',\n",
        "       'any_ownership', 'dividend', 'stock_or_other', 'top_fop', 'fop_count']][4001:5000]"
      ],
      "execution_count": 56,
      "outputs": []
    },
    {
      "cell_type": "markdown",
      "metadata": {
        "id": "HBQOBKuJeIb9"
      },
      "source": [
        "## Full data (3 merged dataframes)"
      ]
    },
    {
      "cell_type": "code",
      "metadata": {
        "colab": {
          "base_uri": "https://localhost:8080/"
        },
        "id": "ID3KKnNZeAmS",
        "outputId": "74411e69-4665-4108-ba5f-d86ed37a308f"
      },
      "source": [
        "# this allows for accessing files stored in your google drive using the path \"/gdrive/My Drive/\"\n",
        "# mounting google drive locally:\n",
        "\n",
        "##from google.colab import drive\n",
        "##drive.mount('/gdrive')"
      ],
      "execution_count": null,
      "outputs": [
        {
          "output_type": "stream",
          "text": [
            "Mounted at /gdrive\n"
          ],
          "name": "stdout"
        }
      ]
    },
    {
      "cell_type": "code",
      "metadata": {
        "colab": {
          "base_uri": "https://localhost:8080/"
        },
        "id": "me9o930CfqUJ",
        "outputId": "2aa4a1f7-a519-48f8-b176-611989751111"
      },
      "source": [
        "##df = pd.read_csv(\"/gdrive/My Drive/full_df.csv\")"
      ],
      "execution_count": null,
      "outputs": [
        {
          "output_type": "stream",
          "text": [
            "/usr/local/lib/python3.6/dist-packages/IPython/core/interactiveshell.py:2718: DtypeWarning: Columns (6,16,17,43) have mixed types.Specify dtype option on import or set low_memory=False.\n",
            "  interactivity=interactivity, compiler=compiler, result=result)\n"
          ],
          "name": "stderr"
        }
      ]
    },
    {
      "cell_type": "markdown",
      "metadata": {
        "id": "jiIADW2DnOEs"
      },
      "source": [
        "# Preprocessing"
      ]
    },
    {
      "cell_type": "code",
      "metadata": {
        "colab": {
          "base_uri": "https://localhost:8080/",
          "height": 417
        },
        "id": "w1XUj9k8WpOa",
        "outputId": "31a203d1-b4c3-4fc7-b450-868ac4e2d8a7"
      },
      "source": [
        "df.head()"
      ],
      "execution_count": null,
      "outputs": [
        {
          "output_type": "execute_result",
          "data": {
            "text/html": [
              "<div>\n",
              "<style scoped>\n",
              "    .dataframe tbody tr th:only-of-type {\n",
              "        vertical-align: middle;\n",
              "    }\n",
              "\n",
              "    .dataframe tbody tr th {\n",
              "        vertical-align: top;\n",
              "    }\n",
              "\n",
              "    .dataframe thead th {\n",
              "        text-align: right;\n",
              "    }\n",
              "</style>\n",
              "<table border=\"1\" class=\"dataframe\">\n",
              "  <thead>\n",
              "    <tr style=\"text-align: right;\">\n",
              "      <th></th>\n",
              "      <th>Unnamed: 0</th>\n",
              "      <th>Physician_ID</th>\n",
              "      <th>set</th>\n",
              "      <th>First_Name</th>\n",
              "      <th>Middle_Name</th>\n",
              "      <th>Last_Name</th>\n",
              "      <th>Name_Suffix</th>\n",
              "      <th>City</th>\n",
              "      <th>State</th>\n",
              "      <th>Zipcode</th>\n",
              "      <th>Country.x</th>\n",
              "      <th>Province</th>\n",
              "      <th>Primary_Specialty</th>\n",
              "      <th>License_State_1</th>\n",
              "      <th>License_State_2</th>\n",
              "      <th>License_State_3</th>\n",
              "      <th>License_State_4</th>\n",
              "      <th>License_State_5</th>\n",
              "      <th>Company_ID</th>\n",
              "      <th>Record_ID</th>\n",
              "      <th>Total_Amount_of_Payment_USDollars</th>\n",
              "      <th>Date</th>\n",
              "      <th>Number_of_Payments</th>\n",
              "      <th>Form_of_Payment_or_Transfer_of_Value</th>\n",
              "      <th>Nature_of_Payment_or_Transfer_of_Value</th>\n",
              "      <th>City_of_Travel</th>\n",
              "      <th>State_of_Travel</th>\n",
              "      <th>Country_of_Travel</th>\n",
              "      <th>Ownership_Indicator</th>\n",
              "      <th>Third_Party_Recipient</th>\n",
              "      <th>Charity</th>\n",
              "      <th>Third_Party_Covered</th>\n",
              "      <th>Contextual_Information</th>\n",
              "      <th>Related_Product_Indicator</th>\n",
              "      <th>Product_Code_1</th>\n",
              "      <th>Product_Code_2</th>\n",
              "      <th>Product_Code_3</th>\n",
              "      <th>Product_Type_1</th>\n",
              "      <th>Product_Type_2</th>\n",
              "      <th>Product_Type_3</th>\n",
              "      <th>Product_Name_1</th>\n",
              "      <th>Product_Name_2</th>\n",
              "      <th>Product_Name_3</th>\n",
              "      <th>Product_Category_1</th>\n",
              "      <th>Product_Category_2</th>\n",
              "      <th>Product_Category_3</th>\n",
              "      <th>Company_name</th>\n",
              "      <th>Company_state</th>\n",
              "      <th>Country.y</th>\n",
              "    </tr>\n",
              "  </thead>\n",
              "  <tbody>\n",
              "    <tr>\n",
              "      <th>0</th>\n",
              "      <td>1</td>\n",
              "      <td>1</td>\n",
              "      <td>train</td>\n",
              "      <td>LEIGH</td>\n",
              "      <td>B</td>\n",
              "      <td>HOPPE</td>\n",
              "      <td>NaN</td>\n",
              "      <td>FORT PIERCE</td>\n",
              "      <td>FL</td>\n",
              "      <td>34950</td>\n",
              "      <td>UNITED STATES</td>\n",
              "      <td>NaN</td>\n",
              "      <td>Allopathic &amp; Osteopathic Physicians|Obstetrics...</td>\n",
              "      <td>FL</td>\n",
              "      <td>NaN</td>\n",
              "      <td>NaN</td>\n",
              "      <td>NaN</td>\n",
              "      <td>NaN</td>\n",
              "      <td>69</td>\n",
              "      <td>236420.0</td>\n",
              "      <td>15.13</td>\n",
              "      <td>09/11/2014</td>\n",
              "      <td>1</td>\n",
              "      <td>In-kind items and services</td>\n",
              "      <td>Food and Beverage</td>\n",
              "      <td>NaN</td>\n",
              "      <td>NaN</td>\n",
              "      <td>NaN</td>\n",
              "      <td>No</td>\n",
              "      <td>No Third Party Payment</td>\n",
              "      <td>NaN</td>\n",
              "      <td>NaN</td>\n",
              "      <td>NaN</td>\n",
              "      <td>Covered</td>\n",
              "      <td>NaN</td>\n",
              "      <td>NaN</td>\n",
              "      <td>NaN</td>\n",
              "      <td>Drug or Biological</td>\n",
              "      <td>Drug or Biological</td>\n",
              "      <td>NaN</td>\n",
              "      <td>Myrbetriq</td>\n",
              "      <td>Vesicare</td>\n",
              "      <td>NaN</td>\n",
              "      <td>NaN</td>\n",
              "      <td>NaN</td>\n",
              "      <td>NaN</td>\n",
              "      <td>Astellas Pharma US Inc</td>\n",
              "      <td>IL</td>\n",
              "      <td>United States</td>\n",
              "    </tr>\n",
              "    <tr>\n",
              "      <th>1</th>\n",
              "      <td>2</td>\n",
              "      <td>1</td>\n",
              "      <td>train</td>\n",
              "      <td>LEIGH</td>\n",
              "      <td>B</td>\n",
              "      <td>HOPPE</td>\n",
              "      <td>NaN</td>\n",
              "      <td>FORT PIERCE</td>\n",
              "      <td>FL</td>\n",
              "      <td>34950</td>\n",
              "      <td>UNITED STATES</td>\n",
              "      <td>NaN</td>\n",
              "      <td>Allopathic &amp; Osteopathic Physicians|Obstetrics...</td>\n",
              "      <td>FL</td>\n",
              "      <td>NaN</td>\n",
              "      <td>NaN</td>\n",
              "      <td>NaN</td>\n",
              "      <td>NaN</td>\n",
              "      <td>450</td>\n",
              "      <td>22992.0</td>\n",
              "      <td>11.77</td>\n",
              "      <td>09/12/2013</td>\n",
              "      <td>1</td>\n",
              "      <td>In-kind items and services</td>\n",
              "      <td>Food and Beverage</td>\n",
              "      <td>NaN</td>\n",
              "      <td>NaN</td>\n",
              "      <td>NaN</td>\n",
              "      <td>No</td>\n",
              "      <td>No Third Party Payment</td>\n",
              "      <td>NaN</td>\n",
              "      <td>NaN</td>\n",
              "      <td>NaN</td>\n",
              "      <td>Covered</td>\n",
              "      <td>5963058000</td>\n",
              "      <td>NaN</td>\n",
              "      <td>NaN</td>\n",
              "      <td>Drug or Biological</td>\n",
              "      <td>NaN</td>\n",
              "      <td>NaN</td>\n",
              "      <td>Osphena</td>\n",
              "      <td>NaN</td>\n",
              "      <td>NaN</td>\n",
              "      <td>NaN</td>\n",
              "      <td>NaN</td>\n",
              "      <td>NaN</td>\n",
              "      <td>Shionogi Inc</td>\n",
              "      <td>NJ</td>\n",
              "      <td>United States</td>\n",
              "    </tr>\n",
              "    <tr>\n",
              "      <th>2</th>\n",
              "      <td>3</td>\n",
              "      <td>1</td>\n",
              "      <td>train</td>\n",
              "      <td>LEIGH</td>\n",
              "      <td>B</td>\n",
              "      <td>HOPPE</td>\n",
              "      <td>NaN</td>\n",
              "      <td>FORT PIERCE</td>\n",
              "      <td>FL</td>\n",
              "      <td>34950</td>\n",
              "      <td>UNITED STATES</td>\n",
              "      <td>NaN</td>\n",
              "      <td>Allopathic &amp; Osteopathic Physicians|Obstetrics...</td>\n",
              "      <td>FL</td>\n",
              "      <td>NaN</td>\n",
              "      <td>NaN</td>\n",
              "      <td>NaN</td>\n",
              "      <td>NaN</td>\n",
              "      <td>550</td>\n",
              "      <td>1278340.0</td>\n",
              "      <td>20.78</td>\n",
              "      <td>05/10/2019</td>\n",
              "      <td>1</td>\n",
              "      <td>In-kind items and services</td>\n",
              "      <td>Food and Beverage</td>\n",
              "      <td>NaN</td>\n",
              "      <td>NaN</td>\n",
              "      <td>NaN</td>\n",
              "      <td>No</td>\n",
              "      <td>No Third Party Payment</td>\n",
              "      <td>No</td>\n",
              "      <td>NaN</td>\n",
              "      <td>NaN</td>\n",
              "      <td>Yes</td>\n",
              "      <td>NaN</td>\n",
              "      <td>NaN</td>\n",
              "      <td>NaN</td>\n",
              "      <td>Device</td>\n",
              "      <td>NaN</td>\n",
              "      <td>NaN</td>\n",
              "      <td>HARMONIC Product Family</td>\n",
              "      <td>NaN</td>\n",
              "      <td>NaN</td>\n",
              "      <td>NaN</td>\n",
              "      <td>NaN</td>\n",
              "      <td>NaN</td>\n",
              "      <td>Medical Device Business Services, Inc.</td>\n",
              "      <td>IN</td>\n",
              "      <td>United States</td>\n",
              "    </tr>\n",
              "    <tr>\n",
              "      <th>3</th>\n",
              "      <td>4</td>\n",
              "      <td>1</td>\n",
              "      <td>train</td>\n",
              "      <td>LEIGH</td>\n",
              "      <td>B</td>\n",
              "      <td>HOPPE</td>\n",
              "      <td>NaN</td>\n",
              "      <td>FORT PIERCE</td>\n",
              "      <td>FL</td>\n",
              "      <td>34950</td>\n",
              "      <td>UNITED STATES</td>\n",
              "      <td>NaN</td>\n",
              "      <td>Allopathic &amp; Osteopathic Physicians|Obstetrics...</td>\n",
              "      <td>FL</td>\n",
              "      <td>NaN</td>\n",
              "      <td>NaN</td>\n",
              "      <td>NaN</td>\n",
              "      <td>NaN</td>\n",
              "      <td>613</td>\n",
              "      <td>365090.0</td>\n",
              "      <td>23.74</td>\n",
              "      <td>04/09/2015</td>\n",
              "      <td>1</td>\n",
              "      <td>In-kind items and services</td>\n",
              "      <td>Food and Beverage</td>\n",
              "      <td>NaN</td>\n",
              "      <td>NaN</td>\n",
              "      <td>NaN</td>\n",
              "      <td>No</td>\n",
              "      <td>No Third Party Payment</td>\n",
              "      <td>NaN</td>\n",
              "      <td>NaN</td>\n",
              "      <td>NaN</td>\n",
              "      <td>Covered</td>\n",
              "      <td>NaN</td>\n",
              "      <td>NaN</td>\n",
              "      <td>NaN</td>\n",
              "      <td>Device or Medical Supply</td>\n",
              "      <td>NaN</td>\n",
              "      <td>NaN</td>\n",
              "      <td>THINPREP</td>\n",
              "      <td>NaN</td>\n",
              "      <td>NaN</td>\n",
              "      <td>NaN</td>\n",
              "      <td>NaN</td>\n",
              "      <td>NaN</td>\n",
              "      <td>HOLOGIC INC</td>\n",
              "      <td>MA</td>\n",
              "      <td>United States</td>\n",
              "    </tr>\n",
              "    <tr>\n",
              "      <th>4</th>\n",
              "      <td>5</td>\n",
              "      <td>1</td>\n",
              "      <td>train</td>\n",
              "      <td>LEIGH</td>\n",
              "      <td>B</td>\n",
              "      <td>HOPPE</td>\n",
              "      <td>NaN</td>\n",
              "      <td>FORT PIERCE</td>\n",
              "      <td>FL</td>\n",
              "      <td>34950</td>\n",
              "      <td>UNITED STATES</td>\n",
              "      <td>NaN</td>\n",
              "      <td>Allopathic &amp; Osteopathic Physicians|Obstetrics...</td>\n",
              "      <td>FL</td>\n",
              "      <td>NaN</td>\n",
              "      <td>NaN</td>\n",
              "      <td>NaN</td>\n",
              "      <td>NaN</td>\n",
              "      <td>550</td>\n",
              "      <td>1278614.0</td>\n",
              "      <td>20.78</td>\n",
              "      <td>05/10/2019</td>\n",
              "      <td>1</td>\n",
              "      <td>In-kind items and services</td>\n",
              "      <td>Food and Beverage</td>\n",
              "      <td>NaN</td>\n",
              "      <td>NaN</td>\n",
              "      <td>NaN</td>\n",
              "      <td>No</td>\n",
              "      <td>No Third Party Payment</td>\n",
              "      <td>No</td>\n",
              "      <td>NaN</td>\n",
              "      <td>NaN</td>\n",
              "      <td>Yes</td>\n",
              "      <td>NaN</td>\n",
              "      <td>NaN</td>\n",
              "      <td>NaN</td>\n",
              "      <td>Device</td>\n",
              "      <td>NaN</td>\n",
              "      <td>NaN</td>\n",
              "      <td>HARMONIC Product Family</td>\n",
              "      <td>NaN</td>\n",
              "      <td>NaN</td>\n",
              "      <td>NaN</td>\n",
              "      <td>NaN</td>\n",
              "      <td>NaN</td>\n",
              "      <td>Medical Device Business Services, Inc.</td>\n",
              "      <td>IN</td>\n",
              "      <td>United States</td>\n",
              "    </tr>\n",
              "  </tbody>\n",
              "</table>\n",
              "</div>"
            ],
            "text/plain": [
              "   Unnamed: 0  Physician_ID  ... Company_state      Country.y\n",
              "0           1             1  ...            IL  United States\n",
              "1           2             1  ...            NJ  United States\n",
              "2           3             1  ...            IN  United States\n",
              "3           4             1  ...            MA  United States\n",
              "4           5             1  ...            IN  United States\n",
              "\n",
              "[5 rows x 49 columns]"
            ]
          },
          "metadata": {
            "tags": []
          },
          "execution_count": 10
        }
      ]
    },
    {
      "cell_type": "code",
      "metadata": {
        "colab": {
          "base_uri": "https://localhost:8080/"
        },
        "id": "K6Ymb0YlW9ow",
        "outputId": "1b931c5b-b6f6-4706-a160-9149767e6704"
      },
      "source": [
        "df.columns"
      ],
      "execution_count": null,
      "outputs": [
        {
          "output_type": "execute_result",
          "data": {
            "text/plain": [
              "Index(['Unnamed: 0', 'Physician_ID', 'set', 'First_Name', 'Middle_Name',\n",
              "       'Last_Name', 'Name_Suffix', 'City', 'State', 'Zipcode', 'Country.x',\n",
              "       'Province', 'Primary_Specialty', 'License_State_1', 'License_State_2',\n",
              "       'License_State_3', 'License_State_4', 'License_State_5', 'Company_ID',\n",
              "       'Record_ID', 'Total_Amount_of_Payment_USDollars', 'Date',\n",
              "       'Number_of_Payments', 'Form_of_Payment_or_Transfer_of_Value',\n",
              "       'Nature_of_Payment_or_Transfer_of_Value', 'City_of_Travel',\n",
              "       'State_of_Travel', 'Country_of_Travel', 'Ownership_Indicator',\n",
              "       'Third_Party_Recipient', 'Charity', 'Third_Party_Covered',\n",
              "       'Contextual_Information', 'Related_Product_Indicator', 'Product_Code_1',\n",
              "       'Product_Code_2', 'Product_Code_3', 'Product_Type_1', 'Product_Type_2',\n",
              "       'Product_Type_3', 'Product_Name_1', 'Product_Name_2', 'Product_Name_3',\n",
              "       'Product_Category_1', 'Product_Category_2', 'Product_Category_3',\n",
              "       'Company_name', 'Company_state', 'Country.y'],\n",
              "      dtype='object')"
            ]
          },
          "metadata": {
            "tags": []
          },
          "execution_count": 11
        }
      ]
    },
    {
      "cell_type": "code",
      "metadata": {
        "colab": {
          "base_uri": "https://localhost:8080/"
        },
        "id": "hfibDeb9XAbR",
        "outputId": "9a4a7b7c-9853-4007-8d89-f8baabe4c3a5"
      },
      "source": [
        "# dimensionality of the df\n",
        "df.shape"
      ],
      "execution_count": null,
      "outputs": [
        {
          "output_type": "execute_result",
          "data": {
            "text/plain": [
              "(1402250, 49)"
            ]
          },
          "metadata": {
            "tags": []
          },
          "execution_count": 12
        }
      ]
    },
    {
      "cell_type": "code",
      "metadata": {
        "colab": {
          "base_uri": "https://localhost:8080/",
          "height": 369
        },
        "id": "4d0RmPwibRlW",
        "outputId": "c11783f9-eb4d-4b65-ac34-249db74a66f9"
      },
      "source": [
        "# pairwise correlations of the columns\n",
        "df.corr()"
      ],
      "execution_count": null,
      "outputs": [
        {
          "output_type": "execute_result",
          "data": {
            "text/html": [
              "<div>\n",
              "<style scoped>\n",
              "    .dataframe tbody tr th:only-of-type {\n",
              "        vertical-align: middle;\n",
              "    }\n",
              "\n",
              "    .dataframe tbody tr th {\n",
              "        vertical-align: top;\n",
              "    }\n",
              "\n",
              "    .dataframe thead th {\n",
              "        text-align: right;\n",
              "    }\n",
              "</style>\n",
              "<table border=\"1\" class=\"dataframe\">\n",
              "  <thead>\n",
              "    <tr style=\"text-align: right;\">\n",
              "      <th></th>\n",
              "      <th>Unnamed: 0</th>\n",
              "      <th>Physician_ID</th>\n",
              "      <th>Province</th>\n",
              "      <th>Company_ID</th>\n",
              "      <th>Record_ID</th>\n",
              "      <th>Total_Amount_of_Payment_USDollars</th>\n",
              "      <th>Number_of_Payments</th>\n",
              "      <th>Product_Category_2</th>\n",
              "      <th>Product_Category_3</th>\n",
              "    </tr>\n",
              "  </thead>\n",
              "  <tbody>\n",
              "    <tr>\n",
              "      <th>Unnamed: 0</th>\n",
              "      <td>1.000000</td>\n",
              "      <td>0.999901</td>\n",
              "      <td>NaN</td>\n",
              "      <td>-0.007077</td>\n",
              "      <td>-0.004893</td>\n",
              "      <td>0.000370</td>\n",
              "      <td>-0.001545</td>\n",
              "      <td>NaN</td>\n",
              "      <td>NaN</td>\n",
              "    </tr>\n",
              "    <tr>\n",
              "      <th>Physician_ID</th>\n",
              "      <td>0.999901</td>\n",
              "      <td>1.000000</td>\n",
              "      <td>NaN</td>\n",
              "      <td>-0.007202</td>\n",
              "      <td>-0.004926</td>\n",
              "      <td>0.000351</td>\n",
              "      <td>-0.001563</td>\n",
              "      <td>NaN</td>\n",
              "      <td>NaN</td>\n",
              "    </tr>\n",
              "    <tr>\n",
              "      <th>Province</th>\n",
              "      <td>NaN</td>\n",
              "      <td>NaN</td>\n",
              "      <td>NaN</td>\n",
              "      <td>NaN</td>\n",
              "      <td>NaN</td>\n",
              "      <td>NaN</td>\n",
              "      <td>NaN</td>\n",
              "      <td>NaN</td>\n",
              "      <td>NaN</td>\n",
              "    </tr>\n",
              "    <tr>\n",
              "      <th>Company_ID</th>\n",
              "      <td>-0.007077</td>\n",
              "      <td>-0.007202</td>\n",
              "      <td>NaN</td>\n",
              "      <td>1.000000</td>\n",
              "      <td>0.141562</td>\n",
              "      <td>0.005695</td>\n",
              "      <td>-0.007207</td>\n",
              "      <td>NaN</td>\n",
              "      <td>NaN</td>\n",
              "    </tr>\n",
              "    <tr>\n",
              "      <th>Record_ID</th>\n",
              "      <td>-0.004893</td>\n",
              "      <td>-0.004926</td>\n",
              "      <td>NaN</td>\n",
              "      <td>0.141562</td>\n",
              "      <td>1.000000</td>\n",
              "      <td>0.000280</td>\n",
              "      <td>-0.007403</td>\n",
              "      <td>NaN</td>\n",
              "      <td>NaN</td>\n",
              "    </tr>\n",
              "    <tr>\n",
              "      <th>Total_Amount_of_Payment_USDollars</th>\n",
              "      <td>0.000370</td>\n",
              "      <td>0.000351</td>\n",
              "      <td>NaN</td>\n",
              "      <td>0.005695</td>\n",
              "      <td>0.000280</td>\n",
              "      <td>1.000000</td>\n",
              "      <td>0.002332</td>\n",
              "      <td>NaN</td>\n",
              "      <td>NaN</td>\n",
              "    </tr>\n",
              "    <tr>\n",
              "      <th>Number_of_Payments</th>\n",
              "      <td>-0.001545</td>\n",
              "      <td>-0.001563</td>\n",
              "      <td>NaN</td>\n",
              "      <td>-0.007207</td>\n",
              "      <td>-0.007403</td>\n",
              "      <td>0.002332</td>\n",
              "      <td>1.000000</td>\n",
              "      <td>NaN</td>\n",
              "      <td>NaN</td>\n",
              "    </tr>\n",
              "    <tr>\n",
              "      <th>Product_Category_2</th>\n",
              "      <td>NaN</td>\n",
              "      <td>NaN</td>\n",
              "      <td>NaN</td>\n",
              "      <td>NaN</td>\n",
              "      <td>NaN</td>\n",
              "      <td>NaN</td>\n",
              "      <td>NaN</td>\n",
              "      <td>NaN</td>\n",
              "      <td>NaN</td>\n",
              "    </tr>\n",
              "    <tr>\n",
              "      <th>Product_Category_3</th>\n",
              "      <td>NaN</td>\n",
              "      <td>NaN</td>\n",
              "      <td>NaN</td>\n",
              "      <td>NaN</td>\n",
              "      <td>NaN</td>\n",
              "      <td>NaN</td>\n",
              "      <td>NaN</td>\n",
              "      <td>NaN</td>\n",
              "      <td>NaN</td>\n",
              "    </tr>\n",
              "  </tbody>\n",
              "</table>\n",
              "</div>"
            ],
            "text/plain": [
              "                                   Unnamed: 0  ...  Product_Category_3\n",
              "Unnamed: 0                           1.000000  ...                 NaN\n",
              "Physician_ID                         0.999901  ...                 NaN\n",
              "Province                                  NaN  ...                 NaN\n",
              "Company_ID                          -0.007077  ...                 NaN\n",
              "Record_ID                           -0.004893  ...                 NaN\n",
              "Total_Amount_of_Payment_USDollars    0.000370  ...                 NaN\n",
              "Number_of_Payments                  -0.001545  ...                 NaN\n",
              "Product_Category_2                        NaN  ...                 NaN\n",
              "Product_Category_3                        NaN  ...                 NaN\n",
              "\n",
              "[9 rows x 9 columns]"
            ]
          },
          "metadata": {
            "tags": []
          },
          "execution_count": 13
        }
      ]
    },
    {
      "cell_type": "markdown",
      "metadata": {
        "id": "7kpr5eXZle7g"
      },
      "source": [
        "# Ordinal/One-hot Encoding "
      ]
    },
    {
      "cell_type": "markdown",
      "metadata": {
        "id": "l7lSZ9d2hjyB"
      },
      "source": [
        " \n",
        "Link: https://machinelearningmastery.com/one-hot-encoding-for-categorical-data/"
      ]
    },
    {
      "cell_type": "markdown",
      "metadata": {
        "id": "c9XjZ-ByhrDp"
      },
      "source": [
        "Machine learning models require all input and output variables to be numeric.\n",
        "\n",
        "This means that if your data contains categorical data, you must encode it to numbers before you can fit and evaluate a model.  \n",
        "\n",
        "Types of data:    \n",
        "**Numerical data**. Variable or features that is only composed of numbers, such as integers or floating-point values  \n",
        "**Nominal/Categorical Variable**. Variable comprises a finite set of discrete values with no relationship between values.  \n",
        "**Ordinal Variable**. Variable comprises a finite set of discrete values with a ranked ordering between values.\n",
        "\n",
        "A numerical variable can be converted to an ordinal variable by dividing the range of the numerical variable into bins and assigning values to each bin. For example, a numerical variable between 1 and 10 can be divided into an ordinal variable with 5 labels with an ordinal relationship: 1-2, 3-4, 5-6, 7-8, 9-10. This is called **discretization**.\n",
        "\n",
        "\n",
        "The following variants exist:\n",
        "* One-hot encoding (each category value is converted into a new column and assigned a 1 or 0 (notation for true/false) value to the column)\n",
        "* Ordinal encoding (=Integer Encoding) (each unique category value is assigned an integer value For example, “red” is 1, “green” is 2, and “blue” is 3)\n",
        "* Label encoding (This approach is very simple and it involves converting each value in a column to a number)\n",
        "\n",
        "\n",
        "\n",
        "\n"
      ]
    },
    {
      "cell_type": "markdown",
      "metadata": {
        "id": "5MhOWXwml_h-"
      },
      "source": [
        "**However, some algorithms can work with categorical data directly.**\n",
        "\n",
        "For example, a decision tree can be learned directly from categorical data with no data transform required (this depends on the specific implementation)."
      ]
    },
    {
      "cell_type": "code",
      "metadata": {
        "colab": {
          "base_uri": "https://localhost:8080/",
          "height": 518
        },
        "id": "5US7_QHQpkQE",
        "outputId": "21cb3b0f-42df-42c4-8528-4f760b55031b"
      },
      "source": [
        "train.head()"
      ],
      "execution_count": 161,
      "outputs": [
        {
          "output_type": "execute_result",
          "data": {
            "text/html": [
              "<div>\n",
              "<style scoped>\n",
              "    .dataframe tbody tr th:only-of-type {\n",
              "        vertical-align: middle;\n",
              "    }\n",
              "\n",
              "    .dataframe tbody tr th {\n",
              "        vertical-align: top;\n",
              "    }\n",
              "\n",
              "    .dataframe thead th {\n",
              "        text-align: right;\n",
              "    }\n",
              "</style>\n",
              "<table border=\"1\" class=\"dataframe\">\n",
              "  <thead>\n",
              "    <tr style=\"text-align: right;\">\n",
              "      <th></th>\n",
              "      <th>State</th>\n",
              "      <th>Primary_Specialty</th>\n",
              "      <th>Ownership_Indicator</th>\n",
              "      <th>total_payments</th>\n",
              "      <th>number_of_payments</th>\n",
              "      <th>top_nature</th>\n",
              "      <th>total_of_top_nature</th>\n",
              "      <th>range_count</th>\n",
              "      <th>range_total</th>\n",
              "      <th>top_company</th>\n",
              "      <th>pay_count</th>\n",
              "      <th>std</th>\n",
              "      <th>top_rpi</th>\n",
              "      <th>rpi_count</th>\n",
              "      <th>cash</th>\n",
              "      <th>services</th>\n",
              "      <th>stock</th>\n",
              "      <th>stock_opt</th>\n",
              "      <th>any_ownership</th>\n",
              "      <th>dividend</th>\n",
              "      <th>stock_or_other</th>\n",
              "      <th>top_fop</th>\n",
              "      <th>fop_count</th>\n",
              "    </tr>\n",
              "    <tr>\n",
              "      <th>Physician_ID</th>\n",
              "      <th></th>\n",
              "      <th></th>\n",
              "      <th></th>\n",
              "      <th></th>\n",
              "      <th></th>\n",
              "      <th></th>\n",
              "      <th></th>\n",
              "      <th></th>\n",
              "      <th></th>\n",
              "      <th></th>\n",
              "      <th></th>\n",
              "      <th></th>\n",
              "      <th></th>\n",
              "      <th></th>\n",
              "      <th></th>\n",
              "      <th></th>\n",
              "      <th></th>\n",
              "      <th></th>\n",
              "      <th></th>\n",
              "      <th></th>\n",
              "      <th></th>\n",
              "      <th></th>\n",
              "      <th></th>\n",
              "    </tr>\n",
              "  </thead>\n",
              "  <tbody>\n",
              "    <tr>\n",
              "      <th>1</th>\n",
              "      <td>FL</td>\n",
              "      <td>Obstetrics &amp; Gynecology</td>\n",
              "      <td>0</td>\n",
              "      <td>952.93</td>\n",
              "      <td>47</td>\n",
              "      <td>Food and Beverage</td>\n",
              "      <td>842.44</td>\n",
              "      <td>8</td>\n",
              "      <td>170.41</td>\n",
              "      <td>550</td>\n",
              "      <td>18</td>\n",
              "      <td>6.498346</td>\n",
              "      <td>Covered</td>\n",
              "      <td>26</td>\n",
              "      <td>4.0</td>\n",
              "      <td>43.0</td>\n",
              "      <td>0.0</td>\n",
              "      <td>0.0</td>\n",
              "      <td>0.0</td>\n",
              "      <td>0.0</td>\n",
              "      <td>0.0</td>\n",
              "      <td>In-kind items and services</td>\n",
              "      <td>43</td>\n",
              "    </tr>\n",
              "    <tr>\n",
              "      <th>2</th>\n",
              "      <td>MD</td>\n",
              "      <td>Anesthesiology</td>\n",
              "      <td>0</td>\n",
              "      <td>120924.92</td>\n",
              "      <td>154</td>\n",
              "      <td>Compensation for services other than consultin...</td>\n",
              "      <td>45190.70</td>\n",
              "      <td>45</td>\n",
              "      <td>35030.52</td>\n",
              "      <td>601</td>\n",
              "      <td>13</td>\n",
              "      <td>478.199770</td>\n",
              "      <td>Covered</td>\n",
              "      <td>88</td>\n",
              "      <td>72.0</td>\n",
              "      <td>82.0</td>\n",
              "      <td>0.0</td>\n",
              "      <td>0.0</td>\n",
              "      <td>0.0</td>\n",
              "      <td>0.0</td>\n",
              "      <td>0.0</td>\n",
              "      <td>In-kind items and services</td>\n",
              "      <td>82</td>\n",
              "    </tr>\n",
              "    <tr>\n",
              "      <th>3</th>\n",
              "      <td>NY</td>\n",
              "      <td>Podiatric Medicine &amp; Surgery Service Providers</td>\n",
              "      <td>0</td>\n",
              "      <td>3523.93</td>\n",
              "      <td>132</td>\n",
              "      <td>Food and Beverage</td>\n",
              "      <td>3523.93</td>\n",
              "      <td>12</td>\n",
              "      <td>462.42</td>\n",
              "      <td>340</td>\n",
              "      <td>15</td>\n",
              "      <td>35.449082</td>\n",
              "      <td>Yes</td>\n",
              "      <td>75</td>\n",
              "      <td>39.0</td>\n",
              "      <td>93.0</td>\n",
              "      <td>0.0</td>\n",
              "      <td>0.0</td>\n",
              "      <td>0.0</td>\n",
              "      <td>0.0</td>\n",
              "      <td>0.0</td>\n",
              "      <td>In-kind items and services</td>\n",
              "      <td>93</td>\n",
              "    </tr>\n",
              "    <tr>\n",
              "      <th>4</th>\n",
              "      <td>GA</td>\n",
              "      <td>Internal Medicine</td>\n",
              "      <td>0</td>\n",
              "      <td>26745.61</td>\n",
              "      <td>411</td>\n",
              "      <td>Compensation for services other than consultin...</td>\n",
              "      <td>18011.81</td>\n",
              "      <td>50</td>\n",
              "      <td>13247.09</td>\n",
              "      <td>18</td>\n",
              "      <td>32</td>\n",
              "      <td>129.869365</td>\n",
              "      <td>Yes</td>\n",
              "      <td>231</td>\n",
              "      <td>131.0</td>\n",
              "      <td>280.0</td>\n",
              "      <td>0.0</td>\n",
              "      <td>0.0</td>\n",
              "      <td>0.0</td>\n",
              "      <td>0.0</td>\n",
              "      <td>0.0</td>\n",
              "      <td>In-kind items and services</td>\n",
              "      <td>280</td>\n",
              "    </tr>\n",
              "    <tr>\n",
              "      <th>5</th>\n",
              "      <td>NM</td>\n",
              "      <td>Orthopaedic Surgery</td>\n",
              "      <td>0</td>\n",
              "      <td>25411.21</td>\n",
              "      <td>98</td>\n",
              "      <td>Education</td>\n",
              "      <td>8792.00</td>\n",
              "      <td>18</td>\n",
              "      <td>9079.72</td>\n",
              "      <td>442</td>\n",
              "      <td>13</td>\n",
              "      <td>1741.832451</td>\n",
              "      <td>Covered</td>\n",
              "      <td>41</td>\n",
              "      <td>16.0</td>\n",
              "      <td>82.0</td>\n",
              "      <td>0.0</td>\n",
              "      <td>0.0</td>\n",
              "      <td>0.0</td>\n",
              "      <td>0.0</td>\n",
              "      <td>0.0</td>\n",
              "      <td>In-kind items and services</td>\n",
              "      <td>82</td>\n",
              "    </tr>\n",
              "  </tbody>\n",
              "</table>\n",
              "</div>"
            ],
            "text/plain": [
              "             State  ... fop_count\n",
              "Physician_ID        ...          \n",
              "1               FL  ...        43\n",
              "2               MD  ...        82\n",
              "3               NY  ...        93\n",
              "4               GA  ...       280\n",
              "5               NM  ...        82\n",
              "\n",
              "[5 rows x 23 columns]"
            ]
          },
          "metadata": {
            "tags": []
          },
          "execution_count": 161
        }
      ]
    },
    {
      "cell_type": "code",
      "metadata": {
        "colab": {
          "base_uri": "https://localhost:8080/"
        },
        "id": "Wx97yGlxTIoB",
        "outputId": "8c8aef07-b4d4-4f6f-ea54-c565c2fb368a"
      },
      "source": [
        "train.shape"
      ],
      "execution_count": 162,
      "outputs": [
        {
          "output_type": "execute_result",
          "data": {
            "text/plain": [
              "(5000, 23)"
            ]
          },
          "metadata": {
            "tags": []
          },
          "execution_count": 162
        }
      ]
    },
    {
      "cell_type": "code",
      "metadata": {
        "colab": {
          "base_uri": "https://localhost:8080/"
        },
        "id": "bVBhFdqlnR0D",
        "outputId": "0acfc7d6-03d7-46a4-8512-a1a7a926b73e"
      },
      "source": [
        "# checking the column data types to figures out which attributes are categorical (object) and which ones numerical (int)\n",
        "train.dtypes"
      ],
      "execution_count": 163,
      "outputs": [
        {
          "output_type": "execute_result",
          "data": {
            "text/plain": [
              "State                   object\n",
              "Primary_Specialty       object\n",
              "Ownership_Indicator      int64\n",
              "total_payments         float64\n",
              "number_of_payments       int64\n",
              "top_nature              object\n",
              "total_of_top_nature    float64\n",
              "range_count              int64\n",
              "range_total            float64\n",
              "top_company              int64\n",
              "pay_count                int64\n",
              "std                    float64\n",
              "top_rpi                 object\n",
              "rpi_count                int64\n",
              "cash                   float64\n",
              "services               float64\n",
              "stock                  float64\n",
              "stock_opt              float64\n",
              "any_ownership          float64\n",
              "dividend               float64\n",
              "stock_or_other         float64\n",
              "top_fop                 object\n",
              "fop_count                int64\n",
              "dtype: object"
            ]
          },
          "metadata": {
            "tags": []
          },
          "execution_count": 163
        }
      ]
    },
    {
      "cell_type": "code",
      "metadata": {
        "colab": {
          "base_uri": "https://localhost:8080/"
        },
        "id": "RLADKhOWnVF5",
        "outputId": "732df917-b57d-44c2-eb49-c685c52baa5e"
      },
      "source": [
        "cat_feature_mask = train.dtypes == object # boolean test (mask) of whether the col is of \"object type\" or not\n",
        "cat_feature_mask"
      ],
      "execution_count": 164,
      "outputs": [
        {
          "output_type": "execute_result",
          "data": {
            "text/plain": [
              "State                   True\n",
              "Primary_Specialty       True\n",
              "Ownership_Indicator    False\n",
              "total_payments         False\n",
              "number_of_payments     False\n",
              "top_nature              True\n",
              "total_of_top_nature    False\n",
              "range_count            False\n",
              "range_total            False\n",
              "top_company            False\n",
              "pay_count              False\n",
              "std                    False\n",
              "top_rpi                 True\n",
              "rpi_count              False\n",
              "cash                   False\n",
              "services               False\n",
              "stock                  False\n",
              "stock_opt              False\n",
              "any_ownership          False\n",
              "dividend               False\n",
              "stock_or_other         False\n",
              "top_fop                 True\n",
              "fop_count              False\n",
              "dtype: bool"
            ]
          },
          "metadata": {
            "tags": []
          },
          "execution_count": 164
        }
      ]
    },
    {
      "cell_type": "code",
      "metadata": {
        "colab": {
          "base_uri": "https://localhost:8080/"
        },
        "id": "k-yp3o2fnssi",
        "outputId": "57a1ffee-107f-4736-9ee9-44a9c55def34"
      },
      "source": [
        "# filter categorical columns using the mask and turn it into a list\n",
        "cat_list = train.columns[cat_feature_mask].to_list()\n",
        "\n",
        "cat_list"
      ],
      "execution_count": 165,
      "outputs": [
        {
          "output_type": "execute_result",
          "data": {
            "text/plain": [
              "['State', 'Primary_Specialty', 'top_nature', 'top_rpi', 'top_fop']"
            ]
          },
          "metadata": {
            "tags": []
          },
          "execution_count": 165
        }
      ]
    },
    {
      "cell_type": "code",
      "metadata": {
        "colab": {
          "base_uri": "https://localhost:8080/"
        },
        "id": "zuNzopn3pMl5",
        "outputId": "79933ac7-7c9a-454b-af9d-b990f50f642e"
      },
      "source": [
        "# removing a list element\n",
        "cat_list.remove(\"State\")\n",
        "\n",
        "cat_list"
      ],
      "execution_count": 166,
      "outputs": [
        {
          "output_type": "execute_result",
          "data": {
            "text/plain": [
              "['Primary_Specialty', 'top_nature', 'top_rpi', 'top_fop']"
            ]
          },
          "metadata": {
            "tags": []
          },
          "execution_count": 166
        }
      ]
    },
    {
      "cell_type": "code",
      "metadata": {
        "colab": {
          "base_uri": "https://localhost:8080/"
        },
        "id": "Ojislg4LrzMR",
        "outputId": "5fb44a42-78d5-4f4e-f724-5a861361d0cf"
      },
      "source": [
        "train[\"Primary_Specialty\"].unique()"
      ],
      "execution_count": 167,
      "outputs": [
        {
          "output_type": "execute_result",
          "data": {
            "text/plain": [
              "array(['Obstetrics & Gynecology', 'Anesthesiology',\n",
              "       'Podiatric Medicine & Surgery Service Providers',\n",
              "       'Internal Medicine', 'Orthopaedic Surgery', 'Dental Providers',\n",
              "       'Pediatrics', 'Surgery', 'Eye and Vision Services Providers',\n",
              "       'Psychiatry & Neurology', 'Plastic Surgery',\n",
              "       'Neurological Surgery', 'Dermatology', 'Emergency Medicine',\n",
              "       'Ophthalmology', 'Family Medicine', 'Radiology', 'Otolaryngology',\n",
              "       'Physical Medicine & Rehabilitation', 'Urology',\n",
              "       'Preventive Medicine', 'Allergy & Immunology',\n",
              "       'Thoracic Surgery (Cardiothoracic Vascular Surgery)',\n",
              "       'Pain Medicine', 'Hospitalist', 'Colon & Rectal Surgery',\n",
              "       'General Practice', 'Pathology', 'Oral & Maxillofacial Surgery',\n",
              "       'Neuromusculoskeletal Medicine, Sports Medicine',\n",
              "       'Chiropractic Providers', 'Nuclear Medicine',\n",
              "       'Neuromusculoskeletal Medicine & OMM', 'Medical Genetics'],\n",
              "      dtype=object)"
            ]
          },
          "metadata": {
            "tags": []
          },
          "execution_count": 167
        }
      ]
    },
    {
      "cell_type": "code",
      "metadata": {
        "colab": {
          "base_uri": "https://localhost:8080/"
        },
        "id": "psbO1eljP7rl",
        "outputId": "89214218-59de-4a1f-e8b2-ae0748775004"
      },
      "source": [
        "train[\"Primary_Specialty\"].unique().shape"
      ],
      "execution_count": 168,
      "outputs": [
        {
          "output_type": "execute_result",
          "data": {
            "text/plain": [
              "(34,)"
            ]
          },
          "metadata": {
            "tags": []
          },
          "execution_count": 168
        }
      ]
    },
    {
      "cell_type": "code",
      "metadata": {
        "colab": {
          "base_uri": "https://localhost:8080/"
        },
        "id": "7TPqoy0nPsU8",
        "outputId": "1a4a5879-3bee-4c55-ec38-2d17a1a3d73d"
      },
      "source": [
        "train[\"top_nature\"].unique()"
      ],
      "execution_count": 169,
      "outputs": [
        {
          "output_type": "execute_result",
          "data": {
            "text/plain": [
              "array(['Food and Beverage',\n",
              "       'Compensation for services other than consulting, including serving as faculty or as a speaker at a venue other than a continuing education program',\n",
              "       'Education', 'Consulting Fee', 'Travel and Lodging', 'Gift',\n",
              "       'Honoraria',\n",
              "       'Compensation for serving as faculty or as a speaker for a non-accredited and noncertified continuing education program',\n",
              "       'Current or prospective ownership or investment interest', 'Grant',\n",
              "       'Royalty or License',\n",
              "       'Compensation for serving as faculty or as a speaker for an accredited or certified continuing education program',\n",
              "       'Charitable Contribution'], dtype=object)"
            ]
          },
          "metadata": {
            "tags": []
          },
          "execution_count": 169
        }
      ]
    },
    {
      "cell_type": "code",
      "metadata": {
        "colab": {
          "base_uri": "https://localhost:8080/"
        },
        "id": "nqxp50ZwQPw4",
        "outputId": "a9b18d03-5e64-42b0-c44f-cd601a8d097f"
      },
      "source": [
        "train[\"top_nature\"].unique().shape"
      ],
      "execution_count": 170,
      "outputs": [
        {
          "output_type": "execute_result",
          "data": {
            "text/plain": [
              "(13,)"
            ]
          },
          "metadata": {
            "tags": []
          },
          "execution_count": 170
        }
      ]
    },
    {
      "cell_type": "markdown",
      "metadata": {
        "id": "rvYkrHK7lXKO"
      },
      "source": [
        "removing NaN values"
      ]
    },
    {
      "cell_type": "code",
      "metadata": {
        "colab": {
          "base_uri": "https://localhost:8080/"
        },
        "id": "xX88nHMIlV8A",
        "outputId": "b6244a4e-2d59-498c-d8b3-ac5d7f7686c2"
      },
      "source": [
        "# detecting and counting missing values (NaNs)\n",
        "train.isnull().sum()"
      ],
      "execution_count": 171,
      "outputs": [
        {
          "output_type": "execute_result",
          "data": {
            "text/plain": [
              "State                  1\n",
              "Primary_Specialty      0\n",
              "Ownership_Indicator    0\n",
              "total_payments         0\n",
              "number_of_payments     0\n",
              "top_nature             0\n",
              "total_of_top_nature    0\n",
              "range_count            0\n",
              "range_total            0\n",
              "top_company            0\n",
              "pay_count              0\n",
              "std                    0\n",
              "top_rpi                0\n",
              "rpi_count              0\n",
              "cash                   0\n",
              "services               0\n",
              "stock                  0\n",
              "stock_opt              0\n",
              "any_ownership          0\n",
              "dividend               0\n",
              "stock_or_other         0\n",
              "top_fop                0\n",
              "fop_count              0\n",
              "dtype: int64"
            ]
          },
          "metadata": {
            "tags": []
          },
          "execution_count": 171
        }
      ]
    },
    {
      "cell_type": "code",
      "metadata": {
        "colab": {
          "base_uri": "https://localhost:8080/"
        },
        "id": "zQY4oEKGlV8S",
        "outputId": "ac840d84-5972-44f1-d428-6bba3f596e49"
      },
      "source": [
        "# mode class = Internal Medicine \n",
        "train[\"Primary_Specialty\"].value_counts()"
      ],
      "execution_count": 172,
      "outputs": [
        {
          "output_type": "execute_result",
          "data": {
            "text/plain": [
              "Internal Medicine                                     1638\n",
              "Family Medicine                                        548\n",
              "Obstetrics & Gynecology                                301\n",
              "Psychiatry & Neurology                                 284\n",
              "Eye and Vision Services Providers                      267\n",
              "Dental Providers                                       251\n",
              "Orthopaedic Surgery                                    248\n",
              "Pediatrics                                             214\n",
              "Surgery                                                190\n",
              "Ophthalmology                                          162\n",
              "Urology                                                132\n",
              "Podiatric Medicine & Surgery Service Providers         114\n",
              "Dermatology                                            103\n",
              "Anesthesiology                                          72\n",
              "Radiology                                               69\n",
              "Otolaryngology                                          65\n",
              "Allergy & Immunology                                    42\n",
              "Thoracic Surgery (Cardiothoracic Vascular Surgery)      40\n",
              "Plastic Surgery                                         39\n",
              "Physical Medicine & Rehabilitation                      39\n",
              "Neurological Surgery                                    39\n",
              "Pain Medicine                                           29\n",
              "Hospitalist                                             28\n",
              "Emergency Medicine                                      24\n",
              "General Practice                                        21\n",
              "Colon & Rectal Surgery                                  20\n",
              "Pathology                                                6\n",
              "Oral & Maxillofacial Surgery                             5\n",
              "Preventive Medicine                                      3\n",
              "Chiropractic Providers                                   2\n",
              "Neuromusculoskeletal Medicine, Sports Medicine           2\n",
              "Nuclear Medicine                                         1\n",
              "Neuromusculoskeletal Medicine & OMM                      1\n",
              "Medical Genetics                                         1\n",
              "Name: Primary_Specialty, dtype: int64"
            ]
          },
          "metadata": {
            "tags": []
          },
          "execution_count": 172
        }
      ]
    },
    {
      "cell_type": "code",
      "metadata": {
        "id": "tJKo5RKslV8U"
      },
      "source": [
        "# imputation of  NaN values with the most frequent class\n",
        "train[\"Primary_Specialty\"] = train[\"Primary_Specialty\"].replace(np.nan, 'Internal Medicine', regex=True)"
      ],
      "execution_count": 173,
      "outputs": []
    },
    {
      "cell_type": "code",
      "metadata": {
        "colab": {
          "base_uri": "https://localhost:8080/"
        },
        "id": "LR3-xsYCmChD",
        "outputId": "e331b926-8287-4615-b3de-24dc996e3b65"
      },
      "source": [
        "train[\"std\"].describe()"
      ],
      "execution_count": 174,
      "outputs": [
        {
          "output_type": "execute_result",
          "data": {
            "text/plain": [
              "count     5000.000000\n",
              "mean       202.151413\n",
              "std       1626.166022\n",
              "min          1.274216\n",
              "25%         14.415188\n",
              "50%         31.832498\n",
              "75%         81.307494\n",
              "max      59827.336312\n",
              "Name: std, dtype: float64"
            ]
          },
          "metadata": {
            "tags": []
          },
          "execution_count": 174
        }
      ]
    },
    {
      "cell_type": "code",
      "metadata": {
        "colab": {
          "base_uri": "https://localhost:8080/"
        },
        "id": "TBmnYfpTmu25",
        "outputId": "b6ad284d-e248-4216-97f7-cfc05c76c72e"
      },
      "source": [
        "train[\"std\"].median()"
      ],
      "execution_count": 175,
      "outputs": [
        {
          "output_type": "execute_result",
          "data": {
            "text/plain": [
              "31.832497573581524"
            ]
          },
          "metadata": {
            "tags": []
          },
          "execution_count": 175
        }
      ]
    },
    {
      "cell_type": "code",
      "metadata": {
        "id": "hVXyP7Hkl5AN"
      },
      "source": [
        "# imputation of  NaN values with the median value of the feature\n",
        "train[\"std\"] = train[\"std\"].replace(np.nan, train[\"std\"].median(), regex=True)"
      ],
      "execution_count": 176,
      "outputs": []
    },
    {
      "cell_type": "code",
      "metadata": {
        "colab": {
          "base_uri": "https://localhost:8080/"
        },
        "id": "w30RqVPYlV8W",
        "outputId": "293e0d20-a7af-40ec-fb27-d3ade5df9212"
      },
      "source": [
        "train.isnull().sum() # check"
      ],
      "execution_count": 177,
      "outputs": [
        {
          "output_type": "execute_result",
          "data": {
            "text/plain": [
              "State                  1\n",
              "Primary_Specialty      0\n",
              "Ownership_Indicator    0\n",
              "total_payments         0\n",
              "number_of_payments     0\n",
              "top_nature             0\n",
              "total_of_top_nature    0\n",
              "range_count            0\n",
              "range_total            0\n",
              "top_company            0\n",
              "pay_count              0\n",
              "std                    0\n",
              "top_rpi                0\n",
              "rpi_count              0\n",
              "cash                   0\n",
              "services               0\n",
              "stock                  0\n",
              "stock_opt              0\n",
              "any_ownership          0\n",
              "dividend               0\n",
              "stock_or_other         0\n",
              "top_fop                0\n",
              "fop_count              0\n",
              "dtype: int64"
            ]
          },
          "metadata": {
            "tags": []
          },
          "execution_count": 177
        }
      ]
    },
    {
      "cell_type": "code",
      "metadata": {
        "id": "voic4qaWhjEf",
        "colab": {
          "base_uri": "https://localhost:8080/"
        },
        "outputId": "c5ca94f3-4326-4db7-e865-b804a4b8ecc0"
      },
      "source": [
        "# transforming the categorical columns to numerical values using a ONE HOT ENCODER\n",
        "\n",
        "# The encoder has a method called fit_transform(). It takes a dataframe as an input, and will spit out the \n",
        "# transformed dataframe. Remember to specify the columns you need to transform (you have a list for this). \n",
        "\n",
        "\n",
        "# define one hot encoding\n",
        "onehot_encoder = OneHotEncoder(sparse=False)\n",
        "\n",
        "# one hot encoding primary specialty\n",
        "##ps_enc = onehot_encoder.fit_transform(train[\"Primary_Specialty\"])\n",
        "\n",
        "data = train[cat_list]\n",
        "\n",
        "# transform data\n",
        "result_oh = pd.DataFrame(onehot_encoder.fit_transform(data))\n",
        "print(result_oh)\n"
      ],
      "execution_count": 178,
      "outputs": [
        {
          "output_type": "stream",
          "text": [
            "       0    1    2    3    4    5    6   ...   48   49   50   51   52   53   54\n",
            "0     0.0  0.0  0.0  0.0  0.0  0.0  0.0  ...  1.0  0.0  0.0  0.0  0.0  0.0  1.0\n",
            "1     0.0  1.0  0.0  0.0  0.0  0.0  0.0  ...  1.0  0.0  0.0  0.0  0.0  0.0  1.0\n",
            "2     0.0  0.0  0.0  0.0  0.0  0.0  0.0  ...  0.0  0.0  0.0  0.0  1.0  0.0  1.0\n",
            "3     0.0  0.0  0.0  0.0  0.0  0.0  0.0  ...  0.0  0.0  0.0  0.0  1.0  0.0  1.0\n",
            "4     0.0  0.0  0.0  0.0  0.0  0.0  0.0  ...  1.0  0.0  0.0  0.0  0.0  0.0  1.0\n",
            "...   ...  ...  ...  ...  ...  ...  ...  ...  ...  ...  ...  ...  ...  ...  ...\n",
            "4995  0.0  0.0  0.0  0.0  0.0  0.0  0.0  ...  0.0  0.0  0.0  0.0  1.0  0.0  1.0\n",
            "4996  0.0  0.0  0.0  0.0  0.0  0.0  0.0  ...  1.0  0.0  0.0  0.0  0.0  0.0  1.0\n",
            "4997  0.0  0.0  0.0  0.0  0.0  0.0  0.0  ...  0.0  0.0  0.0  0.0  1.0  0.0  1.0\n",
            "4998  0.0  0.0  0.0  0.0  0.0  0.0  0.0  ...  0.0  0.0  0.0  0.0  1.0  0.0  1.0\n",
            "4999  0.0  0.0  0.0  0.0  0.0  0.0  0.0  ...  0.0  0.0  0.0  0.0  1.0  1.0  0.0\n",
            "\n",
            "[5000 rows x 55 columns]\n"
          ],
          "name": "stdout"
        }
      ]
    },
    {
      "cell_type": "code",
      "metadata": {
        "colab": {
          "base_uri": "https://localhost:8080/"
        },
        "id": "LQR8aUzZlvc-",
        "outputId": "e96fc028-43a7-450f-9c92-a55021121160"
      },
      "source": [
        "# colnames of encoded features\n",
        "onehot_encoder.get_feature_names()"
      ],
      "execution_count": 179,
      "outputs": [
        {
          "output_type": "execute_result",
          "data": {
            "text/plain": [
              "array(['x0_Allergy & Immunology', 'x0_Anesthesiology',\n",
              "       'x0_Chiropractic Providers', 'x0_Colon & Rectal Surgery',\n",
              "       'x0_Dental Providers', 'x0_Dermatology', 'x0_Emergency Medicine',\n",
              "       'x0_Eye and Vision Services Providers', 'x0_Family Medicine',\n",
              "       'x0_General Practice', 'x0_Hospitalist', 'x0_Internal Medicine',\n",
              "       'x0_Medical Genetics', 'x0_Neurological Surgery',\n",
              "       'x0_Neuromusculoskeletal Medicine & OMM',\n",
              "       'x0_Neuromusculoskeletal Medicine, Sports Medicine',\n",
              "       'x0_Nuclear Medicine', 'x0_Obstetrics & Gynecology',\n",
              "       'x0_Ophthalmology', 'x0_Oral & Maxillofacial Surgery',\n",
              "       'x0_Orthopaedic Surgery', 'x0_Otolaryngology', 'x0_Pain Medicine',\n",
              "       'x0_Pathology', 'x0_Pediatrics',\n",
              "       'x0_Physical Medicine & Rehabilitation', 'x0_Plastic Surgery',\n",
              "       'x0_Podiatric Medicine & Surgery Service Providers',\n",
              "       'x0_Preventive Medicine', 'x0_Psychiatry & Neurology',\n",
              "       'x0_Radiology', 'x0_Surgery',\n",
              "       'x0_Thoracic Surgery (Cardiothoracic Vascular Surgery)',\n",
              "       'x0_Urology', 'x1_Charitable Contribution',\n",
              "       'x1_Compensation for services other than consulting, including serving as faculty or as a speaker at a venue other than a continuing education program',\n",
              "       'x1_Compensation for serving as faculty or as a speaker for a non-accredited and noncertified continuing education program',\n",
              "       'x1_Compensation for serving as faculty or as a speaker for an accredited or certified continuing education program',\n",
              "       'x1_Consulting Fee',\n",
              "       'x1_Current or prospective ownership or investment interest',\n",
              "       'x1_Education', 'x1_Food and Beverage', 'x1_Gift', 'x1_Grant',\n",
              "       'x1_Honoraria', 'x1_Royalty or License', 'x1_Travel and Lodging',\n",
              "       'x2_Combination', 'x2_Covered', 'x2_No', 'x2_Non-Covered',\n",
              "       'x2_None', 'x2_Yes', 'x3_Cash or cash equivalent',\n",
              "       'x3_In-kind items and services'], dtype=object)"
            ]
          },
          "metadata": {
            "tags": []
          },
          "execution_count": 179
        }
      ]
    },
    {
      "cell_type": "code",
      "metadata": {
        "colab": {
          "base_uri": "https://localhost:8080/",
          "height": 652
        },
        "id": "e7DEVJx1lxSs",
        "outputId": "08344c43-6f19-4209-9430-50363771bcea"
      },
      "source": [
        "# renaming the encoded columns \n",
        "result_oh.columns = onehot_encoder.get_feature_names() \n",
        "\n",
        "result_oh"
      ],
      "execution_count": 180,
      "outputs": [
        {
          "output_type": "execute_result",
          "data": {
            "text/html": [
              "<div>\n",
              "<style scoped>\n",
              "    .dataframe tbody tr th:only-of-type {\n",
              "        vertical-align: middle;\n",
              "    }\n",
              "\n",
              "    .dataframe tbody tr th {\n",
              "        vertical-align: top;\n",
              "    }\n",
              "\n",
              "    .dataframe thead th {\n",
              "        text-align: right;\n",
              "    }\n",
              "</style>\n",
              "<table border=\"1\" class=\"dataframe\">\n",
              "  <thead>\n",
              "    <tr style=\"text-align: right;\">\n",
              "      <th></th>\n",
              "      <th>x0_Allergy &amp; Immunology</th>\n",
              "      <th>x0_Anesthesiology</th>\n",
              "      <th>x0_Chiropractic Providers</th>\n",
              "      <th>x0_Colon &amp; Rectal Surgery</th>\n",
              "      <th>x0_Dental Providers</th>\n",
              "      <th>x0_Dermatology</th>\n",
              "      <th>x0_Emergency Medicine</th>\n",
              "      <th>x0_Eye and Vision Services Providers</th>\n",
              "      <th>x0_Family Medicine</th>\n",
              "      <th>x0_General Practice</th>\n",
              "      <th>x0_Hospitalist</th>\n",
              "      <th>x0_Internal Medicine</th>\n",
              "      <th>x0_Medical Genetics</th>\n",
              "      <th>x0_Neurological Surgery</th>\n",
              "      <th>x0_Neuromusculoskeletal Medicine &amp; OMM</th>\n",
              "      <th>x0_Neuromusculoskeletal Medicine, Sports Medicine</th>\n",
              "      <th>x0_Nuclear Medicine</th>\n",
              "      <th>x0_Obstetrics &amp; Gynecology</th>\n",
              "      <th>x0_Ophthalmology</th>\n",
              "      <th>x0_Oral &amp; Maxillofacial Surgery</th>\n",
              "      <th>x0_Orthopaedic Surgery</th>\n",
              "      <th>x0_Otolaryngology</th>\n",
              "      <th>x0_Pain Medicine</th>\n",
              "      <th>x0_Pathology</th>\n",
              "      <th>x0_Pediatrics</th>\n",
              "      <th>x0_Physical Medicine &amp; Rehabilitation</th>\n",
              "      <th>x0_Plastic Surgery</th>\n",
              "      <th>x0_Podiatric Medicine &amp; Surgery Service Providers</th>\n",
              "      <th>x0_Preventive Medicine</th>\n",
              "      <th>x0_Psychiatry &amp; Neurology</th>\n",
              "      <th>x0_Radiology</th>\n",
              "      <th>x0_Surgery</th>\n",
              "      <th>x0_Thoracic Surgery (Cardiothoracic Vascular Surgery)</th>\n",
              "      <th>x0_Urology</th>\n",
              "      <th>x1_Charitable Contribution</th>\n",
              "      <th>x1_Compensation for services other than consulting, including serving as faculty or as a speaker at a venue other than a continuing education program</th>\n",
              "      <th>x1_Compensation for serving as faculty or as a speaker for a non-accredited and noncertified continuing education program</th>\n",
              "      <th>x1_Compensation for serving as faculty or as a speaker for an accredited or certified continuing education program</th>\n",
              "      <th>x1_Consulting Fee</th>\n",
              "      <th>x1_Current or prospective ownership or investment interest</th>\n",
              "      <th>x1_Education</th>\n",
              "      <th>x1_Food and Beverage</th>\n",
              "      <th>x1_Gift</th>\n",
              "      <th>x1_Grant</th>\n",
              "      <th>x1_Honoraria</th>\n",
              "      <th>x1_Royalty or License</th>\n",
              "      <th>x1_Travel and Lodging</th>\n",
              "      <th>x2_Combination</th>\n",
              "      <th>x2_Covered</th>\n",
              "      <th>x2_No</th>\n",
              "      <th>x2_Non-Covered</th>\n",
              "      <th>x2_None</th>\n",
              "      <th>x2_Yes</th>\n",
              "      <th>x3_Cash or cash equivalent</th>\n",
              "      <th>x3_In-kind items and services</th>\n",
              "    </tr>\n",
              "  </thead>\n",
              "  <tbody>\n",
              "    <tr>\n",
              "      <th>0</th>\n",
              "      <td>0.0</td>\n",
              "      <td>0.0</td>\n",
              "      <td>0.0</td>\n",
              "      <td>0.0</td>\n",
              "      <td>0.0</td>\n",
              "      <td>0.0</td>\n",
              "      <td>0.0</td>\n",
              "      <td>0.0</td>\n",
              "      <td>0.0</td>\n",
              "      <td>0.0</td>\n",
              "      <td>0.0</td>\n",
              "      <td>0.0</td>\n",
              "      <td>0.0</td>\n",
              "      <td>0.0</td>\n",
              "      <td>0.0</td>\n",
              "      <td>0.0</td>\n",
              "      <td>0.0</td>\n",
              "      <td>1.0</td>\n",
              "      <td>0.0</td>\n",
              "      <td>0.0</td>\n",
              "      <td>0.0</td>\n",
              "      <td>0.0</td>\n",
              "      <td>0.0</td>\n",
              "      <td>0.0</td>\n",
              "      <td>0.0</td>\n",
              "      <td>0.0</td>\n",
              "      <td>0.0</td>\n",
              "      <td>0.0</td>\n",
              "      <td>0.0</td>\n",
              "      <td>0.0</td>\n",
              "      <td>0.0</td>\n",
              "      <td>0.0</td>\n",
              "      <td>0.0</td>\n",
              "      <td>0.0</td>\n",
              "      <td>0.0</td>\n",
              "      <td>0.0</td>\n",
              "      <td>0.0</td>\n",
              "      <td>0.0</td>\n",
              "      <td>0.0</td>\n",
              "      <td>0.0</td>\n",
              "      <td>0.0</td>\n",
              "      <td>1.0</td>\n",
              "      <td>0.0</td>\n",
              "      <td>0.0</td>\n",
              "      <td>0.0</td>\n",
              "      <td>0.0</td>\n",
              "      <td>0.0</td>\n",
              "      <td>0.0</td>\n",
              "      <td>1.0</td>\n",
              "      <td>0.0</td>\n",
              "      <td>0.0</td>\n",
              "      <td>0.0</td>\n",
              "      <td>0.0</td>\n",
              "      <td>0.0</td>\n",
              "      <td>1.0</td>\n",
              "    </tr>\n",
              "    <tr>\n",
              "      <th>1</th>\n",
              "      <td>0.0</td>\n",
              "      <td>1.0</td>\n",
              "      <td>0.0</td>\n",
              "      <td>0.0</td>\n",
              "      <td>0.0</td>\n",
              "      <td>0.0</td>\n",
              "      <td>0.0</td>\n",
              "      <td>0.0</td>\n",
              "      <td>0.0</td>\n",
              "      <td>0.0</td>\n",
              "      <td>0.0</td>\n",
              "      <td>0.0</td>\n",
              "      <td>0.0</td>\n",
              "      <td>0.0</td>\n",
              "      <td>0.0</td>\n",
              "      <td>0.0</td>\n",
              "      <td>0.0</td>\n",
              "      <td>0.0</td>\n",
              "      <td>0.0</td>\n",
              "      <td>0.0</td>\n",
              "      <td>0.0</td>\n",
              "      <td>0.0</td>\n",
              "      <td>0.0</td>\n",
              "      <td>0.0</td>\n",
              "      <td>0.0</td>\n",
              "      <td>0.0</td>\n",
              "      <td>0.0</td>\n",
              "      <td>0.0</td>\n",
              "      <td>0.0</td>\n",
              "      <td>0.0</td>\n",
              "      <td>0.0</td>\n",
              "      <td>0.0</td>\n",
              "      <td>0.0</td>\n",
              "      <td>0.0</td>\n",
              "      <td>0.0</td>\n",
              "      <td>1.0</td>\n",
              "      <td>0.0</td>\n",
              "      <td>0.0</td>\n",
              "      <td>0.0</td>\n",
              "      <td>0.0</td>\n",
              "      <td>0.0</td>\n",
              "      <td>0.0</td>\n",
              "      <td>0.0</td>\n",
              "      <td>0.0</td>\n",
              "      <td>0.0</td>\n",
              "      <td>0.0</td>\n",
              "      <td>0.0</td>\n",
              "      <td>0.0</td>\n",
              "      <td>1.0</td>\n",
              "      <td>0.0</td>\n",
              "      <td>0.0</td>\n",
              "      <td>0.0</td>\n",
              "      <td>0.0</td>\n",
              "      <td>0.0</td>\n",
              "      <td>1.0</td>\n",
              "    </tr>\n",
              "    <tr>\n",
              "      <th>2</th>\n",
              "      <td>0.0</td>\n",
              "      <td>0.0</td>\n",
              "      <td>0.0</td>\n",
              "      <td>0.0</td>\n",
              "      <td>0.0</td>\n",
              "      <td>0.0</td>\n",
              "      <td>0.0</td>\n",
              "      <td>0.0</td>\n",
              "      <td>0.0</td>\n",
              "      <td>0.0</td>\n",
              "      <td>0.0</td>\n",
              "      <td>0.0</td>\n",
              "      <td>0.0</td>\n",
              "      <td>0.0</td>\n",
              "      <td>0.0</td>\n",
              "      <td>0.0</td>\n",
              "      <td>0.0</td>\n",
              "      <td>0.0</td>\n",
              "      <td>0.0</td>\n",
              "      <td>0.0</td>\n",
              "      <td>0.0</td>\n",
              "      <td>0.0</td>\n",
              "      <td>0.0</td>\n",
              "      <td>0.0</td>\n",
              "      <td>0.0</td>\n",
              "      <td>0.0</td>\n",
              "      <td>0.0</td>\n",
              "      <td>1.0</td>\n",
              "      <td>0.0</td>\n",
              "      <td>0.0</td>\n",
              "      <td>0.0</td>\n",
              "      <td>0.0</td>\n",
              "      <td>0.0</td>\n",
              "      <td>0.0</td>\n",
              "      <td>0.0</td>\n",
              "      <td>0.0</td>\n",
              "      <td>0.0</td>\n",
              "      <td>0.0</td>\n",
              "      <td>0.0</td>\n",
              "      <td>0.0</td>\n",
              "      <td>0.0</td>\n",
              "      <td>1.0</td>\n",
              "      <td>0.0</td>\n",
              "      <td>0.0</td>\n",
              "      <td>0.0</td>\n",
              "      <td>0.0</td>\n",
              "      <td>0.0</td>\n",
              "      <td>0.0</td>\n",
              "      <td>0.0</td>\n",
              "      <td>0.0</td>\n",
              "      <td>0.0</td>\n",
              "      <td>0.0</td>\n",
              "      <td>1.0</td>\n",
              "      <td>0.0</td>\n",
              "      <td>1.0</td>\n",
              "    </tr>\n",
              "    <tr>\n",
              "      <th>3</th>\n",
              "      <td>0.0</td>\n",
              "      <td>0.0</td>\n",
              "      <td>0.0</td>\n",
              "      <td>0.0</td>\n",
              "      <td>0.0</td>\n",
              "      <td>0.0</td>\n",
              "      <td>0.0</td>\n",
              "      <td>0.0</td>\n",
              "      <td>0.0</td>\n",
              "      <td>0.0</td>\n",
              "      <td>0.0</td>\n",
              "      <td>1.0</td>\n",
              "      <td>0.0</td>\n",
              "      <td>0.0</td>\n",
              "      <td>0.0</td>\n",
              "      <td>0.0</td>\n",
              "      <td>0.0</td>\n",
              "      <td>0.0</td>\n",
              "      <td>0.0</td>\n",
              "      <td>0.0</td>\n",
              "      <td>0.0</td>\n",
              "      <td>0.0</td>\n",
              "      <td>0.0</td>\n",
              "      <td>0.0</td>\n",
              "      <td>0.0</td>\n",
              "      <td>0.0</td>\n",
              "      <td>0.0</td>\n",
              "      <td>0.0</td>\n",
              "      <td>0.0</td>\n",
              "      <td>0.0</td>\n",
              "      <td>0.0</td>\n",
              "      <td>0.0</td>\n",
              "      <td>0.0</td>\n",
              "      <td>0.0</td>\n",
              "      <td>0.0</td>\n",
              "      <td>1.0</td>\n",
              "      <td>0.0</td>\n",
              "      <td>0.0</td>\n",
              "      <td>0.0</td>\n",
              "      <td>0.0</td>\n",
              "      <td>0.0</td>\n",
              "      <td>0.0</td>\n",
              "      <td>0.0</td>\n",
              "      <td>0.0</td>\n",
              "      <td>0.0</td>\n",
              "      <td>0.0</td>\n",
              "      <td>0.0</td>\n",
              "      <td>0.0</td>\n",
              "      <td>0.0</td>\n",
              "      <td>0.0</td>\n",
              "      <td>0.0</td>\n",
              "      <td>0.0</td>\n",
              "      <td>1.0</td>\n",
              "      <td>0.0</td>\n",
              "      <td>1.0</td>\n",
              "    </tr>\n",
              "    <tr>\n",
              "      <th>4</th>\n",
              "      <td>0.0</td>\n",
              "      <td>0.0</td>\n",
              "      <td>0.0</td>\n",
              "      <td>0.0</td>\n",
              "      <td>0.0</td>\n",
              "      <td>0.0</td>\n",
              "      <td>0.0</td>\n",
              "      <td>0.0</td>\n",
              "      <td>0.0</td>\n",
              "      <td>0.0</td>\n",
              "      <td>0.0</td>\n",
              "      <td>0.0</td>\n",
              "      <td>0.0</td>\n",
              "      <td>0.0</td>\n",
              "      <td>0.0</td>\n",
              "      <td>0.0</td>\n",
              "      <td>0.0</td>\n",
              "      <td>0.0</td>\n",
              "      <td>0.0</td>\n",
              "      <td>0.0</td>\n",
              "      <td>1.0</td>\n",
              "      <td>0.0</td>\n",
              "      <td>0.0</td>\n",
              "      <td>0.0</td>\n",
              "      <td>0.0</td>\n",
              "      <td>0.0</td>\n",
              "      <td>0.0</td>\n",
              "      <td>0.0</td>\n",
              "      <td>0.0</td>\n",
              "      <td>0.0</td>\n",
              "      <td>0.0</td>\n",
              "      <td>0.0</td>\n",
              "      <td>0.0</td>\n",
              "      <td>0.0</td>\n",
              "      <td>0.0</td>\n",
              "      <td>0.0</td>\n",
              "      <td>0.0</td>\n",
              "      <td>0.0</td>\n",
              "      <td>0.0</td>\n",
              "      <td>0.0</td>\n",
              "      <td>1.0</td>\n",
              "      <td>0.0</td>\n",
              "      <td>0.0</td>\n",
              "      <td>0.0</td>\n",
              "      <td>0.0</td>\n",
              "      <td>0.0</td>\n",
              "      <td>0.0</td>\n",
              "      <td>0.0</td>\n",
              "      <td>1.0</td>\n",
              "      <td>0.0</td>\n",
              "      <td>0.0</td>\n",
              "      <td>0.0</td>\n",
              "      <td>0.0</td>\n",
              "      <td>0.0</td>\n",
              "      <td>1.0</td>\n",
              "    </tr>\n",
              "    <tr>\n",
              "      <th>...</th>\n",
              "      <td>...</td>\n",
              "      <td>...</td>\n",
              "      <td>...</td>\n",
              "      <td>...</td>\n",
              "      <td>...</td>\n",
              "      <td>...</td>\n",
              "      <td>...</td>\n",
              "      <td>...</td>\n",
              "      <td>...</td>\n",
              "      <td>...</td>\n",
              "      <td>...</td>\n",
              "      <td>...</td>\n",
              "      <td>...</td>\n",
              "      <td>...</td>\n",
              "      <td>...</td>\n",
              "      <td>...</td>\n",
              "      <td>...</td>\n",
              "      <td>...</td>\n",
              "      <td>...</td>\n",
              "      <td>...</td>\n",
              "      <td>...</td>\n",
              "      <td>...</td>\n",
              "      <td>...</td>\n",
              "      <td>...</td>\n",
              "      <td>...</td>\n",
              "      <td>...</td>\n",
              "      <td>...</td>\n",
              "      <td>...</td>\n",
              "      <td>...</td>\n",
              "      <td>...</td>\n",
              "      <td>...</td>\n",
              "      <td>...</td>\n",
              "      <td>...</td>\n",
              "      <td>...</td>\n",
              "      <td>...</td>\n",
              "      <td>...</td>\n",
              "      <td>...</td>\n",
              "      <td>...</td>\n",
              "      <td>...</td>\n",
              "      <td>...</td>\n",
              "      <td>...</td>\n",
              "      <td>...</td>\n",
              "      <td>...</td>\n",
              "      <td>...</td>\n",
              "      <td>...</td>\n",
              "      <td>...</td>\n",
              "      <td>...</td>\n",
              "      <td>...</td>\n",
              "      <td>...</td>\n",
              "      <td>...</td>\n",
              "      <td>...</td>\n",
              "      <td>...</td>\n",
              "      <td>...</td>\n",
              "      <td>...</td>\n",
              "      <td>...</td>\n",
              "    </tr>\n",
              "    <tr>\n",
              "      <th>4995</th>\n",
              "      <td>0.0</td>\n",
              "      <td>0.0</td>\n",
              "      <td>0.0</td>\n",
              "      <td>0.0</td>\n",
              "      <td>0.0</td>\n",
              "      <td>0.0</td>\n",
              "      <td>0.0</td>\n",
              "      <td>0.0</td>\n",
              "      <td>1.0</td>\n",
              "      <td>0.0</td>\n",
              "      <td>0.0</td>\n",
              "      <td>0.0</td>\n",
              "      <td>0.0</td>\n",
              "      <td>0.0</td>\n",
              "      <td>0.0</td>\n",
              "      <td>0.0</td>\n",
              "      <td>0.0</td>\n",
              "      <td>0.0</td>\n",
              "      <td>0.0</td>\n",
              "      <td>0.0</td>\n",
              "      <td>0.0</td>\n",
              "      <td>0.0</td>\n",
              "      <td>0.0</td>\n",
              "      <td>0.0</td>\n",
              "      <td>0.0</td>\n",
              "      <td>0.0</td>\n",
              "      <td>0.0</td>\n",
              "      <td>0.0</td>\n",
              "      <td>0.0</td>\n",
              "      <td>0.0</td>\n",
              "      <td>0.0</td>\n",
              "      <td>0.0</td>\n",
              "      <td>0.0</td>\n",
              "      <td>0.0</td>\n",
              "      <td>0.0</td>\n",
              "      <td>0.0</td>\n",
              "      <td>0.0</td>\n",
              "      <td>0.0</td>\n",
              "      <td>0.0</td>\n",
              "      <td>0.0</td>\n",
              "      <td>0.0</td>\n",
              "      <td>1.0</td>\n",
              "      <td>0.0</td>\n",
              "      <td>0.0</td>\n",
              "      <td>0.0</td>\n",
              "      <td>0.0</td>\n",
              "      <td>0.0</td>\n",
              "      <td>0.0</td>\n",
              "      <td>0.0</td>\n",
              "      <td>0.0</td>\n",
              "      <td>0.0</td>\n",
              "      <td>0.0</td>\n",
              "      <td>1.0</td>\n",
              "      <td>0.0</td>\n",
              "      <td>1.0</td>\n",
              "    </tr>\n",
              "    <tr>\n",
              "      <th>4996</th>\n",
              "      <td>0.0</td>\n",
              "      <td>0.0</td>\n",
              "      <td>0.0</td>\n",
              "      <td>0.0</td>\n",
              "      <td>0.0</td>\n",
              "      <td>0.0</td>\n",
              "      <td>0.0</td>\n",
              "      <td>0.0</td>\n",
              "      <td>0.0</td>\n",
              "      <td>0.0</td>\n",
              "      <td>0.0</td>\n",
              "      <td>0.0</td>\n",
              "      <td>0.0</td>\n",
              "      <td>0.0</td>\n",
              "      <td>0.0</td>\n",
              "      <td>0.0</td>\n",
              "      <td>0.0</td>\n",
              "      <td>0.0</td>\n",
              "      <td>0.0</td>\n",
              "      <td>0.0</td>\n",
              "      <td>1.0</td>\n",
              "      <td>0.0</td>\n",
              "      <td>0.0</td>\n",
              "      <td>0.0</td>\n",
              "      <td>0.0</td>\n",
              "      <td>0.0</td>\n",
              "      <td>0.0</td>\n",
              "      <td>0.0</td>\n",
              "      <td>0.0</td>\n",
              "      <td>0.0</td>\n",
              "      <td>0.0</td>\n",
              "      <td>0.0</td>\n",
              "      <td>0.0</td>\n",
              "      <td>0.0</td>\n",
              "      <td>0.0</td>\n",
              "      <td>0.0</td>\n",
              "      <td>0.0</td>\n",
              "      <td>0.0</td>\n",
              "      <td>0.0</td>\n",
              "      <td>0.0</td>\n",
              "      <td>0.0</td>\n",
              "      <td>1.0</td>\n",
              "      <td>0.0</td>\n",
              "      <td>0.0</td>\n",
              "      <td>0.0</td>\n",
              "      <td>0.0</td>\n",
              "      <td>0.0</td>\n",
              "      <td>0.0</td>\n",
              "      <td>1.0</td>\n",
              "      <td>0.0</td>\n",
              "      <td>0.0</td>\n",
              "      <td>0.0</td>\n",
              "      <td>0.0</td>\n",
              "      <td>0.0</td>\n",
              "      <td>1.0</td>\n",
              "    </tr>\n",
              "    <tr>\n",
              "      <th>4997</th>\n",
              "      <td>0.0</td>\n",
              "      <td>0.0</td>\n",
              "      <td>0.0</td>\n",
              "      <td>0.0</td>\n",
              "      <td>0.0</td>\n",
              "      <td>0.0</td>\n",
              "      <td>0.0</td>\n",
              "      <td>0.0</td>\n",
              "      <td>0.0</td>\n",
              "      <td>0.0</td>\n",
              "      <td>0.0</td>\n",
              "      <td>0.0</td>\n",
              "      <td>0.0</td>\n",
              "      <td>0.0</td>\n",
              "      <td>0.0</td>\n",
              "      <td>0.0</td>\n",
              "      <td>0.0</td>\n",
              "      <td>0.0</td>\n",
              "      <td>0.0</td>\n",
              "      <td>0.0</td>\n",
              "      <td>0.0</td>\n",
              "      <td>0.0</td>\n",
              "      <td>0.0</td>\n",
              "      <td>0.0</td>\n",
              "      <td>0.0</td>\n",
              "      <td>0.0</td>\n",
              "      <td>0.0</td>\n",
              "      <td>0.0</td>\n",
              "      <td>0.0</td>\n",
              "      <td>0.0</td>\n",
              "      <td>0.0</td>\n",
              "      <td>0.0</td>\n",
              "      <td>0.0</td>\n",
              "      <td>1.0</td>\n",
              "      <td>0.0</td>\n",
              "      <td>0.0</td>\n",
              "      <td>0.0</td>\n",
              "      <td>0.0</td>\n",
              "      <td>0.0</td>\n",
              "      <td>0.0</td>\n",
              "      <td>0.0</td>\n",
              "      <td>1.0</td>\n",
              "      <td>0.0</td>\n",
              "      <td>0.0</td>\n",
              "      <td>0.0</td>\n",
              "      <td>0.0</td>\n",
              "      <td>0.0</td>\n",
              "      <td>0.0</td>\n",
              "      <td>0.0</td>\n",
              "      <td>0.0</td>\n",
              "      <td>0.0</td>\n",
              "      <td>0.0</td>\n",
              "      <td>1.0</td>\n",
              "      <td>0.0</td>\n",
              "      <td>1.0</td>\n",
              "    </tr>\n",
              "    <tr>\n",
              "      <th>4998</th>\n",
              "      <td>0.0</td>\n",
              "      <td>0.0</td>\n",
              "      <td>0.0</td>\n",
              "      <td>0.0</td>\n",
              "      <td>0.0</td>\n",
              "      <td>0.0</td>\n",
              "      <td>0.0</td>\n",
              "      <td>0.0</td>\n",
              "      <td>1.0</td>\n",
              "      <td>0.0</td>\n",
              "      <td>0.0</td>\n",
              "      <td>0.0</td>\n",
              "      <td>0.0</td>\n",
              "      <td>0.0</td>\n",
              "      <td>0.0</td>\n",
              "      <td>0.0</td>\n",
              "      <td>0.0</td>\n",
              "      <td>0.0</td>\n",
              "      <td>0.0</td>\n",
              "      <td>0.0</td>\n",
              "      <td>0.0</td>\n",
              "      <td>0.0</td>\n",
              "      <td>0.0</td>\n",
              "      <td>0.0</td>\n",
              "      <td>0.0</td>\n",
              "      <td>0.0</td>\n",
              "      <td>0.0</td>\n",
              "      <td>0.0</td>\n",
              "      <td>0.0</td>\n",
              "      <td>0.0</td>\n",
              "      <td>0.0</td>\n",
              "      <td>0.0</td>\n",
              "      <td>0.0</td>\n",
              "      <td>0.0</td>\n",
              "      <td>0.0</td>\n",
              "      <td>0.0</td>\n",
              "      <td>0.0</td>\n",
              "      <td>0.0</td>\n",
              "      <td>0.0</td>\n",
              "      <td>0.0</td>\n",
              "      <td>0.0</td>\n",
              "      <td>1.0</td>\n",
              "      <td>0.0</td>\n",
              "      <td>0.0</td>\n",
              "      <td>0.0</td>\n",
              "      <td>0.0</td>\n",
              "      <td>0.0</td>\n",
              "      <td>0.0</td>\n",
              "      <td>0.0</td>\n",
              "      <td>0.0</td>\n",
              "      <td>0.0</td>\n",
              "      <td>0.0</td>\n",
              "      <td>1.0</td>\n",
              "      <td>0.0</td>\n",
              "      <td>1.0</td>\n",
              "    </tr>\n",
              "    <tr>\n",
              "      <th>4999</th>\n",
              "      <td>0.0</td>\n",
              "      <td>0.0</td>\n",
              "      <td>0.0</td>\n",
              "      <td>0.0</td>\n",
              "      <td>0.0</td>\n",
              "      <td>0.0</td>\n",
              "      <td>0.0</td>\n",
              "      <td>0.0</td>\n",
              "      <td>0.0</td>\n",
              "      <td>0.0</td>\n",
              "      <td>0.0</td>\n",
              "      <td>0.0</td>\n",
              "      <td>0.0</td>\n",
              "      <td>0.0</td>\n",
              "      <td>0.0</td>\n",
              "      <td>0.0</td>\n",
              "      <td>0.0</td>\n",
              "      <td>0.0</td>\n",
              "      <td>0.0</td>\n",
              "      <td>0.0</td>\n",
              "      <td>0.0</td>\n",
              "      <td>1.0</td>\n",
              "      <td>0.0</td>\n",
              "      <td>0.0</td>\n",
              "      <td>0.0</td>\n",
              "      <td>0.0</td>\n",
              "      <td>0.0</td>\n",
              "      <td>0.0</td>\n",
              "      <td>0.0</td>\n",
              "      <td>0.0</td>\n",
              "      <td>0.0</td>\n",
              "      <td>0.0</td>\n",
              "      <td>0.0</td>\n",
              "      <td>0.0</td>\n",
              "      <td>0.0</td>\n",
              "      <td>0.0</td>\n",
              "      <td>0.0</td>\n",
              "      <td>0.0</td>\n",
              "      <td>0.0</td>\n",
              "      <td>0.0</td>\n",
              "      <td>0.0</td>\n",
              "      <td>1.0</td>\n",
              "      <td>0.0</td>\n",
              "      <td>0.0</td>\n",
              "      <td>0.0</td>\n",
              "      <td>0.0</td>\n",
              "      <td>0.0</td>\n",
              "      <td>0.0</td>\n",
              "      <td>0.0</td>\n",
              "      <td>0.0</td>\n",
              "      <td>0.0</td>\n",
              "      <td>0.0</td>\n",
              "      <td>1.0</td>\n",
              "      <td>1.0</td>\n",
              "      <td>0.0</td>\n",
              "    </tr>\n",
              "  </tbody>\n",
              "</table>\n",
              "<p>5000 rows × 55 columns</p>\n",
              "</div>"
            ],
            "text/plain": [
              "      x0_Allergy & Immunology  ...  x3_In-kind items and services\n",
              "0                         0.0  ...                            1.0\n",
              "1                         0.0  ...                            1.0\n",
              "2                         0.0  ...                            1.0\n",
              "3                         0.0  ...                            1.0\n",
              "4                         0.0  ...                            1.0\n",
              "...                       ...  ...                            ...\n",
              "4995                      0.0  ...                            1.0\n",
              "4996                      0.0  ...                            1.0\n",
              "4997                      0.0  ...                            1.0\n",
              "4998                      0.0  ...                            1.0\n",
              "4999                      0.0  ...                            0.0\n",
              "\n",
              "[5000 rows x 55 columns]"
            ]
          },
          "metadata": {
            "tags": []
          },
          "execution_count": 180
        }
      ]
    },
    {
      "cell_type": "code",
      "metadata": {
        "id": "DEIXKrQCNX8i"
      },
      "source": [
        "# transforming the categorical columns to numerical values using an ORDINAL ENCODER\n",
        "\n",
        "# The encoder has a method called fit_transform(). It takes a dataframe as an input, and will spit out the \n",
        "# transformed dataframe. Remember to specify the columns you need to transform (you have a list for this). \n",
        "\n",
        "\n",
        "# define ordinal encoding\n",
        "##ordinal_encoder = OrdinalEncoder()\n",
        "\n",
        "# one hot encoding primary specialty\n",
        "##ps_enc = onehot_encoder.fit_transform(train[\"Primary_Specialty\"])\n",
        "\n",
        "#data = train[cat_list]\n",
        "\n",
        "# transform data\n",
        "##result = pd.DataFrame(ordinal_encoder.fit_transform(data))\n",
        "##print(result)\n",
        "\n"
      ],
      "execution_count": null,
      "outputs": []
    },
    {
      "cell_type": "markdown",
      "metadata": {
        "id": "DGU1Bl6_QjSt"
      },
      "source": [
        "Adding the encoded columns to the training and test data"
      ]
    },
    {
      "cell_type": "code",
      "metadata": {
        "colab": {
          "base_uri": "https://localhost:8080/",
          "height": 1000
        },
        "id": "pANrUhIZQoU_",
        "outputId": "085d85e1-a8fd-4fe8-8ccc-b781cd1d0f6d"
      },
      "source": [
        "# merging the two dfs\n",
        "train_final = pd.concat([train.reset_index(drop=True), result_oh], axis=1)\n",
        "\n",
        "train_final"
      ],
      "execution_count": 181,
      "outputs": [
        {
          "output_type": "execute_result",
          "data": {
            "text/html": [
              "<div>\n",
              "<style scoped>\n",
              "    .dataframe tbody tr th:only-of-type {\n",
              "        vertical-align: middle;\n",
              "    }\n",
              "\n",
              "    .dataframe tbody tr th {\n",
              "        vertical-align: top;\n",
              "    }\n",
              "\n",
              "    .dataframe thead th {\n",
              "        text-align: right;\n",
              "    }\n",
              "</style>\n",
              "<table border=\"1\" class=\"dataframe\">\n",
              "  <thead>\n",
              "    <tr style=\"text-align: right;\">\n",
              "      <th></th>\n",
              "      <th>State</th>\n",
              "      <th>Primary_Specialty</th>\n",
              "      <th>Ownership_Indicator</th>\n",
              "      <th>total_payments</th>\n",
              "      <th>number_of_payments</th>\n",
              "      <th>top_nature</th>\n",
              "      <th>total_of_top_nature</th>\n",
              "      <th>range_count</th>\n",
              "      <th>range_total</th>\n",
              "      <th>top_company</th>\n",
              "      <th>pay_count</th>\n",
              "      <th>std</th>\n",
              "      <th>top_rpi</th>\n",
              "      <th>rpi_count</th>\n",
              "      <th>cash</th>\n",
              "      <th>services</th>\n",
              "      <th>stock</th>\n",
              "      <th>stock_opt</th>\n",
              "      <th>any_ownership</th>\n",
              "      <th>dividend</th>\n",
              "      <th>stock_or_other</th>\n",
              "      <th>top_fop</th>\n",
              "      <th>fop_count</th>\n",
              "      <th>x0_Allergy &amp; Immunology</th>\n",
              "      <th>x0_Anesthesiology</th>\n",
              "      <th>x0_Chiropractic Providers</th>\n",
              "      <th>x0_Colon &amp; Rectal Surgery</th>\n",
              "      <th>x0_Dental Providers</th>\n",
              "      <th>x0_Dermatology</th>\n",
              "      <th>x0_Emergency Medicine</th>\n",
              "      <th>x0_Eye and Vision Services Providers</th>\n",
              "      <th>x0_Family Medicine</th>\n",
              "      <th>x0_General Practice</th>\n",
              "      <th>x0_Hospitalist</th>\n",
              "      <th>x0_Internal Medicine</th>\n",
              "      <th>x0_Medical Genetics</th>\n",
              "      <th>x0_Neurological Surgery</th>\n",
              "      <th>x0_Neuromusculoskeletal Medicine &amp; OMM</th>\n",
              "      <th>x0_Neuromusculoskeletal Medicine, Sports Medicine</th>\n",
              "      <th>x0_Nuclear Medicine</th>\n",
              "      <th>x0_Obstetrics &amp; Gynecology</th>\n",
              "      <th>x0_Ophthalmology</th>\n",
              "      <th>x0_Oral &amp; Maxillofacial Surgery</th>\n",
              "      <th>x0_Orthopaedic Surgery</th>\n",
              "      <th>x0_Otolaryngology</th>\n",
              "      <th>x0_Pain Medicine</th>\n",
              "      <th>x0_Pathology</th>\n",
              "      <th>x0_Pediatrics</th>\n",
              "      <th>x0_Physical Medicine &amp; Rehabilitation</th>\n",
              "      <th>x0_Plastic Surgery</th>\n",
              "      <th>x0_Podiatric Medicine &amp; Surgery Service Providers</th>\n",
              "      <th>x0_Preventive Medicine</th>\n",
              "      <th>x0_Psychiatry &amp; Neurology</th>\n",
              "      <th>x0_Radiology</th>\n",
              "      <th>x0_Surgery</th>\n",
              "      <th>x0_Thoracic Surgery (Cardiothoracic Vascular Surgery)</th>\n",
              "      <th>x0_Urology</th>\n",
              "      <th>x1_Charitable Contribution</th>\n",
              "      <th>x1_Compensation for services other than consulting, including serving as faculty or as a speaker at a venue other than a continuing education program</th>\n",
              "      <th>x1_Compensation for serving as faculty or as a speaker for a non-accredited and noncertified continuing education program</th>\n",
              "      <th>x1_Compensation for serving as faculty or as a speaker for an accredited or certified continuing education program</th>\n",
              "      <th>x1_Consulting Fee</th>\n",
              "      <th>x1_Current or prospective ownership or investment interest</th>\n",
              "      <th>x1_Education</th>\n",
              "      <th>x1_Food and Beverage</th>\n",
              "      <th>x1_Gift</th>\n",
              "      <th>x1_Grant</th>\n",
              "      <th>x1_Honoraria</th>\n",
              "      <th>x1_Royalty or License</th>\n",
              "      <th>x1_Travel and Lodging</th>\n",
              "      <th>x2_Combination</th>\n",
              "      <th>x2_Covered</th>\n",
              "      <th>x2_No</th>\n",
              "      <th>x2_Non-Covered</th>\n",
              "      <th>x2_None</th>\n",
              "      <th>x2_Yes</th>\n",
              "      <th>x3_Cash or cash equivalent</th>\n",
              "      <th>x3_In-kind items and services</th>\n",
              "    </tr>\n",
              "  </thead>\n",
              "  <tbody>\n",
              "    <tr>\n",
              "      <th>0</th>\n",
              "      <td>FL</td>\n",
              "      <td>Obstetrics &amp; Gynecology</td>\n",
              "      <td>0</td>\n",
              "      <td>952.93</td>\n",
              "      <td>47</td>\n",
              "      <td>Food and Beverage</td>\n",
              "      <td>842.44</td>\n",
              "      <td>8</td>\n",
              "      <td>170.41</td>\n",
              "      <td>550</td>\n",
              "      <td>18</td>\n",
              "      <td>6.498346</td>\n",
              "      <td>Covered</td>\n",
              "      <td>26</td>\n",
              "      <td>4.0</td>\n",
              "      <td>43.0</td>\n",
              "      <td>0.0</td>\n",
              "      <td>0.0</td>\n",
              "      <td>0.0</td>\n",
              "      <td>0.0</td>\n",
              "      <td>0.0</td>\n",
              "      <td>In-kind items and services</td>\n",
              "      <td>43</td>\n",
              "      <td>0.0</td>\n",
              "      <td>0.0</td>\n",
              "      <td>0.0</td>\n",
              "      <td>0.0</td>\n",
              "      <td>0.0</td>\n",
              "      <td>0.0</td>\n",
              "      <td>0.0</td>\n",
              "      <td>0.0</td>\n",
              "      <td>0.0</td>\n",
              "      <td>0.0</td>\n",
              "      <td>0.0</td>\n",
              "      <td>0.0</td>\n",
              "      <td>0.0</td>\n",
              "      <td>0.0</td>\n",
              "      <td>0.0</td>\n",
              "      <td>0.0</td>\n",
              "      <td>0.0</td>\n",
              "      <td>1.0</td>\n",
              "      <td>0.0</td>\n",
              "      <td>0.0</td>\n",
              "      <td>0.0</td>\n",
              "      <td>0.0</td>\n",
              "      <td>0.0</td>\n",
              "      <td>0.0</td>\n",
              "      <td>0.0</td>\n",
              "      <td>0.0</td>\n",
              "      <td>0.0</td>\n",
              "      <td>0.0</td>\n",
              "      <td>0.0</td>\n",
              "      <td>0.0</td>\n",
              "      <td>0.0</td>\n",
              "      <td>0.0</td>\n",
              "      <td>0.0</td>\n",
              "      <td>0.0</td>\n",
              "      <td>0.0</td>\n",
              "      <td>0.0</td>\n",
              "      <td>0.0</td>\n",
              "      <td>0.0</td>\n",
              "      <td>0.0</td>\n",
              "      <td>0.0</td>\n",
              "      <td>0.0</td>\n",
              "      <td>1.0</td>\n",
              "      <td>0.0</td>\n",
              "      <td>0.0</td>\n",
              "      <td>0.0</td>\n",
              "      <td>0.0</td>\n",
              "      <td>0.0</td>\n",
              "      <td>0.0</td>\n",
              "      <td>1.0</td>\n",
              "      <td>0.0</td>\n",
              "      <td>0.0</td>\n",
              "      <td>0.0</td>\n",
              "      <td>0.0</td>\n",
              "      <td>0.0</td>\n",
              "      <td>1.0</td>\n",
              "    </tr>\n",
              "    <tr>\n",
              "      <th>1</th>\n",
              "      <td>MD</td>\n",
              "      <td>Anesthesiology</td>\n",
              "      <td>0</td>\n",
              "      <td>120924.92</td>\n",
              "      <td>154</td>\n",
              "      <td>Compensation for services other than consultin...</td>\n",
              "      <td>45190.70</td>\n",
              "      <td>45</td>\n",
              "      <td>35030.52</td>\n",
              "      <td>601</td>\n",
              "      <td>13</td>\n",
              "      <td>478.199770</td>\n",
              "      <td>Covered</td>\n",
              "      <td>88</td>\n",
              "      <td>72.0</td>\n",
              "      <td>82.0</td>\n",
              "      <td>0.0</td>\n",
              "      <td>0.0</td>\n",
              "      <td>0.0</td>\n",
              "      <td>0.0</td>\n",
              "      <td>0.0</td>\n",
              "      <td>In-kind items and services</td>\n",
              "      <td>82</td>\n",
              "      <td>0.0</td>\n",
              "      <td>1.0</td>\n",
              "      <td>0.0</td>\n",
              "      <td>0.0</td>\n",
              "      <td>0.0</td>\n",
              "      <td>0.0</td>\n",
              "      <td>0.0</td>\n",
              "      <td>0.0</td>\n",
              "      <td>0.0</td>\n",
              "      <td>0.0</td>\n",
              "      <td>0.0</td>\n",
              "      <td>0.0</td>\n",
              "      <td>0.0</td>\n",
              "      <td>0.0</td>\n",
              "      <td>0.0</td>\n",
              "      <td>0.0</td>\n",
              "      <td>0.0</td>\n",
              "      <td>0.0</td>\n",
              "      <td>0.0</td>\n",
              "      <td>0.0</td>\n",
              "      <td>0.0</td>\n",
              "      <td>0.0</td>\n",
              "      <td>0.0</td>\n",
              "      <td>0.0</td>\n",
              "      <td>0.0</td>\n",
              "      <td>0.0</td>\n",
              "      <td>0.0</td>\n",
              "      <td>0.0</td>\n",
              "      <td>0.0</td>\n",
              "      <td>0.0</td>\n",
              "      <td>0.0</td>\n",
              "      <td>0.0</td>\n",
              "      <td>0.0</td>\n",
              "      <td>0.0</td>\n",
              "      <td>0.0</td>\n",
              "      <td>1.0</td>\n",
              "      <td>0.0</td>\n",
              "      <td>0.0</td>\n",
              "      <td>0.0</td>\n",
              "      <td>0.0</td>\n",
              "      <td>0.0</td>\n",
              "      <td>0.0</td>\n",
              "      <td>0.0</td>\n",
              "      <td>0.0</td>\n",
              "      <td>0.0</td>\n",
              "      <td>0.0</td>\n",
              "      <td>0.0</td>\n",
              "      <td>0.0</td>\n",
              "      <td>1.0</td>\n",
              "      <td>0.0</td>\n",
              "      <td>0.0</td>\n",
              "      <td>0.0</td>\n",
              "      <td>0.0</td>\n",
              "      <td>0.0</td>\n",
              "      <td>1.0</td>\n",
              "    </tr>\n",
              "    <tr>\n",
              "      <th>2</th>\n",
              "      <td>NY</td>\n",
              "      <td>Podiatric Medicine &amp; Surgery Service Providers</td>\n",
              "      <td>0</td>\n",
              "      <td>3523.93</td>\n",
              "      <td>132</td>\n",
              "      <td>Food and Beverage</td>\n",
              "      <td>3523.93</td>\n",
              "      <td>12</td>\n",
              "      <td>462.42</td>\n",
              "      <td>340</td>\n",
              "      <td>15</td>\n",
              "      <td>35.449082</td>\n",
              "      <td>Yes</td>\n",
              "      <td>75</td>\n",
              "      <td>39.0</td>\n",
              "      <td>93.0</td>\n",
              "      <td>0.0</td>\n",
              "      <td>0.0</td>\n",
              "      <td>0.0</td>\n",
              "      <td>0.0</td>\n",
              "      <td>0.0</td>\n",
              "      <td>In-kind items and services</td>\n",
              "      <td>93</td>\n",
              "      <td>0.0</td>\n",
              "      <td>0.0</td>\n",
              "      <td>0.0</td>\n",
              "      <td>0.0</td>\n",
              "      <td>0.0</td>\n",
              "      <td>0.0</td>\n",
              "      <td>0.0</td>\n",
              "      <td>0.0</td>\n",
              "      <td>0.0</td>\n",
              "      <td>0.0</td>\n",
              "      <td>0.0</td>\n",
              "      <td>0.0</td>\n",
              "      <td>0.0</td>\n",
              "      <td>0.0</td>\n",
              "      <td>0.0</td>\n",
              "      <td>0.0</td>\n",
              "      <td>0.0</td>\n",
              "      <td>0.0</td>\n",
              "      <td>0.0</td>\n",
              "      <td>0.0</td>\n",
              "      <td>0.0</td>\n",
              "      <td>0.0</td>\n",
              "      <td>0.0</td>\n",
              "      <td>0.0</td>\n",
              "      <td>0.0</td>\n",
              "      <td>0.0</td>\n",
              "      <td>0.0</td>\n",
              "      <td>1.0</td>\n",
              "      <td>0.0</td>\n",
              "      <td>0.0</td>\n",
              "      <td>0.0</td>\n",
              "      <td>0.0</td>\n",
              "      <td>0.0</td>\n",
              "      <td>0.0</td>\n",
              "      <td>0.0</td>\n",
              "      <td>0.0</td>\n",
              "      <td>0.0</td>\n",
              "      <td>0.0</td>\n",
              "      <td>0.0</td>\n",
              "      <td>0.0</td>\n",
              "      <td>0.0</td>\n",
              "      <td>1.0</td>\n",
              "      <td>0.0</td>\n",
              "      <td>0.0</td>\n",
              "      <td>0.0</td>\n",
              "      <td>0.0</td>\n",
              "      <td>0.0</td>\n",
              "      <td>0.0</td>\n",
              "      <td>0.0</td>\n",
              "      <td>0.0</td>\n",
              "      <td>0.0</td>\n",
              "      <td>0.0</td>\n",
              "      <td>1.0</td>\n",
              "      <td>0.0</td>\n",
              "      <td>1.0</td>\n",
              "    </tr>\n",
              "    <tr>\n",
              "      <th>3</th>\n",
              "      <td>GA</td>\n",
              "      <td>Internal Medicine</td>\n",
              "      <td>0</td>\n",
              "      <td>26745.61</td>\n",
              "      <td>411</td>\n",
              "      <td>Compensation for services other than consultin...</td>\n",
              "      <td>18011.81</td>\n",
              "      <td>50</td>\n",
              "      <td>13247.09</td>\n",
              "      <td>18</td>\n",
              "      <td>32</td>\n",
              "      <td>129.869365</td>\n",
              "      <td>Yes</td>\n",
              "      <td>231</td>\n",
              "      <td>131.0</td>\n",
              "      <td>280.0</td>\n",
              "      <td>0.0</td>\n",
              "      <td>0.0</td>\n",
              "      <td>0.0</td>\n",
              "      <td>0.0</td>\n",
              "      <td>0.0</td>\n",
              "      <td>In-kind items and services</td>\n",
              "      <td>280</td>\n",
              "      <td>0.0</td>\n",
              "      <td>0.0</td>\n",
              "      <td>0.0</td>\n",
              "      <td>0.0</td>\n",
              "      <td>0.0</td>\n",
              "      <td>0.0</td>\n",
              "      <td>0.0</td>\n",
              "      <td>0.0</td>\n",
              "      <td>0.0</td>\n",
              "      <td>0.0</td>\n",
              "      <td>0.0</td>\n",
              "      <td>1.0</td>\n",
              "      <td>0.0</td>\n",
              "      <td>0.0</td>\n",
              "      <td>0.0</td>\n",
              "      <td>0.0</td>\n",
              "      <td>0.0</td>\n",
              "      <td>0.0</td>\n",
              "      <td>0.0</td>\n",
              "      <td>0.0</td>\n",
              "      <td>0.0</td>\n",
              "      <td>0.0</td>\n",
              "      <td>0.0</td>\n",
              "      <td>0.0</td>\n",
              "      <td>0.0</td>\n",
              "      <td>0.0</td>\n",
              "      <td>0.0</td>\n",
              "      <td>0.0</td>\n",
              "      <td>0.0</td>\n",
              "      <td>0.0</td>\n",
              "      <td>0.0</td>\n",
              "      <td>0.0</td>\n",
              "      <td>0.0</td>\n",
              "      <td>0.0</td>\n",
              "      <td>0.0</td>\n",
              "      <td>1.0</td>\n",
              "      <td>0.0</td>\n",
              "      <td>0.0</td>\n",
              "      <td>0.0</td>\n",
              "      <td>0.0</td>\n",
              "      <td>0.0</td>\n",
              "      <td>0.0</td>\n",
              "      <td>0.0</td>\n",
              "      <td>0.0</td>\n",
              "      <td>0.0</td>\n",
              "      <td>0.0</td>\n",
              "      <td>0.0</td>\n",
              "      <td>0.0</td>\n",
              "      <td>0.0</td>\n",
              "      <td>0.0</td>\n",
              "      <td>0.0</td>\n",
              "      <td>0.0</td>\n",
              "      <td>1.0</td>\n",
              "      <td>0.0</td>\n",
              "      <td>1.0</td>\n",
              "    </tr>\n",
              "    <tr>\n",
              "      <th>4</th>\n",
              "      <td>NM</td>\n",
              "      <td>Orthopaedic Surgery</td>\n",
              "      <td>0</td>\n",
              "      <td>25411.21</td>\n",
              "      <td>98</td>\n",
              "      <td>Education</td>\n",
              "      <td>8792.00</td>\n",
              "      <td>18</td>\n",
              "      <td>9079.72</td>\n",
              "      <td>442</td>\n",
              "      <td>13</td>\n",
              "      <td>1741.832451</td>\n",
              "      <td>Covered</td>\n",
              "      <td>41</td>\n",
              "      <td>16.0</td>\n",
              "      <td>82.0</td>\n",
              "      <td>0.0</td>\n",
              "      <td>0.0</td>\n",
              "      <td>0.0</td>\n",
              "      <td>0.0</td>\n",
              "      <td>0.0</td>\n",
              "      <td>In-kind items and services</td>\n",
              "      <td>82</td>\n",
              "      <td>0.0</td>\n",
              "      <td>0.0</td>\n",
              "      <td>0.0</td>\n",
              "      <td>0.0</td>\n",
              "      <td>0.0</td>\n",
              "      <td>0.0</td>\n",
              "      <td>0.0</td>\n",
              "      <td>0.0</td>\n",
              "      <td>0.0</td>\n",
              "      <td>0.0</td>\n",
              "      <td>0.0</td>\n",
              "      <td>0.0</td>\n",
              "      <td>0.0</td>\n",
              "      <td>0.0</td>\n",
              "      <td>0.0</td>\n",
              "      <td>0.0</td>\n",
              "      <td>0.0</td>\n",
              "      <td>0.0</td>\n",
              "      <td>0.0</td>\n",
              "      <td>0.0</td>\n",
              "      <td>1.0</td>\n",
              "      <td>0.0</td>\n",
              "      <td>0.0</td>\n",
              "      <td>0.0</td>\n",
              "      <td>0.0</td>\n",
              "      <td>0.0</td>\n",
              "      <td>0.0</td>\n",
              "      <td>0.0</td>\n",
              "      <td>0.0</td>\n",
              "      <td>0.0</td>\n",
              "      <td>0.0</td>\n",
              "      <td>0.0</td>\n",
              "      <td>0.0</td>\n",
              "      <td>0.0</td>\n",
              "      <td>0.0</td>\n",
              "      <td>0.0</td>\n",
              "      <td>0.0</td>\n",
              "      <td>0.0</td>\n",
              "      <td>0.0</td>\n",
              "      <td>0.0</td>\n",
              "      <td>1.0</td>\n",
              "      <td>0.0</td>\n",
              "      <td>0.0</td>\n",
              "      <td>0.0</td>\n",
              "      <td>0.0</td>\n",
              "      <td>0.0</td>\n",
              "      <td>0.0</td>\n",
              "      <td>0.0</td>\n",
              "      <td>1.0</td>\n",
              "      <td>0.0</td>\n",
              "      <td>0.0</td>\n",
              "      <td>0.0</td>\n",
              "      <td>0.0</td>\n",
              "      <td>0.0</td>\n",
              "      <td>1.0</td>\n",
              "    </tr>\n",
              "    <tr>\n",
              "      <th>...</th>\n",
              "      <td>...</td>\n",
              "      <td>...</td>\n",
              "      <td>...</td>\n",
              "      <td>...</td>\n",
              "      <td>...</td>\n",
              "      <td>...</td>\n",
              "      <td>...</td>\n",
              "      <td>...</td>\n",
              "      <td>...</td>\n",
              "      <td>...</td>\n",
              "      <td>...</td>\n",
              "      <td>...</td>\n",
              "      <td>...</td>\n",
              "      <td>...</td>\n",
              "      <td>...</td>\n",
              "      <td>...</td>\n",
              "      <td>...</td>\n",
              "      <td>...</td>\n",
              "      <td>...</td>\n",
              "      <td>...</td>\n",
              "      <td>...</td>\n",
              "      <td>...</td>\n",
              "      <td>...</td>\n",
              "      <td>...</td>\n",
              "      <td>...</td>\n",
              "      <td>...</td>\n",
              "      <td>...</td>\n",
              "      <td>...</td>\n",
              "      <td>...</td>\n",
              "      <td>...</td>\n",
              "      <td>...</td>\n",
              "      <td>...</td>\n",
              "      <td>...</td>\n",
              "      <td>...</td>\n",
              "      <td>...</td>\n",
              "      <td>...</td>\n",
              "      <td>...</td>\n",
              "      <td>...</td>\n",
              "      <td>...</td>\n",
              "      <td>...</td>\n",
              "      <td>...</td>\n",
              "      <td>...</td>\n",
              "      <td>...</td>\n",
              "      <td>...</td>\n",
              "      <td>...</td>\n",
              "      <td>...</td>\n",
              "      <td>...</td>\n",
              "      <td>...</td>\n",
              "      <td>...</td>\n",
              "      <td>...</td>\n",
              "      <td>...</td>\n",
              "      <td>...</td>\n",
              "      <td>...</td>\n",
              "      <td>...</td>\n",
              "      <td>...</td>\n",
              "      <td>...</td>\n",
              "      <td>...</td>\n",
              "      <td>...</td>\n",
              "      <td>...</td>\n",
              "      <td>...</td>\n",
              "      <td>...</td>\n",
              "      <td>...</td>\n",
              "      <td>...</td>\n",
              "      <td>...</td>\n",
              "      <td>...</td>\n",
              "      <td>...</td>\n",
              "      <td>...</td>\n",
              "      <td>...</td>\n",
              "      <td>...</td>\n",
              "      <td>...</td>\n",
              "      <td>...</td>\n",
              "      <td>...</td>\n",
              "      <td>...</td>\n",
              "      <td>...</td>\n",
              "      <td>...</td>\n",
              "      <td>...</td>\n",
              "      <td>...</td>\n",
              "      <td>...</td>\n",
              "    </tr>\n",
              "    <tr>\n",
              "      <th>4995</th>\n",
              "      <td>TX</td>\n",
              "      <td>Family Medicine</td>\n",
              "      <td>0</td>\n",
              "      <td>5528.35</td>\n",
              "      <td>390</td>\n",
              "      <td>Food and Beverage</td>\n",
              "      <td>5451.13</td>\n",
              "      <td>21</td>\n",
              "      <td>464.40</td>\n",
              "      <td>74</td>\n",
              "      <td>40</td>\n",
              "      <td>9.656246</td>\n",
              "      <td>Yes</td>\n",
              "      <td>251</td>\n",
              "      <td>9.0</td>\n",
              "      <td>381.0</td>\n",
              "      <td>0.0</td>\n",
              "      <td>0.0</td>\n",
              "      <td>0.0</td>\n",
              "      <td>0.0</td>\n",
              "      <td>0.0</td>\n",
              "      <td>In-kind items and services</td>\n",
              "      <td>381</td>\n",
              "      <td>0.0</td>\n",
              "      <td>0.0</td>\n",
              "      <td>0.0</td>\n",
              "      <td>0.0</td>\n",
              "      <td>0.0</td>\n",
              "      <td>0.0</td>\n",
              "      <td>0.0</td>\n",
              "      <td>0.0</td>\n",
              "      <td>1.0</td>\n",
              "      <td>0.0</td>\n",
              "      <td>0.0</td>\n",
              "      <td>0.0</td>\n",
              "      <td>0.0</td>\n",
              "      <td>0.0</td>\n",
              "      <td>0.0</td>\n",
              "      <td>0.0</td>\n",
              "      <td>0.0</td>\n",
              "      <td>0.0</td>\n",
              "      <td>0.0</td>\n",
              "      <td>0.0</td>\n",
              "      <td>0.0</td>\n",
              "      <td>0.0</td>\n",
              "      <td>0.0</td>\n",
              "      <td>0.0</td>\n",
              "      <td>0.0</td>\n",
              "      <td>0.0</td>\n",
              "      <td>0.0</td>\n",
              "      <td>0.0</td>\n",
              "      <td>0.0</td>\n",
              "      <td>0.0</td>\n",
              "      <td>0.0</td>\n",
              "      <td>0.0</td>\n",
              "      <td>0.0</td>\n",
              "      <td>0.0</td>\n",
              "      <td>0.0</td>\n",
              "      <td>0.0</td>\n",
              "      <td>0.0</td>\n",
              "      <td>0.0</td>\n",
              "      <td>0.0</td>\n",
              "      <td>0.0</td>\n",
              "      <td>0.0</td>\n",
              "      <td>1.0</td>\n",
              "      <td>0.0</td>\n",
              "      <td>0.0</td>\n",
              "      <td>0.0</td>\n",
              "      <td>0.0</td>\n",
              "      <td>0.0</td>\n",
              "      <td>0.0</td>\n",
              "      <td>0.0</td>\n",
              "      <td>0.0</td>\n",
              "      <td>0.0</td>\n",
              "      <td>0.0</td>\n",
              "      <td>1.0</td>\n",
              "      <td>0.0</td>\n",
              "      <td>1.0</td>\n",
              "    </tr>\n",
              "    <tr>\n",
              "      <th>4996</th>\n",
              "      <td>FL</td>\n",
              "      <td>Orthopaedic Surgery</td>\n",
              "      <td>0</td>\n",
              "      <td>19714.41</td>\n",
              "      <td>517</td>\n",
              "      <td>Food and Beverage</td>\n",
              "      <td>9265.08</td>\n",
              "      <td>95</td>\n",
              "      <td>5161.48</td>\n",
              "      <td>550</td>\n",
              "      <td>38</td>\n",
              "      <td>208.467432</td>\n",
              "      <td>Covered</td>\n",
              "      <td>217</td>\n",
              "      <td>241.0</td>\n",
              "      <td>276.0</td>\n",
              "      <td>0.0</td>\n",
              "      <td>0.0</td>\n",
              "      <td>0.0</td>\n",
              "      <td>0.0</td>\n",
              "      <td>0.0</td>\n",
              "      <td>In-kind items and services</td>\n",
              "      <td>276</td>\n",
              "      <td>0.0</td>\n",
              "      <td>0.0</td>\n",
              "      <td>0.0</td>\n",
              "      <td>0.0</td>\n",
              "      <td>0.0</td>\n",
              "      <td>0.0</td>\n",
              "      <td>0.0</td>\n",
              "      <td>0.0</td>\n",
              "      <td>0.0</td>\n",
              "      <td>0.0</td>\n",
              "      <td>0.0</td>\n",
              "      <td>0.0</td>\n",
              "      <td>0.0</td>\n",
              "      <td>0.0</td>\n",
              "      <td>0.0</td>\n",
              "      <td>0.0</td>\n",
              "      <td>0.0</td>\n",
              "      <td>0.0</td>\n",
              "      <td>0.0</td>\n",
              "      <td>0.0</td>\n",
              "      <td>1.0</td>\n",
              "      <td>0.0</td>\n",
              "      <td>0.0</td>\n",
              "      <td>0.0</td>\n",
              "      <td>0.0</td>\n",
              "      <td>0.0</td>\n",
              "      <td>0.0</td>\n",
              "      <td>0.0</td>\n",
              "      <td>0.0</td>\n",
              "      <td>0.0</td>\n",
              "      <td>0.0</td>\n",
              "      <td>0.0</td>\n",
              "      <td>0.0</td>\n",
              "      <td>0.0</td>\n",
              "      <td>0.0</td>\n",
              "      <td>0.0</td>\n",
              "      <td>0.0</td>\n",
              "      <td>0.0</td>\n",
              "      <td>0.0</td>\n",
              "      <td>0.0</td>\n",
              "      <td>0.0</td>\n",
              "      <td>1.0</td>\n",
              "      <td>0.0</td>\n",
              "      <td>0.0</td>\n",
              "      <td>0.0</td>\n",
              "      <td>0.0</td>\n",
              "      <td>0.0</td>\n",
              "      <td>0.0</td>\n",
              "      <td>1.0</td>\n",
              "      <td>0.0</td>\n",
              "      <td>0.0</td>\n",
              "      <td>0.0</td>\n",
              "      <td>0.0</td>\n",
              "      <td>0.0</td>\n",
              "      <td>1.0</td>\n",
              "    </tr>\n",
              "    <tr>\n",
              "      <th>4997</th>\n",
              "      <td>FL</td>\n",
              "      <td>Urology</td>\n",
              "      <td>0</td>\n",
              "      <td>2946.90</td>\n",
              "      <td>162</td>\n",
              "      <td>Food and Beverage</td>\n",
              "      <td>2672.05</td>\n",
              "      <td>31</td>\n",
              "      <td>485.59</td>\n",
              "      <td>69</td>\n",
              "      <td>33</td>\n",
              "      <td>9.200772</td>\n",
              "      <td>Yes</td>\n",
              "      <td>79</td>\n",
              "      <td>13.0</td>\n",
              "      <td>149.0</td>\n",
              "      <td>0.0</td>\n",
              "      <td>0.0</td>\n",
              "      <td>0.0</td>\n",
              "      <td>0.0</td>\n",
              "      <td>0.0</td>\n",
              "      <td>In-kind items and services</td>\n",
              "      <td>149</td>\n",
              "      <td>0.0</td>\n",
              "      <td>0.0</td>\n",
              "      <td>0.0</td>\n",
              "      <td>0.0</td>\n",
              "      <td>0.0</td>\n",
              "      <td>0.0</td>\n",
              "      <td>0.0</td>\n",
              "      <td>0.0</td>\n",
              "      <td>0.0</td>\n",
              "      <td>0.0</td>\n",
              "      <td>0.0</td>\n",
              "      <td>0.0</td>\n",
              "      <td>0.0</td>\n",
              "      <td>0.0</td>\n",
              "      <td>0.0</td>\n",
              "      <td>0.0</td>\n",
              "      <td>0.0</td>\n",
              "      <td>0.0</td>\n",
              "      <td>0.0</td>\n",
              "      <td>0.0</td>\n",
              "      <td>0.0</td>\n",
              "      <td>0.0</td>\n",
              "      <td>0.0</td>\n",
              "      <td>0.0</td>\n",
              "      <td>0.0</td>\n",
              "      <td>0.0</td>\n",
              "      <td>0.0</td>\n",
              "      <td>0.0</td>\n",
              "      <td>0.0</td>\n",
              "      <td>0.0</td>\n",
              "      <td>0.0</td>\n",
              "      <td>0.0</td>\n",
              "      <td>0.0</td>\n",
              "      <td>1.0</td>\n",
              "      <td>0.0</td>\n",
              "      <td>0.0</td>\n",
              "      <td>0.0</td>\n",
              "      <td>0.0</td>\n",
              "      <td>0.0</td>\n",
              "      <td>0.0</td>\n",
              "      <td>0.0</td>\n",
              "      <td>1.0</td>\n",
              "      <td>0.0</td>\n",
              "      <td>0.0</td>\n",
              "      <td>0.0</td>\n",
              "      <td>0.0</td>\n",
              "      <td>0.0</td>\n",
              "      <td>0.0</td>\n",
              "      <td>0.0</td>\n",
              "      <td>0.0</td>\n",
              "      <td>0.0</td>\n",
              "      <td>0.0</td>\n",
              "      <td>1.0</td>\n",
              "      <td>0.0</td>\n",
              "      <td>1.0</td>\n",
              "    </tr>\n",
              "    <tr>\n",
              "      <th>4998</th>\n",
              "      <td>AR</td>\n",
              "      <td>Family Medicine</td>\n",
              "      <td>0</td>\n",
              "      <td>7870.54</td>\n",
              "      <td>622</td>\n",
              "      <td>Food and Beverage</td>\n",
              "      <td>7833.50</td>\n",
              "      <td>38</td>\n",
              "      <td>353.85</td>\n",
              "      <td>74</td>\n",
              "      <td>29</td>\n",
              "      <td>2.427797</td>\n",
              "      <td>Yes</td>\n",
              "      <td>345</td>\n",
              "      <td>12.0</td>\n",
              "      <td>610.0</td>\n",
              "      <td>0.0</td>\n",
              "      <td>0.0</td>\n",
              "      <td>0.0</td>\n",
              "      <td>0.0</td>\n",
              "      <td>0.0</td>\n",
              "      <td>In-kind items and services</td>\n",
              "      <td>610</td>\n",
              "      <td>0.0</td>\n",
              "      <td>0.0</td>\n",
              "      <td>0.0</td>\n",
              "      <td>0.0</td>\n",
              "      <td>0.0</td>\n",
              "      <td>0.0</td>\n",
              "      <td>0.0</td>\n",
              "      <td>0.0</td>\n",
              "      <td>1.0</td>\n",
              "      <td>0.0</td>\n",
              "      <td>0.0</td>\n",
              "      <td>0.0</td>\n",
              "      <td>0.0</td>\n",
              "      <td>0.0</td>\n",
              "      <td>0.0</td>\n",
              "      <td>0.0</td>\n",
              "      <td>0.0</td>\n",
              "      <td>0.0</td>\n",
              "      <td>0.0</td>\n",
              "      <td>0.0</td>\n",
              "      <td>0.0</td>\n",
              "      <td>0.0</td>\n",
              "      <td>0.0</td>\n",
              "      <td>0.0</td>\n",
              "      <td>0.0</td>\n",
              "      <td>0.0</td>\n",
              "      <td>0.0</td>\n",
              "      <td>0.0</td>\n",
              "      <td>0.0</td>\n",
              "      <td>0.0</td>\n",
              "      <td>0.0</td>\n",
              "      <td>0.0</td>\n",
              "      <td>0.0</td>\n",
              "      <td>0.0</td>\n",
              "      <td>0.0</td>\n",
              "      <td>0.0</td>\n",
              "      <td>0.0</td>\n",
              "      <td>0.0</td>\n",
              "      <td>0.0</td>\n",
              "      <td>0.0</td>\n",
              "      <td>0.0</td>\n",
              "      <td>1.0</td>\n",
              "      <td>0.0</td>\n",
              "      <td>0.0</td>\n",
              "      <td>0.0</td>\n",
              "      <td>0.0</td>\n",
              "      <td>0.0</td>\n",
              "      <td>0.0</td>\n",
              "      <td>0.0</td>\n",
              "      <td>0.0</td>\n",
              "      <td>0.0</td>\n",
              "      <td>0.0</td>\n",
              "      <td>1.0</td>\n",
              "      <td>0.0</td>\n",
              "      <td>1.0</td>\n",
              "    </tr>\n",
              "    <tr>\n",
              "      <th>4999</th>\n",
              "      <td>CA</td>\n",
              "      <td>Otolaryngology</td>\n",
              "      <td>0</td>\n",
              "      <td>5779.80</td>\n",
              "      <td>92</td>\n",
              "      <td>Food and Beverage</td>\n",
              "      <td>2900.54</td>\n",
              "      <td>22</td>\n",
              "      <td>2070.60</td>\n",
              "      <td>130</td>\n",
              "      <td>19</td>\n",
              "      <td>34.812651</td>\n",
              "      <td>Yes</td>\n",
              "      <td>52</td>\n",
              "      <td>47.0</td>\n",
              "      <td>45.0</td>\n",
              "      <td>0.0</td>\n",
              "      <td>0.0</td>\n",
              "      <td>0.0</td>\n",
              "      <td>0.0</td>\n",
              "      <td>0.0</td>\n",
              "      <td>Cash or cash equivalent</td>\n",
              "      <td>47</td>\n",
              "      <td>0.0</td>\n",
              "      <td>0.0</td>\n",
              "      <td>0.0</td>\n",
              "      <td>0.0</td>\n",
              "      <td>0.0</td>\n",
              "      <td>0.0</td>\n",
              "      <td>0.0</td>\n",
              "      <td>0.0</td>\n",
              "      <td>0.0</td>\n",
              "      <td>0.0</td>\n",
              "      <td>0.0</td>\n",
              "      <td>0.0</td>\n",
              "      <td>0.0</td>\n",
              "      <td>0.0</td>\n",
              "      <td>0.0</td>\n",
              "      <td>0.0</td>\n",
              "      <td>0.0</td>\n",
              "      <td>0.0</td>\n",
              "      <td>0.0</td>\n",
              "      <td>0.0</td>\n",
              "      <td>0.0</td>\n",
              "      <td>1.0</td>\n",
              "      <td>0.0</td>\n",
              "      <td>0.0</td>\n",
              "      <td>0.0</td>\n",
              "      <td>0.0</td>\n",
              "      <td>0.0</td>\n",
              "      <td>0.0</td>\n",
              "      <td>0.0</td>\n",
              "      <td>0.0</td>\n",
              "      <td>0.0</td>\n",
              "      <td>0.0</td>\n",
              "      <td>0.0</td>\n",
              "      <td>0.0</td>\n",
              "      <td>0.0</td>\n",
              "      <td>0.0</td>\n",
              "      <td>0.0</td>\n",
              "      <td>0.0</td>\n",
              "      <td>0.0</td>\n",
              "      <td>0.0</td>\n",
              "      <td>0.0</td>\n",
              "      <td>1.0</td>\n",
              "      <td>0.0</td>\n",
              "      <td>0.0</td>\n",
              "      <td>0.0</td>\n",
              "      <td>0.0</td>\n",
              "      <td>0.0</td>\n",
              "      <td>0.0</td>\n",
              "      <td>0.0</td>\n",
              "      <td>0.0</td>\n",
              "      <td>0.0</td>\n",
              "      <td>0.0</td>\n",
              "      <td>1.0</td>\n",
              "      <td>1.0</td>\n",
              "      <td>0.0</td>\n",
              "    </tr>\n",
              "  </tbody>\n",
              "</table>\n",
              "<p>5000 rows × 78 columns</p>\n",
              "</div>"
            ],
            "text/plain": [
              "     State  ... x3_In-kind items and services\n",
              "0       FL  ...                           1.0\n",
              "1       MD  ...                           1.0\n",
              "2       NY  ...                           1.0\n",
              "3       GA  ...                           1.0\n",
              "4       NM  ...                           1.0\n",
              "...    ...  ...                           ...\n",
              "4995    TX  ...                           1.0\n",
              "4996    FL  ...                           1.0\n",
              "4997    FL  ...                           1.0\n",
              "4998    AR  ...                           1.0\n",
              "4999    CA  ...                           0.0\n",
              "\n",
              "[5000 rows x 78 columns]"
            ]
          },
          "metadata": {
            "tags": []
          },
          "execution_count": 181
        }
      ]
    },
    {
      "cell_type": "code",
      "metadata": {
        "id": "I5V9rIrkT158"
      },
      "source": [
        "# dropping the categorical features that have been encoded\n",
        "train_final = train_final.drop([\"Primary_Specialty\",\"top_nature\",\"top_rpi\", \"top_fop\", \"State\"], axis=1)\n",
        "\n"
      ],
      "execution_count": 182,
      "outputs": []
    },
    {
      "cell_type": "code",
      "metadata": {
        "colab": {
          "base_uri": "https://localhost:8080/",
          "height": 435
        },
        "id": "4YZD_T3XUZxB",
        "outputId": "3ac1dd5c-ec78-4fe9-84a5-6bfcab69899e"
      },
      "source": [
        "train_final.head()"
      ],
      "execution_count": 183,
      "outputs": [
        {
          "output_type": "execute_result",
          "data": {
            "text/html": [
              "<div>\n",
              "<style scoped>\n",
              "    .dataframe tbody tr th:only-of-type {\n",
              "        vertical-align: middle;\n",
              "    }\n",
              "\n",
              "    .dataframe tbody tr th {\n",
              "        vertical-align: top;\n",
              "    }\n",
              "\n",
              "    .dataframe thead th {\n",
              "        text-align: right;\n",
              "    }\n",
              "</style>\n",
              "<table border=\"1\" class=\"dataframe\">\n",
              "  <thead>\n",
              "    <tr style=\"text-align: right;\">\n",
              "      <th></th>\n",
              "      <th>Ownership_Indicator</th>\n",
              "      <th>total_payments</th>\n",
              "      <th>number_of_payments</th>\n",
              "      <th>total_of_top_nature</th>\n",
              "      <th>range_count</th>\n",
              "      <th>range_total</th>\n",
              "      <th>top_company</th>\n",
              "      <th>pay_count</th>\n",
              "      <th>std</th>\n",
              "      <th>rpi_count</th>\n",
              "      <th>cash</th>\n",
              "      <th>services</th>\n",
              "      <th>stock</th>\n",
              "      <th>stock_opt</th>\n",
              "      <th>any_ownership</th>\n",
              "      <th>dividend</th>\n",
              "      <th>stock_or_other</th>\n",
              "      <th>fop_count</th>\n",
              "      <th>x0_Allergy &amp; Immunology</th>\n",
              "      <th>x0_Anesthesiology</th>\n",
              "      <th>x0_Chiropractic Providers</th>\n",
              "      <th>x0_Colon &amp; Rectal Surgery</th>\n",
              "      <th>x0_Dental Providers</th>\n",
              "      <th>x0_Dermatology</th>\n",
              "      <th>x0_Emergency Medicine</th>\n",
              "      <th>x0_Eye and Vision Services Providers</th>\n",
              "      <th>x0_Family Medicine</th>\n",
              "      <th>x0_General Practice</th>\n",
              "      <th>x0_Hospitalist</th>\n",
              "      <th>x0_Internal Medicine</th>\n",
              "      <th>x0_Medical Genetics</th>\n",
              "      <th>x0_Neurological Surgery</th>\n",
              "      <th>x0_Neuromusculoskeletal Medicine &amp; OMM</th>\n",
              "      <th>x0_Neuromusculoskeletal Medicine, Sports Medicine</th>\n",
              "      <th>x0_Nuclear Medicine</th>\n",
              "      <th>x0_Obstetrics &amp; Gynecology</th>\n",
              "      <th>x0_Ophthalmology</th>\n",
              "      <th>x0_Oral &amp; Maxillofacial Surgery</th>\n",
              "      <th>x0_Orthopaedic Surgery</th>\n",
              "      <th>x0_Otolaryngology</th>\n",
              "      <th>x0_Pain Medicine</th>\n",
              "      <th>x0_Pathology</th>\n",
              "      <th>x0_Pediatrics</th>\n",
              "      <th>x0_Physical Medicine &amp; Rehabilitation</th>\n",
              "      <th>x0_Plastic Surgery</th>\n",
              "      <th>x0_Podiatric Medicine &amp; Surgery Service Providers</th>\n",
              "      <th>x0_Preventive Medicine</th>\n",
              "      <th>x0_Psychiatry &amp; Neurology</th>\n",
              "      <th>x0_Radiology</th>\n",
              "      <th>x0_Surgery</th>\n",
              "      <th>x0_Thoracic Surgery (Cardiothoracic Vascular Surgery)</th>\n",
              "      <th>x0_Urology</th>\n",
              "      <th>x1_Charitable Contribution</th>\n",
              "      <th>x1_Compensation for services other than consulting, including serving as faculty or as a speaker at a venue other than a continuing education program</th>\n",
              "      <th>x1_Compensation for serving as faculty or as a speaker for a non-accredited and noncertified continuing education program</th>\n",
              "      <th>x1_Compensation for serving as faculty or as a speaker for an accredited or certified continuing education program</th>\n",
              "      <th>x1_Consulting Fee</th>\n",
              "      <th>x1_Current or prospective ownership or investment interest</th>\n",
              "      <th>x1_Education</th>\n",
              "      <th>x1_Food and Beverage</th>\n",
              "      <th>x1_Gift</th>\n",
              "      <th>x1_Grant</th>\n",
              "      <th>x1_Honoraria</th>\n",
              "      <th>x1_Royalty or License</th>\n",
              "      <th>x1_Travel and Lodging</th>\n",
              "      <th>x2_Combination</th>\n",
              "      <th>x2_Covered</th>\n",
              "      <th>x2_No</th>\n",
              "      <th>x2_Non-Covered</th>\n",
              "      <th>x2_None</th>\n",
              "      <th>x2_Yes</th>\n",
              "      <th>x3_Cash or cash equivalent</th>\n",
              "      <th>x3_In-kind items and services</th>\n",
              "    </tr>\n",
              "  </thead>\n",
              "  <tbody>\n",
              "    <tr>\n",
              "      <th>0</th>\n",
              "      <td>0</td>\n",
              "      <td>952.93</td>\n",
              "      <td>47</td>\n",
              "      <td>842.44</td>\n",
              "      <td>8</td>\n",
              "      <td>170.41</td>\n",
              "      <td>550</td>\n",
              "      <td>18</td>\n",
              "      <td>6.498346</td>\n",
              "      <td>26</td>\n",
              "      <td>4.0</td>\n",
              "      <td>43.0</td>\n",
              "      <td>0.0</td>\n",
              "      <td>0.0</td>\n",
              "      <td>0.0</td>\n",
              "      <td>0.0</td>\n",
              "      <td>0.0</td>\n",
              "      <td>43</td>\n",
              "      <td>0.0</td>\n",
              "      <td>0.0</td>\n",
              "      <td>0.0</td>\n",
              "      <td>0.0</td>\n",
              "      <td>0.0</td>\n",
              "      <td>0.0</td>\n",
              "      <td>0.0</td>\n",
              "      <td>0.0</td>\n",
              "      <td>0.0</td>\n",
              "      <td>0.0</td>\n",
              "      <td>0.0</td>\n",
              "      <td>0.0</td>\n",
              "      <td>0.0</td>\n",
              "      <td>0.0</td>\n",
              "      <td>0.0</td>\n",
              "      <td>0.0</td>\n",
              "      <td>0.0</td>\n",
              "      <td>1.0</td>\n",
              "      <td>0.0</td>\n",
              "      <td>0.0</td>\n",
              "      <td>0.0</td>\n",
              "      <td>0.0</td>\n",
              "      <td>0.0</td>\n",
              "      <td>0.0</td>\n",
              "      <td>0.0</td>\n",
              "      <td>0.0</td>\n",
              "      <td>0.0</td>\n",
              "      <td>0.0</td>\n",
              "      <td>0.0</td>\n",
              "      <td>0.0</td>\n",
              "      <td>0.0</td>\n",
              "      <td>0.0</td>\n",
              "      <td>0.0</td>\n",
              "      <td>0.0</td>\n",
              "      <td>0.0</td>\n",
              "      <td>0.0</td>\n",
              "      <td>0.0</td>\n",
              "      <td>0.0</td>\n",
              "      <td>0.0</td>\n",
              "      <td>0.0</td>\n",
              "      <td>0.0</td>\n",
              "      <td>1.0</td>\n",
              "      <td>0.0</td>\n",
              "      <td>0.0</td>\n",
              "      <td>0.0</td>\n",
              "      <td>0.0</td>\n",
              "      <td>0.0</td>\n",
              "      <td>0.0</td>\n",
              "      <td>1.0</td>\n",
              "      <td>0.0</td>\n",
              "      <td>0.0</td>\n",
              "      <td>0.0</td>\n",
              "      <td>0.0</td>\n",
              "      <td>0.0</td>\n",
              "      <td>1.0</td>\n",
              "    </tr>\n",
              "    <tr>\n",
              "      <th>1</th>\n",
              "      <td>0</td>\n",
              "      <td>120924.92</td>\n",
              "      <td>154</td>\n",
              "      <td>45190.70</td>\n",
              "      <td>45</td>\n",
              "      <td>35030.52</td>\n",
              "      <td>601</td>\n",
              "      <td>13</td>\n",
              "      <td>478.199770</td>\n",
              "      <td>88</td>\n",
              "      <td>72.0</td>\n",
              "      <td>82.0</td>\n",
              "      <td>0.0</td>\n",
              "      <td>0.0</td>\n",
              "      <td>0.0</td>\n",
              "      <td>0.0</td>\n",
              "      <td>0.0</td>\n",
              "      <td>82</td>\n",
              "      <td>0.0</td>\n",
              "      <td>1.0</td>\n",
              "      <td>0.0</td>\n",
              "      <td>0.0</td>\n",
              "      <td>0.0</td>\n",
              "      <td>0.0</td>\n",
              "      <td>0.0</td>\n",
              "      <td>0.0</td>\n",
              "      <td>0.0</td>\n",
              "      <td>0.0</td>\n",
              "      <td>0.0</td>\n",
              "      <td>0.0</td>\n",
              "      <td>0.0</td>\n",
              "      <td>0.0</td>\n",
              "      <td>0.0</td>\n",
              "      <td>0.0</td>\n",
              "      <td>0.0</td>\n",
              "      <td>0.0</td>\n",
              "      <td>0.0</td>\n",
              "      <td>0.0</td>\n",
              "      <td>0.0</td>\n",
              "      <td>0.0</td>\n",
              "      <td>0.0</td>\n",
              "      <td>0.0</td>\n",
              "      <td>0.0</td>\n",
              "      <td>0.0</td>\n",
              "      <td>0.0</td>\n",
              "      <td>0.0</td>\n",
              "      <td>0.0</td>\n",
              "      <td>0.0</td>\n",
              "      <td>0.0</td>\n",
              "      <td>0.0</td>\n",
              "      <td>0.0</td>\n",
              "      <td>0.0</td>\n",
              "      <td>0.0</td>\n",
              "      <td>1.0</td>\n",
              "      <td>0.0</td>\n",
              "      <td>0.0</td>\n",
              "      <td>0.0</td>\n",
              "      <td>0.0</td>\n",
              "      <td>0.0</td>\n",
              "      <td>0.0</td>\n",
              "      <td>0.0</td>\n",
              "      <td>0.0</td>\n",
              "      <td>0.0</td>\n",
              "      <td>0.0</td>\n",
              "      <td>0.0</td>\n",
              "      <td>0.0</td>\n",
              "      <td>1.0</td>\n",
              "      <td>0.0</td>\n",
              "      <td>0.0</td>\n",
              "      <td>0.0</td>\n",
              "      <td>0.0</td>\n",
              "      <td>0.0</td>\n",
              "      <td>1.0</td>\n",
              "    </tr>\n",
              "    <tr>\n",
              "      <th>2</th>\n",
              "      <td>0</td>\n",
              "      <td>3523.93</td>\n",
              "      <td>132</td>\n",
              "      <td>3523.93</td>\n",
              "      <td>12</td>\n",
              "      <td>462.42</td>\n",
              "      <td>340</td>\n",
              "      <td>15</td>\n",
              "      <td>35.449082</td>\n",
              "      <td>75</td>\n",
              "      <td>39.0</td>\n",
              "      <td>93.0</td>\n",
              "      <td>0.0</td>\n",
              "      <td>0.0</td>\n",
              "      <td>0.0</td>\n",
              "      <td>0.0</td>\n",
              "      <td>0.0</td>\n",
              "      <td>93</td>\n",
              "      <td>0.0</td>\n",
              "      <td>0.0</td>\n",
              "      <td>0.0</td>\n",
              "      <td>0.0</td>\n",
              "      <td>0.0</td>\n",
              "      <td>0.0</td>\n",
              "      <td>0.0</td>\n",
              "      <td>0.0</td>\n",
              "      <td>0.0</td>\n",
              "      <td>0.0</td>\n",
              "      <td>0.0</td>\n",
              "      <td>0.0</td>\n",
              "      <td>0.0</td>\n",
              "      <td>0.0</td>\n",
              "      <td>0.0</td>\n",
              "      <td>0.0</td>\n",
              "      <td>0.0</td>\n",
              "      <td>0.0</td>\n",
              "      <td>0.0</td>\n",
              "      <td>0.0</td>\n",
              "      <td>0.0</td>\n",
              "      <td>0.0</td>\n",
              "      <td>0.0</td>\n",
              "      <td>0.0</td>\n",
              "      <td>0.0</td>\n",
              "      <td>0.0</td>\n",
              "      <td>0.0</td>\n",
              "      <td>1.0</td>\n",
              "      <td>0.0</td>\n",
              "      <td>0.0</td>\n",
              "      <td>0.0</td>\n",
              "      <td>0.0</td>\n",
              "      <td>0.0</td>\n",
              "      <td>0.0</td>\n",
              "      <td>0.0</td>\n",
              "      <td>0.0</td>\n",
              "      <td>0.0</td>\n",
              "      <td>0.0</td>\n",
              "      <td>0.0</td>\n",
              "      <td>0.0</td>\n",
              "      <td>0.0</td>\n",
              "      <td>1.0</td>\n",
              "      <td>0.0</td>\n",
              "      <td>0.0</td>\n",
              "      <td>0.0</td>\n",
              "      <td>0.0</td>\n",
              "      <td>0.0</td>\n",
              "      <td>0.0</td>\n",
              "      <td>0.0</td>\n",
              "      <td>0.0</td>\n",
              "      <td>0.0</td>\n",
              "      <td>0.0</td>\n",
              "      <td>1.0</td>\n",
              "      <td>0.0</td>\n",
              "      <td>1.0</td>\n",
              "    </tr>\n",
              "    <tr>\n",
              "      <th>3</th>\n",
              "      <td>0</td>\n",
              "      <td>26745.61</td>\n",
              "      <td>411</td>\n",
              "      <td>18011.81</td>\n",
              "      <td>50</td>\n",
              "      <td>13247.09</td>\n",
              "      <td>18</td>\n",
              "      <td>32</td>\n",
              "      <td>129.869365</td>\n",
              "      <td>231</td>\n",
              "      <td>131.0</td>\n",
              "      <td>280.0</td>\n",
              "      <td>0.0</td>\n",
              "      <td>0.0</td>\n",
              "      <td>0.0</td>\n",
              "      <td>0.0</td>\n",
              "      <td>0.0</td>\n",
              "      <td>280</td>\n",
              "      <td>0.0</td>\n",
              "      <td>0.0</td>\n",
              "      <td>0.0</td>\n",
              "      <td>0.0</td>\n",
              "      <td>0.0</td>\n",
              "      <td>0.0</td>\n",
              "      <td>0.0</td>\n",
              "      <td>0.0</td>\n",
              "      <td>0.0</td>\n",
              "      <td>0.0</td>\n",
              "      <td>0.0</td>\n",
              "      <td>1.0</td>\n",
              "      <td>0.0</td>\n",
              "      <td>0.0</td>\n",
              "      <td>0.0</td>\n",
              "      <td>0.0</td>\n",
              "      <td>0.0</td>\n",
              "      <td>0.0</td>\n",
              "      <td>0.0</td>\n",
              "      <td>0.0</td>\n",
              "      <td>0.0</td>\n",
              "      <td>0.0</td>\n",
              "      <td>0.0</td>\n",
              "      <td>0.0</td>\n",
              "      <td>0.0</td>\n",
              "      <td>0.0</td>\n",
              "      <td>0.0</td>\n",
              "      <td>0.0</td>\n",
              "      <td>0.0</td>\n",
              "      <td>0.0</td>\n",
              "      <td>0.0</td>\n",
              "      <td>0.0</td>\n",
              "      <td>0.0</td>\n",
              "      <td>0.0</td>\n",
              "      <td>0.0</td>\n",
              "      <td>1.0</td>\n",
              "      <td>0.0</td>\n",
              "      <td>0.0</td>\n",
              "      <td>0.0</td>\n",
              "      <td>0.0</td>\n",
              "      <td>0.0</td>\n",
              "      <td>0.0</td>\n",
              "      <td>0.0</td>\n",
              "      <td>0.0</td>\n",
              "      <td>0.0</td>\n",
              "      <td>0.0</td>\n",
              "      <td>0.0</td>\n",
              "      <td>0.0</td>\n",
              "      <td>0.0</td>\n",
              "      <td>0.0</td>\n",
              "      <td>0.0</td>\n",
              "      <td>0.0</td>\n",
              "      <td>1.0</td>\n",
              "      <td>0.0</td>\n",
              "      <td>1.0</td>\n",
              "    </tr>\n",
              "    <tr>\n",
              "      <th>4</th>\n",
              "      <td>0</td>\n",
              "      <td>25411.21</td>\n",
              "      <td>98</td>\n",
              "      <td>8792.00</td>\n",
              "      <td>18</td>\n",
              "      <td>9079.72</td>\n",
              "      <td>442</td>\n",
              "      <td>13</td>\n",
              "      <td>1741.832451</td>\n",
              "      <td>41</td>\n",
              "      <td>16.0</td>\n",
              "      <td>82.0</td>\n",
              "      <td>0.0</td>\n",
              "      <td>0.0</td>\n",
              "      <td>0.0</td>\n",
              "      <td>0.0</td>\n",
              "      <td>0.0</td>\n",
              "      <td>82</td>\n",
              "      <td>0.0</td>\n",
              "      <td>0.0</td>\n",
              "      <td>0.0</td>\n",
              "      <td>0.0</td>\n",
              "      <td>0.0</td>\n",
              "      <td>0.0</td>\n",
              "      <td>0.0</td>\n",
              "      <td>0.0</td>\n",
              "      <td>0.0</td>\n",
              "      <td>0.0</td>\n",
              "      <td>0.0</td>\n",
              "      <td>0.0</td>\n",
              "      <td>0.0</td>\n",
              "      <td>0.0</td>\n",
              "      <td>0.0</td>\n",
              "      <td>0.0</td>\n",
              "      <td>0.0</td>\n",
              "      <td>0.0</td>\n",
              "      <td>0.0</td>\n",
              "      <td>0.0</td>\n",
              "      <td>1.0</td>\n",
              "      <td>0.0</td>\n",
              "      <td>0.0</td>\n",
              "      <td>0.0</td>\n",
              "      <td>0.0</td>\n",
              "      <td>0.0</td>\n",
              "      <td>0.0</td>\n",
              "      <td>0.0</td>\n",
              "      <td>0.0</td>\n",
              "      <td>0.0</td>\n",
              "      <td>0.0</td>\n",
              "      <td>0.0</td>\n",
              "      <td>0.0</td>\n",
              "      <td>0.0</td>\n",
              "      <td>0.0</td>\n",
              "      <td>0.0</td>\n",
              "      <td>0.0</td>\n",
              "      <td>0.0</td>\n",
              "      <td>0.0</td>\n",
              "      <td>0.0</td>\n",
              "      <td>1.0</td>\n",
              "      <td>0.0</td>\n",
              "      <td>0.0</td>\n",
              "      <td>0.0</td>\n",
              "      <td>0.0</td>\n",
              "      <td>0.0</td>\n",
              "      <td>0.0</td>\n",
              "      <td>0.0</td>\n",
              "      <td>1.0</td>\n",
              "      <td>0.0</td>\n",
              "      <td>0.0</td>\n",
              "      <td>0.0</td>\n",
              "      <td>0.0</td>\n",
              "      <td>0.0</td>\n",
              "      <td>1.0</td>\n",
              "    </tr>\n",
              "  </tbody>\n",
              "</table>\n",
              "</div>"
            ],
            "text/plain": [
              "   Ownership_Indicator  ...  x3_In-kind items and services\n",
              "0                    0  ...                            1.0\n",
              "1                    0  ...                            1.0\n",
              "2                    0  ...                            1.0\n",
              "3                    0  ...                            1.0\n",
              "4                    0  ...                            1.0\n",
              "\n",
              "[5 rows x 73 columns]"
            ]
          },
          "metadata": {
            "tags": []
          },
          "execution_count": 183
        }
      ]
    },
    {
      "cell_type": "markdown",
      "metadata": {
        "id": "4b0HjygAUqCP"
      },
      "source": [
        "train test split"
      ]
    },
    {
      "cell_type": "code",
      "metadata": {
        "colab": {
          "base_uri": "https://localhost:8080/"
        },
        "id": "Z2DD8IvAUeIK",
        "outputId": "83930a82-857f-41fc-e6dd-08a3bb54adfd"
      },
      "source": [
        "# labels \n",
        "y_train = train_final[\"Ownership_Indicator\"][0:4000]\n",
        "\n",
        "y_test = train_final[\"Ownership_Indicator\"][4001:5000]\n",
        "\n",
        "print(y_train, y_test)"
      ],
      "execution_count": 184,
      "outputs": [
        {
          "output_type": "stream",
          "text": [
            "0       0\n",
            "1       0\n",
            "2       0\n",
            "3       0\n",
            "4       0\n",
            "       ..\n",
            "3995    0\n",
            "3996    0\n",
            "3997    0\n",
            "3998    0\n",
            "3999    0\n",
            "Name: Ownership_Indicator, Length: 4000, dtype: int64 4001    0\n",
            "4002    0\n",
            "4003    0\n",
            "4004    0\n",
            "4005    0\n",
            "       ..\n",
            "4995    0\n",
            "4996    0\n",
            "4997    0\n",
            "4998    0\n",
            "4999    0\n",
            "Name: Ownership_Indicator, Length: 999, dtype: int64\n"
          ],
          "name": "stdout"
        }
      ]
    },
    {
      "cell_type": "code",
      "metadata": {
        "colab": {
          "base_uri": "https://localhost:8080/"
        },
        "id": "Wda6uBz_VKJm",
        "outputId": "5e1c53aa-da36-4ab1-a878-109327cb66f9"
      },
      "source": [
        "# features (manually)\n",
        "X_train = train_final.drop([\"Ownership_Indicator\"], axis=1)[0:4000]\n",
        "\n",
        "X_test = train_final.drop([\"Ownership_Indicator\"], axis=1)[4001:5000]\n",
        "print(X_train, X_test)"
      ],
      "execution_count": 185,
      "outputs": [
        {
          "output_type": "stream",
          "text": [
            "      total_payments  ...  x3_In-kind items and services\n",
            "0             952.93  ...                            1.0\n",
            "1          120924.92  ...                            1.0\n",
            "2            3523.93  ...                            1.0\n",
            "3           26745.61  ...                            1.0\n",
            "4           25411.21  ...                            1.0\n",
            "...              ...  ...                            ...\n",
            "3995        11664.99  ...                            1.0\n",
            "3996         3840.33  ...                            1.0\n",
            "3997         4477.70  ...                            1.0\n",
            "3998        13395.22  ...                            1.0\n",
            "3999         5800.27  ...                            1.0\n",
            "\n",
            "[4000 rows x 72 columns]       total_payments  ...  x3_In-kind items and services\n",
            "4001         9125.41  ...                            1.0\n",
            "4002        13388.59  ...                            1.0\n",
            "4003         1249.61  ...                            1.0\n",
            "4004       173035.27  ...                            1.0\n",
            "4005        13855.54  ...                            0.0\n",
            "...              ...  ...                            ...\n",
            "4995         5528.35  ...                            1.0\n",
            "4996        19714.41  ...                            1.0\n",
            "4997         2946.90  ...                            1.0\n",
            "4998         7870.54  ...                            1.0\n",
            "4999         5779.80  ...                            0.0\n",
            "\n",
            "[999 rows x 72 columns]\n"
          ],
          "name": "stdout"
        }
      ]
    },
    {
      "cell_type": "markdown",
      "metadata": {
        "id": "1w32y6Ieb8Us"
      },
      "source": [
        "encoding test set"
      ]
    },
    {
      "cell_type": "code",
      "metadata": {
        "colab": {
          "base_uri": "https://localhost:8080/",
          "height": 487
        },
        "id": "vg6Mv0VmcFJs",
        "outputId": "41d26c56-748e-4403-f58f-c3270807f6f5"
      },
      "source": [
        "test.head()"
      ],
      "execution_count": 108,
      "outputs": [
        {
          "output_type": "execute_result",
          "data": {
            "text/html": [
              "<div>\n",
              "<style scoped>\n",
              "    .dataframe tbody tr th:only-of-type {\n",
              "        vertical-align: middle;\n",
              "    }\n",
              "\n",
              "    .dataframe tbody tr th {\n",
              "        vertical-align: top;\n",
              "    }\n",
              "\n",
              "    .dataframe thead th {\n",
              "        text-align: right;\n",
              "    }\n",
              "</style>\n",
              "<table border=\"1\" class=\"dataframe\">\n",
              "  <thead>\n",
              "    <tr style=\"text-align: right;\">\n",
              "      <th></th>\n",
              "      <th>Physician_ID</th>\n",
              "      <th>State</th>\n",
              "      <th>Primary_Specialty</th>\n",
              "      <th>total_payments</th>\n",
              "      <th>number_of_payments</th>\n",
              "      <th>top_nature</th>\n",
              "      <th>total_of_top_nature</th>\n",
              "      <th>range_count</th>\n",
              "      <th>range_total</th>\n",
              "      <th>top_company</th>\n",
              "      <th>pay_count</th>\n",
              "      <th>std</th>\n",
              "      <th>top_rpi</th>\n",
              "      <th>rpi_count</th>\n",
              "      <th>cash</th>\n",
              "      <th>services</th>\n",
              "      <th>stock</th>\n",
              "      <th>stock_opt</th>\n",
              "      <th>any_ownership</th>\n",
              "      <th>dividend</th>\n",
              "      <th>stock_or_other</th>\n",
              "      <th>top_fop</th>\n",
              "      <th>fop_count</th>\n",
              "    </tr>\n",
              "  </thead>\n",
              "  <tbody>\n",
              "    <tr>\n",
              "      <th>0</th>\n",
              "      <td>14</td>\n",
              "      <td>FL</td>\n",
              "      <td>Pain Medicine</td>\n",
              "      <td>5775.53</td>\n",
              "      <td>539</td>\n",
              "      <td>Food and Beverage</td>\n",
              "      <td>5626.66</td>\n",
              "      <td>96</td>\n",
              "      <td>514.07</td>\n",
              "      <td>197</td>\n",
              "      <td>35</td>\n",
              "      <td>4.599791</td>\n",
              "      <td>Yes</td>\n",
              "      <td>360</td>\n",
              "      <td>56.0</td>\n",
              "      <td>483.0</td>\n",
              "      <td>0.0</td>\n",
              "      <td>0.0</td>\n",
              "      <td>0.0</td>\n",
              "      <td>0.0</td>\n",
              "      <td>0.0</td>\n",
              "      <td>In-kind items and services</td>\n",
              "      <td>483</td>\n",
              "    </tr>\n",
              "    <tr>\n",
              "      <th>1</th>\n",
              "      <td>18</td>\n",
              "      <td>NY</td>\n",
              "      <td>Internal Medicine</td>\n",
              "      <td>92123.24</td>\n",
              "      <td>584</td>\n",
              "      <td>Consulting Fee</td>\n",
              "      <td>39516.38</td>\n",
              "      <td>68</td>\n",
              "      <td>42697.24</td>\n",
              "      <td>2285</td>\n",
              "      <td>46</td>\n",
              "      <td>162.675507</td>\n",
              "      <td>Yes</td>\n",
              "      <td>417</td>\n",
              "      <td>100.0</td>\n",
              "      <td>484.0</td>\n",
              "      <td>0.0</td>\n",
              "      <td>0.0</td>\n",
              "      <td>0.0</td>\n",
              "      <td>0.0</td>\n",
              "      <td>0.0</td>\n",
              "      <td>In-kind items and services</td>\n",
              "      <td>484</td>\n",
              "    </tr>\n",
              "    <tr>\n",
              "      <th>2</th>\n",
              "      <td>42</td>\n",
              "      <td>NY</td>\n",
              "      <td>Obstetrics &amp; Gynecology</td>\n",
              "      <td>3159.49</td>\n",
              "      <td>180</td>\n",
              "      <td>Food and Beverage</td>\n",
              "      <td>3066.04</td>\n",
              "      <td>16</td>\n",
              "      <td>256.09</td>\n",
              "      <td>190</td>\n",
              "      <td>27</td>\n",
              "      <td>3.431789</td>\n",
              "      <td>Yes</td>\n",
              "      <td>108</td>\n",
              "      <td>8.0</td>\n",
              "      <td>172.0</td>\n",
              "      <td>0.0</td>\n",
              "      <td>0.0</td>\n",
              "      <td>0.0</td>\n",
              "      <td>0.0</td>\n",
              "      <td>0.0</td>\n",
              "      <td>In-kind items and services</td>\n",
              "      <td>172</td>\n",
              "    </tr>\n",
              "    <tr>\n",
              "      <th>3</th>\n",
              "      <td>46</td>\n",
              "      <td>MI</td>\n",
              "      <td>NaN</td>\n",
              "      <td>1614.34</td>\n",
              "      <td>64</td>\n",
              "      <td>Food and Beverage</td>\n",
              "      <td>1614.34</td>\n",
              "      <td>15</td>\n",
              "      <td>547.14</td>\n",
              "      <td>897</td>\n",
              "      <td>17</td>\n",
              "      <td>20.521972</td>\n",
              "      <td>Yes</td>\n",
              "      <td>49</td>\n",
              "      <td>2.0</td>\n",
              "      <td>62.0</td>\n",
              "      <td>0.0</td>\n",
              "      <td>0.0</td>\n",
              "      <td>0.0</td>\n",
              "      <td>0.0</td>\n",
              "      <td>0.0</td>\n",
              "      <td>In-kind items and services</td>\n",
              "      <td>62</td>\n",
              "    </tr>\n",
              "    <tr>\n",
              "      <th>4</th>\n",
              "      <td>47</td>\n",
              "      <td>MD</td>\n",
              "      <td>Internal Medicine</td>\n",
              "      <td>6494.00</td>\n",
              "      <td>296</td>\n",
              "      <td>Food and Beverage</td>\n",
              "      <td>6444.00</td>\n",
              "      <td>96</td>\n",
              "      <td>1557.50</td>\n",
              "      <td>123</td>\n",
              "      <td>31</td>\n",
              "      <td>13.168132</td>\n",
              "      <td>Yes</td>\n",
              "      <td>253</td>\n",
              "      <td>21.0</td>\n",
              "      <td>275.0</td>\n",
              "      <td>0.0</td>\n",
              "      <td>0.0</td>\n",
              "      <td>0.0</td>\n",
              "      <td>0.0</td>\n",
              "      <td>0.0</td>\n",
              "      <td>In-kind items and services</td>\n",
              "      <td>275</td>\n",
              "    </tr>\n",
              "  </tbody>\n",
              "</table>\n",
              "</div>"
            ],
            "text/plain": [
              "   Physician_ID State  ...                     top_fop  fop_count\n",
              "0            14    FL  ...  In-kind items and services        483\n",
              "1            18    NY  ...  In-kind items and services        484\n",
              "2            42    NY  ...  In-kind items and services        172\n",
              "3            46    MI  ...  In-kind items and services         62\n",
              "4            47    MD  ...  In-kind items and services        275\n",
              "\n",
              "[5 rows x 23 columns]"
            ]
          },
          "metadata": {
            "tags": []
          },
          "execution_count": 108
        }
      ]
    },
    {
      "cell_type": "code",
      "metadata": {
        "colab": {
          "base_uri": "https://localhost:8080/"
        },
        "id": "1bUWvvawdKfE",
        "outputId": "d820d69b-fa6b-4185-9c9e-f528dbccda86"
      },
      "source": [
        "cat_feature_mask_ts = test.dtypes == object # boolean test (mask) of whether the col is of \"object type\" or not\n",
        "cat_feature_mask_ts"
      ],
      "execution_count": 109,
      "outputs": [
        {
          "output_type": "execute_result",
          "data": {
            "text/plain": [
              "Physician_ID           False\n",
              "State                   True\n",
              "Primary_Specialty       True\n",
              "total_payments         False\n",
              "number_of_payments     False\n",
              "top_nature              True\n",
              "total_of_top_nature    False\n",
              "range_count            False\n",
              "range_total            False\n",
              "top_company            False\n",
              "pay_count              False\n",
              "std                    False\n",
              "top_rpi                 True\n",
              "rpi_count              False\n",
              "cash                   False\n",
              "services               False\n",
              "stock                  False\n",
              "stock_opt              False\n",
              "any_ownership          False\n",
              "dividend               False\n",
              "stock_or_other         False\n",
              "top_fop                 True\n",
              "fop_count              False\n",
              "dtype: bool"
            ]
          },
          "metadata": {
            "tags": []
          },
          "execution_count": 109
        }
      ]
    },
    {
      "cell_type": "code",
      "metadata": {
        "colab": {
          "base_uri": "https://localhost:8080/"
        },
        "id": "swQCcVHscaKz",
        "outputId": "5031dbc7-e1cc-444e-893b-ee8374efac24"
      },
      "source": [
        "# filter categorical columns using the mask and turn it into a list\n",
        "cat_list_ts = test.columns[cat_feature_mask_ts].to_list()\n",
        "\n",
        "cat_list_ts"
      ],
      "execution_count": 110,
      "outputs": [
        {
          "output_type": "execute_result",
          "data": {
            "text/plain": [
              "['State', 'Primary_Specialty', 'top_nature', 'top_rpi', 'top_fop']"
            ]
          },
          "metadata": {
            "tags": []
          },
          "execution_count": 110
        }
      ]
    },
    {
      "cell_type": "code",
      "metadata": {
        "id": "XuEbQwc8ch3B"
      },
      "source": [
        "cat_list_ts.remove(\"State\")\n"
      ],
      "execution_count": 111,
      "outputs": []
    },
    {
      "cell_type": "code",
      "metadata": {
        "colab": {
          "base_uri": "https://localhost:8080/",
          "height": 424
        },
        "id": "BgTLHEveeGm0",
        "outputId": "2ced139d-1574-43fa-ba25-3fddb206771f"
      },
      "source": [
        "test[cat_list_ts]"
      ],
      "execution_count": 112,
      "outputs": [
        {
          "output_type": "execute_result",
          "data": {
            "text/html": [
              "<div>\n",
              "<style scoped>\n",
              "    .dataframe tbody tr th:only-of-type {\n",
              "        vertical-align: middle;\n",
              "    }\n",
              "\n",
              "    .dataframe tbody tr th {\n",
              "        vertical-align: top;\n",
              "    }\n",
              "\n",
              "    .dataframe thead th {\n",
              "        text-align: right;\n",
              "    }\n",
              "</style>\n",
              "<table border=\"1\" class=\"dataframe\">\n",
              "  <thead>\n",
              "    <tr style=\"text-align: right;\">\n",
              "      <th></th>\n",
              "      <th>Primary_Specialty</th>\n",
              "      <th>top_nature</th>\n",
              "      <th>top_rpi</th>\n",
              "      <th>top_fop</th>\n",
              "    </tr>\n",
              "  </thead>\n",
              "  <tbody>\n",
              "    <tr>\n",
              "      <th>0</th>\n",
              "      <td>Pain Medicine</td>\n",
              "      <td>Food and Beverage</td>\n",
              "      <td>Yes</td>\n",
              "      <td>In-kind items and services</td>\n",
              "    </tr>\n",
              "    <tr>\n",
              "      <th>1</th>\n",
              "      <td>Internal Medicine</td>\n",
              "      <td>Consulting Fee</td>\n",
              "      <td>Yes</td>\n",
              "      <td>In-kind items and services</td>\n",
              "    </tr>\n",
              "    <tr>\n",
              "      <th>2</th>\n",
              "      <td>Obstetrics &amp; Gynecology</td>\n",
              "      <td>Food and Beverage</td>\n",
              "      <td>Yes</td>\n",
              "      <td>In-kind items and services</td>\n",
              "    </tr>\n",
              "    <tr>\n",
              "      <th>3</th>\n",
              "      <td>NaN</td>\n",
              "      <td>Food and Beverage</td>\n",
              "      <td>Yes</td>\n",
              "      <td>In-kind items and services</td>\n",
              "    </tr>\n",
              "    <tr>\n",
              "      <th>4</th>\n",
              "      <td>Internal Medicine</td>\n",
              "      <td>Food and Beverage</td>\n",
              "      <td>Yes</td>\n",
              "      <td>In-kind items and services</td>\n",
              "    </tr>\n",
              "    <tr>\n",
              "      <th>...</th>\n",
              "      <td>...</td>\n",
              "      <td>...</td>\n",
              "      <td>...</td>\n",
              "      <td>...</td>\n",
              "    </tr>\n",
              "    <tr>\n",
              "      <th>995</th>\n",
              "      <td>Internal Medicine</td>\n",
              "      <td>Compensation for services other than consultin...</td>\n",
              "      <td>Covered</td>\n",
              "      <td>In-kind items and services</td>\n",
              "    </tr>\n",
              "    <tr>\n",
              "      <th>996</th>\n",
              "      <td>Urology</td>\n",
              "      <td>Food and Beverage</td>\n",
              "      <td>Yes</td>\n",
              "      <td>In-kind items and services</td>\n",
              "    </tr>\n",
              "    <tr>\n",
              "      <th>997</th>\n",
              "      <td>Family Medicine</td>\n",
              "      <td>Food and Beverage</td>\n",
              "      <td>Yes</td>\n",
              "      <td>In-kind items and services</td>\n",
              "    </tr>\n",
              "    <tr>\n",
              "      <th>998</th>\n",
              "      <td>Urology</td>\n",
              "      <td>Food and Beverage</td>\n",
              "      <td>Yes</td>\n",
              "      <td>In-kind items and services</td>\n",
              "    </tr>\n",
              "    <tr>\n",
              "      <th>999</th>\n",
              "      <td>Psychiatry &amp; Neurology</td>\n",
              "      <td>Food and Beverage</td>\n",
              "      <td>Covered</td>\n",
              "      <td>In-kind items and services</td>\n",
              "    </tr>\n",
              "  </tbody>\n",
              "</table>\n",
              "<p>1000 rows × 4 columns</p>\n",
              "</div>"
            ],
            "text/plain": [
              "           Primary_Specialty  ...                     top_fop\n",
              "0              Pain Medicine  ...  In-kind items and services\n",
              "1          Internal Medicine  ...  In-kind items and services\n",
              "2    Obstetrics & Gynecology  ...  In-kind items and services\n",
              "3                        NaN  ...  In-kind items and services\n",
              "4          Internal Medicine  ...  In-kind items and services\n",
              "..                       ...  ...                         ...\n",
              "995        Internal Medicine  ...  In-kind items and services\n",
              "996                  Urology  ...  In-kind items and services\n",
              "997          Family Medicine  ...  In-kind items and services\n",
              "998                  Urology  ...  In-kind items and services\n",
              "999   Psychiatry & Neurology  ...  In-kind items and services\n",
              "\n",
              "[1000 rows x 4 columns]"
            ]
          },
          "metadata": {
            "tags": []
          },
          "execution_count": 112
        }
      ]
    },
    {
      "cell_type": "code",
      "metadata": {
        "colab": {
          "base_uri": "https://localhost:8080/"
        },
        "id": "AIiHjAmue1eb",
        "outputId": "8b22c5cd-d9bf-4d62-aa62-b31d05b80be9"
      },
      "source": [
        "# detecting and counting missing values (NaNs)\n",
        "test.isnull().sum()"
      ],
      "execution_count": 113,
      "outputs": [
        {
          "output_type": "execute_result",
          "data": {
            "text/plain": [
              "Physician_ID            0\n",
              "State                   0\n",
              "Primary_Specialty      47\n",
              "total_payments          0\n",
              "number_of_payments      0\n",
              "top_nature              0\n",
              "total_of_top_nature     0\n",
              "range_count             0\n",
              "range_total             0\n",
              "top_company             0\n",
              "pay_count               0\n",
              "std                     1\n",
              "top_rpi                 0\n",
              "rpi_count               0\n",
              "cash                    0\n",
              "services                0\n",
              "stock                   0\n",
              "stock_opt               0\n",
              "any_ownership           0\n",
              "dividend                0\n",
              "stock_or_other          0\n",
              "top_fop                 0\n",
              "fop_count               0\n",
              "dtype: int64"
            ]
          },
          "metadata": {
            "tags": []
          },
          "execution_count": 113
        }
      ]
    },
    {
      "cell_type": "code",
      "metadata": {
        "colab": {
          "base_uri": "https://localhost:8080/"
        },
        "id": "rWtQsV4ze-Ds",
        "outputId": "f4880150-b70f-45bc-b351-897705fd7467"
      },
      "source": [
        "# mode class = Internal Medicine \n",
        "test[\"Primary_Specialty\"].value_counts()"
      ],
      "execution_count": 114,
      "outputs": [
        {
          "output_type": "execute_result",
          "data": {
            "text/plain": [
              "Internal Medicine                                     274\n",
              "Family Medicine                                        97\n",
              "Psychiatry & Neurology                                 67\n",
              "Pediatrics                                             59\n",
              "Obstetrics & Gynecology                                51\n",
              "Eye and Vision Services Providers                      46\n",
              "Dental Providers                                       44\n",
              "Orthopaedic Surgery                                    43\n",
              "Ophthalmology                                          36\n",
              "Surgery                                                36\n",
              "Urology                                                26\n",
              "Otolaryngology                                         21\n",
              "Anesthesiology                                         20\n",
              "Podiatric Medicine & Surgery Service Providers         20\n",
              "Dermatology                                            19\n",
              "Physical Medicine & Rehabilitation                     15\n",
              "Allergy & Immunology                                   15\n",
              "Radiology                                              13\n",
              "Neurological Surgery                                    7\n",
              "Plastic Surgery                                         7\n",
              "Thoracic Surgery (Cardiothoracic Vascular Surgery)      7\n",
              "Pain Medicine                                           6\n",
              "Colon & Rectal Surgery                                  5\n",
              "Emergency Medicine                                      5\n",
              "General Practice                                        5\n",
              "Hospitalist                                             3\n",
              "Preventive Medicine                                     3\n",
              "Pathology                                               2\n",
              "Phlebology                                              1\n",
              "Name: Primary_Specialty, dtype: int64"
            ]
          },
          "metadata": {
            "tags": []
          },
          "execution_count": 114
        }
      ]
    },
    {
      "cell_type": "code",
      "metadata": {
        "id": "VZnRvX_6fUTM"
      },
      "source": [
        "# imputation of  NaN values with the most frequent class\n",
        "test[\"Primary_Specialty\"] = test[\"Primary_Specialty\"].replace(np.nan, 'Internal Medicine', regex=True)"
      ],
      "execution_count": 115,
      "outputs": []
    },
    {
      "cell_type": "code",
      "metadata": {
        "colab": {
          "base_uri": "https://localhost:8080/"
        },
        "id": "oBG12jzipmJ_",
        "outputId": "4640ba6c-3c67-48ed-e082-1f7650f5d832"
      },
      "source": [
        "test[\"std\"].describe()"
      ],
      "execution_count": 116,
      "outputs": [
        {
          "output_type": "execute_result",
          "data": {
            "text/plain": [
              "count      999.000000\n",
              "mean       161.796306\n",
              "std        893.968352\n",
              "min          1.395519\n",
              "25%         13.473080\n",
              "50%         31.996903\n",
              "75%         85.282361\n",
              "max      20724.412988\n",
              "Name: std, dtype: float64"
            ]
          },
          "metadata": {
            "tags": []
          },
          "execution_count": 116
        }
      ]
    },
    {
      "cell_type": "code",
      "metadata": {
        "id": "nrNzNQUVpFrE"
      },
      "source": [
        "# imputation of  NaN values with the median value of the feature\n",
        "test[\"std\"] = test[\"std\"].replace(np.nan, test[\"std\"].median(), regex=True)"
      ],
      "execution_count": 117,
      "outputs": []
    },
    {
      "cell_type": "code",
      "metadata": {
        "colab": {
          "base_uri": "https://localhost:8080/"
        },
        "id": "odsMniq5fsI2",
        "outputId": "10c8f4ca-a3e4-47f4-9850-7ce91a0a4f2d"
      },
      "source": [
        "test.isnull().sum() # check"
      ],
      "execution_count": 118,
      "outputs": [
        {
          "output_type": "execute_result",
          "data": {
            "text/plain": [
              "Physician_ID           0\n",
              "State                  0\n",
              "Primary_Specialty      0\n",
              "total_payments         0\n",
              "number_of_payments     0\n",
              "top_nature             0\n",
              "total_of_top_nature    0\n",
              "range_count            0\n",
              "range_total            0\n",
              "top_company            0\n",
              "pay_count              0\n",
              "std                    0\n",
              "top_rpi                0\n",
              "rpi_count              0\n",
              "cash                   0\n",
              "services               0\n",
              "stock                  0\n",
              "stock_opt              0\n",
              "any_ownership          0\n",
              "dividend               0\n",
              "stock_or_other         0\n",
              "top_fop                0\n",
              "fop_count              0\n",
              "dtype: int64"
            ]
          },
          "metadata": {
            "tags": []
          },
          "execution_count": 118
        }
      ]
    },
    {
      "cell_type": "code",
      "metadata": {
        "colab": {
          "base_uri": "https://localhost:8080/"
        },
        "id": "USmWeNjtVPgl",
        "outputId": "a3c6a827-9fec-4683-b92a-1f7505007066"
      },
      "source": [
        "# transforming the categorical columns to numerical values using a ONE HOT ENCODER\n",
        "\n",
        "# The encoder has a method called fit_transform(). It takes a dataframe as an input, and will spit out the \n",
        "# transformed dataframe. Remember to specify the columns you need to transform (you have a list for this). \n",
        "\n",
        "\n",
        "# define one hot encoding\n",
        "onehot_encoder = OneHotEncoder(sparse=False)\n",
        "\n",
        "# one hot encoding primary specialty\n",
        "##ps_enc = onehot_encoder.fit_transform(train[\"Primary_Specialty\"])\n",
        "\n",
        "data = test[cat_list_ts]\n",
        "\n",
        "\n",
        "\n",
        "# transform data\n",
        "result_test_oh = pd.DataFrame(onehot_encoder.fit_transform(data))\n",
        "print(result_test_oh)\n"
      ],
      "execution_count": 119,
      "outputs": [
        {
          "output_type": "stream",
          "text": [
            "      0    1    2    3    4    5    6   ...   39   40   41   42   43   44   45\n",
            "0    0.0  0.0  0.0  0.0  0.0  0.0  0.0  ...  0.0  0.0  0.0  0.0  1.0  0.0  1.0\n",
            "1    0.0  0.0  0.0  0.0  0.0  0.0  0.0  ...  0.0  0.0  0.0  0.0  1.0  0.0  1.0\n",
            "2    0.0  0.0  0.0  0.0  0.0  0.0  0.0  ...  0.0  0.0  0.0  0.0  1.0  0.0  1.0\n",
            "3    0.0  0.0  0.0  0.0  0.0  0.0  0.0  ...  0.0  0.0  0.0  0.0  1.0  0.0  1.0\n",
            "4    0.0  0.0  0.0  0.0  0.0  0.0  0.0  ...  0.0  0.0  0.0  0.0  1.0  0.0  1.0\n",
            "..   ...  ...  ...  ...  ...  ...  ...  ...  ...  ...  ...  ...  ...  ...  ...\n",
            "995  0.0  0.0  0.0  0.0  0.0  0.0  0.0  ...  1.0  0.0  0.0  0.0  0.0  0.0  1.0\n",
            "996  0.0  0.0  0.0  0.0  0.0  0.0  0.0  ...  0.0  0.0  0.0  0.0  1.0  0.0  1.0\n",
            "997  0.0  0.0  0.0  0.0  0.0  0.0  0.0  ...  0.0  0.0  0.0  0.0  1.0  0.0  1.0\n",
            "998  0.0  0.0  0.0  0.0  0.0  0.0  0.0  ...  0.0  0.0  0.0  0.0  1.0  0.0  1.0\n",
            "999  0.0  0.0  0.0  0.0  0.0  0.0  0.0  ...  1.0  0.0  0.0  0.0  0.0  0.0  1.0\n",
            "\n",
            "[1000 rows x 46 columns]\n"
          ],
          "name": "stdout"
        }
      ]
    },
    {
      "cell_type": "code",
      "metadata": {
        "colab": {
          "base_uri": "https://localhost:8080/"
        },
        "id": "3HhQrqrvkjb-",
        "outputId": "cae107c9-e897-484d-cf7e-c14716089617"
      },
      "source": [
        "# colnames of encoded features\n",
        "onehot_encoder.get_feature_names()"
      ],
      "execution_count": 120,
      "outputs": [
        {
          "output_type": "execute_result",
          "data": {
            "text/plain": [
              "array(['x0_Allergy & Immunology', 'x0_Anesthesiology',\n",
              "       'x0_Colon & Rectal Surgery', 'x0_Dental Providers',\n",
              "       'x0_Dermatology', 'x0_Emergency Medicine',\n",
              "       'x0_Eye and Vision Services Providers', 'x0_Family Medicine',\n",
              "       'x0_General Practice', 'x0_Hospitalist', 'x0_Internal Medicine',\n",
              "       'x0_Neurological Surgery', 'x0_Obstetrics & Gynecology',\n",
              "       'x0_Ophthalmology', 'x0_Orthopaedic Surgery', 'x0_Otolaryngology',\n",
              "       'x0_Pain Medicine', 'x0_Pathology', 'x0_Pediatrics',\n",
              "       'x0_Phlebology', 'x0_Physical Medicine & Rehabilitation',\n",
              "       'x0_Plastic Surgery',\n",
              "       'x0_Podiatric Medicine & Surgery Service Providers',\n",
              "       'x0_Preventive Medicine', 'x0_Psychiatry & Neurology',\n",
              "       'x0_Radiology', 'x0_Surgery',\n",
              "       'x0_Thoracic Surgery (Cardiothoracic Vascular Surgery)',\n",
              "       'x0_Urology',\n",
              "       'x1_Compensation for services other than consulting, including serving as faculty or as a speaker at a venue other than a continuing education program',\n",
              "       'x1_Compensation for serving as faculty or as a speaker for a non-accredited and noncertified continuing education program',\n",
              "       'x1_Consulting Fee', 'x1_Education', 'x1_Food and Beverage',\n",
              "       'x1_Gift', 'x1_Grant', 'x1_Honoraria', 'x1_Royalty or License',\n",
              "       'x1_Travel and Lodging', 'x2_Covered', 'x2_No', 'x2_Non-Covered',\n",
              "       'x2_None', 'x2_Yes', 'x3_Cash or cash equivalent',\n",
              "       'x3_In-kind items and services'], dtype=object)"
            ]
          },
          "metadata": {
            "tags": []
          },
          "execution_count": 120
        }
      ]
    },
    {
      "cell_type": "code",
      "metadata": {
        "colab": {
          "base_uri": "https://localhost:8080/",
          "height": 652
        },
        "id": "9vwNI1Wck3iJ",
        "outputId": "ddd01cbb-91c0-4053-eb2c-13c85910b5d1"
      },
      "source": [
        "# renaming the encoded columns \n",
        "result_test_oh.columns = onehot_encoder.get_feature_names() \n",
        "\n",
        "result_test_oh"
      ],
      "execution_count": 121,
      "outputs": [
        {
          "output_type": "execute_result",
          "data": {
            "text/html": [
              "<div>\n",
              "<style scoped>\n",
              "    .dataframe tbody tr th:only-of-type {\n",
              "        vertical-align: middle;\n",
              "    }\n",
              "\n",
              "    .dataframe tbody tr th {\n",
              "        vertical-align: top;\n",
              "    }\n",
              "\n",
              "    .dataframe thead th {\n",
              "        text-align: right;\n",
              "    }\n",
              "</style>\n",
              "<table border=\"1\" class=\"dataframe\">\n",
              "  <thead>\n",
              "    <tr style=\"text-align: right;\">\n",
              "      <th></th>\n",
              "      <th>x0_Allergy &amp; Immunology</th>\n",
              "      <th>x0_Anesthesiology</th>\n",
              "      <th>x0_Colon &amp; Rectal Surgery</th>\n",
              "      <th>x0_Dental Providers</th>\n",
              "      <th>x0_Dermatology</th>\n",
              "      <th>x0_Emergency Medicine</th>\n",
              "      <th>x0_Eye and Vision Services Providers</th>\n",
              "      <th>x0_Family Medicine</th>\n",
              "      <th>x0_General Practice</th>\n",
              "      <th>x0_Hospitalist</th>\n",
              "      <th>x0_Internal Medicine</th>\n",
              "      <th>x0_Neurological Surgery</th>\n",
              "      <th>x0_Obstetrics &amp; Gynecology</th>\n",
              "      <th>x0_Ophthalmology</th>\n",
              "      <th>x0_Orthopaedic Surgery</th>\n",
              "      <th>x0_Otolaryngology</th>\n",
              "      <th>x0_Pain Medicine</th>\n",
              "      <th>x0_Pathology</th>\n",
              "      <th>x0_Pediatrics</th>\n",
              "      <th>x0_Phlebology</th>\n",
              "      <th>x0_Physical Medicine &amp; Rehabilitation</th>\n",
              "      <th>x0_Plastic Surgery</th>\n",
              "      <th>x0_Podiatric Medicine &amp; Surgery Service Providers</th>\n",
              "      <th>x0_Preventive Medicine</th>\n",
              "      <th>x0_Psychiatry &amp; Neurology</th>\n",
              "      <th>x0_Radiology</th>\n",
              "      <th>x0_Surgery</th>\n",
              "      <th>x0_Thoracic Surgery (Cardiothoracic Vascular Surgery)</th>\n",
              "      <th>x0_Urology</th>\n",
              "      <th>x1_Compensation for services other than consulting, including serving as faculty or as a speaker at a venue other than a continuing education program</th>\n",
              "      <th>x1_Compensation for serving as faculty or as a speaker for a non-accredited and noncertified continuing education program</th>\n",
              "      <th>x1_Consulting Fee</th>\n",
              "      <th>x1_Education</th>\n",
              "      <th>x1_Food and Beverage</th>\n",
              "      <th>x1_Gift</th>\n",
              "      <th>x1_Grant</th>\n",
              "      <th>x1_Honoraria</th>\n",
              "      <th>x1_Royalty or License</th>\n",
              "      <th>x1_Travel and Lodging</th>\n",
              "      <th>x2_Covered</th>\n",
              "      <th>x2_No</th>\n",
              "      <th>x2_Non-Covered</th>\n",
              "      <th>x2_None</th>\n",
              "      <th>x2_Yes</th>\n",
              "      <th>x3_Cash or cash equivalent</th>\n",
              "      <th>x3_In-kind items and services</th>\n",
              "    </tr>\n",
              "  </thead>\n",
              "  <tbody>\n",
              "    <tr>\n",
              "      <th>0</th>\n",
              "      <td>0.0</td>\n",
              "      <td>0.0</td>\n",
              "      <td>0.0</td>\n",
              "      <td>0.0</td>\n",
              "      <td>0.0</td>\n",
              "      <td>0.0</td>\n",
              "      <td>0.0</td>\n",
              "      <td>0.0</td>\n",
              "      <td>0.0</td>\n",
              "      <td>0.0</td>\n",
              "      <td>0.0</td>\n",
              "      <td>0.0</td>\n",
              "      <td>0.0</td>\n",
              "      <td>0.0</td>\n",
              "      <td>0.0</td>\n",
              "      <td>0.0</td>\n",
              "      <td>1.0</td>\n",
              "      <td>0.0</td>\n",
              "      <td>0.0</td>\n",
              "      <td>0.0</td>\n",
              "      <td>0.0</td>\n",
              "      <td>0.0</td>\n",
              "      <td>0.0</td>\n",
              "      <td>0.0</td>\n",
              "      <td>0.0</td>\n",
              "      <td>0.0</td>\n",
              "      <td>0.0</td>\n",
              "      <td>0.0</td>\n",
              "      <td>0.0</td>\n",
              "      <td>0.0</td>\n",
              "      <td>0.0</td>\n",
              "      <td>0.0</td>\n",
              "      <td>0.0</td>\n",
              "      <td>1.0</td>\n",
              "      <td>0.0</td>\n",
              "      <td>0.0</td>\n",
              "      <td>0.0</td>\n",
              "      <td>0.0</td>\n",
              "      <td>0.0</td>\n",
              "      <td>0.0</td>\n",
              "      <td>0.0</td>\n",
              "      <td>0.0</td>\n",
              "      <td>0.0</td>\n",
              "      <td>1.0</td>\n",
              "      <td>0.0</td>\n",
              "      <td>1.0</td>\n",
              "    </tr>\n",
              "    <tr>\n",
              "      <th>1</th>\n",
              "      <td>0.0</td>\n",
              "      <td>0.0</td>\n",
              "      <td>0.0</td>\n",
              "      <td>0.0</td>\n",
              "      <td>0.0</td>\n",
              "      <td>0.0</td>\n",
              "      <td>0.0</td>\n",
              "      <td>0.0</td>\n",
              "      <td>0.0</td>\n",
              "      <td>0.0</td>\n",
              "      <td>1.0</td>\n",
              "      <td>0.0</td>\n",
              "      <td>0.0</td>\n",
              "      <td>0.0</td>\n",
              "      <td>0.0</td>\n",
              "      <td>0.0</td>\n",
              "      <td>0.0</td>\n",
              "      <td>0.0</td>\n",
              "      <td>0.0</td>\n",
              "      <td>0.0</td>\n",
              "      <td>0.0</td>\n",
              "      <td>0.0</td>\n",
              "      <td>0.0</td>\n",
              "      <td>0.0</td>\n",
              "      <td>0.0</td>\n",
              "      <td>0.0</td>\n",
              "      <td>0.0</td>\n",
              "      <td>0.0</td>\n",
              "      <td>0.0</td>\n",
              "      <td>0.0</td>\n",
              "      <td>0.0</td>\n",
              "      <td>1.0</td>\n",
              "      <td>0.0</td>\n",
              "      <td>0.0</td>\n",
              "      <td>0.0</td>\n",
              "      <td>0.0</td>\n",
              "      <td>0.0</td>\n",
              "      <td>0.0</td>\n",
              "      <td>0.0</td>\n",
              "      <td>0.0</td>\n",
              "      <td>0.0</td>\n",
              "      <td>0.0</td>\n",
              "      <td>0.0</td>\n",
              "      <td>1.0</td>\n",
              "      <td>0.0</td>\n",
              "      <td>1.0</td>\n",
              "    </tr>\n",
              "    <tr>\n",
              "      <th>2</th>\n",
              "      <td>0.0</td>\n",
              "      <td>0.0</td>\n",
              "      <td>0.0</td>\n",
              "      <td>0.0</td>\n",
              "      <td>0.0</td>\n",
              "      <td>0.0</td>\n",
              "      <td>0.0</td>\n",
              "      <td>0.0</td>\n",
              "      <td>0.0</td>\n",
              "      <td>0.0</td>\n",
              "      <td>0.0</td>\n",
              "      <td>0.0</td>\n",
              "      <td>1.0</td>\n",
              "      <td>0.0</td>\n",
              "      <td>0.0</td>\n",
              "      <td>0.0</td>\n",
              "      <td>0.0</td>\n",
              "      <td>0.0</td>\n",
              "      <td>0.0</td>\n",
              "      <td>0.0</td>\n",
              "      <td>0.0</td>\n",
              "      <td>0.0</td>\n",
              "      <td>0.0</td>\n",
              "      <td>0.0</td>\n",
              "      <td>0.0</td>\n",
              "      <td>0.0</td>\n",
              "      <td>0.0</td>\n",
              "      <td>0.0</td>\n",
              "      <td>0.0</td>\n",
              "      <td>0.0</td>\n",
              "      <td>0.0</td>\n",
              "      <td>0.0</td>\n",
              "      <td>0.0</td>\n",
              "      <td>1.0</td>\n",
              "      <td>0.0</td>\n",
              "      <td>0.0</td>\n",
              "      <td>0.0</td>\n",
              "      <td>0.0</td>\n",
              "      <td>0.0</td>\n",
              "      <td>0.0</td>\n",
              "      <td>0.0</td>\n",
              "      <td>0.0</td>\n",
              "      <td>0.0</td>\n",
              "      <td>1.0</td>\n",
              "      <td>0.0</td>\n",
              "      <td>1.0</td>\n",
              "    </tr>\n",
              "    <tr>\n",
              "      <th>3</th>\n",
              "      <td>0.0</td>\n",
              "      <td>0.0</td>\n",
              "      <td>0.0</td>\n",
              "      <td>0.0</td>\n",
              "      <td>0.0</td>\n",
              "      <td>0.0</td>\n",
              "      <td>0.0</td>\n",
              "      <td>0.0</td>\n",
              "      <td>0.0</td>\n",
              "      <td>0.0</td>\n",
              "      <td>1.0</td>\n",
              "      <td>0.0</td>\n",
              "      <td>0.0</td>\n",
              "      <td>0.0</td>\n",
              "      <td>0.0</td>\n",
              "      <td>0.0</td>\n",
              "      <td>0.0</td>\n",
              "      <td>0.0</td>\n",
              "      <td>0.0</td>\n",
              "      <td>0.0</td>\n",
              "      <td>0.0</td>\n",
              "      <td>0.0</td>\n",
              "      <td>0.0</td>\n",
              "      <td>0.0</td>\n",
              "      <td>0.0</td>\n",
              "      <td>0.0</td>\n",
              "      <td>0.0</td>\n",
              "      <td>0.0</td>\n",
              "      <td>0.0</td>\n",
              "      <td>0.0</td>\n",
              "      <td>0.0</td>\n",
              "      <td>0.0</td>\n",
              "      <td>0.0</td>\n",
              "      <td>1.0</td>\n",
              "      <td>0.0</td>\n",
              "      <td>0.0</td>\n",
              "      <td>0.0</td>\n",
              "      <td>0.0</td>\n",
              "      <td>0.0</td>\n",
              "      <td>0.0</td>\n",
              "      <td>0.0</td>\n",
              "      <td>0.0</td>\n",
              "      <td>0.0</td>\n",
              "      <td>1.0</td>\n",
              "      <td>0.0</td>\n",
              "      <td>1.0</td>\n",
              "    </tr>\n",
              "    <tr>\n",
              "      <th>4</th>\n",
              "      <td>0.0</td>\n",
              "      <td>0.0</td>\n",
              "      <td>0.0</td>\n",
              "      <td>0.0</td>\n",
              "      <td>0.0</td>\n",
              "      <td>0.0</td>\n",
              "      <td>0.0</td>\n",
              "      <td>0.0</td>\n",
              "      <td>0.0</td>\n",
              "      <td>0.0</td>\n",
              "      <td>1.0</td>\n",
              "      <td>0.0</td>\n",
              "      <td>0.0</td>\n",
              "      <td>0.0</td>\n",
              "      <td>0.0</td>\n",
              "      <td>0.0</td>\n",
              "      <td>0.0</td>\n",
              "      <td>0.0</td>\n",
              "      <td>0.0</td>\n",
              "      <td>0.0</td>\n",
              "      <td>0.0</td>\n",
              "      <td>0.0</td>\n",
              "      <td>0.0</td>\n",
              "      <td>0.0</td>\n",
              "      <td>0.0</td>\n",
              "      <td>0.0</td>\n",
              "      <td>0.0</td>\n",
              "      <td>0.0</td>\n",
              "      <td>0.0</td>\n",
              "      <td>0.0</td>\n",
              "      <td>0.0</td>\n",
              "      <td>0.0</td>\n",
              "      <td>0.0</td>\n",
              "      <td>1.0</td>\n",
              "      <td>0.0</td>\n",
              "      <td>0.0</td>\n",
              "      <td>0.0</td>\n",
              "      <td>0.0</td>\n",
              "      <td>0.0</td>\n",
              "      <td>0.0</td>\n",
              "      <td>0.0</td>\n",
              "      <td>0.0</td>\n",
              "      <td>0.0</td>\n",
              "      <td>1.0</td>\n",
              "      <td>0.0</td>\n",
              "      <td>1.0</td>\n",
              "    </tr>\n",
              "    <tr>\n",
              "      <th>...</th>\n",
              "      <td>...</td>\n",
              "      <td>...</td>\n",
              "      <td>...</td>\n",
              "      <td>...</td>\n",
              "      <td>...</td>\n",
              "      <td>...</td>\n",
              "      <td>...</td>\n",
              "      <td>...</td>\n",
              "      <td>...</td>\n",
              "      <td>...</td>\n",
              "      <td>...</td>\n",
              "      <td>...</td>\n",
              "      <td>...</td>\n",
              "      <td>...</td>\n",
              "      <td>...</td>\n",
              "      <td>...</td>\n",
              "      <td>...</td>\n",
              "      <td>...</td>\n",
              "      <td>...</td>\n",
              "      <td>...</td>\n",
              "      <td>...</td>\n",
              "      <td>...</td>\n",
              "      <td>...</td>\n",
              "      <td>...</td>\n",
              "      <td>...</td>\n",
              "      <td>...</td>\n",
              "      <td>...</td>\n",
              "      <td>...</td>\n",
              "      <td>...</td>\n",
              "      <td>...</td>\n",
              "      <td>...</td>\n",
              "      <td>...</td>\n",
              "      <td>...</td>\n",
              "      <td>...</td>\n",
              "      <td>...</td>\n",
              "      <td>...</td>\n",
              "      <td>...</td>\n",
              "      <td>...</td>\n",
              "      <td>...</td>\n",
              "      <td>...</td>\n",
              "      <td>...</td>\n",
              "      <td>...</td>\n",
              "      <td>...</td>\n",
              "      <td>...</td>\n",
              "      <td>...</td>\n",
              "      <td>...</td>\n",
              "    </tr>\n",
              "    <tr>\n",
              "      <th>995</th>\n",
              "      <td>0.0</td>\n",
              "      <td>0.0</td>\n",
              "      <td>0.0</td>\n",
              "      <td>0.0</td>\n",
              "      <td>0.0</td>\n",
              "      <td>0.0</td>\n",
              "      <td>0.0</td>\n",
              "      <td>0.0</td>\n",
              "      <td>0.0</td>\n",
              "      <td>0.0</td>\n",
              "      <td>1.0</td>\n",
              "      <td>0.0</td>\n",
              "      <td>0.0</td>\n",
              "      <td>0.0</td>\n",
              "      <td>0.0</td>\n",
              "      <td>0.0</td>\n",
              "      <td>0.0</td>\n",
              "      <td>0.0</td>\n",
              "      <td>0.0</td>\n",
              "      <td>0.0</td>\n",
              "      <td>0.0</td>\n",
              "      <td>0.0</td>\n",
              "      <td>0.0</td>\n",
              "      <td>0.0</td>\n",
              "      <td>0.0</td>\n",
              "      <td>0.0</td>\n",
              "      <td>0.0</td>\n",
              "      <td>0.0</td>\n",
              "      <td>0.0</td>\n",
              "      <td>1.0</td>\n",
              "      <td>0.0</td>\n",
              "      <td>0.0</td>\n",
              "      <td>0.0</td>\n",
              "      <td>0.0</td>\n",
              "      <td>0.0</td>\n",
              "      <td>0.0</td>\n",
              "      <td>0.0</td>\n",
              "      <td>0.0</td>\n",
              "      <td>0.0</td>\n",
              "      <td>1.0</td>\n",
              "      <td>0.0</td>\n",
              "      <td>0.0</td>\n",
              "      <td>0.0</td>\n",
              "      <td>0.0</td>\n",
              "      <td>0.0</td>\n",
              "      <td>1.0</td>\n",
              "    </tr>\n",
              "    <tr>\n",
              "      <th>996</th>\n",
              "      <td>0.0</td>\n",
              "      <td>0.0</td>\n",
              "      <td>0.0</td>\n",
              "      <td>0.0</td>\n",
              "      <td>0.0</td>\n",
              "      <td>0.0</td>\n",
              "      <td>0.0</td>\n",
              "      <td>0.0</td>\n",
              "      <td>0.0</td>\n",
              "      <td>0.0</td>\n",
              "      <td>0.0</td>\n",
              "      <td>0.0</td>\n",
              "      <td>0.0</td>\n",
              "      <td>0.0</td>\n",
              "      <td>0.0</td>\n",
              "      <td>0.0</td>\n",
              "      <td>0.0</td>\n",
              "      <td>0.0</td>\n",
              "      <td>0.0</td>\n",
              "      <td>0.0</td>\n",
              "      <td>0.0</td>\n",
              "      <td>0.0</td>\n",
              "      <td>0.0</td>\n",
              "      <td>0.0</td>\n",
              "      <td>0.0</td>\n",
              "      <td>0.0</td>\n",
              "      <td>0.0</td>\n",
              "      <td>0.0</td>\n",
              "      <td>1.0</td>\n",
              "      <td>0.0</td>\n",
              "      <td>0.0</td>\n",
              "      <td>0.0</td>\n",
              "      <td>0.0</td>\n",
              "      <td>1.0</td>\n",
              "      <td>0.0</td>\n",
              "      <td>0.0</td>\n",
              "      <td>0.0</td>\n",
              "      <td>0.0</td>\n",
              "      <td>0.0</td>\n",
              "      <td>0.0</td>\n",
              "      <td>0.0</td>\n",
              "      <td>0.0</td>\n",
              "      <td>0.0</td>\n",
              "      <td>1.0</td>\n",
              "      <td>0.0</td>\n",
              "      <td>1.0</td>\n",
              "    </tr>\n",
              "    <tr>\n",
              "      <th>997</th>\n",
              "      <td>0.0</td>\n",
              "      <td>0.0</td>\n",
              "      <td>0.0</td>\n",
              "      <td>0.0</td>\n",
              "      <td>0.0</td>\n",
              "      <td>0.0</td>\n",
              "      <td>0.0</td>\n",
              "      <td>1.0</td>\n",
              "      <td>0.0</td>\n",
              "      <td>0.0</td>\n",
              "      <td>0.0</td>\n",
              "      <td>0.0</td>\n",
              "      <td>0.0</td>\n",
              "      <td>0.0</td>\n",
              "      <td>0.0</td>\n",
              "      <td>0.0</td>\n",
              "      <td>0.0</td>\n",
              "      <td>0.0</td>\n",
              "      <td>0.0</td>\n",
              "      <td>0.0</td>\n",
              "      <td>0.0</td>\n",
              "      <td>0.0</td>\n",
              "      <td>0.0</td>\n",
              "      <td>0.0</td>\n",
              "      <td>0.0</td>\n",
              "      <td>0.0</td>\n",
              "      <td>0.0</td>\n",
              "      <td>0.0</td>\n",
              "      <td>0.0</td>\n",
              "      <td>0.0</td>\n",
              "      <td>0.0</td>\n",
              "      <td>0.0</td>\n",
              "      <td>0.0</td>\n",
              "      <td>1.0</td>\n",
              "      <td>0.0</td>\n",
              "      <td>0.0</td>\n",
              "      <td>0.0</td>\n",
              "      <td>0.0</td>\n",
              "      <td>0.0</td>\n",
              "      <td>0.0</td>\n",
              "      <td>0.0</td>\n",
              "      <td>0.0</td>\n",
              "      <td>0.0</td>\n",
              "      <td>1.0</td>\n",
              "      <td>0.0</td>\n",
              "      <td>1.0</td>\n",
              "    </tr>\n",
              "    <tr>\n",
              "      <th>998</th>\n",
              "      <td>0.0</td>\n",
              "      <td>0.0</td>\n",
              "      <td>0.0</td>\n",
              "      <td>0.0</td>\n",
              "      <td>0.0</td>\n",
              "      <td>0.0</td>\n",
              "      <td>0.0</td>\n",
              "      <td>0.0</td>\n",
              "      <td>0.0</td>\n",
              "      <td>0.0</td>\n",
              "      <td>0.0</td>\n",
              "      <td>0.0</td>\n",
              "      <td>0.0</td>\n",
              "      <td>0.0</td>\n",
              "      <td>0.0</td>\n",
              "      <td>0.0</td>\n",
              "      <td>0.0</td>\n",
              "      <td>0.0</td>\n",
              "      <td>0.0</td>\n",
              "      <td>0.0</td>\n",
              "      <td>0.0</td>\n",
              "      <td>0.0</td>\n",
              "      <td>0.0</td>\n",
              "      <td>0.0</td>\n",
              "      <td>0.0</td>\n",
              "      <td>0.0</td>\n",
              "      <td>0.0</td>\n",
              "      <td>0.0</td>\n",
              "      <td>1.0</td>\n",
              "      <td>0.0</td>\n",
              "      <td>0.0</td>\n",
              "      <td>0.0</td>\n",
              "      <td>0.0</td>\n",
              "      <td>1.0</td>\n",
              "      <td>0.0</td>\n",
              "      <td>0.0</td>\n",
              "      <td>0.0</td>\n",
              "      <td>0.0</td>\n",
              "      <td>0.0</td>\n",
              "      <td>0.0</td>\n",
              "      <td>0.0</td>\n",
              "      <td>0.0</td>\n",
              "      <td>0.0</td>\n",
              "      <td>1.0</td>\n",
              "      <td>0.0</td>\n",
              "      <td>1.0</td>\n",
              "    </tr>\n",
              "    <tr>\n",
              "      <th>999</th>\n",
              "      <td>0.0</td>\n",
              "      <td>0.0</td>\n",
              "      <td>0.0</td>\n",
              "      <td>0.0</td>\n",
              "      <td>0.0</td>\n",
              "      <td>0.0</td>\n",
              "      <td>0.0</td>\n",
              "      <td>0.0</td>\n",
              "      <td>0.0</td>\n",
              "      <td>0.0</td>\n",
              "      <td>0.0</td>\n",
              "      <td>0.0</td>\n",
              "      <td>0.0</td>\n",
              "      <td>0.0</td>\n",
              "      <td>0.0</td>\n",
              "      <td>0.0</td>\n",
              "      <td>0.0</td>\n",
              "      <td>0.0</td>\n",
              "      <td>0.0</td>\n",
              "      <td>0.0</td>\n",
              "      <td>0.0</td>\n",
              "      <td>0.0</td>\n",
              "      <td>0.0</td>\n",
              "      <td>0.0</td>\n",
              "      <td>1.0</td>\n",
              "      <td>0.0</td>\n",
              "      <td>0.0</td>\n",
              "      <td>0.0</td>\n",
              "      <td>0.0</td>\n",
              "      <td>0.0</td>\n",
              "      <td>0.0</td>\n",
              "      <td>0.0</td>\n",
              "      <td>0.0</td>\n",
              "      <td>1.0</td>\n",
              "      <td>0.0</td>\n",
              "      <td>0.0</td>\n",
              "      <td>0.0</td>\n",
              "      <td>0.0</td>\n",
              "      <td>0.0</td>\n",
              "      <td>1.0</td>\n",
              "      <td>0.0</td>\n",
              "      <td>0.0</td>\n",
              "      <td>0.0</td>\n",
              "      <td>0.0</td>\n",
              "      <td>0.0</td>\n",
              "      <td>1.0</td>\n",
              "    </tr>\n",
              "  </tbody>\n",
              "</table>\n",
              "<p>1000 rows × 46 columns</p>\n",
              "</div>"
            ],
            "text/plain": [
              "     x0_Allergy & Immunology  ...  x3_In-kind items and services\n",
              "0                        0.0  ...                            1.0\n",
              "1                        0.0  ...                            1.0\n",
              "2                        0.0  ...                            1.0\n",
              "3                        0.0  ...                            1.0\n",
              "4                        0.0  ...                            1.0\n",
              "..                       ...  ...                            ...\n",
              "995                      0.0  ...                            1.0\n",
              "996                      0.0  ...                            1.0\n",
              "997                      0.0  ...                            1.0\n",
              "998                      0.0  ...                            1.0\n",
              "999                      0.0  ...                            1.0\n",
              "\n",
              "[1000 rows x 46 columns]"
            ]
          },
          "metadata": {
            "tags": []
          },
          "execution_count": 121
        }
      ]
    },
    {
      "cell_type": "code",
      "metadata": {
        "colab": {
          "base_uri": "https://localhost:8080/",
          "height": 1000
        },
        "id": "F1iUu8XqgDXg",
        "outputId": "3a8a1754-ff38-41ef-a9b4-3661220278b1"
      },
      "source": [
        "# merging the two dfs\n",
        "test_final = pd.concat([test.reset_index(drop=True), result_test_oh], axis=1,)\n",
        "\n",
        "test_final"
      ],
      "execution_count": 122,
      "outputs": [
        {
          "output_type": "execute_result",
          "data": {
            "text/html": [
              "<div>\n",
              "<style scoped>\n",
              "    .dataframe tbody tr th:only-of-type {\n",
              "        vertical-align: middle;\n",
              "    }\n",
              "\n",
              "    .dataframe tbody tr th {\n",
              "        vertical-align: top;\n",
              "    }\n",
              "\n",
              "    .dataframe thead th {\n",
              "        text-align: right;\n",
              "    }\n",
              "</style>\n",
              "<table border=\"1\" class=\"dataframe\">\n",
              "  <thead>\n",
              "    <tr style=\"text-align: right;\">\n",
              "      <th></th>\n",
              "      <th>Physician_ID</th>\n",
              "      <th>State</th>\n",
              "      <th>Primary_Specialty</th>\n",
              "      <th>total_payments</th>\n",
              "      <th>number_of_payments</th>\n",
              "      <th>top_nature</th>\n",
              "      <th>total_of_top_nature</th>\n",
              "      <th>range_count</th>\n",
              "      <th>range_total</th>\n",
              "      <th>top_company</th>\n",
              "      <th>pay_count</th>\n",
              "      <th>std</th>\n",
              "      <th>top_rpi</th>\n",
              "      <th>rpi_count</th>\n",
              "      <th>cash</th>\n",
              "      <th>services</th>\n",
              "      <th>stock</th>\n",
              "      <th>stock_opt</th>\n",
              "      <th>any_ownership</th>\n",
              "      <th>dividend</th>\n",
              "      <th>stock_or_other</th>\n",
              "      <th>top_fop</th>\n",
              "      <th>fop_count</th>\n",
              "      <th>x0_Allergy &amp; Immunology</th>\n",
              "      <th>x0_Anesthesiology</th>\n",
              "      <th>x0_Colon &amp; Rectal Surgery</th>\n",
              "      <th>x0_Dental Providers</th>\n",
              "      <th>x0_Dermatology</th>\n",
              "      <th>x0_Emergency Medicine</th>\n",
              "      <th>x0_Eye and Vision Services Providers</th>\n",
              "      <th>x0_Family Medicine</th>\n",
              "      <th>x0_General Practice</th>\n",
              "      <th>x0_Hospitalist</th>\n",
              "      <th>x0_Internal Medicine</th>\n",
              "      <th>x0_Neurological Surgery</th>\n",
              "      <th>x0_Obstetrics &amp; Gynecology</th>\n",
              "      <th>x0_Ophthalmology</th>\n",
              "      <th>x0_Orthopaedic Surgery</th>\n",
              "      <th>x0_Otolaryngology</th>\n",
              "      <th>x0_Pain Medicine</th>\n",
              "      <th>x0_Pathology</th>\n",
              "      <th>x0_Pediatrics</th>\n",
              "      <th>x0_Phlebology</th>\n",
              "      <th>x0_Physical Medicine &amp; Rehabilitation</th>\n",
              "      <th>x0_Plastic Surgery</th>\n",
              "      <th>x0_Podiatric Medicine &amp; Surgery Service Providers</th>\n",
              "      <th>x0_Preventive Medicine</th>\n",
              "      <th>x0_Psychiatry &amp; Neurology</th>\n",
              "      <th>x0_Radiology</th>\n",
              "      <th>x0_Surgery</th>\n",
              "      <th>x0_Thoracic Surgery (Cardiothoracic Vascular Surgery)</th>\n",
              "      <th>x0_Urology</th>\n",
              "      <th>x1_Compensation for services other than consulting, including serving as faculty or as a speaker at a venue other than a continuing education program</th>\n",
              "      <th>x1_Compensation for serving as faculty or as a speaker for a non-accredited and noncertified continuing education program</th>\n",
              "      <th>x1_Consulting Fee</th>\n",
              "      <th>x1_Education</th>\n",
              "      <th>x1_Food and Beverage</th>\n",
              "      <th>x1_Gift</th>\n",
              "      <th>x1_Grant</th>\n",
              "      <th>x1_Honoraria</th>\n",
              "      <th>x1_Royalty or License</th>\n",
              "      <th>x1_Travel and Lodging</th>\n",
              "      <th>x2_Covered</th>\n",
              "      <th>x2_No</th>\n",
              "      <th>x2_Non-Covered</th>\n",
              "      <th>x2_None</th>\n",
              "      <th>x2_Yes</th>\n",
              "      <th>x3_Cash or cash equivalent</th>\n",
              "      <th>x3_In-kind items and services</th>\n",
              "    </tr>\n",
              "  </thead>\n",
              "  <tbody>\n",
              "    <tr>\n",
              "      <th>0</th>\n",
              "      <td>14</td>\n",
              "      <td>FL</td>\n",
              "      <td>Pain Medicine</td>\n",
              "      <td>5775.53</td>\n",
              "      <td>539</td>\n",
              "      <td>Food and Beverage</td>\n",
              "      <td>5626.66</td>\n",
              "      <td>96</td>\n",
              "      <td>514.07</td>\n",
              "      <td>197</td>\n",
              "      <td>35</td>\n",
              "      <td>4.599791</td>\n",
              "      <td>Yes</td>\n",
              "      <td>360</td>\n",
              "      <td>56.0</td>\n",
              "      <td>483.0</td>\n",
              "      <td>0.0</td>\n",
              "      <td>0.0</td>\n",
              "      <td>0.0</td>\n",
              "      <td>0.0</td>\n",
              "      <td>0.0</td>\n",
              "      <td>In-kind items and services</td>\n",
              "      <td>483</td>\n",
              "      <td>0.0</td>\n",
              "      <td>0.0</td>\n",
              "      <td>0.0</td>\n",
              "      <td>0.0</td>\n",
              "      <td>0.0</td>\n",
              "      <td>0.0</td>\n",
              "      <td>0.0</td>\n",
              "      <td>0.0</td>\n",
              "      <td>0.0</td>\n",
              "      <td>0.0</td>\n",
              "      <td>0.0</td>\n",
              "      <td>0.0</td>\n",
              "      <td>0.0</td>\n",
              "      <td>0.0</td>\n",
              "      <td>0.0</td>\n",
              "      <td>0.0</td>\n",
              "      <td>1.0</td>\n",
              "      <td>0.0</td>\n",
              "      <td>0.0</td>\n",
              "      <td>0.0</td>\n",
              "      <td>0.0</td>\n",
              "      <td>0.0</td>\n",
              "      <td>0.0</td>\n",
              "      <td>0.0</td>\n",
              "      <td>0.0</td>\n",
              "      <td>0.0</td>\n",
              "      <td>0.0</td>\n",
              "      <td>0.0</td>\n",
              "      <td>0.0</td>\n",
              "      <td>0.0</td>\n",
              "      <td>0.0</td>\n",
              "      <td>0.0</td>\n",
              "      <td>0.0</td>\n",
              "      <td>1.0</td>\n",
              "      <td>0.0</td>\n",
              "      <td>0.0</td>\n",
              "      <td>0.0</td>\n",
              "      <td>0.0</td>\n",
              "      <td>0.0</td>\n",
              "      <td>0.0</td>\n",
              "      <td>0.0</td>\n",
              "      <td>0.0</td>\n",
              "      <td>0.0</td>\n",
              "      <td>1.0</td>\n",
              "      <td>0.0</td>\n",
              "      <td>1.0</td>\n",
              "    </tr>\n",
              "    <tr>\n",
              "      <th>1</th>\n",
              "      <td>18</td>\n",
              "      <td>NY</td>\n",
              "      <td>Internal Medicine</td>\n",
              "      <td>92123.24</td>\n",
              "      <td>584</td>\n",
              "      <td>Consulting Fee</td>\n",
              "      <td>39516.38</td>\n",
              "      <td>68</td>\n",
              "      <td>42697.24</td>\n",
              "      <td>2285</td>\n",
              "      <td>46</td>\n",
              "      <td>162.675507</td>\n",
              "      <td>Yes</td>\n",
              "      <td>417</td>\n",
              "      <td>100.0</td>\n",
              "      <td>484.0</td>\n",
              "      <td>0.0</td>\n",
              "      <td>0.0</td>\n",
              "      <td>0.0</td>\n",
              "      <td>0.0</td>\n",
              "      <td>0.0</td>\n",
              "      <td>In-kind items and services</td>\n",
              "      <td>484</td>\n",
              "      <td>0.0</td>\n",
              "      <td>0.0</td>\n",
              "      <td>0.0</td>\n",
              "      <td>0.0</td>\n",
              "      <td>0.0</td>\n",
              "      <td>0.0</td>\n",
              "      <td>0.0</td>\n",
              "      <td>0.0</td>\n",
              "      <td>0.0</td>\n",
              "      <td>0.0</td>\n",
              "      <td>1.0</td>\n",
              "      <td>0.0</td>\n",
              "      <td>0.0</td>\n",
              "      <td>0.0</td>\n",
              "      <td>0.0</td>\n",
              "      <td>0.0</td>\n",
              "      <td>0.0</td>\n",
              "      <td>0.0</td>\n",
              "      <td>0.0</td>\n",
              "      <td>0.0</td>\n",
              "      <td>0.0</td>\n",
              "      <td>0.0</td>\n",
              "      <td>0.0</td>\n",
              "      <td>0.0</td>\n",
              "      <td>0.0</td>\n",
              "      <td>0.0</td>\n",
              "      <td>0.0</td>\n",
              "      <td>0.0</td>\n",
              "      <td>0.0</td>\n",
              "      <td>0.0</td>\n",
              "      <td>0.0</td>\n",
              "      <td>1.0</td>\n",
              "      <td>0.0</td>\n",
              "      <td>0.0</td>\n",
              "      <td>0.0</td>\n",
              "      <td>0.0</td>\n",
              "      <td>0.0</td>\n",
              "      <td>0.0</td>\n",
              "      <td>0.0</td>\n",
              "      <td>0.0</td>\n",
              "      <td>0.0</td>\n",
              "      <td>0.0</td>\n",
              "      <td>0.0</td>\n",
              "      <td>1.0</td>\n",
              "      <td>0.0</td>\n",
              "      <td>1.0</td>\n",
              "    </tr>\n",
              "    <tr>\n",
              "      <th>2</th>\n",
              "      <td>42</td>\n",
              "      <td>NY</td>\n",
              "      <td>Obstetrics &amp; Gynecology</td>\n",
              "      <td>3159.49</td>\n",
              "      <td>180</td>\n",
              "      <td>Food and Beverage</td>\n",
              "      <td>3066.04</td>\n",
              "      <td>16</td>\n",
              "      <td>256.09</td>\n",
              "      <td>190</td>\n",
              "      <td>27</td>\n",
              "      <td>3.431789</td>\n",
              "      <td>Yes</td>\n",
              "      <td>108</td>\n",
              "      <td>8.0</td>\n",
              "      <td>172.0</td>\n",
              "      <td>0.0</td>\n",
              "      <td>0.0</td>\n",
              "      <td>0.0</td>\n",
              "      <td>0.0</td>\n",
              "      <td>0.0</td>\n",
              "      <td>In-kind items and services</td>\n",
              "      <td>172</td>\n",
              "      <td>0.0</td>\n",
              "      <td>0.0</td>\n",
              "      <td>0.0</td>\n",
              "      <td>0.0</td>\n",
              "      <td>0.0</td>\n",
              "      <td>0.0</td>\n",
              "      <td>0.0</td>\n",
              "      <td>0.0</td>\n",
              "      <td>0.0</td>\n",
              "      <td>0.0</td>\n",
              "      <td>0.0</td>\n",
              "      <td>0.0</td>\n",
              "      <td>1.0</td>\n",
              "      <td>0.0</td>\n",
              "      <td>0.0</td>\n",
              "      <td>0.0</td>\n",
              "      <td>0.0</td>\n",
              "      <td>0.0</td>\n",
              "      <td>0.0</td>\n",
              "      <td>0.0</td>\n",
              "      <td>0.0</td>\n",
              "      <td>0.0</td>\n",
              "      <td>0.0</td>\n",
              "      <td>0.0</td>\n",
              "      <td>0.0</td>\n",
              "      <td>0.0</td>\n",
              "      <td>0.0</td>\n",
              "      <td>0.0</td>\n",
              "      <td>0.0</td>\n",
              "      <td>0.0</td>\n",
              "      <td>0.0</td>\n",
              "      <td>0.0</td>\n",
              "      <td>0.0</td>\n",
              "      <td>1.0</td>\n",
              "      <td>0.0</td>\n",
              "      <td>0.0</td>\n",
              "      <td>0.0</td>\n",
              "      <td>0.0</td>\n",
              "      <td>0.0</td>\n",
              "      <td>0.0</td>\n",
              "      <td>0.0</td>\n",
              "      <td>0.0</td>\n",
              "      <td>0.0</td>\n",
              "      <td>1.0</td>\n",
              "      <td>0.0</td>\n",
              "      <td>1.0</td>\n",
              "    </tr>\n",
              "    <tr>\n",
              "      <th>3</th>\n",
              "      <td>46</td>\n",
              "      <td>MI</td>\n",
              "      <td>Internal Medicine</td>\n",
              "      <td>1614.34</td>\n",
              "      <td>64</td>\n",
              "      <td>Food and Beverage</td>\n",
              "      <td>1614.34</td>\n",
              "      <td>15</td>\n",
              "      <td>547.14</td>\n",
              "      <td>897</td>\n",
              "      <td>17</td>\n",
              "      <td>20.521972</td>\n",
              "      <td>Yes</td>\n",
              "      <td>49</td>\n",
              "      <td>2.0</td>\n",
              "      <td>62.0</td>\n",
              "      <td>0.0</td>\n",
              "      <td>0.0</td>\n",
              "      <td>0.0</td>\n",
              "      <td>0.0</td>\n",
              "      <td>0.0</td>\n",
              "      <td>In-kind items and services</td>\n",
              "      <td>62</td>\n",
              "      <td>0.0</td>\n",
              "      <td>0.0</td>\n",
              "      <td>0.0</td>\n",
              "      <td>0.0</td>\n",
              "      <td>0.0</td>\n",
              "      <td>0.0</td>\n",
              "      <td>0.0</td>\n",
              "      <td>0.0</td>\n",
              "      <td>0.0</td>\n",
              "      <td>0.0</td>\n",
              "      <td>1.0</td>\n",
              "      <td>0.0</td>\n",
              "      <td>0.0</td>\n",
              "      <td>0.0</td>\n",
              "      <td>0.0</td>\n",
              "      <td>0.0</td>\n",
              "      <td>0.0</td>\n",
              "      <td>0.0</td>\n",
              "      <td>0.0</td>\n",
              "      <td>0.0</td>\n",
              "      <td>0.0</td>\n",
              "      <td>0.0</td>\n",
              "      <td>0.0</td>\n",
              "      <td>0.0</td>\n",
              "      <td>0.0</td>\n",
              "      <td>0.0</td>\n",
              "      <td>0.0</td>\n",
              "      <td>0.0</td>\n",
              "      <td>0.0</td>\n",
              "      <td>0.0</td>\n",
              "      <td>0.0</td>\n",
              "      <td>0.0</td>\n",
              "      <td>0.0</td>\n",
              "      <td>1.0</td>\n",
              "      <td>0.0</td>\n",
              "      <td>0.0</td>\n",
              "      <td>0.0</td>\n",
              "      <td>0.0</td>\n",
              "      <td>0.0</td>\n",
              "      <td>0.0</td>\n",
              "      <td>0.0</td>\n",
              "      <td>0.0</td>\n",
              "      <td>0.0</td>\n",
              "      <td>1.0</td>\n",
              "      <td>0.0</td>\n",
              "      <td>1.0</td>\n",
              "    </tr>\n",
              "    <tr>\n",
              "      <th>4</th>\n",
              "      <td>47</td>\n",
              "      <td>MD</td>\n",
              "      <td>Internal Medicine</td>\n",
              "      <td>6494.00</td>\n",
              "      <td>296</td>\n",
              "      <td>Food and Beverage</td>\n",
              "      <td>6444.00</td>\n",
              "      <td>96</td>\n",
              "      <td>1557.50</td>\n",
              "      <td>123</td>\n",
              "      <td>31</td>\n",
              "      <td>13.168132</td>\n",
              "      <td>Yes</td>\n",
              "      <td>253</td>\n",
              "      <td>21.0</td>\n",
              "      <td>275.0</td>\n",
              "      <td>0.0</td>\n",
              "      <td>0.0</td>\n",
              "      <td>0.0</td>\n",
              "      <td>0.0</td>\n",
              "      <td>0.0</td>\n",
              "      <td>In-kind items and services</td>\n",
              "      <td>275</td>\n",
              "      <td>0.0</td>\n",
              "      <td>0.0</td>\n",
              "      <td>0.0</td>\n",
              "      <td>0.0</td>\n",
              "      <td>0.0</td>\n",
              "      <td>0.0</td>\n",
              "      <td>0.0</td>\n",
              "      <td>0.0</td>\n",
              "      <td>0.0</td>\n",
              "      <td>0.0</td>\n",
              "      <td>1.0</td>\n",
              "      <td>0.0</td>\n",
              "      <td>0.0</td>\n",
              "      <td>0.0</td>\n",
              "      <td>0.0</td>\n",
              "      <td>0.0</td>\n",
              "      <td>0.0</td>\n",
              "      <td>0.0</td>\n",
              "      <td>0.0</td>\n",
              "      <td>0.0</td>\n",
              "      <td>0.0</td>\n",
              "      <td>0.0</td>\n",
              "      <td>0.0</td>\n",
              "      <td>0.0</td>\n",
              "      <td>0.0</td>\n",
              "      <td>0.0</td>\n",
              "      <td>0.0</td>\n",
              "      <td>0.0</td>\n",
              "      <td>0.0</td>\n",
              "      <td>0.0</td>\n",
              "      <td>0.0</td>\n",
              "      <td>0.0</td>\n",
              "      <td>0.0</td>\n",
              "      <td>1.0</td>\n",
              "      <td>0.0</td>\n",
              "      <td>0.0</td>\n",
              "      <td>0.0</td>\n",
              "      <td>0.0</td>\n",
              "      <td>0.0</td>\n",
              "      <td>0.0</td>\n",
              "      <td>0.0</td>\n",
              "      <td>0.0</td>\n",
              "      <td>0.0</td>\n",
              "      <td>1.0</td>\n",
              "      <td>0.0</td>\n",
              "      <td>1.0</td>\n",
              "    </tr>\n",
              "    <tr>\n",
              "      <th>...</th>\n",
              "      <td>...</td>\n",
              "      <td>...</td>\n",
              "      <td>...</td>\n",
              "      <td>...</td>\n",
              "      <td>...</td>\n",
              "      <td>...</td>\n",
              "      <td>...</td>\n",
              "      <td>...</td>\n",
              "      <td>...</td>\n",
              "      <td>...</td>\n",
              "      <td>...</td>\n",
              "      <td>...</td>\n",
              "      <td>...</td>\n",
              "      <td>...</td>\n",
              "      <td>...</td>\n",
              "      <td>...</td>\n",
              "      <td>...</td>\n",
              "      <td>...</td>\n",
              "      <td>...</td>\n",
              "      <td>...</td>\n",
              "      <td>...</td>\n",
              "      <td>...</td>\n",
              "      <td>...</td>\n",
              "      <td>...</td>\n",
              "      <td>...</td>\n",
              "      <td>...</td>\n",
              "      <td>...</td>\n",
              "      <td>...</td>\n",
              "      <td>...</td>\n",
              "      <td>...</td>\n",
              "      <td>...</td>\n",
              "      <td>...</td>\n",
              "      <td>...</td>\n",
              "      <td>...</td>\n",
              "      <td>...</td>\n",
              "      <td>...</td>\n",
              "      <td>...</td>\n",
              "      <td>...</td>\n",
              "      <td>...</td>\n",
              "      <td>...</td>\n",
              "      <td>...</td>\n",
              "      <td>...</td>\n",
              "      <td>...</td>\n",
              "      <td>...</td>\n",
              "      <td>...</td>\n",
              "      <td>...</td>\n",
              "      <td>...</td>\n",
              "      <td>...</td>\n",
              "      <td>...</td>\n",
              "      <td>...</td>\n",
              "      <td>...</td>\n",
              "      <td>...</td>\n",
              "      <td>...</td>\n",
              "      <td>...</td>\n",
              "      <td>...</td>\n",
              "      <td>...</td>\n",
              "      <td>...</td>\n",
              "      <td>...</td>\n",
              "      <td>...</td>\n",
              "      <td>...</td>\n",
              "      <td>...</td>\n",
              "      <td>...</td>\n",
              "      <td>...</td>\n",
              "      <td>...</td>\n",
              "      <td>...</td>\n",
              "      <td>...</td>\n",
              "      <td>...</td>\n",
              "      <td>...</td>\n",
              "      <td>...</td>\n",
              "    </tr>\n",
              "    <tr>\n",
              "      <th>995</th>\n",
              "      <td>5953</td>\n",
              "      <td>TN</td>\n",
              "      <td>Internal Medicine</td>\n",
              "      <td>175432.11</td>\n",
              "      <td>590</td>\n",
              "      <td>Compensation for services other than consultin...</td>\n",
              "      <td>124980.00</td>\n",
              "      <td>181</td>\n",
              "      <td>80041.72</td>\n",
              "      <td>75</td>\n",
              "      <td>31</td>\n",
              "      <td>213.290480</td>\n",
              "      <td>Covered</td>\n",
              "      <td>329</td>\n",
              "      <td>129.0</td>\n",
              "      <td>461.0</td>\n",
              "      <td>0.0</td>\n",
              "      <td>0.0</td>\n",
              "      <td>0.0</td>\n",
              "      <td>0.0</td>\n",
              "      <td>0.0</td>\n",
              "      <td>In-kind items and services</td>\n",
              "      <td>461</td>\n",
              "      <td>0.0</td>\n",
              "      <td>0.0</td>\n",
              "      <td>0.0</td>\n",
              "      <td>0.0</td>\n",
              "      <td>0.0</td>\n",
              "      <td>0.0</td>\n",
              "      <td>0.0</td>\n",
              "      <td>0.0</td>\n",
              "      <td>0.0</td>\n",
              "      <td>0.0</td>\n",
              "      <td>1.0</td>\n",
              "      <td>0.0</td>\n",
              "      <td>0.0</td>\n",
              "      <td>0.0</td>\n",
              "      <td>0.0</td>\n",
              "      <td>0.0</td>\n",
              "      <td>0.0</td>\n",
              "      <td>0.0</td>\n",
              "      <td>0.0</td>\n",
              "      <td>0.0</td>\n",
              "      <td>0.0</td>\n",
              "      <td>0.0</td>\n",
              "      <td>0.0</td>\n",
              "      <td>0.0</td>\n",
              "      <td>0.0</td>\n",
              "      <td>0.0</td>\n",
              "      <td>0.0</td>\n",
              "      <td>0.0</td>\n",
              "      <td>0.0</td>\n",
              "      <td>1.0</td>\n",
              "      <td>0.0</td>\n",
              "      <td>0.0</td>\n",
              "      <td>0.0</td>\n",
              "      <td>0.0</td>\n",
              "      <td>0.0</td>\n",
              "      <td>0.0</td>\n",
              "      <td>0.0</td>\n",
              "      <td>0.0</td>\n",
              "      <td>0.0</td>\n",
              "      <td>1.0</td>\n",
              "      <td>0.0</td>\n",
              "      <td>0.0</td>\n",
              "      <td>0.0</td>\n",
              "      <td>0.0</td>\n",
              "      <td>0.0</td>\n",
              "      <td>1.0</td>\n",
              "    </tr>\n",
              "    <tr>\n",
              "      <th>996</th>\n",
              "      <td>5959</td>\n",
              "      <td>CA</td>\n",
              "      <td>Urology</td>\n",
              "      <td>2920.08</td>\n",
              "      <td>98</td>\n",
              "      <td>Food and Beverage</td>\n",
              "      <td>2109.56</td>\n",
              "      <td>25</td>\n",
              "      <td>1270.64</td>\n",
              "      <td>1925</td>\n",
              "      <td>21</td>\n",
              "      <td>58.210070</td>\n",
              "      <td>Yes</td>\n",
              "      <td>80</td>\n",
              "      <td>7.0</td>\n",
              "      <td>91.0</td>\n",
              "      <td>0.0</td>\n",
              "      <td>0.0</td>\n",
              "      <td>0.0</td>\n",
              "      <td>0.0</td>\n",
              "      <td>0.0</td>\n",
              "      <td>In-kind items and services</td>\n",
              "      <td>91</td>\n",
              "      <td>0.0</td>\n",
              "      <td>0.0</td>\n",
              "      <td>0.0</td>\n",
              "      <td>0.0</td>\n",
              "      <td>0.0</td>\n",
              "      <td>0.0</td>\n",
              "      <td>0.0</td>\n",
              "      <td>0.0</td>\n",
              "      <td>0.0</td>\n",
              "      <td>0.0</td>\n",
              "      <td>0.0</td>\n",
              "      <td>0.0</td>\n",
              "      <td>0.0</td>\n",
              "      <td>0.0</td>\n",
              "      <td>0.0</td>\n",
              "      <td>0.0</td>\n",
              "      <td>0.0</td>\n",
              "      <td>0.0</td>\n",
              "      <td>0.0</td>\n",
              "      <td>0.0</td>\n",
              "      <td>0.0</td>\n",
              "      <td>0.0</td>\n",
              "      <td>0.0</td>\n",
              "      <td>0.0</td>\n",
              "      <td>0.0</td>\n",
              "      <td>0.0</td>\n",
              "      <td>0.0</td>\n",
              "      <td>0.0</td>\n",
              "      <td>1.0</td>\n",
              "      <td>0.0</td>\n",
              "      <td>0.0</td>\n",
              "      <td>0.0</td>\n",
              "      <td>0.0</td>\n",
              "      <td>1.0</td>\n",
              "      <td>0.0</td>\n",
              "      <td>0.0</td>\n",
              "      <td>0.0</td>\n",
              "      <td>0.0</td>\n",
              "      <td>0.0</td>\n",
              "      <td>0.0</td>\n",
              "      <td>0.0</td>\n",
              "      <td>0.0</td>\n",
              "      <td>0.0</td>\n",
              "      <td>1.0</td>\n",
              "      <td>0.0</td>\n",
              "      <td>1.0</td>\n",
              "    </tr>\n",
              "    <tr>\n",
              "      <th>997</th>\n",
              "      <td>5964</td>\n",
              "      <td>OK</td>\n",
              "      <td>Family Medicine</td>\n",
              "      <td>1036.32</td>\n",
              "      <td>93</td>\n",
              "      <td>Food and Beverage</td>\n",
              "      <td>929.36</td>\n",
              "      <td>32</td>\n",
              "      <td>308.36</td>\n",
              "      <td>18</td>\n",
              "      <td>16</td>\n",
              "      <td>16.259136</td>\n",
              "      <td>Yes</td>\n",
              "      <td>84</td>\n",
              "      <td>5.0</td>\n",
              "      <td>88.0</td>\n",
              "      <td>0.0</td>\n",
              "      <td>0.0</td>\n",
              "      <td>0.0</td>\n",
              "      <td>0.0</td>\n",
              "      <td>0.0</td>\n",
              "      <td>In-kind items and services</td>\n",
              "      <td>88</td>\n",
              "      <td>0.0</td>\n",
              "      <td>0.0</td>\n",
              "      <td>0.0</td>\n",
              "      <td>0.0</td>\n",
              "      <td>0.0</td>\n",
              "      <td>0.0</td>\n",
              "      <td>0.0</td>\n",
              "      <td>1.0</td>\n",
              "      <td>0.0</td>\n",
              "      <td>0.0</td>\n",
              "      <td>0.0</td>\n",
              "      <td>0.0</td>\n",
              "      <td>0.0</td>\n",
              "      <td>0.0</td>\n",
              "      <td>0.0</td>\n",
              "      <td>0.0</td>\n",
              "      <td>0.0</td>\n",
              "      <td>0.0</td>\n",
              "      <td>0.0</td>\n",
              "      <td>0.0</td>\n",
              "      <td>0.0</td>\n",
              "      <td>0.0</td>\n",
              "      <td>0.0</td>\n",
              "      <td>0.0</td>\n",
              "      <td>0.0</td>\n",
              "      <td>0.0</td>\n",
              "      <td>0.0</td>\n",
              "      <td>0.0</td>\n",
              "      <td>0.0</td>\n",
              "      <td>0.0</td>\n",
              "      <td>0.0</td>\n",
              "      <td>0.0</td>\n",
              "      <td>0.0</td>\n",
              "      <td>1.0</td>\n",
              "      <td>0.0</td>\n",
              "      <td>0.0</td>\n",
              "      <td>0.0</td>\n",
              "      <td>0.0</td>\n",
              "      <td>0.0</td>\n",
              "      <td>0.0</td>\n",
              "      <td>0.0</td>\n",
              "      <td>0.0</td>\n",
              "      <td>0.0</td>\n",
              "      <td>1.0</td>\n",
              "      <td>0.0</td>\n",
              "      <td>1.0</td>\n",
              "    </tr>\n",
              "    <tr>\n",
              "      <th>998</th>\n",
              "      <td>5972</td>\n",
              "      <td>TX</td>\n",
              "      <td>Urology</td>\n",
              "      <td>14156.35</td>\n",
              "      <td>285</td>\n",
              "      <td>Food and Beverage</td>\n",
              "      <td>6119.79</td>\n",
              "      <td>76</td>\n",
              "      <td>5015.32</td>\n",
              "      <td>1522</td>\n",
              "      <td>38</td>\n",
              "      <td>482.943801</td>\n",
              "      <td>Yes</td>\n",
              "      <td>248</td>\n",
              "      <td>54.0</td>\n",
              "      <td>231.0</td>\n",
              "      <td>0.0</td>\n",
              "      <td>0.0</td>\n",
              "      <td>0.0</td>\n",
              "      <td>0.0</td>\n",
              "      <td>0.0</td>\n",
              "      <td>In-kind items and services</td>\n",
              "      <td>231</td>\n",
              "      <td>0.0</td>\n",
              "      <td>0.0</td>\n",
              "      <td>0.0</td>\n",
              "      <td>0.0</td>\n",
              "      <td>0.0</td>\n",
              "      <td>0.0</td>\n",
              "      <td>0.0</td>\n",
              "      <td>0.0</td>\n",
              "      <td>0.0</td>\n",
              "      <td>0.0</td>\n",
              "      <td>0.0</td>\n",
              "      <td>0.0</td>\n",
              "      <td>0.0</td>\n",
              "      <td>0.0</td>\n",
              "      <td>0.0</td>\n",
              "      <td>0.0</td>\n",
              "      <td>0.0</td>\n",
              "      <td>0.0</td>\n",
              "      <td>0.0</td>\n",
              "      <td>0.0</td>\n",
              "      <td>0.0</td>\n",
              "      <td>0.0</td>\n",
              "      <td>0.0</td>\n",
              "      <td>0.0</td>\n",
              "      <td>0.0</td>\n",
              "      <td>0.0</td>\n",
              "      <td>0.0</td>\n",
              "      <td>0.0</td>\n",
              "      <td>1.0</td>\n",
              "      <td>0.0</td>\n",
              "      <td>0.0</td>\n",
              "      <td>0.0</td>\n",
              "      <td>0.0</td>\n",
              "      <td>1.0</td>\n",
              "      <td>0.0</td>\n",
              "      <td>0.0</td>\n",
              "      <td>0.0</td>\n",
              "      <td>0.0</td>\n",
              "      <td>0.0</td>\n",
              "      <td>0.0</td>\n",
              "      <td>0.0</td>\n",
              "      <td>0.0</td>\n",
              "      <td>0.0</td>\n",
              "      <td>1.0</td>\n",
              "      <td>0.0</td>\n",
              "      <td>1.0</td>\n",
              "    </tr>\n",
              "    <tr>\n",
              "      <th>999</th>\n",
              "      <td>5999</td>\n",
              "      <td>MA</td>\n",
              "      <td>Psychiatry &amp; Neurology</td>\n",
              "      <td>1560.30</td>\n",
              "      <td>43</td>\n",
              "      <td>Food and Beverage</td>\n",
              "      <td>1127.16</td>\n",
              "      <td>9</td>\n",
              "      <td>266.11</td>\n",
              "      <td>897</td>\n",
              "      <td>8</td>\n",
              "      <td>15.520138</td>\n",
              "      <td>Covered</td>\n",
              "      <td>22</td>\n",
              "      <td>4.0</td>\n",
              "      <td>39.0</td>\n",
              "      <td>0.0</td>\n",
              "      <td>0.0</td>\n",
              "      <td>0.0</td>\n",
              "      <td>0.0</td>\n",
              "      <td>0.0</td>\n",
              "      <td>In-kind items and services</td>\n",
              "      <td>39</td>\n",
              "      <td>0.0</td>\n",
              "      <td>0.0</td>\n",
              "      <td>0.0</td>\n",
              "      <td>0.0</td>\n",
              "      <td>0.0</td>\n",
              "      <td>0.0</td>\n",
              "      <td>0.0</td>\n",
              "      <td>0.0</td>\n",
              "      <td>0.0</td>\n",
              "      <td>0.0</td>\n",
              "      <td>0.0</td>\n",
              "      <td>0.0</td>\n",
              "      <td>0.0</td>\n",
              "      <td>0.0</td>\n",
              "      <td>0.0</td>\n",
              "      <td>0.0</td>\n",
              "      <td>0.0</td>\n",
              "      <td>0.0</td>\n",
              "      <td>0.0</td>\n",
              "      <td>0.0</td>\n",
              "      <td>0.0</td>\n",
              "      <td>0.0</td>\n",
              "      <td>0.0</td>\n",
              "      <td>0.0</td>\n",
              "      <td>1.0</td>\n",
              "      <td>0.0</td>\n",
              "      <td>0.0</td>\n",
              "      <td>0.0</td>\n",
              "      <td>0.0</td>\n",
              "      <td>0.0</td>\n",
              "      <td>0.0</td>\n",
              "      <td>0.0</td>\n",
              "      <td>0.0</td>\n",
              "      <td>1.0</td>\n",
              "      <td>0.0</td>\n",
              "      <td>0.0</td>\n",
              "      <td>0.0</td>\n",
              "      <td>0.0</td>\n",
              "      <td>0.0</td>\n",
              "      <td>1.0</td>\n",
              "      <td>0.0</td>\n",
              "      <td>0.0</td>\n",
              "      <td>0.0</td>\n",
              "      <td>0.0</td>\n",
              "      <td>0.0</td>\n",
              "      <td>1.0</td>\n",
              "    </tr>\n",
              "  </tbody>\n",
              "</table>\n",
              "<p>1000 rows × 69 columns</p>\n",
              "</div>"
            ],
            "text/plain": [
              "     Physician_ID  ... x3_In-kind items and services\n",
              "0              14  ...                           1.0\n",
              "1              18  ...                           1.0\n",
              "2              42  ...                           1.0\n",
              "3              46  ...                           1.0\n",
              "4              47  ...                           1.0\n",
              "..            ...  ...                           ...\n",
              "995          5953  ...                           1.0\n",
              "996          5959  ...                           1.0\n",
              "997          5964  ...                           1.0\n",
              "998          5972  ...                           1.0\n",
              "999          5999  ...                           1.0\n",
              "\n",
              "[1000 rows x 69 columns]"
            ]
          },
          "metadata": {
            "tags": []
          },
          "execution_count": 122
        }
      ]
    },
    {
      "cell_type": "code",
      "metadata": {
        "colab": {
          "base_uri": "https://localhost:8080/",
          "height": 652
        },
        "id": "IoLiAbM8kGXZ",
        "outputId": "0026f81f-2dea-4c2f-d061-81659a4c0ac7"
      },
      "source": [
        "# dropping the categorical features that have been encoded\n",
        "test_final = test_final.drop([\"Primary_Specialty\",\"top_nature\",\"top_rpi\", \"top_fop\", \"State\"], axis=1)\n",
        "\n",
        "test_final\n"
      ],
      "execution_count": 123,
      "outputs": [
        {
          "output_type": "execute_result",
          "data": {
            "text/html": [
              "<div>\n",
              "<style scoped>\n",
              "    .dataframe tbody tr th:only-of-type {\n",
              "        vertical-align: middle;\n",
              "    }\n",
              "\n",
              "    .dataframe tbody tr th {\n",
              "        vertical-align: top;\n",
              "    }\n",
              "\n",
              "    .dataframe thead th {\n",
              "        text-align: right;\n",
              "    }\n",
              "</style>\n",
              "<table border=\"1\" class=\"dataframe\">\n",
              "  <thead>\n",
              "    <tr style=\"text-align: right;\">\n",
              "      <th></th>\n",
              "      <th>Physician_ID</th>\n",
              "      <th>total_payments</th>\n",
              "      <th>number_of_payments</th>\n",
              "      <th>total_of_top_nature</th>\n",
              "      <th>range_count</th>\n",
              "      <th>range_total</th>\n",
              "      <th>top_company</th>\n",
              "      <th>pay_count</th>\n",
              "      <th>std</th>\n",
              "      <th>rpi_count</th>\n",
              "      <th>cash</th>\n",
              "      <th>services</th>\n",
              "      <th>stock</th>\n",
              "      <th>stock_opt</th>\n",
              "      <th>any_ownership</th>\n",
              "      <th>dividend</th>\n",
              "      <th>stock_or_other</th>\n",
              "      <th>fop_count</th>\n",
              "      <th>x0_Allergy &amp; Immunology</th>\n",
              "      <th>x0_Anesthesiology</th>\n",
              "      <th>x0_Colon &amp; Rectal Surgery</th>\n",
              "      <th>x0_Dental Providers</th>\n",
              "      <th>x0_Dermatology</th>\n",
              "      <th>x0_Emergency Medicine</th>\n",
              "      <th>x0_Eye and Vision Services Providers</th>\n",
              "      <th>x0_Family Medicine</th>\n",
              "      <th>x0_General Practice</th>\n",
              "      <th>x0_Hospitalist</th>\n",
              "      <th>x0_Internal Medicine</th>\n",
              "      <th>x0_Neurological Surgery</th>\n",
              "      <th>x0_Obstetrics &amp; Gynecology</th>\n",
              "      <th>x0_Ophthalmology</th>\n",
              "      <th>x0_Orthopaedic Surgery</th>\n",
              "      <th>x0_Otolaryngology</th>\n",
              "      <th>x0_Pain Medicine</th>\n",
              "      <th>x0_Pathology</th>\n",
              "      <th>x0_Pediatrics</th>\n",
              "      <th>x0_Phlebology</th>\n",
              "      <th>x0_Physical Medicine &amp; Rehabilitation</th>\n",
              "      <th>x0_Plastic Surgery</th>\n",
              "      <th>x0_Podiatric Medicine &amp; Surgery Service Providers</th>\n",
              "      <th>x0_Preventive Medicine</th>\n",
              "      <th>x0_Psychiatry &amp; Neurology</th>\n",
              "      <th>x0_Radiology</th>\n",
              "      <th>x0_Surgery</th>\n",
              "      <th>x0_Thoracic Surgery (Cardiothoracic Vascular Surgery)</th>\n",
              "      <th>x0_Urology</th>\n",
              "      <th>x1_Compensation for services other than consulting, including serving as faculty or as a speaker at a venue other than a continuing education program</th>\n",
              "      <th>x1_Compensation for serving as faculty or as a speaker for a non-accredited and noncertified continuing education program</th>\n",
              "      <th>x1_Consulting Fee</th>\n",
              "      <th>x1_Education</th>\n",
              "      <th>x1_Food and Beverage</th>\n",
              "      <th>x1_Gift</th>\n",
              "      <th>x1_Grant</th>\n",
              "      <th>x1_Honoraria</th>\n",
              "      <th>x1_Royalty or License</th>\n",
              "      <th>x1_Travel and Lodging</th>\n",
              "      <th>x2_Covered</th>\n",
              "      <th>x2_No</th>\n",
              "      <th>x2_Non-Covered</th>\n",
              "      <th>x2_None</th>\n",
              "      <th>x2_Yes</th>\n",
              "      <th>x3_Cash or cash equivalent</th>\n",
              "      <th>x3_In-kind items and services</th>\n",
              "    </tr>\n",
              "  </thead>\n",
              "  <tbody>\n",
              "    <tr>\n",
              "      <th>0</th>\n",
              "      <td>14</td>\n",
              "      <td>5775.53</td>\n",
              "      <td>539</td>\n",
              "      <td>5626.66</td>\n",
              "      <td>96</td>\n",
              "      <td>514.07</td>\n",
              "      <td>197</td>\n",
              "      <td>35</td>\n",
              "      <td>4.599791</td>\n",
              "      <td>360</td>\n",
              "      <td>56.0</td>\n",
              "      <td>483.0</td>\n",
              "      <td>0.0</td>\n",
              "      <td>0.0</td>\n",
              "      <td>0.0</td>\n",
              "      <td>0.0</td>\n",
              "      <td>0.0</td>\n",
              "      <td>483</td>\n",
              "      <td>0.0</td>\n",
              "      <td>0.0</td>\n",
              "      <td>0.0</td>\n",
              "      <td>0.0</td>\n",
              "      <td>0.0</td>\n",
              "      <td>0.0</td>\n",
              "      <td>0.0</td>\n",
              "      <td>0.0</td>\n",
              "      <td>0.0</td>\n",
              "      <td>0.0</td>\n",
              "      <td>0.0</td>\n",
              "      <td>0.0</td>\n",
              "      <td>0.0</td>\n",
              "      <td>0.0</td>\n",
              "      <td>0.0</td>\n",
              "      <td>0.0</td>\n",
              "      <td>1.0</td>\n",
              "      <td>0.0</td>\n",
              "      <td>0.0</td>\n",
              "      <td>0.0</td>\n",
              "      <td>0.0</td>\n",
              "      <td>0.0</td>\n",
              "      <td>0.0</td>\n",
              "      <td>0.0</td>\n",
              "      <td>0.0</td>\n",
              "      <td>0.0</td>\n",
              "      <td>0.0</td>\n",
              "      <td>0.0</td>\n",
              "      <td>0.0</td>\n",
              "      <td>0.0</td>\n",
              "      <td>0.0</td>\n",
              "      <td>0.0</td>\n",
              "      <td>0.0</td>\n",
              "      <td>1.0</td>\n",
              "      <td>0.0</td>\n",
              "      <td>0.0</td>\n",
              "      <td>0.0</td>\n",
              "      <td>0.0</td>\n",
              "      <td>0.0</td>\n",
              "      <td>0.0</td>\n",
              "      <td>0.0</td>\n",
              "      <td>0.0</td>\n",
              "      <td>0.0</td>\n",
              "      <td>1.0</td>\n",
              "      <td>0.0</td>\n",
              "      <td>1.0</td>\n",
              "    </tr>\n",
              "    <tr>\n",
              "      <th>1</th>\n",
              "      <td>18</td>\n",
              "      <td>92123.24</td>\n",
              "      <td>584</td>\n",
              "      <td>39516.38</td>\n",
              "      <td>68</td>\n",
              "      <td>42697.24</td>\n",
              "      <td>2285</td>\n",
              "      <td>46</td>\n",
              "      <td>162.675507</td>\n",
              "      <td>417</td>\n",
              "      <td>100.0</td>\n",
              "      <td>484.0</td>\n",
              "      <td>0.0</td>\n",
              "      <td>0.0</td>\n",
              "      <td>0.0</td>\n",
              "      <td>0.0</td>\n",
              "      <td>0.0</td>\n",
              "      <td>484</td>\n",
              "      <td>0.0</td>\n",
              "      <td>0.0</td>\n",
              "      <td>0.0</td>\n",
              "      <td>0.0</td>\n",
              "      <td>0.0</td>\n",
              "      <td>0.0</td>\n",
              "      <td>0.0</td>\n",
              "      <td>0.0</td>\n",
              "      <td>0.0</td>\n",
              "      <td>0.0</td>\n",
              "      <td>1.0</td>\n",
              "      <td>0.0</td>\n",
              "      <td>0.0</td>\n",
              "      <td>0.0</td>\n",
              "      <td>0.0</td>\n",
              "      <td>0.0</td>\n",
              "      <td>0.0</td>\n",
              "      <td>0.0</td>\n",
              "      <td>0.0</td>\n",
              "      <td>0.0</td>\n",
              "      <td>0.0</td>\n",
              "      <td>0.0</td>\n",
              "      <td>0.0</td>\n",
              "      <td>0.0</td>\n",
              "      <td>0.0</td>\n",
              "      <td>0.0</td>\n",
              "      <td>0.0</td>\n",
              "      <td>0.0</td>\n",
              "      <td>0.0</td>\n",
              "      <td>0.0</td>\n",
              "      <td>0.0</td>\n",
              "      <td>1.0</td>\n",
              "      <td>0.0</td>\n",
              "      <td>0.0</td>\n",
              "      <td>0.0</td>\n",
              "      <td>0.0</td>\n",
              "      <td>0.0</td>\n",
              "      <td>0.0</td>\n",
              "      <td>0.0</td>\n",
              "      <td>0.0</td>\n",
              "      <td>0.0</td>\n",
              "      <td>0.0</td>\n",
              "      <td>0.0</td>\n",
              "      <td>1.0</td>\n",
              "      <td>0.0</td>\n",
              "      <td>1.0</td>\n",
              "    </tr>\n",
              "    <tr>\n",
              "      <th>2</th>\n",
              "      <td>42</td>\n",
              "      <td>3159.49</td>\n",
              "      <td>180</td>\n",
              "      <td>3066.04</td>\n",
              "      <td>16</td>\n",
              "      <td>256.09</td>\n",
              "      <td>190</td>\n",
              "      <td>27</td>\n",
              "      <td>3.431789</td>\n",
              "      <td>108</td>\n",
              "      <td>8.0</td>\n",
              "      <td>172.0</td>\n",
              "      <td>0.0</td>\n",
              "      <td>0.0</td>\n",
              "      <td>0.0</td>\n",
              "      <td>0.0</td>\n",
              "      <td>0.0</td>\n",
              "      <td>172</td>\n",
              "      <td>0.0</td>\n",
              "      <td>0.0</td>\n",
              "      <td>0.0</td>\n",
              "      <td>0.0</td>\n",
              "      <td>0.0</td>\n",
              "      <td>0.0</td>\n",
              "      <td>0.0</td>\n",
              "      <td>0.0</td>\n",
              "      <td>0.0</td>\n",
              "      <td>0.0</td>\n",
              "      <td>0.0</td>\n",
              "      <td>0.0</td>\n",
              "      <td>1.0</td>\n",
              "      <td>0.0</td>\n",
              "      <td>0.0</td>\n",
              "      <td>0.0</td>\n",
              "      <td>0.0</td>\n",
              "      <td>0.0</td>\n",
              "      <td>0.0</td>\n",
              "      <td>0.0</td>\n",
              "      <td>0.0</td>\n",
              "      <td>0.0</td>\n",
              "      <td>0.0</td>\n",
              "      <td>0.0</td>\n",
              "      <td>0.0</td>\n",
              "      <td>0.0</td>\n",
              "      <td>0.0</td>\n",
              "      <td>0.0</td>\n",
              "      <td>0.0</td>\n",
              "      <td>0.0</td>\n",
              "      <td>0.0</td>\n",
              "      <td>0.0</td>\n",
              "      <td>0.0</td>\n",
              "      <td>1.0</td>\n",
              "      <td>0.0</td>\n",
              "      <td>0.0</td>\n",
              "      <td>0.0</td>\n",
              "      <td>0.0</td>\n",
              "      <td>0.0</td>\n",
              "      <td>0.0</td>\n",
              "      <td>0.0</td>\n",
              "      <td>0.0</td>\n",
              "      <td>0.0</td>\n",
              "      <td>1.0</td>\n",
              "      <td>0.0</td>\n",
              "      <td>1.0</td>\n",
              "    </tr>\n",
              "    <tr>\n",
              "      <th>3</th>\n",
              "      <td>46</td>\n",
              "      <td>1614.34</td>\n",
              "      <td>64</td>\n",
              "      <td>1614.34</td>\n",
              "      <td>15</td>\n",
              "      <td>547.14</td>\n",
              "      <td>897</td>\n",
              "      <td>17</td>\n",
              "      <td>20.521972</td>\n",
              "      <td>49</td>\n",
              "      <td>2.0</td>\n",
              "      <td>62.0</td>\n",
              "      <td>0.0</td>\n",
              "      <td>0.0</td>\n",
              "      <td>0.0</td>\n",
              "      <td>0.0</td>\n",
              "      <td>0.0</td>\n",
              "      <td>62</td>\n",
              "      <td>0.0</td>\n",
              "      <td>0.0</td>\n",
              "      <td>0.0</td>\n",
              "      <td>0.0</td>\n",
              "      <td>0.0</td>\n",
              "      <td>0.0</td>\n",
              "      <td>0.0</td>\n",
              "      <td>0.0</td>\n",
              "      <td>0.0</td>\n",
              "      <td>0.0</td>\n",
              "      <td>1.0</td>\n",
              "      <td>0.0</td>\n",
              "      <td>0.0</td>\n",
              "      <td>0.0</td>\n",
              "      <td>0.0</td>\n",
              "      <td>0.0</td>\n",
              "      <td>0.0</td>\n",
              "      <td>0.0</td>\n",
              "      <td>0.0</td>\n",
              "      <td>0.0</td>\n",
              "      <td>0.0</td>\n",
              "      <td>0.0</td>\n",
              "      <td>0.0</td>\n",
              "      <td>0.0</td>\n",
              "      <td>0.0</td>\n",
              "      <td>0.0</td>\n",
              "      <td>0.0</td>\n",
              "      <td>0.0</td>\n",
              "      <td>0.0</td>\n",
              "      <td>0.0</td>\n",
              "      <td>0.0</td>\n",
              "      <td>0.0</td>\n",
              "      <td>0.0</td>\n",
              "      <td>1.0</td>\n",
              "      <td>0.0</td>\n",
              "      <td>0.0</td>\n",
              "      <td>0.0</td>\n",
              "      <td>0.0</td>\n",
              "      <td>0.0</td>\n",
              "      <td>0.0</td>\n",
              "      <td>0.0</td>\n",
              "      <td>0.0</td>\n",
              "      <td>0.0</td>\n",
              "      <td>1.0</td>\n",
              "      <td>0.0</td>\n",
              "      <td>1.0</td>\n",
              "    </tr>\n",
              "    <tr>\n",
              "      <th>4</th>\n",
              "      <td>47</td>\n",
              "      <td>6494.00</td>\n",
              "      <td>296</td>\n",
              "      <td>6444.00</td>\n",
              "      <td>96</td>\n",
              "      <td>1557.50</td>\n",
              "      <td>123</td>\n",
              "      <td>31</td>\n",
              "      <td>13.168132</td>\n",
              "      <td>253</td>\n",
              "      <td>21.0</td>\n",
              "      <td>275.0</td>\n",
              "      <td>0.0</td>\n",
              "      <td>0.0</td>\n",
              "      <td>0.0</td>\n",
              "      <td>0.0</td>\n",
              "      <td>0.0</td>\n",
              "      <td>275</td>\n",
              "      <td>0.0</td>\n",
              "      <td>0.0</td>\n",
              "      <td>0.0</td>\n",
              "      <td>0.0</td>\n",
              "      <td>0.0</td>\n",
              "      <td>0.0</td>\n",
              "      <td>0.0</td>\n",
              "      <td>0.0</td>\n",
              "      <td>0.0</td>\n",
              "      <td>0.0</td>\n",
              "      <td>1.0</td>\n",
              "      <td>0.0</td>\n",
              "      <td>0.0</td>\n",
              "      <td>0.0</td>\n",
              "      <td>0.0</td>\n",
              "      <td>0.0</td>\n",
              "      <td>0.0</td>\n",
              "      <td>0.0</td>\n",
              "      <td>0.0</td>\n",
              "      <td>0.0</td>\n",
              "      <td>0.0</td>\n",
              "      <td>0.0</td>\n",
              "      <td>0.0</td>\n",
              "      <td>0.0</td>\n",
              "      <td>0.0</td>\n",
              "      <td>0.0</td>\n",
              "      <td>0.0</td>\n",
              "      <td>0.0</td>\n",
              "      <td>0.0</td>\n",
              "      <td>0.0</td>\n",
              "      <td>0.0</td>\n",
              "      <td>0.0</td>\n",
              "      <td>0.0</td>\n",
              "      <td>1.0</td>\n",
              "      <td>0.0</td>\n",
              "      <td>0.0</td>\n",
              "      <td>0.0</td>\n",
              "      <td>0.0</td>\n",
              "      <td>0.0</td>\n",
              "      <td>0.0</td>\n",
              "      <td>0.0</td>\n",
              "      <td>0.0</td>\n",
              "      <td>0.0</td>\n",
              "      <td>1.0</td>\n",
              "      <td>0.0</td>\n",
              "      <td>1.0</td>\n",
              "    </tr>\n",
              "    <tr>\n",
              "      <th>...</th>\n",
              "      <td>...</td>\n",
              "      <td>...</td>\n",
              "      <td>...</td>\n",
              "      <td>...</td>\n",
              "      <td>...</td>\n",
              "      <td>...</td>\n",
              "      <td>...</td>\n",
              "      <td>...</td>\n",
              "      <td>...</td>\n",
              "      <td>...</td>\n",
              "      <td>...</td>\n",
              "      <td>...</td>\n",
              "      <td>...</td>\n",
              "      <td>...</td>\n",
              "      <td>...</td>\n",
              "      <td>...</td>\n",
              "      <td>...</td>\n",
              "      <td>...</td>\n",
              "      <td>...</td>\n",
              "      <td>...</td>\n",
              "      <td>...</td>\n",
              "      <td>...</td>\n",
              "      <td>...</td>\n",
              "      <td>...</td>\n",
              "      <td>...</td>\n",
              "      <td>...</td>\n",
              "      <td>...</td>\n",
              "      <td>...</td>\n",
              "      <td>...</td>\n",
              "      <td>...</td>\n",
              "      <td>...</td>\n",
              "      <td>...</td>\n",
              "      <td>...</td>\n",
              "      <td>...</td>\n",
              "      <td>...</td>\n",
              "      <td>...</td>\n",
              "      <td>...</td>\n",
              "      <td>...</td>\n",
              "      <td>...</td>\n",
              "      <td>...</td>\n",
              "      <td>...</td>\n",
              "      <td>...</td>\n",
              "      <td>...</td>\n",
              "      <td>...</td>\n",
              "      <td>...</td>\n",
              "      <td>...</td>\n",
              "      <td>...</td>\n",
              "      <td>...</td>\n",
              "      <td>...</td>\n",
              "      <td>...</td>\n",
              "      <td>...</td>\n",
              "      <td>...</td>\n",
              "      <td>...</td>\n",
              "      <td>...</td>\n",
              "      <td>...</td>\n",
              "      <td>...</td>\n",
              "      <td>...</td>\n",
              "      <td>...</td>\n",
              "      <td>...</td>\n",
              "      <td>...</td>\n",
              "      <td>...</td>\n",
              "      <td>...</td>\n",
              "      <td>...</td>\n",
              "      <td>...</td>\n",
              "    </tr>\n",
              "    <tr>\n",
              "      <th>995</th>\n",
              "      <td>5953</td>\n",
              "      <td>175432.11</td>\n",
              "      <td>590</td>\n",
              "      <td>124980.00</td>\n",
              "      <td>181</td>\n",
              "      <td>80041.72</td>\n",
              "      <td>75</td>\n",
              "      <td>31</td>\n",
              "      <td>213.290480</td>\n",
              "      <td>329</td>\n",
              "      <td>129.0</td>\n",
              "      <td>461.0</td>\n",
              "      <td>0.0</td>\n",
              "      <td>0.0</td>\n",
              "      <td>0.0</td>\n",
              "      <td>0.0</td>\n",
              "      <td>0.0</td>\n",
              "      <td>461</td>\n",
              "      <td>0.0</td>\n",
              "      <td>0.0</td>\n",
              "      <td>0.0</td>\n",
              "      <td>0.0</td>\n",
              "      <td>0.0</td>\n",
              "      <td>0.0</td>\n",
              "      <td>0.0</td>\n",
              "      <td>0.0</td>\n",
              "      <td>0.0</td>\n",
              "      <td>0.0</td>\n",
              "      <td>1.0</td>\n",
              "      <td>0.0</td>\n",
              "      <td>0.0</td>\n",
              "      <td>0.0</td>\n",
              "      <td>0.0</td>\n",
              "      <td>0.0</td>\n",
              "      <td>0.0</td>\n",
              "      <td>0.0</td>\n",
              "      <td>0.0</td>\n",
              "      <td>0.0</td>\n",
              "      <td>0.0</td>\n",
              "      <td>0.0</td>\n",
              "      <td>0.0</td>\n",
              "      <td>0.0</td>\n",
              "      <td>0.0</td>\n",
              "      <td>0.0</td>\n",
              "      <td>0.0</td>\n",
              "      <td>0.0</td>\n",
              "      <td>0.0</td>\n",
              "      <td>1.0</td>\n",
              "      <td>0.0</td>\n",
              "      <td>0.0</td>\n",
              "      <td>0.0</td>\n",
              "      <td>0.0</td>\n",
              "      <td>0.0</td>\n",
              "      <td>0.0</td>\n",
              "      <td>0.0</td>\n",
              "      <td>0.0</td>\n",
              "      <td>0.0</td>\n",
              "      <td>1.0</td>\n",
              "      <td>0.0</td>\n",
              "      <td>0.0</td>\n",
              "      <td>0.0</td>\n",
              "      <td>0.0</td>\n",
              "      <td>0.0</td>\n",
              "      <td>1.0</td>\n",
              "    </tr>\n",
              "    <tr>\n",
              "      <th>996</th>\n",
              "      <td>5959</td>\n",
              "      <td>2920.08</td>\n",
              "      <td>98</td>\n",
              "      <td>2109.56</td>\n",
              "      <td>25</td>\n",
              "      <td>1270.64</td>\n",
              "      <td>1925</td>\n",
              "      <td>21</td>\n",
              "      <td>58.210070</td>\n",
              "      <td>80</td>\n",
              "      <td>7.0</td>\n",
              "      <td>91.0</td>\n",
              "      <td>0.0</td>\n",
              "      <td>0.0</td>\n",
              "      <td>0.0</td>\n",
              "      <td>0.0</td>\n",
              "      <td>0.0</td>\n",
              "      <td>91</td>\n",
              "      <td>0.0</td>\n",
              "      <td>0.0</td>\n",
              "      <td>0.0</td>\n",
              "      <td>0.0</td>\n",
              "      <td>0.0</td>\n",
              "      <td>0.0</td>\n",
              "      <td>0.0</td>\n",
              "      <td>0.0</td>\n",
              "      <td>0.0</td>\n",
              "      <td>0.0</td>\n",
              "      <td>0.0</td>\n",
              "      <td>0.0</td>\n",
              "      <td>0.0</td>\n",
              "      <td>0.0</td>\n",
              "      <td>0.0</td>\n",
              "      <td>0.0</td>\n",
              "      <td>0.0</td>\n",
              "      <td>0.0</td>\n",
              "      <td>0.0</td>\n",
              "      <td>0.0</td>\n",
              "      <td>0.0</td>\n",
              "      <td>0.0</td>\n",
              "      <td>0.0</td>\n",
              "      <td>0.0</td>\n",
              "      <td>0.0</td>\n",
              "      <td>0.0</td>\n",
              "      <td>0.0</td>\n",
              "      <td>0.0</td>\n",
              "      <td>1.0</td>\n",
              "      <td>0.0</td>\n",
              "      <td>0.0</td>\n",
              "      <td>0.0</td>\n",
              "      <td>0.0</td>\n",
              "      <td>1.0</td>\n",
              "      <td>0.0</td>\n",
              "      <td>0.0</td>\n",
              "      <td>0.0</td>\n",
              "      <td>0.0</td>\n",
              "      <td>0.0</td>\n",
              "      <td>0.0</td>\n",
              "      <td>0.0</td>\n",
              "      <td>0.0</td>\n",
              "      <td>0.0</td>\n",
              "      <td>1.0</td>\n",
              "      <td>0.0</td>\n",
              "      <td>1.0</td>\n",
              "    </tr>\n",
              "    <tr>\n",
              "      <th>997</th>\n",
              "      <td>5964</td>\n",
              "      <td>1036.32</td>\n",
              "      <td>93</td>\n",
              "      <td>929.36</td>\n",
              "      <td>32</td>\n",
              "      <td>308.36</td>\n",
              "      <td>18</td>\n",
              "      <td>16</td>\n",
              "      <td>16.259136</td>\n",
              "      <td>84</td>\n",
              "      <td>5.0</td>\n",
              "      <td>88.0</td>\n",
              "      <td>0.0</td>\n",
              "      <td>0.0</td>\n",
              "      <td>0.0</td>\n",
              "      <td>0.0</td>\n",
              "      <td>0.0</td>\n",
              "      <td>88</td>\n",
              "      <td>0.0</td>\n",
              "      <td>0.0</td>\n",
              "      <td>0.0</td>\n",
              "      <td>0.0</td>\n",
              "      <td>0.0</td>\n",
              "      <td>0.0</td>\n",
              "      <td>0.0</td>\n",
              "      <td>1.0</td>\n",
              "      <td>0.0</td>\n",
              "      <td>0.0</td>\n",
              "      <td>0.0</td>\n",
              "      <td>0.0</td>\n",
              "      <td>0.0</td>\n",
              "      <td>0.0</td>\n",
              "      <td>0.0</td>\n",
              "      <td>0.0</td>\n",
              "      <td>0.0</td>\n",
              "      <td>0.0</td>\n",
              "      <td>0.0</td>\n",
              "      <td>0.0</td>\n",
              "      <td>0.0</td>\n",
              "      <td>0.0</td>\n",
              "      <td>0.0</td>\n",
              "      <td>0.0</td>\n",
              "      <td>0.0</td>\n",
              "      <td>0.0</td>\n",
              "      <td>0.0</td>\n",
              "      <td>0.0</td>\n",
              "      <td>0.0</td>\n",
              "      <td>0.0</td>\n",
              "      <td>0.0</td>\n",
              "      <td>0.0</td>\n",
              "      <td>0.0</td>\n",
              "      <td>1.0</td>\n",
              "      <td>0.0</td>\n",
              "      <td>0.0</td>\n",
              "      <td>0.0</td>\n",
              "      <td>0.0</td>\n",
              "      <td>0.0</td>\n",
              "      <td>0.0</td>\n",
              "      <td>0.0</td>\n",
              "      <td>0.0</td>\n",
              "      <td>0.0</td>\n",
              "      <td>1.0</td>\n",
              "      <td>0.0</td>\n",
              "      <td>1.0</td>\n",
              "    </tr>\n",
              "    <tr>\n",
              "      <th>998</th>\n",
              "      <td>5972</td>\n",
              "      <td>14156.35</td>\n",
              "      <td>285</td>\n",
              "      <td>6119.79</td>\n",
              "      <td>76</td>\n",
              "      <td>5015.32</td>\n",
              "      <td>1522</td>\n",
              "      <td>38</td>\n",
              "      <td>482.943801</td>\n",
              "      <td>248</td>\n",
              "      <td>54.0</td>\n",
              "      <td>231.0</td>\n",
              "      <td>0.0</td>\n",
              "      <td>0.0</td>\n",
              "      <td>0.0</td>\n",
              "      <td>0.0</td>\n",
              "      <td>0.0</td>\n",
              "      <td>231</td>\n",
              "      <td>0.0</td>\n",
              "      <td>0.0</td>\n",
              "      <td>0.0</td>\n",
              "      <td>0.0</td>\n",
              "      <td>0.0</td>\n",
              "      <td>0.0</td>\n",
              "      <td>0.0</td>\n",
              "      <td>0.0</td>\n",
              "      <td>0.0</td>\n",
              "      <td>0.0</td>\n",
              "      <td>0.0</td>\n",
              "      <td>0.0</td>\n",
              "      <td>0.0</td>\n",
              "      <td>0.0</td>\n",
              "      <td>0.0</td>\n",
              "      <td>0.0</td>\n",
              "      <td>0.0</td>\n",
              "      <td>0.0</td>\n",
              "      <td>0.0</td>\n",
              "      <td>0.0</td>\n",
              "      <td>0.0</td>\n",
              "      <td>0.0</td>\n",
              "      <td>0.0</td>\n",
              "      <td>0.0</td>\n",
              "      <td>0.0</td>\n",
              "      <td>0.0</td>\n",
              "      <td>0.0</td>\n",
              "      <td>0.0</td>\n",
              "      <td>1.0</td>\n",
              "      <td>0.0</td>\n",
              "      <td>0.0</td>\n",
              "      <td>0.0</td>\n",
              "      <td>0.0</td>\n",
              "      <td>1.0</td>\n",
              "      <td>0.0</td>\n",
              "      <td>0.0</td>\n",
              "      <td>0.0</td>\n",
              "      <td>0.0</td>\n",
              "      <td>0.0</td>\n",
              "      <td>0.0</td>\n",
              "      <td>0.0</td>\n",
              "      <td>0.0</td>\n",
              "      <td>0.0</td>\n",
              "      <td>1.0</td>\n",
              "      <td>0.0</td>\n",
              "      <td>1.0</td>\n",
              "    </tr>\n",
              "    <tr>\n",
              "      <th>999</th>\n",
              "      <td>5999</td>\n",
              "      <td>1560.30</td>\n",
              "      <td>43</td>\n",
              "      <td>1127.16</td>\n",
              "      <td>9</td>\n",
              "      <td>266.11</td>\n",
              "      <td>897</td>\n",
              "      <td>8</td>\n",
              "      <td>15.520138</td>\n",
              "      <td>22</td>\n",
              "      <td>4.0</td>\n",
              "      <td>39.0</td>\n",
              "      <td>0.0</td>\n",
              "      <td>0.0</td>\n",
              "      <td>0.0</td>\n",
              "      <td>0.0</td>\n",
              "      <td>0.0</td>\n",
              "      <td>39</td>\n",
              "      <td>0.0</td>\n",
              "      <td>0.0</td>\n",
              "      <td>0.0</td>\n",
              "      <td>0.0</td>\n",
              "      <td>0.0</td>\n",
              "      <td>0.0</td>\n",
              "      <td>0.0</td>\n",
              "      <td>0.0</td>\n",
              "      <td>0.0</td>\n",
              "      <td>0.0</td>\n",
              "      <td>0.0</td>\n",
              "      <td>0.0</td>\n",
              "      <td>0.0</td>\n",
              "      <td>0.0</td>\n",
              "      <td>0.0</td>\n",
              "      <td>0.0</td>\n",
              "      <td>0.0</td>\n",
              "      <td>0.0</td>\n",
              "      <td>0.0</td>\n",
              "      <td>0.0</td>\n",
              "      <td>0.0</td>\n",
              "      <td>0.0</td>\n",
              "      <td>0.0</td>\n",
              "      <td>0.0</td>\n",
              "      <td>1.0</td>\n",
              "      <td>0.0</td>\n",
              "      <td>0.0</td>\n",
              "      <td>0.0</td>\n",
              "      <td>0.0</td>\n",
              "      <td>0.0</td>\n",
              "      <td>0.0</td>\n",
              "      <td>0.0</td>\n",
              "      <td>0.0</td>\n",
              "      <td>1.0</td>\n",
              "      <td>0.0</td>\n",
              "      <td>0.0</td>\n",
              "      <td>0.0</td>\n",
              "      <td>0.0</td>\n",
              "      <td>0.0</td>\n",
              "      <td>1.0</td>\n",
              "      <td>0.0</td>\n",
              "      <td>0.0</td>\n",
              "      <td>0.0</td>\n",
              "      <td>0.0</td>\n",
              "      <td>0.0</td>\n",
              "      <td>1.0</td>\n",
              "    </tr>\n",
              "  </tbody>\n",
              "</table>\n",
              "<p>1000 rows × 64 columns</p>\n",
              "</div>"
            ],
            "text/plain": [
              "     Physician_ID  ...  x3_In-kind items and services\n",
              "0              14  ...                            1.0\n",
              "1              18  ...                            1.0\n",
              "2              42  ...                            1.0\n",
              "3              46  ...                            1.0\n",
              "4              47  ...                            1.0\n",
              "..            ...  ...                            ...\n",
              "995          5953  ...                            1.0\n",
              "996          5959  ...                            1.0\n",
              "997          5964  ...                            1.0\n",
              "998          5972  ...                            1.0\n",
              "999          5999  ...                            1.0\n",
              "\n",
              "[1000 rows x 64 columns]"
            ]
          },
          "metadata": {
            "tags": []
          },
          "execution_count": 123
        }
      ]
    },
    {
      "cell_type": "code",
      "metadata": {
        "colab": {
          "base_uri": "https://localhost:8080/"
        },
        "id": "8qjCAHYv0FEw",
        "outputId": "cc2c0306-5a7a-48d7-fd10-d33571f03300"
      },
      "source": [
        "enc_features = test_final.columns[1:test_final.columns.shape[0]]\n",
        "\n",
        "enc_features"
      ],
      "execution_count": null,
      "outputs": [
        {
          "output_type": "execute_result",
          "data": {
            "text/plain": [
              "Index(['total_payments', 'number_of_payments', 'total_of_nature', 'range',\n",
              "       'number_of_payment_range', 'x0_Allergy & Immunology',\n",
              "       'x0_Anesthesiology', 'x0_Colon & Rectal Surgery', 'x0_Dental Providers',\n",
              "       'x0_Dermatology', 'x0_Emergency Medicine',\n",
              "       'x0_Eye and Vision Services Providers', 'x0_Family Medicine',\n",
              "       'x0_General Practice', 'x0_Hospitalist', 'x0_Internal Medicine',\n",
              "       'x0_Neurological Surgery', 'x0_Obstetrics & Gynecology',\n",
              "       'x0_Ophthalmology', 'x0_Orthopaedic Surgery', 'x0_Otolaryngology',\n",
              "       'x0_Pain Medicine', 'x0_Pathology', 'x0_Pediatrics', 'x0_Phlebology',\n",
              "       'x0_Physical Medicine & Rehabilitation', 'x0_Plastic Surgery',\n",
              "       'x0_Podiatric Medicine & Surgery Service Providers',\n",
              "       'x0_Preventive Medicine', 'x0_Psychiatry & Neurology', 'x0_Radiology',\n",
              "       'x0_Surgery', 'x0_Thoracic Surgery (Cardiothoracic Vascular Surgery)',\n",
              "       'x0_Urology',\n",
              "       'x1_Compensation for services other than consulting, including serving as faculty or as a speaker at a venue other than a continuing education program',\n",
              "       'x1_Compensation for serving as faculty or as a speaker for a non-accredited and noncertified continuing education program',\n",
              "       'x1_Consulting Fee', 'x1_Education', 'x1_Food and Beverage', 'x1_Gift',\n",
              "       'x1_Grant', 'x1_Honoraria', 'x1_Royalty or License',\n",
              "       'x1_Travel and Lodging'],\n",
              "      dtype='object')"
            ]
          },
          "metadata": {
            "tags": []
          },
          "execution_count": 50
        }
      ]
    },
    {
      "cell_type": "code",
      "metadata": {
        "id": "peYxISKO0GXR",
        "colab": {
          "base_uri": "https://localhost:8080/"
        },
        "outputId": "6670885c-e448-4aa1-b176-8705d461293f"
      },
      "source": [
        "\n",
        "~X_train.columns.isin(X_test.columns)"
      ],
      "execution_count": 128,
      "outputs": [
        {
          "output_type": "execute_result",
          "data": {
            "text/plain": [
              "array([False, False, False, False, False, False, False, False, False,\n",
              "       False, False, False, False, False, False, False, False, False,\n",
              "       False, False, False, False, False, False, False, False, False,\n",
              "       False, False, False, False, False, False, False, False, False,\n",
              "       False, False, False, False, False, False, False, False, False,\n",
              "       False, False, False, False, False, False, False, False, False,\n",
              "       False, False, False, False, False, False, False, False, False,\n",
              "       False, False, False, False, False, False, False, False, False])"
            ]
          },
          "metadata": {
            "tags": []
          },
          "execution_count": 128
        }
      ]
    },
    {
      "cell_type": "code",
      "metadata": {
        "colab": {
          "base_uri": "https://localhost:8080/"
        },
        "id": "eHCfsHMOq5kW",
        "outputId": "114b8d99-99d4-4755-a1e7-0efeaaf56b99"
      },
      "source": [
        "~X_test.columns.isin(X_train.columns)"
      ],
      "execution_count": 129,
      "outputs": [
        {
          "output_type": "execute_result",
          "data": {
            "text/plain": [
              "array([False, False, False, False, False, False, False, False, False,\n",
              "       False, False, False, False, False, False, False, False, False,\n",
              "       False, False, False, False, False, False, False, False, False,\n",
              "       False, False, False, False, False, False, False, False, False,\n",
              "       False, False, False, False, False, False, False, False, False,\n",
              "       False, False, False, False, False, False, False, False, False,\n",
              "       False, False, False, False, False, False, False, False, False,\n",
              "       False, False, False, False, False, False, False, False, False])"
            ]
          },
          "metadata": {
            "tags": []
          },
          "execution_count": 129
        }
      ]
    },
    {
      "cell_type": "markdown",
      "metadata": {
        "id": "QRGwK7JlT2W2"
      },
      "source": [
        "End encoding & preprocessing"
      ]
    },
    {
      "cell_type": "code",
      "metadata": {
        "colab": {
          "base_uri": "https://localhost:8080/"
        },
        "id": "KjrfIV_DYMZi",
        "outputId": "75f81169-27a9-4219-a3a0-5e5cbc36ebcb"
      },
      "source": [
        "X_train.shape, X_test.shape, y_train.shape, y_test.shape"
      ],
      "execution_count": 126,
      "outputs": [
        {
          "output_type": "execute_result",
          "data": {
            "text/plain": [
              "((4000, 72), (999, 72), (4000,), (999,))"
            ]
          },
          "metadata": {
            "tags": []
          },
          "execution_count": 126
        }
      ]
    },
    {
      "cell_type": "code",
      "metadata": {
        "colab": {
          "base_uri": "https://localhost:8080/",
          "height": 435
        },
        "id": "2CuIOASamrKl",
        "outputId": "7fd61f68-a698-40a5-c756-89c8284705b8"
      },
      "source": [
        "X_train.head()"
      ],
      "execution_count": 127,
      "outputs": [
        {
          "output_type": "execute_result",
          "data": {
            "text/html": [
              "<div>\n",
              "<style scoped>\n",
              "    .dataframe tbody tr th:only-of-type {\n",
              "        vertical-align: middle;\n",
              "    }\n",
              "\n",
              "    .dataframe tbody tr th {\n",
              "        vertical-align: top;\n",
              "    }\n",
              "\n",
              "    .dataframe thead th {\n",
              "        text-align: right;\n",
              "    }\n",
              "</style>\n",
              "<table border=\"1\" class=\"dataframe\">\n",
              "  <thead>\n",
              "    <tr style=\"text-align: right;\">\n",
              "      <th></th>\n",
              "      <th>total_payments</th>\n",
              "      <th>number_of_payments</th>\n",
              "      <th>total_of_top_nature</th>\n",
              "      <th>range_count</th>\n",
              "      <th>range_total</th>\n",
              "      <th>top_company</th>\n",
              "      <th>pay_count</th>\n",
              "      <th>std</th>\n",
              "      <th>rpi_count</th>\n",
              "      <th>cash</th>\n",
              "      <th>services</th>\n",
              "      <th>stock</th>\n",
              "      <th>stock_opt</th>\n",
              "      <th>any_ownership</th>\n",
              "      <th>dividend</th>\n",
              "      <th>stock_or_other</th>\n",
              "      <th>fop_count</th>\n",
              "      <th>x0_Allergy &amp; Immunology</th>\n",
              "      <th>x0_Anesthesiology</th>\n",
              "      <th>x0_Chiropractic Providers</th>\n",
              "      <th>x0_Colon &amp; Rectal Surgery</th>\n",
              "      <th>x0_Dental Providers</th>\n",
              "      <th>x0_Dermatology</th>\n",
              "      <th>x0_Emergency Medicine</th>\n",
              "      <th>x0_Eye and Vision Services Providers</th>\n",
              "      <th>x0_Family Medicine</th>\n",
              "      <th>x0_General Practice</th>\n",
              "      <th>x0_Hospitalist</th>\n",
              "      <th>x0_Internal Medicine</th>\n",
              "      <th>x0_Medical Genetics</th>\n",
              "      <th>x0_Neurological Surgery</th>\n",
              "      <th>x0_Neuromusculoskeletal Medicine &amp; OMM</th>\n",
              "      <th>x0_Neuromusculoskeletal Medicine, Sports Medicine</th>\n",
              "      <th>x0_Nuclear Medicine</th>\n",
              "      <th>x0_Obstetrics &amp; Gynecology</th>\n",
              "      <th>x0_Ophthalmology</th>\n",
              "      <th>x0_Oral &amp; Maxillofacial Surgery</th>\n",
              "      <th>x0_Orthopaedic Surgery</th>\n",
              "      <th>x0_Otolaryngology</th>\n",
              "      <th>x0_Pain Medicine</th>\n",
              "      <th>x0_Pathology</th>\n",
              "      <th>x0_Pediatrics</th>\n",
              "      <th>x0_Physical Medicine &amp; Rehabilitation</th>\n",
              "      <th>x0_Plastic Surgery</th>\n",
              "      <th>x0_Podiatric Medicine &amp; Surgery Service Providers</th>\n",
              "      <th>x0_Preventive Medicine</th>\n",
              "      <th>x0_Psychiatry &amp; Neurology</th>\n",
              "      <th>x0_Radiology</th>\n",
              "      <th>x0_Surgery</th>\n",
              "      <th>x0_Thoracic Surgery (Cardiothoracic Vascular Surgery)</th>\n",
              "      <th>x0_Urology</th>\n",
              "      <th>x1_Charitable Contribution</th>\n",
              "      <th>x1_Compensation for services other than consulting, including serving as faculty or as a speaker at a venue other than a continuing education program</th>\n",
              "      <th>x1_Compensation for serving as faculty or as a speaker for a non-accredited and noncertified continuing education program</th>\n",
              "      <th>x1_Compensation for serving as faculty or as a speaker for an accredited or certified continuing education program</th>\n",
              "      <th>x1_Consulting Fee</th>\n",
              "      <th>x1_Current or prospective ownership or investment interest</th>\n",
              "      <th>x1_Education</th>\n",
              "      <th>x1_Food and Beverage</th>\n",
              "      <th>x1_Gift</th>\n",
              "      <th>x1_Grant</th>\n",
              "      <th>x1_Honoraria</th>\n",
              "      <th>x1_Royalty or License</th>\n",
              "      <th>x1_Travel and Lodging</th>\n",
              "      <th>x2_Combination</th>\n",
              "      <th>x2_Covered</th>\n",
              "      <th>x2_No</th>\n",
              "      <th>x2_Non-Covered</th>\n",
              "      <th>x2_None</th>\n",
              "      <th>x2_Yes</th>\n",
              "      <th>x3_Cash or cash equivalent</th>\n",
              "      <th>x3_In-kind items and services</th>\n",
              "    </tr>\n",
              "  </thead>\n",
              "  <tbody>\n",
              "    <tr>\n",
              "      <th>0</th>\n",
              "      <td>952.93</td>\n",
              "      <td>47</td>\n",
              "      <td>842.44</td>\n",
              "      <td>8</td>\n",
              "      <td>170.41</td>\n",
              "      <td>550</td>\n",
              "      <td>18</td>\n",
              "      <td>6.498346</td>\n",
              "      <td>26</td>\n",
              "      <td>4.0</td>\n",
              "      <td>43.0</td>\n",
              "      <td>0.0</td>\n",
              "      <td>0.0</td>\n",
              "      <td>0.0</td>\n",
              "      <td>0.0</td>\n",
              "      <td>0.0</td>\n",
              "      <td>43</td>\n",
              "      <td>0.0</td>\n",
              "      <td>0.0</td>\n",
              "      <td>0.0</td>\n",
              "      <td>0.0</td>\n",
              "      <td>0.0</td>\n",
              "      <td>0.0</td>\n",
              "      <td>0.0</td>\n",
              "      <td>0.0</td>\n",
              "      <td>0.0</td>\n",
              "      <td>0.0</td>\n",
              "      <td>0.0</td>\n",
              "      <td>0.0</td>\n",
              "      <td>0.0</td>\n",
              "      <td>0.0</td>\n",
              "      <td>0.0</td>\n",
              "      <td>0.0</td>\n",
              "      <td>0.0</td>\n",
              "      <td>1.0</td>\n",
              "      <td>0.0</td>\n",
              "      <td>0.0</td>\n",
              "      <td>0.0</td>\n",
              "      <td>0.0</td>\n",
              "      <td>0.0</td>\n",
              "      <td>0.0</td>\n",
              "      <td>0.0</td>\n",
              "      <td>0.0</td>\n",
              "      <td>0.0</td>\n",
              "      <td>0.0</td>\n",
              "      <td>0.0</td>\n",
              "      <td>0.0</td>\n",
              "      <td>0.0</td>\n",
              "      <td>0.0</td>\n",
              "      <td>0.0</td>\n",
              "      <td>0.0</td>\n",
              "      <td>0.0</td>\n",
              "      <td>0.0</td>\n",
              "      <td>0.0</td>\n",
              "      <td>0.0</td>\n",
              "      <td>0.0</td>\n",
              "      <td>0.0</td>\n",
              "      <td>0.0</td>\n",
              "      <td>1.0</td>\n",
              "      <td>0.0</td>\n",
              "      <td>0.0</td>\n",
              "      <td>0.0</td>\n",
              "      <td>0.0</td>\n",
              "      <td>0.0</td>\n",
              "      <td>0.0</td>\n",
              "      <td>1.0</td>\n",
              "      <td>0.0</td>\n",
              "      <td>0.0</td>\n",
              "      <td>0.0</td>\n",
              "      <td>0.0</td>\n",
              "      <td>0.0</td>\n",
              "      <td>1.0</td>\n",
              "    </tr>\n",
              "    <tr>\n",
              "      <th>1</th>\n",
              "      <td>120924.92</td>\n",
              "      <td>154</td>\n",
              "      <td>45190.70</td>\n",
              "      <td>45</td>\n",
              "      <td>35030.52</td>\n",
              "      <td>601</td>\n",
              "      <td>13</td>\n",
              "      <td>478.199770</td>\n",
              "      <td>88</td>\n",
              "      <td>72.0</td>\n",
              "      <td>82.0</td>\n",
              "      <td>0.0</td>\n",
              "      <td>0.0</td>\n",
              "      <td>0.0</td>\n",
              "      <td>0.0</td>\n",
              "      <td>0.0</td>\n",
              "      <td>82</td>\n",
              "      <td>0.0</td>\n",
              "      <td>1.0</td>\n",
              "      <td>0.0</td>\n",
              "      <td>0.0</td>\n",
              "      <td>0.0</td>\n",
              "      <td>0.0</td>\n",
              "      <td>0.0</td>\n",
              "      <td>0.0</td>\n",
              "      <td>0.0</td>\n",
              "      <td>0.0</td>\n",
              "      <td>0.0</td>\n",
              "      <td>0.0</td>\n",
              "      <td>0.0</td>\n",
              "      <td>0.0</td>\n",
              "      <td>0.0</td>\n",
              "      <td>0.0</td>\n",
              "      <td>0.0</td>\n",
              "      <td>0.0</td>\n",
              "      <td>0.0</td>\n",
              "      <td>0.0</td>\n",
              "      <td>0.0</td>\n",
              "      <td>0.0</td>\n",
              "      <td>0.0</td>\n",
              "      <td>0.0</td>\n",
              "      <td>0.0</td>\n",
              "      <td>0.0</td>\n",
              "      <td>0.0</td>\n",
              "      <td>0.0</td>\n",
              "      <td>0.0</td>\n",
              "      <td>0.0</td>\n",
              "      <td>0.0</td>\n",
              "      <td>0.0</td>\n",
              "      <td>0.0</td>\n",
              "      <td>0.0</td>\n",
              "      <td>0.0</td>\n",
              "      <td>1.0</td>\n",
              "      <td>0.0</td>\n",
              "      <td>0.0</td>\n",
              "      <td>0.0</td>\n",
              "      <td>0.0</td>\n",
              "      <td>0.0</td>\n",
              "      <td>0.0</td>\n",
              "      <td>0.0</td>\n",
              "      <td>0.0</td>\n",
              "      <td>0.0</td>\n",
              "      <td>0.0</td>\n",
              "      <td>0.0</td>\n",
              "      <td>0.0</td>\n",
              "      <td>1.0</td>\n",
              "      <td>0.0</td>\n",
              "      <td>0.0</td>\n",
              "      <td>0.0</td>\n",
              "      <td>0.0</td>\n",
              "      <td>0.0</td>\n",
              "      <td>1.0</td>\n",
              "    </tr>\n",
              "    <tr>\n",
              "      <th>2</th>\n",
              "      <td>3523.93</td>\n",
              "      <td>132</td>\n",
              "      <td>3523.93</td>\n",
              "      <td>12</td>\n",
              "      <td>462.42</td>\n",
              "      <td>340</td>\n",
              "      <td>15</td>\n",
              "      <td>35.449082</td>\n",
              "      <td>75</td>\n",
              "      <td>39.0</td>\n",
              "      <td>93.0</td>\n",
              "      <td>0.0</td>\n",
              "      <td>0.0</td>\n",
              "      <td>0.0</td>\n",
              "      <td>0.0</td>\n",
              "      <td>0.0</td>\n",
              "      <td>93</td>\n",
              "      <td>0.0</td>\n",
              "      <td>0.0</td>\n",
              "      <td>0.0</td>\n",
              "      <td>0.0</td>\n",
              "      <td>0.0</td>\n",
              "      <td>0.0</td>\n",
              "      <td>0.0</td>\n",
              "      <td>0.0</td>\n",
              "      <td>0.0</td>\n",
              "      <td>0.0</td>\n",
              "      <td>0.0</td>\n",
              "      <td>0.0</td>\n",
              "      <td>0.0</td>\n",
              "      <td>0.0</td>\n",
              "      <td>0.0</td>\n",
              "      <td>0.0</td>\n",
              "      <td>0.0</td>\n",
              "      <td>0.0</td>\n",
              "      <td>0.0</td>\n",
              "      <td>0.0</td>\n",
              "      <td>0.0</td>\n",
              "      <td>0.0</td>\n",
              "      <td>0.0</td>\n",
              "      <td>0.0</td>\n",
              "      <td>0.0</td>\n",
              "      <td>0.0</td>\n",
              "      <td>0.0</td>\n",
              "      <td>1.0</td>\n",
              "      <td>0.0</td>\n",
              "      <td>0.0</td>\n",
              "      <td>0.0</td>\n",
              "      <td>0.0</td>\n",
              "      <td>0.0</td>\n",
              "      <td>0.0</td>\n",
              "      <td>0.0</td>\n",
              "      <td>0.0</td>\n",
              "      <td>0.0</td>\n",
              "      <td>0.0</td>\n",
              "      <td>0.0</td>\n",
              "      <td>0.0</td>\n",
              "      <td>0.0</td>\n",
              "      <td>1.0</td>\n",
              "      <td>0.0</td>\n",
              "      <td>0.0</td>\n",
              "      <td>0.0</td>\n",
              "      <td>0.0</td>\n",
              "      <td>0.0</td>\n",
              "      <td>0.0</td>\n",
              "      <td>0.0</td>\n",
              "      <td>0.0</td>\n",
              "      <td>0.0</td>\n",
              "      <td>0.0</td>\n",
              "      <td>1.0</td>\n",
              "      <td>0.0</td>\n",
              "      <td>1.0</td>\n",
              "    </tr>\n",
              "    <tr>\n",
              "      <th>3</th>\n",
              "      <td>26745.61</td>\n",
              "      <td>411</td>\n",
              "      <td>18011.81</td>\n",
              "      <td>50</td>\n",
              "      <td>13247.09</td>\n",
              "      <td>18</td>\n",
              "      <td>32</td>\n",
              "      <td>129.869365</td>\n",
              "      <td>231</td>\n",
              "      <td>131.0</td>\n",
              "      <td>280.0</td>\n",
              "      <td>0.0</td>\n",
              "      <td>0.0</td>\n",
              "      <td>0.0</td>\n",
              "      <td>0.0</td>\n",
              "      <td>0.0</td>\n",
              "      <td>280</td>\n",
              "      <td>0.0</td>\n",
              "      <td>0.0</td>\n",
              "      <td>0.0</td>\n",
              "      <td>0.0</td>\n",
              "      <td>0.0</td>\n",
              "      <td>0.0</td>\n",
              "      <td>0.0</td>\n",
              "      <td>0.0</td>\n",
              "      <td>0.0</td>\n",
              "      <td>0.0</td>\n",
              "      <td>0.0</td>\n",
              "      <td>1.0</td>\n",
              "      <td>0.0</td>\n",
              "      <td>0.0</td>\n",
              "      <td>0.0</td>\n",
              "      <td>0.0</td>\n",
              "      <td>0.0</td>\n",
              "      <td>0.0</td>\n",
              "      <td>0.0</td>\n",
              "      <td>0.0</td>\n",
              "      <td>0.0</td>\n",
              "      <td>0.0</td>\n",
              "      <td>0.0</td>\n",
              "      <td>0.0</td>\n",
              "      <td>0.0</td>\n",
              "      <td>0.0</td>\n",
              "      <td>0.0</td>\n",
              "      <td>0.0</td>\n",
              "      <td>0.0</td>\n",
              "      <td>0.0</td>\n",
              "      <td>0.0</td>\n",
              "      <td>0.0</td>\n",
              "      <td>0.0</td>\n",
              "      <td>0.0</td>\n",
              "      <td>0.0</td>\n",
              "      <td>1.0</td>\n",
              "      <td>0.0</td>\n",
              "      <td>0.0</td>\n",
              "      <td>0.0</td>\n",
              "      <td>0.0</td>\n",
              "      <td>0.0</td>\n",
              "      <td>0.0</td>\n",
              "      <td>0.0</td>\n",
              "      <td>0.0</td>\n",
              "      <td>0.0</td>\n",
              "      <td>0.0</td>\n",
              "      <td>0.0</td>\n",
              "      <td>0.0</td>\n",
              "      <td>0.0</td>\n",
              "      <td>0.0</td>\n",
              "      <td>0.0</td>\n",
              "      <td>0.0</td>\n",
              "      <td>1.0</td>\n",
              "      <td>0.0</td>\n",
              "      <td>1.0</td>\n",
              "    </tr>\n",
              "    <tr>\n",
              "      <th>4</th>\n",
              "      <td>25411.21</td>\n",
              "      <td>98</td>\n",
              "      <td>8792.00</td>\n",
              "      <td>18</td>\n",
              "      <td>9079.72</td>\n",
              "      <td>442</td>\n",
              "      <td>13</td>\n",
              "      <td>1741.832451</td>\n",
              "      <td>41</td>\n",
              "      <td>16.0</td>\n",
              "      <td>82.0</td>\n",
              "      <td>0.0</td>\n",
              "      <td>0.0</td>\n",
              "      <td>0.0</td>\n",
              "      <td>0.0</td>\n",
              "      <td>0.0</td>\n",
              "      <td>82</td>\n",
              "      <td>0.0</td>\n",
              "      <td>0.0</td>\n",
              "      <td>0.0</td>\n",
              "      <td>0.0</td>\n",
              "      <td>0.0</td>\n",
              "      <td>0.0</td>\n",
              "      <td>0.0</td>\n",
              "      <td>0.0</td>\n",
              "      <td>0.0</td>\n",
              "      <td>0.0</td>\n",
              "      <td>0.0</td>\n",
              "      <td>0.0</td>\n",
              "      <td>0.0</td>\n",
              "      <td>0.0</td>\n",
              "      <td>0.0</td>\n",
              "      <td>0.0</td>\n",
              "      <td>0.0</td>\n",
              "      <td>0.0</td>\n",
              "      <td>0.0</td>\n",
              "      <td>0.0</td>\n",
              "      <td>1.0</td>\n",
              "      <td>0.0</td>\n",
              "      <td>0.0</td>\n",
              "      <td>0.0</td>\n",
              "      <td>0.0</td>\n",
              "      <td>0.0</td>\n",
              "      <td>0.0</td>\n",
              "      <td>0.0</td>\n",
              "      <td>0.0</td>\n",
              "      <td>0.0</td>\n",
              "      <td>0.0</td>\n",
              "      <td>0.0</td>\n",
              "      <td>0.0</td>\n",
              "      <td>0.0</td>\n",
              "      <td>0.0</td>\n",
              "      <td>0.0</td>\n",
              "      <td>0.0</td>\n",
              "      <td>0.0</td>\n",
              "      <td>0.0</td>\n",
              "      <td>0.0</td>\n",
              "      <td>1.0</td>\n",
              "      <td>0.0</td>\n",
              "      <td>0.0</td>\n",
              "      <td>0.0</td>\n",
              "      <td>0.0</td>\n",
              "      <td>0.0</td>\n",
              "      <td>0.0</td>\n",
              "      <td>0.0</td>\n",
              "      <td>1.0</td>\n",
              "      <td>0.0</td>\n",
              "      <td>0.0</td>\n",
              "      <td>0.0</td>\n",
              "      <td>0.0</td>\n",
              "      <td>0.0</td>\n",
              "      <td>1.0</td>\n",
              "    </tr>\n",
              "  </tbody>\n",
              "</table>\n",
              "</div>"
            ],
            "text/plain": [
              "   total_payments  ...  x3_In-kind items and services\n",
              "0          952.93  ...                            1.0\n",
              "1       120924.92  ...                            1.0\n",
              "2         3523.93  ...                            1.0\n",
              "3        26745.61  ...                            1.0\n",
              "4        25411.21  ...                            1.0\n",
              "\n",
              "[5 rows x 72 columns]"
            ]
          },
          "metadata": {
            "tags": []
          },
          "execution_count": 127
        }
      ]
    },
    {
      "cell_type": "markdown",
      "metadata": {
        "id": "tO3YF0MBl_6W"
      },
      "source": [
        "# Random Resampling"
      ]
    },
    {
      "cell_type": "markdown",
      "metadata": {
        "id": "n0XFcIdgli82"
      },
      "source": [
        "Things to try:\n",
        "**Random Oversampling**:  \n",
        "https://machinelearningmastery.com/random-oversampling-and-undersampling-for-imbalanced-classification/"
      ]
    },
    {
      "cell_type": "markdown",
      "metadata": {
        "id": "wuV-58HWl4AW"
      },
      "source": [
        "The simplest strategy is to choose examples for the transformed dataset randomly, called random resampling.  \n",
        "\n",
        "Resampling involves creating a new transformed version of the training dataset in which the selected examples have a different class distribution.  \n",
        "\n",
        "There are two main approaches to random resampling for imbalanced classification; they are oversampling and undersampling.\n",
        "\n",
        "**Random Oversampling**: Randomly duplicate examples in the minority class.  \n",
        "**Random Undersampling**: Randomly delete examples in the majority class"
      ]
    },
    {
      "cell_type": "code",
      "metadata": {
        "colab": {
          "base_uri": "https://localhost:8080/"
        },
        "id": "tArwi1AEm_KY",
        "outputId": "1ee026f3-e03a-4b49-aadb-56f8c66d04dc"
      },
      "source": [
        "# summarize class distribution\n",
        "print(Counter(y_train))\n",
        "# define oversampling strategy\n",
        "oversample = RandomOverSampler(sampling_strategy='minority')\n",
        "# fit and apply the transform\n",
        "X_train_over, y_train_over = oversample.fit_resample(X_train, y_train)\n",
        "# summarize class distribution\n",
        "print(Counter(y_train_over))"
      ],
      "execution_count": 220,
      "outputs": [
        {
          "output_type": "stream",
          "text": [
            "Counter({0: 3757, 1: 243})\n",
            "Counter({0: 3757, 1: 3757})\n"
          ],
          "name": "stdout"
        }
      ]
    },
    {
      "cell_type": "code",
      "metadata": {
        "colab": {
          "base_uri": "https://localhost:8080/"
        },
        "id": "znX8txmb323M",
        "outputId": "d5f8db7b-5e43-487b-9c02-aa987680f734"
      },
      "source": [
        "# summarize class distribution\n",
        "print(Counter(y_test))\n",
        "# define oversampling strategy\n",
        "oversample = RandomOverSampler(sampling_strategy='minority')\n",
        "# fit and apply the transform\n",
        "X_test_over, y_test_over = oversample.fit_resample(X_test, y_test)\n",
        "# summarize class distribution\n",
        "print(Counter(y_test_over))"
      ],
      "execution_count": 228,
      "outputs": [
        {
          "output_type": "stream",
          "text": [
            "Counter({0: 942, 1: 57})\n",
            "Counter({0: 942, 1: 942})\n"
          ],
          "name": "stdout"
        }
      ]
    },
    {
      "cell_type": "markdown",
      "metadata": {
        "id": "-UGiPFvxpMnX"
      },
      "source": [
        "We have randomly oversampled the 241 instances of the minority class and we now have 3759 instances in each class "
      ]
    },
    {
      "cell_type": "markdown",
      "metadata": {
        "id": "AyEaX4owaWvX"
      },
      "source": [
        "**Using the XGB Classifier with randomly resampled data:**\n",
        "\n"
      ]
    },
    {
      "cell_type": "code",
      "metadata": {
        "id": "7lvjmAJgak5g"
      },
      "source": [
        "# initilizing the XGBClassifier as an object: (using all the default hyperparameters)\n",
        "# here we initialize an XGBClassifier with a scale_pos_weight for imbalanced classification data\n",
        "xgbc_os = xgb.XGBClassifier()\n",
        "\n"
      ],
      "execution_count": 221,
      "outputs": []
    },
    {
      "cell_type": "code",
      "metadata": {
        "id": "q_P_69Mra1lU"
      },
      "source": [
        "# CV type 3: repeated stratified k-fold CV (due to imbalance in the data set) \n",
        "# maintains the ratio of instances in each class for each fold\n",
        "# Repeated stratified k-fold CV involves simply repeating the cross-validation procedure multiple times \n",
        "# and reporting the mean result across all folds from all runs\n",
        "\n",
        "n_folds=3 # no. of folds\n",
        "n_repeats=3 # no. of runs\n",
        "\n",
        "rskfold = RepeatedStratifiedKFold(n_splits=n_folds,n_repeats=n_repeats,\n",
        "                                 random_state=123)"
      ],
      "execution_count": 222,
      "outputs": []
    },
    {
      "cell_type": "code",
      "metadata": {
        "colab": {
          "base_uri": "https://localhost:8080/"
        },
        "id": "otIitD7ya1lV",
        "outputId": "8688fbd8-a563-4acf-96f3-bcbb0108166e"
      },
      "source": [
        "# estimator = xgbc is the xgb classifier model; \"cv\" determines the cross validation splitting strategy; \"scoring\" determines the loss function\n",
        "clf_rscv_scores_os = cross_val_score(xgbc_os, X_train_over, y_train_over, cv=rskfold, scoring='balanced_accuracy')\n",
        "print(\"Repeated Stratified K-fold CV average score: %.2f\" % clf_rscv_scores_os.mean())\n",
        "\n",
        "clf_rscv_scores_os # score per fold and run"
      ],
      "execution_count": 223,
      "outputs": [
        {
          "output_type": "stream",
          "text": [
            "Repeated Stratified K-fold CV average score: 0.84\n"
          ],
          "name": "stdout"
        },
        {
          "output_type": "execute_result",
          "data": {
            "text/plain": [
              "array([0.83352892, 0.85868166, 0.83226837, 0.82434649, 0.8427257 ,\n",
              "       0.84664537, 0.83712094, 0.83473338, 0.84864217])"
            ]
          },
          "metadata": {
            "tags": []
          },
          "execution_count": 223
        }
      ]
    },
    {
      "cell_type": "code",
      "metadata": {
        "id": "aMFfrttpa1lX"
      },
      "source": [
        "# define a search space for the RSCV\n",
        "space = dict()\n",
        "# Log-uniform is useful for searching penalty values as we often explore values at different orders of magnitude, at least as a first step.\n",
        "space['reg_lambda'] = loguniform(1e-5, 100)\n",
        "space['reg_alpha'] = loguniform(1e-5, 100) # loguniform distribution\n",
        "space['max_depth'] = [3, 4, 5, 6, 7, 8, 9] # fixed set of values\n",
        "space['min_child_weight'] = [1, 2, 3, 4]\n",
        "space['colsample_by_tree'] = uniform(0.5, 0.4) # uniform distribution with lower bound 0.5 and range 0.4 so between 0.5 and 0.9\n",
        "space['subsample'] = uniform(0.5, 0.4)\n",
        "space['n_estimators'] = randint(150, 1000) # returns a pseudo random integer number from the given range \n",
        "space['learning_rate'] = uniform(0.01, 0.6)\n"
      ],
      "execution_count": null,
      "outputs": []
    },
    {
      "cell_type": "code",
      "metadata": {
        "id": "NZASw9DLa1lX"
      },
      "source": [
        "# Randomized Search cross validation (scoring parameter is used to set the loss function for the gscv)\n",
        "# n_iter: sets the number of iterations (the # of random combinations from the search space to try)\n",
        "\n",
        "xgbc_rscv_os = RandomizedSearchCV(estimator = xgbc_os, \n",
        "                               n_iter= 20, \n",
        "                               scoring = 'balanced_accuracy', \n",
        "                               param_distributions = space, \n",
        "                               verbose=2, \n",
        "                               cv = rskfold, \n",
        "                               n_jobs=-1, \n",
        "                               random_state=123,\n",
        "                               return_train_score = True)"
      ],
      "execution_count": null,
      "outputs": []
    },
    {
      "cell_type": "code",
      "metadata": {
        "colab": {
          "base_uri": "https://localhost:8080/"
        },
        "id": "lTZbQB7ka1lY",
        "outputId": "19f9ce05-3d68-4398-8f57-1ee666c3070e"
      },
      "source": [
        "# fitting the model multiple times to find the best hyperparameter combination\n",
        "xgbc_rscv_os.fit(X_train_over, y_train_over)"
      ],
      "execution_count": null,
      "outputs": [
        {
          "output_type": "stream",
          "text": [
            "Fitting 9 folds for each of 20 candidates, totalling 180 fits\n"
          ],
          "name": "stdout"
        },
        {
          "output_type": "stream",
          "text": [
            "[Parallel(n_jobs=-1)]: Using backend LokyBackend with 2 concurrent workers.\n",
            "[Parallel(n_jobs=-1)]: Done  37 tasks      | elapsed:  3.9min\n",
            "[Parallel(n_jobs=-1)]: Done 158 tasks      | elapsed: 16.6min\n",
            "[Parallel(n_jobs=-1)]: Done 180 out of 180 | elapsed: 17.8min finished\n"
          ],
          "name": "stderr"
        },
        {
          "output_type": "execute_result",
          "data": {
            "text/plain": [
              "RandomizedSearchCV(cv=RepeatedStratifiedKFold(n_repeats=3, n_splits=3, random_state=123),\n",
              "                   error_score=nan,\n",
              "                   estimator=XGBClassifier(base_score=0.5, booster='gbtree',\n",
              "                                           colsample_bylevel=1,\n",
              "                                           colsample_bynode=1,\n",
              "                                           colsample_bytree=1, gamma=0,\n",
              "                                           learning_rate=0.1, max_delta_step=0,\n",
              "                                           max_depth=3, min_child_weight=1,\n",
              "                                           missing=None, n_estimators=100,\n",
              "                                           n_jobs=1, nthread=None,\n",
              "                                           objecti...\n",
              "                                        'reg_alpha': <scipy.stats._distn_infrastructure.rv_frozen object at 0x7f82f776d438>,\n",
              "                                        'reg_lambda': <scipy.stats._distn_infrastructure.rv_frozen object at 0x7f82f776d390>,\n",
              "                                        'subsample': <scipy.stats._distn_infrastructure.rv_frozen object at 0x7f82f776d8d0>},\n",
              "                   pre_dispatch='2*n_jobs', random_state=123, refit=True,\n",
              "                   return_train_score=True, scoring='balanced_accuracy',\n",
              "                   verbose=2)"
            ]
          },
          "metadata": {
            "tags": []
          },
          "execution_count": 45
        }
      ]
    },
    {
      "cell_type": "code",
      "metadata": {
        "colab": {
          "base_uri": "https://localhost:8080/"
        },
        "id": "Ys1Vy_4ya1la",
        "outputId": "e341e26a-b218-4796-e8c5-d641fc84c6d7"
      },
      "source": [
        "# obtaining the best hyperparameter values from the Randomized Search CV\n",
        "xgbc_rscv_os.best_params_"
      ],
      "execution_count": null,
      "outputs": [
        {
          "output_type": "execute_result",
          "data": {
            "text/plain": [
              "{'colsample_by_tree': 0.8397727176311158,\n",
              " 'learning_rate': 0.44467319491638113,\n",
              " 'max_depth': 7,\n",
              " 'min_child_weight': 1,\n",
              " 'n_estimators': 330,\n",
              " 'reg_alpha': 0.008326637080293384,\n",
              " 'reg_lambda': 0.3828680728500237,\n",
              " 'subsample': 0.6495205707200266}"
            ]
          },
          "metadata": {
            "tags": []
          },
          "execution_count": 46
        }
      ]
    },
    {
      "cell_type": "code",
      "metadata": {
        "colab": {
          "base_uri": "https://localhost:8080/"
        },
        "id": "-XkWn3x8a1lb",
        "outputId": "05544def-49c9-4631-dc9a-38804ca5a69c"
      },
      "source": [
        "# best score \n",
        "print(xgbc_rscv_os.scoring, xgbc_rscv_os.best_score_)"
      ],
      "execution_count": null,
      "outputs": [
        {
          "output_type": "stream",
          "text": [
            "balanced_accuracy 0.9804469273743018\n"
          ],
          "name": "stdout"
        }
      ]
    },
    {
      "cell_type": "code",
      "metadata": {
        "id": "rdtTOImXa1le"
      },
      "source": [
        "# setting up the optimal xgb classifier model using the configuration of hyperparameters from the GSCV or RSCV\n",
        "xgbc_opt_os = xgb.XGBClassifier(objective=\"binary:logistic\", obj=\"balanced_accuracy\", feval = \"balanced_accuracy\", scale_pos_weight = 1, booster=\"gbtree\",learning_rate=0.44467319491638113, colsample_bytree=0.8397727176311158, max_depth=7, min_child_weight=1,n_estimators = 330, subsample = 0.6495205707200266, reg_alpha =0.008326637080293384, reg_lambda=0.3828680728500237)"
      ],
      "execution_count": 225,
      "outputs": []
    },
    {
      "cell_type": "code",
      "metadata": {
        "colab": {
          "base_uri": "https://localhost:8080/"
        },
        "id": "Tpox68gla1lf",
        "outputId": "78e17812-9b7a-4d45-cc23-454d931b7763"
      },
      "source": [
        "# fitting the XGB classifier model to the training data (final model with optimal hyperparameters from the gscv)\n",
        "xgbc_opt_os.fit(X_train_over, y_train_over)"
      ],
      "execution_count": 226,
      "outputs": [
        {
          "output_type": "execute_result",
          "data": {
            "text/plain": [
              "XGBClassifier(base_score=0.5, booster='gbtree', colsample_bylevel=1,\n",
              "              colsample_bynode=1, colsample_bytree=0.8397727176311158,\n",
              "              feval='balanced_accuracy', gamma=0,\n",
              "              learning_rate=0.44467319491638113, max_delta_step=0, max_depth=7,\n",
              "              min_child_weight=1, missing=None, n_estimators=330, n_jobs=1,\n",
              "              nthread=None, obj='balanced_accuracy',\n",
              "              objective='binary:logistic', random_state=0,\n",
              "              reg_alpha=0.008326637080293384, reg_lambda=0.3828680728500237,\n",
              "              scale_pos_weight=1, seed=None, silent=None,\n",
              "              subsample=0.6495205707200266, verbosity=1)"
            ]
          },
          "metadata": {
            "tags": []
          },
          "execution_count": 226
        }
      ]
    },
    {
      "cell_type": "code",
      "metadata": {
        "id": "iLJcD0ona1lg"
      },
      "source": [
        "# making predictions using the test data\n",
        "y_pred_xgbc_os = xgbc_opt_os.predict(X_test_over)\n"
      ],
      "execution_count": 230,
      "outputs": []
    },
    {
      "cell_type": "code",
      "metadata": {
        "colab": {
          "base_uri": "https://localhost:8080/"
        },
        "id": "pcqq_lvya1lh",
        "outputId": "f42629c4-f41f-422b-9d29-7d7d48d2b51c"
      },
      "source": [
        "# unique values (of a numpy array) of the predictions\n",
        "np.unique(y_pred_xgbc_os, return_counts=True)\n"
      ],
      "execution_count": 231,
      "outputs": [
        {
          "output_type": "execute_result",
          "data": {
            "text/plain": [
              "(array([0, 1]), array([1582,  302]))"
            ]
          },
          "metadata": {
            "tags": []
          },
          "execution_count": 231
        }
      ]
    },
    {
      "cell_type": "code",
      "metadata": {
        "colab": {
          "base_uri": "https://localhost:8080/"
        },
        "id": "rkqrL0Csa1lj",
        "outputId": "eda227b8-e5e3-4232-a2eb-a46dd1e0f725"
      },
      "source": [
        "np.unique(y_test_over, return_counts=True)"
      ],
      "execution_count": 233,
      "outputs": [
        {
          "output_type": "execute_result",
          "data": {
            "text/plain": [
              "(array([0, 1]), array([942, 942]))"
            ]
          },
          "metadata": {
            "tags": []
          },
          "execution_count": 233
        }
      ]
    },
    {
      "cell_type": "code",
      "metadata": {
        "colab": {
          "base_uri": "https://localhost:8080/"
        },
        "id": "S1-8wp8sa1lr",
        "outputId": "1d311393-a70c-49a1-9dc5-b95494c1de13"
      },
      "source": [
        "# computing the balanced accuracy score for the predictions\n",
        "balanced_accuracy_score(y_test_over, y_pred_xgbc_os)"
      ],
      "execution_count": 235,
      "outputs": [
        {
          "output_type": "execute_result",
          "data": {
            "text/plain": [
              "0.6390658174097664"
            ]
          },
          "metadata": {
            "tags": []
          },
          "execution_count": 235
        }
      ]
    },
    {
      "cell_type": "markdown",
      "metadata": {
        "id": "xOVJd3eemxYu"
      },
      "source": [
        "# Cost-Sensitive Learning"
      ]
    },
    {
      "cell_type": "markdown",
      "metadata": {
        "id": "bSJd9lXNmo6Q"
      },
      "source": [
        "\n",
        "\n",
        "We have discussed sampling techniques and are now ready to discuss cost-sensitive learning. In many ways, the two approaches are analogous — the main difference being that in cost-sensitive learning we perform under- and over-sampling by altering the relative weighting of individual samples"
      ]
    },
    {
      "cell_type": "markdown",
      "metadata": {
        "id": "7ygAqAGIRkmx"
      },
      "source": [
        "* **Upweighting**. Upweighting is analogous to over-sampling and works by increasing the weight of one of the classes keeping the weight of the other class at one.  \n",
        "\n",
        "* **Down-weighting**. Down-weighting is analogous to under-sampling and works by decreasing the weight of one of the classes keeping the weight of the other class at one."
      ]
    },
    {
      "cell_type": "markdown",
      "metadata": {
        "id": "m3MDrnudR12_"
      },
      "source": [
        "The sklearn.utils function class_weight() can be applied to any sklearn classifier and with keras"
      ]
    },
    {
      "cell_type": "markdown",
      "metadata": {
        "id": "Vb6W7xesp_hb"
      },
      "source": [
        "    from sklearn.utils import class_weight\n",
        "    class_weights = class_weight.compute_class_weight('balanced', np.unique(y_train), y_train)\n",
        "    model.fit(X_train, y_train, class_weight=class_weights)"
      ]
    },
    {
      "cell_type": "code",
      "metadata": {
        "id": "YptDYbfQRE-d"
      },
      "source": [
        "# Computing the class weights of the data \n",
        "##class_weights = class_weight.compute_class_weight('balanced', np.unique(y_train), y_train)                                                 np.unique(y_train), y_train)\n",
        "##model.fit(X_train, y_train, class_weight=class_weights) # the class_weights can be applied to any classifier"
      ],
      "execution_count": null,
      "outputs": []
    },
    {
      "cell_type": "markdown",
      "metadata": {
        "id": "4ILF9hWZqUvY"
      },
      "source": [
        "In this case, we have set the instances to be ‘balanced’, meaning that we will treat these instances to have balanced weighting based on their relative number of points — this is what I would recommend unless you have a good reason for setting the values yourself"
      ]
    },
    {
      "cell_type": "markdown",
      "metadata": {
        "id": "W2d01zObGVm7"
      },
      "source": [
        "XGBoostClassifier’s \"scale_pos_weight\" parameter is used to train a class-weighted XGBoost classifier for imbalanced data\n",
        "\n",
        "scale_pos_weight = (sum(negative instances i.e. 0s) / sum(positive instances i.e. 1s)\n",
        "\n",
        "Generally, **scale_pos_weight is the ratio of the number of negative class instances to the number of positive class instances**.\n",
        "\n",
        "Suppose, the dataset has 90 observations of the negative class and 10 observations of the positive class, then the ideal value of scale_pos_weight should be 9."
      ]
    },
    {
      "cell_type": "code",
      "metadata": {
        "colab": {
          "base_uri": "https://localhost:8080/"
        },
        "id": "_JZyA0kgWOA2",
        "outputId": "b5f0c8f5-9461-470d-8438-570a80ea6ce5"
      },
      "source": [
        "# count # of examples/data points in each class\n",
        "counter = Counter(y_train)\n",
        "\n",
        "counter\n"
      ],
      "execution_count": 187,
      "outputs": [
        {
          "output_type": "execute_result",
          "data": {
            "text/plain": [
              "Counter({0: 3757, 1: 243})"
            ]
          },
          "metadata": {
            "tags": []
          },
          "execution_count": 187
        }
      ]
    },
    {
      "cell_type": "code",
      "metadata": {
        "colab": {
          "base_uri": "https://localhost:8080/"
        },
        "id": "tgZh8sXMWaOR",
        "outputId": "3c341d84-9a1a-4301-af47-68c7f94dbae5"
      },
      "source": [
        "# estimate scale_pos_weight value, assuming the class labels are 0 and 1\n",
        "weight = counter[0] / counter[1]\n",
        "\n",
        "weight\n"
      ],
      "execution_count": 188,
      "outputs": [
        {
          "output_type": "execute_result",
          "data": {
            "text/plain": [
              "15.460905349794238"
            ]
          },
          "metadata": {
            "tags": []
          },
          "execution_count": 188
        }
      ]
    },
    {
      "cell_type": "markdown",
      "metadata": {
        "id": "9uP4xvxEjrJy"
      },
      "source": [
        "# XGB Boosting Classifier"
      ]
    },
    {
      "cell_type": "markdown",
      "metadata": {
        "id": "PxMLWRd6UqPR"
      },
      "source": [
        "Blogpost about using an XGB Classifier for imbalanced classification data\n",
        "https://towardsdatascience.com/how-to-effectively-predict-imbalanced-classes-in-python-e8cd3b5720c4"
      ]
    },
    {
      "cell_type": "code",
      "metadata": {
        "id": "Ktet0jdcWJDR"
      },
      "source": [
        "# initilizing the XGBClassifier as an object: (using all the default hyperparameters)\n",
        "# here we initialize an XGBClassifier with a scale_pos_weight for imbalanced classification data\n",
        "xgbc = xgb.XGBClassifier(scale_pos_weight= weight)\n",
        "\n"
      ],
      "execution_count": 189,
      "outputs": []
    },
    {
      "cell_type": "markdown",
      "metadata": {
        "id": "mXv_uklPlNbq"
      },
      "source": [
        "When to use which splitting strategy:\n",
        "\n",
        "Generally, k-fold cross validation is the gold-standard for evaluating the performance of a machine learning algorithm on unseen data with k set to 3, 5, or 10.  \n",
        "Use stratified cross validation to enforce class distributions when there are a large number of classes or an imbalance in instances for each class."
      ]
    },
    {
      "cell_type": "markdown",
      "metadata": {
        "id": "GQvSYqOMIikx"
      },
      "source": [
        "There are 3 different APIs for evaluating the quality of a model’s predictions:\n",
        "\n",
        "* Estimator score method: Estimators have a score method providing a default   \n",
        "evaluation criterion for the problem they are designed to solve.   This is not discussed on this page, but in each estimator’s documentation.  \n",
        "\n",
        "* Scoring parameter: Model-evaluation tools using cross-validation (such as model_selection.cross_val_score and model_selection.GridSearchCV) rely on an internal scoring strategy. This is discussed in the section The scoring parameter: defining model evaluation rules.  \n",
        "\n",
        "* Metric functions: The sklearn.metrics module implements functions assessing prediction error for specific purposes. These metrics are detailed in sections on Classification metrics, Multilabel ranking metrics, Regression metrics and Clustering metrics.\n"
      ]
    },
    {
      "cell_type": "markdown",
      "metadata": {
        "id": "-EhkHvzpI5-r"
      },
      "source": [
        "The list of available scoring metrics is the following one:\n",
        "https://scikit-learn.org/stable/modules/model_evaluation.html"
      ]
    },
    {
      "cell_type": "markdown",
      "metadata": {
        "id": "fNcA-zLWRh7A"
      },
      "source": [
        "\"binary:logistic\": logistic regression for binary classification, output probability\n",
        "\n",
        "\"binary:hinge\": hinge loss for binary classification. This makes predictions of 0 or 1, rather than producing probabilities."
      ]
    },
    {
      "cell_type": "markdown",
      "metadata": {
        "id": "MhioCcluO9h0"
      },
      "source": [
        "Balanced Accuracy = (((TP/(TP+FN)+(TN/(TN+FP))) / 2\n",
        " <->\n",
        "Balanced Accuracy = (Sensitivity + Specificity) / 2\n",
        "\n",
        "* When the outcome classes are the same size, accuracy and balanced accuracy are the same but the two metrics differ if the classes are imbalanced   \n",
        "\n",
        "* Balanced accuracy is a good measure when you have imbalanced data and you are indifferent between correctly predicting the negative and positive classes"
      ]
    },
    {
      "cell_type": "code",
      "metadata": {
        "id": "FTCtxgyK0kzb"
      },
      "source": [
        "# CV type 1: k-fold CV\n",
        "##kfold = KFold(n_splits=5, shuffle=True) "
      ],
      "execution_count": null,
      "outputs": []
    },
    {
      "cell_type": "markdown",
      "metadata": {
        "id": "NtnM-hP_Deoy"
      },
      "source": [
        "Stratified Cross Validation"
      ]
    },
    {
      "cell_type": "code",
      "metadata": {
        "id": "oTW3bQM_DkVX"
      },
      "source": [
        "# CV type 2: stratified k-fold CV (due to imbalance in the data set) -> maintains the ratio of instances in each class for each fold\n",
        "skfold = StratifiedKFold(n_splits=3, shuffle=True, random_state = 123) \n",
        "# printing the skfold CV folds\n",
        "##for train_index, test_index in skfold.split(X_train, y_train):\n",
        "##    print(\"TRAIN:\", train_index, \"TEST:\", test_index)"
      ],
      "execution_count": 190,
      "outputs": []
    },
    {
      "cell_type": "code",
      "metadata": {
        "colab": {
          "base_uri": "https://localhost:8080/"
        },
        "id": "5oB6w-bbYZ0a",
        "outputId": "7302e15d-34eb-46df-bd31-0048ee411d2b"
      },
      "source": [
        "# estimator = xgbc is the xgb classifier model; \"cv\" determines the cross validation splitting strategy; \"scoring\" determines the loss function\n",
        "clf_cv_scores = cross_val_score(xgbc, X_train, y_train, cv=skfold,scoring='balanced_accuracy')\n",
        "print(\"Stratified K-fold CV average score: %.2f\" % clf_cv_scores.mean())\n",
        "\n",
        "clf_cv_scores # score per fold\n"
      ],
      "execution_count": 191,
      "outputs": [
        {
          "output_type": "stream",
          "text": [
            "Stratified K-fold CV average score: 0.71\n"
          ],
          "name": "stdout"
        },
        {
          "output_type": "execute_result",
          "data": {
            "text/plain": [
              "array([0.72747382, 0.69655958, 0.69913817])"
            ]
          },
          "metadata": {
            "tags": []
          },
          "execution_count": 191
        }
      ]
    },
    {
      "cell_type": "markdown",
      "metadata": {
        "id": "TGUmPAgCv4x7"
      },
      "source": [
        "# Hyperparametertuning"
      ]
    },
    {
      "cell_type": "markdown",
      "metadata": {
        "id": "Gwubcg21v-z2"
      },
      "source": [
        "**Hyperparameter tuning** is the process of determining the right combination of hyperparameters that allows the model to maximize model performance"
      ]
    },
    {
      "cell_type": "markdown",
      "metadata": {
        "id": "CB6Hozt0vpza"
      },
      "source": [
        "* **Model parameters**: These are the parameters that are estimated by the model from the given data\n",
        "* **Model hyperparameters**: These are the parameters that cannot be estimated by the model from the given data. These parameters are used to estimate the model parameters"
      ]
    },
    {
      "cell_type": "markdown",
      "metadata": {
        "id": "7Q6giLrtWa5l"
      },
      "source": [
        "*Methods:*\n",
        "* **Random Search**. Define a search space as a bounded domain of hyperparameter values, randomly select a combination of hyperparameters from that domain in each iteration and record the corresponding model performance. After the last iteration, return the best performing combination of hyperparameters.\n",
        "* **Grid Search**. Define a search space as a grid of hyperparameter values and evaluate every position in the grid. It fits the model on each and every combination of hyperparameter possible and records the model performance. Finally, it returns the best model with the best hyperparameters.\n",
        "\n",
        "**Pros/Cons:**  \n",
        "\n",
        "* Grid search is great for spot-checking combinations that are known to perform well generally.   \n",
        "* Random search is great for discovery and getting hyperparameter combinations that you would not have guessed intuitively, although it often requires more time to execute."
      ]
    },
    {
      "cell_type": "markdown",
      "metadata": {
        "id": "timi3zB4WvUt"
      },
      "source": [
        "*Useful links:*  \n",
        "https://machinelearningmastery.com/hyperparameter-optimization-with-random-search-and-grid-search/  \n",
        "https://neptune.ai/blog/hyperparameter-tuning-in-python-a-complete-guide-2020"
      ]
    },
    {
      "cell_type": "markdown",
      "metadata": {
        "id": "Jx34EX0yEOw8"
      },
      "source": [
        "## Grid Search CV"
      ]
    },
    {
      "cell_type": "markdown",
      "metadata": {
        "id": "nR1j9ZNKy5DY"
      },
      "source": [
        "Learning rate: determines the step size of exploration during gradient descent  \n",
        "Min_child_weight: Defines the minimum sum of weights of all observations required in a child. Too high values can lead to underfitting  \n",
        "max_depth: The maximum depth of a tree  \n",
        "subsample: Denotes the fraction of observations to be random samples for each tree.  \n",
        "colsample_by_tree: Denotes the fraction of columns to be random samples for each tree.  \n",
        "reg_lambda: L2 regularization term on weights (analogous to Ridge regression). Combats overfitting.   \n",
        "reg_alpha: L1 regularization term on weight (analogous to Lasso regression)  \n",
        "scale_pos_weight: can be set up to deal with class imbalance  \n",
        "n_estimators: number of base learners (usually trees)"
      ]
    },
    {
      "cell_type": "code",
      "metadata": {
        "id": "BnBmAce9C_k6"
      },
      "source": [
        "# gridsearch cross validation (scoring parameter is used to set the loss function for the gscv)\n",
        "\n",
        "xgbc_gscv = GridSearchCV(estimator = xgbc, \n",
        "                         scoring = 'balanced_accuracy', \n",
        "                         param_grid = {'colsample_by_tree':[0.7,0.9], # [0.6,0.7,0.8,0.9]\n",
        "                                       'subsample':[0.7,0.9], # [0.6,0.7,0.8,0.9]\n",
        "                                       \"min_child_weight\":[1,3], # default = 1.0\n",
        "                                       'learning_rate': [0.01,0.1] ,  # [0.001,0.01,0.1,0.3]\n",
        "                                       'max_depth': [5,10], # [2,5,10,20]\n",
        "                                       'n_estimators': [100,250], # [100,250,500]\n",
        "                                       'reg_lambda': [0.8,1], # default = 1\n",
        "                                       'reg_alpha':[0.0,0.2]}, # default = 0\n",
        "                         verbose=1, \n",
        "                         cv = skfold, \n",
        "                         n_jobs=-1)"
      ],
      "execution_count": null,
      "outputs": []
    },
    {
      "cell_type": "code",
      "metadata": {
        "colab": {
          "base_uri": "https://localhost:8080/"
        },
        "id": "Sci7mCWsESEn",
        "outputId": "cd58e1bf-a52e-4db1-ec64-3de67e5e4000"
      },
      "source": [
        "# fitting the model multiple times to find the best hyperparameter combination\n",
        "xgbc_gscv.fit(X_train, y_train)"
      ],
      "execution_count": null,
      "outputs": [
        {
          "output_type": "stream",
          "text": [
            "Fitting 3 folds for each of 256 candidates, totalling 768 fits\n"
          ],
          "name": "stdout"
        },
        {
          "output_type": "stream",
          "text": [
            "[Parallel(n_jobs=-1)]: Using backend LokyBackend with 2 concurrent workers.\n",
            "[Parallel(n_jobs=-1)]: Done  46 tasks      | elapsed:   45.4s\n",
            "[Parallel(n_jobs=-1)]: Done 196 tasks      | elapsed:  4.7min\n",
            "[Parallel(n_jobs=-1)]: Done 446 tasks      | elapsed:  9.9min\n",
            "[Parallel(n_jobs=-1)]: Done 768 out of 768 | elapsed: 17.9min finished\n"
          ],
          "name": "stderr"
        },
        {
          "output_type": "execute_result",
          "data": {
            "text/plain": [
              "GridSearchCV(cv=StratifiedKFold(n_splits=3, random_state=123, shuffle=True),\n",
              "             error_score=nan,\n",
              "             estimator=XGBClassifier(base_score=0.5, booster='gbtree',\n",
              "                                     colsample_bylevel=1, colsample_bynode=1,\n",
              "                                     colsample_bytree=1, gamma=0,\n",
              "                                     learning_rate=0.1, max_delta_step=0,\n",
              "                                     max_depth=3, min_child_weight=1,\n",
              "                                     missing=None, n_estimators=100, n_jobs=1,\n",
              "                                     nthread=None, objective='binary:lo...\n",
              "                                     seed=None, silent=None, subsample=1,\n",
              "                                     verbosity=1),\n",
              "             iid='deprecated', n_jobs=-1,\n",
              "             param_grid={'colsample_by_tree': [0.7, 0.9],\n",
              "                         'learning_rate': [0.01, 0.1], 'max_depth': [5, 10],\n",
              "                         'min_child_weight': [1, 3], 'n_estimators': [100, 250],\n",
              "                         'reg_alpha': [0.0, 0.2], 'reg_lambda': [0.8, 1],\n",
              "                         'subsample': [0.7, 0.9]},\n",
              "             pre_dispatch='2*n_jobs', refit=True, return_train_score=False,\n",
              "             scoring='balanced_accuracy', verbose=1)"
            ]
          },
          "metadata": {
            "tags": []
          },
          "execution_count": 72
        }
      ]
    },
    {
      "cell_type": "code",
      "metadata": {
        "colab": {
          "base_uri": "https://localhost:8080/"
        },
        "id": "kxpwgYGLDbX4",
        "outputId": "28f5761c-6b5d-42c2-8dc7-7498c594a03c"
      },
      "source": [
        "# obtaining the best hyperparameter values from the Gridsearch CV\n",
        "xgbc_gscv.best_params_"
      ],
      "execution_count": null,
      "outputs": [
        {
          "output_type": "execute_result",
          "data": {
            "text/plain": [
              "{'colsample_by_tree': 0.7,\n",
              " 'learning_rate': 0.01,\n",
              " 'max_depth': 5,\n",
              " 'min_child_weight': 1,\n",
              " 'n_estimators': 250,\n",
              " 'reg_alpha': 0.0,\n",
              " 'reg_lambda': 0.8,\n",
              " 'subsample': 0.7}"
            ]
          },
          "metadata": {
            "tags": []
          },
          "execution_count": 73
        }
      ]
    },
    {
      "cell_type": "code",
      "metadata": {
        "colab": {
          "base_uri": "https://localhost:8080/"
        },
        "id": "qKpq-USHNO4n",
        "outputId": "f9987d79-a5cc-49fc-992a-c38b8e87fe12"
      },
      "source": [
        "print(xgbc_gscv.scoring, xgbc_gscv.best_score_)"
      ],
      "execution_count": null,
      "outputs": [
        {
          "output_type": "stream",
          "text": [
            "balanced_accuracy 0.7126670681721893\n"
          ],
          "name": "stdout"
        }
      ]
    },
    {
      "cell_type": "code",
      "metadata": {
        "colab": {
          "base_uri": "https://localhost:8080/"
        },
        "id": "i6Gs-sZaMqfs",
        "outputId": "7017abbb-4ca4-4223-ee89-6f298be922c2"
      },
      "source": [
        "xgbc_gscv.best_estimator_"
      ],
      "execution_count": null,
      "outputs": [
        {
          "output_type": "execute_result",
          "data": {
            "text/plain": [
              "XGBClassifier(base_score=0.5, booster='gbtree', colsample_by_tree=0.7,\n",
              "              colsample_bylevel=1, colsample_bynode=1, colsample_bytree=1,\n",
              "              gamma=0, learning_rate=0.01, max_delta_step=0, max_depth=5,\n",
              "              min_child_weight=1, missing=None, n_estimators=250, n_jobs=1,\n",
              "              nthread=None, objective='binary:logistic', random_state=0,\n",
              "              reg_alpha=0.0, reg_lambda=0.8,\n",
              "              scale_pos_weight=15.597510373443983, seed=None, silent=None,\n",
              "              subsample=0.7, verbosity=1)"
            ]
          },
          "metadata": {
            "tags": []
          },
          "execution_count": 75
        }
      ]
    },
    {
      "cell_type": "markdown",
      "metadata": {
        "id": "SweGr4LaUuRK"
      },
      "source": [
        "## Randomized Search CV "
      ]
    },
    {
      "cell_type": "markdown",
      "metadata": {
        "id": "P3JLNxV1XxrN"
      },
      "source": [
        "In contrast to GridSearchCV, not all parameter values are tried out, but\n",
        "rather a fixed number of parameter settings is sampled from the specified\n",
        "distributions. The number of parameter settings that are tried is\n",
        "given by n_iter."
      ]
    },
    {
      "cell_type": "markdown",
      "metadata": {
        "id": "oeVNIMWn1rCm"
      },
      "source": [
        "**Repeated stratified k-fold CV** involves simply repeating the cross-validation procedure multiple times and reporting the mean result across all folds from all runs  \n",
        "This mean result is expected to be a more accurate estimate of the true unknown underlying mean performance of the model on the dataset, as calculated using the standard error."
      ]
    },
    {
      "cell_type": "code",
      "metadata": {
        "id": "ecRCeg63eMyQ"
      },
      "source": [
        "# CV type 3: repeated stratified k-fold CV (due to imbalance in the data set) \n",
        "# maintains the ratio of instances in each class for each fold\n",
        "# Repeated stratified k-fold CV involves simply repeating the cross-validation procedure multiple times \n",
        "# and reporting the mean result across all folds from all runs\n",
        "\n",
        "n_folds=3 # no. of folds\n",
        "n_repeats=3 # no. of runs\n",
        "\n",
        "rskfold = RepeatedStratifiedKFold(n_splits=n_folds,n_repeats=n_repeats,\n",
        "                                 random_state=123)"
      ],
      "execution_count": 192,
      "outputs": []
    },
    {
      "cell_type": "code",
      "metadata": {
        "colab": {
          "base_uri": "https://localhost:8080/"
        },
        "id": "XBH-Yqnv5JY5",
        "outputId": "dcd3c762-f531-4141-955c-ed183893aec1"
      },
      "source": [
        "# estimator = xgbc is the xgb classifier model; \"cv\" determines the cross validation splitting strategy; \"scoring\" determines the loss function\n",
        "clf_rscv_scores = cross_val_score(xgbc, X_train, y_train, cv=rskfold, scoring='balanced_accuracy')\n",
        "print(\"Repeated Stratified K-fold CV average score: %.2f\" % clf_rscv_scores.mean())\n",
        "\n",
        "clf_rscv_scores # score per fold and run"
      ],
      "execution_count": 193,
      "outputs": [
        {
          "output_type": "stream",
          "text": [
            "Repeated Stratified K-fold CV average score: 0.71\n"
          ],
          "name": "stdout"
        },
        {
          "output_type": "execute_result",
          "data": {
            "text/plain": [
              "array([0.72747382, 0.69655958, 0.69913817, 0.74221375, 0.69557843,\n",
              "       0.65690944, 0.7400067 , 0.69456277, 0.72244902])"
            ]
          },
          "metadata": {
            "tags": []
          },
          "execution_count": 193
        }
      ]
    },
    {
      "cell_type": "markdown",
      "metadata": {
        "id": "RPYJ8BKxaSNH"
      },
      "source": [
        "The Search Space is a dictionary where names are arguments to the model and values are distributions from which to draw samples"
      ]
    },
    {
      "cell_type": "code",
      "metadata": {
        "id": "JP2noCA5Yo1g"
      },
      "source": [
        "# define a search space for the RSCV\n",
        "space = dict()\n",
        "# Log-uniform is useful for searching penalty values as we often explore values at different orders of magnitude, at least as a first step.\n",
        "space['reg_lambda'] = loguniform(1e-5, 100)\n",
        "space['reg_alpha'] = loguniform(1e-5, 100) # loguniform distribution\n",
        "space['max_depth'] = [3, 4, 5, 6, 7, 8, 9] # fixed set of values\n",
        "space['min_child_weight'] = [1, 2, 3, 4]\n",
        "space['colsample_by_tree'] = uniform(0.5, 0.4) # uniform distribution with lower bound 0.5 and range 0.4 so between 0.5 and 0.9\n",
        "space['subsample'] = uniform(0.5, 0.4)\n",
        "space['n_estimators'] = randint(150, 1000) # returns a pseudo random integer number from the given range \n",
        "space['learning_rate'] = uniform(0.01, 0.6)\n"
      ],
      "execution_count": 194,
      "outputs": []
    },
    {
      "cell_type": "code",
      "metadata": {
        "id": "Rf-SfpUVVSDu"
      },
      "source": [
        "# Randomized Search cross validation (scoring parameter is used to set the loss function for the gscv)\n",
        "# n_iter: sets the number of iterations (the # of random combinations from the search space to try)\n",
        "\n",
        "xgbc_rscv = RandomizedSearchCV(estimator = xgbc, \n",
        "                               n_iter= 20, \n",
        "                               scoring = 'balanced_accuracy', \n",
        "                               param_distributions = space, \n",
        "                               verbose=1, \n",
        "                               cv = rskfold, \n",
        "                               n_jobs=-1, \n",
        "                               random_state=123,\n",
        "                               return_train_score = True)"
      ],
      "execution_count": 196,
      "outputs": []
    },
    {
      "cell_type": "code",
      "metadata": {
        "colab": {
          "base_uri": "https://localhost:8080/"
        },
        "id": "7DshptzjVSDy",
        "outputId": "157f9167-6db1-4860-bd59-9a5f51ecaffd"
      },
      "source": [
        "# fitting the model multiple times to find the best hyperparameter combination\n",
        "xgbc_rscv.fit(X_train, y_train)"
      ],
      "execution_count": 197,
      "outputs": [
        {
          "output_type": "stream",
          "text": [
            "Fitting 9 folds for each of 20 candidates, totalling 180 fits\n"
          ],
          "name": "stdout"
        },
        {
          "output_type": "stream",
          "text": [
            "[Parallel(n_jobs=-1)]: Using backend LokyBackend with 2 concurrent workers.\n",
            "[Parallel(n_jobs=-1)]: Done  46 tasks      | elapsed:  2.9min\n",
            "[Parallel(n_jobs=-1)]: Done 180 out of 180 | elapsed: 11.0min finished\n"
          ],
          "name": "stderr"
        },
        {
          "output_type": "execute_result",
          "data": {
            "text/plain": [
              "RandomizedSearchCV(cv=RepeatedStratifiedKFold(n_repeats=3, n_splits=3, random_state=123),\n",
              "                   error_score=nan,\n",
              "                   estimator=XGBClassifier(base_score=0.5, booster='gbtree',\n",
              "                                           colsample_bylevel=1,\n",
              "                                           colsample_bynode=1,\n",
              "                                           colsample_bytree=1, gamma=0,\n",
              "                                           learning_rate=0.1, max_delta_step=0,\n",
              "                                           max_depth=3, min_child_weight=1,\n",
              "                                           missing=None, n_estimators=100,\n",
              "                                           n_jobs=1, nthread=None,\n",
              "                                           objecti...\n",
              "                                        'reg_alpha': <scipy.stats._distn_infrastructure.rv_frozen object at 0x7fb5a2283a58>,\n",
              "                                        'reg_lambda': <scipy.stats._distn_infrastructure.rv_frozen object at 0x7fb5a2283588>,\n",
              "                                        'subsample': <scipy.stats._distn_infrastructure.rv_frozen object at 0x7fb5a2283be0>},\n",
              "                   pre_dispatch='2*n_jobs', random_state=123, refit=True,\n",
              "                   return_train_score=True, scoring='balanced_accuracy',\n",
              "                   verbose=1)"
            ]
          },
          "metadata": {
            "tags": []
          },
          "execution_count": 197
        }
      ]
    },
    {
      "cell_type": "code",
      "metadata": {
        "colab": {
          "base_uri": "https://localhost:8080/"
        },
        "id": "gKjvcLFwYJPe",
        "outputId": "823d4aca-7df2-4a71-827d-9091427166ee"
      },
      "source": [
        "# obtaining the best hyperparameter values from the Randomized Search CV\n",
        "xgbc_rscv.best_params_"
      ],
      "execution_count": 198,
      "outputs": [
        {
          "output_type": "execute_result",
          "data": {
            "text/plain": [
              "{'colsample_by_tree': 0.6577480215811099,\n",
              " 'learning_rate': 0.44864382150673426,\n",
              " 'max_depth': 5,\n",
              " 'min_child_weight': 4,\n",
              " 'n_estimators': 557,\n",
              " 'reg_alpha': 81.72374423958811,\n",
              " 'reg_lambda': 0.002791929884483455,\n",
              " 'subsample': 0.8304820510130102}"
            ]
          },
          "metadata": {
            "tags": []
          },
          "execution_count": 198
        }
      ]
    },
    {
      "cell_type": "code",
      "metadata": {
        "colab": {
          "base_uri": "https://localhost:8080/"
        },
        "id": "IO6TLip_YJYA",
        "outputId": "e557d159-dd5a-4240-fc67-3da3e5d67e7c"
      },
      "source": [
        "# best score \n",
        "print(xgbc_rscv.scoring, xgbc_rscv.best_score_)"
      ],
      "execution_count": 199,
      "outputs": [
        {
          "output_type": "stream",
          "text": [
            "balanced_accuracy 0.7218982938298824\n"
          ],
          "name": "stdout"
        }
      ]
    },
    {
      "cell_type": "markdown",
      "metadata": {
        "id": "AbWLLHFhU_uH"
      },
      "source": [
        "## Fitting the Optimal Model"
      ]
    },
    {
      "cell_type": "markdown",
      "metadata": {
        "id": "vNL0ZWsgL_wm"
      },
      "source": [
        "{'colsample_by_tree': 0.7,\n",
        " 'learning_rate': 0.01,\n",
        " 'max_depth': 5,\n",
        " 'min_child_weight': 1,\n",
        " 'n_estimators': 250,\n",
        " 'reg_alpha': 0.0,\n",
        " 'reg_lambda': 0.8,\n",
        " 'subsample': 0.7}"
      ]
    },
    {
      "cell_type": "code",
      "metadata": {
        "id": "3mVthI1rF1K-"
      },
      "source": [
        "# setting up the optimal xgb classifier model using the configuration of hyperparameters from the GSCV or RSCV\n",
        "xgbc_opt = xgb.XGBClassifier(objective=\"binary:logistic\", obj=\"balanced_accuracy\", feval = \"balanced_accuracy\", scale_pos_weight = weight, booster=\"gbtree\",learning_rate=0.44864382150673426, colsample_bytree=0.6577480215811099, max_depth=5, min_child_weight=4,n_estimators = 557, subsample = 0.8304820510130102, reg_alpha =81.7237442395881, reg_lambda=0.002791929884483455)"
      ],
      "execution_count": 200,
      "outputs": []
    },
    {
      "cell_type": "code",
      "metadata": {
        "colab": {
          "base_uri": "https://localhost:8080/"
        },
        "id": "2cH6zrz5ZH66",
        "outputId": "0faee1d2-caf1-4e7a-949c-5e09462815e8"
      },
      "source": [
        "# fitting the XGB classifier model to the training data (final model with optimal hyperparameters from the gscv)\n",
        "xgbc_opt.fit(X_train, y_train)"
      ],
      "execution_count": 201,
      "outputs": [
        {
          "output_type": "execute_result",
          "data": {
            "text/plain": [
              "XGBClassifier(base_score=0.5, booster='gbtree', colsample_bylevel=1,\n",
              "              colsample_bynode=1, colsample_bytree=0.6577480215811099,\n",
              "              feval='balanced_accuracy', gamma=0,\n",
              "              learning_rate=0.44864382150673426, max_delta_step=0, max_depth=5,\n",
              "              min_child_weight=4, missing=None, n_estimators=557, n_jobs=1,\n",
              "              nthread=None, obj='balanced_accuracy',\n",
              "              objective='binary:logistic', random_state=0,\n",
              "              reg_alpha=81.7237442395881, reg_lambda=0.002791929884483455,\n",
              "              scale_pos_weight=15.460905349794238, seed=None, silent=None,\n",
              "              subsample=0.8304820510130102, verbosity=1)"
            ]
          },
          "metadata": {
            "tags": []
          },
          "execution_count": 201
        }
      ]
    },
    {
      "cell_type": "code",
      "metadata": {
        "colab": {
          "base_uri": "https://localhost:8080/"
        },
        "id": "Lc63IZD5QN1E",
        "outputId": "cc278f26-cc14-4365-eb48-b5549e2db2c4"
      },
      "source": [
        "xgbc_opt.evals_result"
      ],
      "execution_count": 202,
      "outputs": [
        {
          "output_type": "execute_result",
          "data": {
            "text/plain": [
              "<bound method XGBClassifier.evals_result of XGBClassifier(base_score=0.5, booster='gbtree', colsample_bylevel=1,\n",
              "              colsample_bynode=1, colsample_bytree=0.6577480215811099,\n",
              "              feval='balanced_accuracy', gamma=0,\n",
              "              learning_rate=0.44864382150673426, max_delta_step=0, max_depth=5,\n",
              "              min_child_weight=4, missing=None, n_estimators=557, n_jobs=1,\n",
              "              nthread=None, obj='balanced_accuracy',\n",
              "              objective='binary:logistic', random_state=0,\n",
              "              reg_alpha=81.7237442395881, reg_lambda=0.002791929884483455,\n",
              "              scale_pos_weight=15.460905349794238, seed=None, silent=None,\n",
              "              subsample=0.8304820510130102, verbosity=1)>"
            ]
          },
          "metadata": {
            "tags": []
          },
          "execution_count": 202
        }
      ]
    },
    {
      "cell_type": "code",
      "metadata": {
        "id": "npeGK-hEY4YU"
      },
      "source": [
        "# making predictions using the test data\n",
        "y_pred_xgbc = xgbc_opt.predict(X_test)\n"
      ],
      "execution_count": 203,
      "outputs": []
    },
    {
      "cell_type": "code",
      "metadata": {
        "colab": {
          "base_uri": "https://localhost:8080/"
        },
        "id": "LGV28R0jHuIj",
        "outputId": "ac0a438f-8d56-44a0-eb21-6c30d73c0944"
      },
      "source": [
        "y_pred_xgbc[0:10]"
      ],
      "execution_count": null,
      "outputs": [
        {
          "output_type": "execute_result",
          "data": {
            "text/plain": [
              "array([0, 0, 0, 0, 0, 0, 0, 0, 0, 0])"
            ]
          },
          "metadata": {
            "tags": []
          },
          "execution_count": 80
        }
      ]
    },
    {
      "cell_type": "code",
      "metadata": {
        "colab": {
          "base_uri": "https://localhost:8080/"
        },
        "id": "9luj6CKrHorW",
        "outputId": "4cafeabe-7da3-431a-c0f7-1dde5fb79485"
      },
      "source": [
        "# transforming the true/false values into 0/1 values\n",
        "##y_pred_xgbc = y_pred_xgbc.astype(int)\n",
        "\n",
        "##y_pred_xgbc[0:10]"
      ],
      "execution_count": null,
      "outputs": [
        {
          "output_type": "execute_result",
          "data": {
            "text/plain": [
              "array([0, 0, 0, 0, 0, 0, 0, 0, 0, 0])"
            ]
          },
          "metadata": {
            "tags": []
          },
          "execution_count": 61
        }
      ]
    },
    {
      "cell_type": "code",
      "metadata": {
        "colab": {
          "base_uri": "https://localhost:8080/"
        },
        "id": "6Hm49vLYZWlR",
        "outputId": "56a7c126-edbd-4aa2-c5e9-40d715fb7fc8"
      },
      "source": [
        "# unique values (of a numpy array) of the predictions\n",
        "np.unique(y_pred_xgbc, return_counts=True)\n"
      ],
      "execution_count": 204,
      "outputs": [
        {
          "output_type": "execute_result",
          "data": {
            "text/plain": [
              "(array([0, 1]), array([823, 176]))"
            ]
          },
          "metadata": {
            "tags": []
          },
          "execution_count": 204
        }
      ]
    },
    {
      "cell_type": "code",
      "metadata": {
        "colab": {
          "base_uri": "https://localhost:8080/"
        },
        "id": "nYGrYMqEmYmt",
        "outputId": "f16477cc-9c90-418d-87b1-acd960cb5713"
      },
      "source": [
        "np.unique(y_test, return_counts=True)"
      ],
      "execution_count": 205,
      "outputs": [
        {
          "output_type": "execute_result",
          "data": {
            "text/plain": [
              "(array([0, 1]), array([942,  57]))"
            ]
          },
          "metadata": {
            "tags": []
          },
          "execution_count": 205
        }
      ]
    },
    {
      "cell_type": "markdown",
      "metadata": {
        "id": "fn5Ed1jLL8qz"
      },
      "source": [
        "Model Evaluation"
      ]
    },
    {
      "cell_type": "code",
      "metadata": {
        "colab": {
          "base_uri": "https://localhost:8080/"
        },
        "id": "Ey5fh4adZoYO",
        "outputId": "155597a0-16b9-4341-99db-f414f1e7d664"
      },
      "source": [
        "# evaluation the predicted classifications using a confusion matrix\n",
        "\n",
        "conf_matrix = confusion_matrix(y_test, y_pred_xgbc)\n",
        "\n",
        "conf_matrix"
      ],
      "execution_count": 206,
      "outputs": [
        {
          "output_type": "execute_result",
          "data": {
            "text/plain": [
              "array([[799, 143],\n",
              "       [ 24,  33]])"
            ]
          },
          "metadata": {
            "tags": []
          },
          "execution_count": 206
        }
      ]
    },
    {
      "cell_type": "code",
      "metadata": {
        "colab": {
          "base_uri": "https://localhost:8080/"
        },
        "id": "VM_Huuu7ZoaX",
        "outputId": "f837a5f6-cfef-40f1-ef4b-79db640ffd3b"
      },
      "source": [
        "# computing an accuracy score for the predictions (evaluating predictions)\n",
        "accuracy_score(y_test, y_pred_xgbc)"
      ],
      "execution_count": null,
      "outputs": [
        {
          "output_type": "execute_result",
          "data": {
            "text/plain": [
              "0.815989847715736"
            ]
          },
          "metadata": {
            "tags": []
          },
          "execution_count": 83
        }
      ]
    },
    {
      "cell_type": "code",
      "metadata": {
        "colab": {
          "base_uri": "https://localhost:8080/"
        },
        "id": "t9WvokJF0VJy",
        "outputId": "5b960017-678c-448a-a452-26c9ccad8943"
      },
      "source": [
        "# computing the balanced accuracy score for the predictions\n",
        "balanced_accuracy_score(y_test, y_pred_xgbc)"
      ],
      "execution_count": 207,
      "outputs": [
        {
          "output_type": "execute_result",
          "data": {
            "text/plain": [
              "0.7135713487540507"
            ]
          },
          "metadata": {
            "tags": []
          },
          "execution_count": 207
        }
      ]
    },
    {
      "cell_type": "code",
      "metadata": {
        "colab": {
          "base_uri": "https://localhost:8080/"
        },
        "id": "0H8iGxoAZv-D",
        "outputId": "a9992b1d-6a9e-444a-a724-c9e4ea6bc205"
      },
      "source": [
        "# feature scores\n",
        "xgbc_opt.get_booster().get_fscore()"
      ],
      "execution_count": 208,
      "outputs": [
        {
          "output_type": "execute_result",
          "data": {
            "text/plain": [
              "{'cash': 54,\n",
              " 'dividend': 13,\n",
              " 'fop_count': 21,\n",
              " 'number_of_payments': 31,\n",
              " 'pay_count': 57,\n",
              " 'range_count': 46,\n",
              " 'range_total': 32,\n",
              " 'rpi_count': 25,\n",
              " 'services': 14,\n",
              " 'std': 77,\n",
              " 'top_company': 87,\n",
              " 'total_of_top_nature': 38,\n",
              " 'total_payments': 47,\n",
              " 'x0_Allergy & Immunology': 5,\n",
              " 'x0_Anesthesiology': 4,\n",
              " 'x0_Dental Providers': 12,\n",
              " 'x0_Dermatology': 18,\n",
              " 'x0_Eye and Vision Services Providers': 10,\n",
              " 'x0_Family Medicine': 41,\n",
              " 'x0_Internal Medicine': 6,\n",
              " 'x0_Neurological Surgery': 1,\n",
              " 'x0_Obstetrics & Gynecology': 17,\n",
              " 'x0_Ophthalmology': 20,\n",
              " 'x0_Orthopaedic Surgery': 3,\n",
              " 'x0_Otolaryngology': 5,\n",
              " 'x0_Pediatrics': 10,\n",
              " 'x0_Physical Medicine & Rehabilitation': 3,\n",
              " 'x0_Podiatric Medicine & Surgery Service Providers': 4,\n",
              " 'x0_Psychiatry & Neurology': 17,\n",
              " 'x0_Radiology': 3,\n",
              " 'x0_Surgery': 3,\n",
              " 'x0_Urology': 14,\n",
              " 'x1_Compensation for services other than consulting, including serving as faculty or as a speaker at a venue other than a continuing education program': 3,\n",
              " 'x1_Consulting Fee': 5,\n",
              " 'x1_Current or prospective ownership or investment interest': 3,\n",
              " 'x1_Education': 12,\n",
              " 'x1_Food and Beverage': 2,\n",
              " 'x1_Gift': 11,\n",
              " 'x1_Honoraria': 1,\n",
              " 'x1_Travel and Lodging': 8,\n",
              " 'x2_Covered': 1,\n",
              " 'x2_No': 1,\n",
              " 'x3_Cash or cash equivalent': 1}"
            ]
          },
          "metadata": {
            "tags": []
          },
          "execution_count": 208
        }
      ]
    },
    {
      "cell_type": "code",
      "metadata": {
        "colab": {
          "base_uri": "https://localhost:8080/",
          "height": 295
        },
        "id": "RMz2vYKHq1qW",
        "outputId": "78cf93c2-9f52-432d-c21d-08cc15003cc8"
      },
      "source": [
        "# feature importance plot\n",
        "xgb.plot_importance(xgbc_opt)\n",
        "plt.rcParams['figure.figsize'] = [12, 12]\n",
        "plt.show()"
      ],
      "execution_count": 209,
      "outputs": [
        {
          "output_type": "display_data",
          "data": {
            "image/png": "[encoded data removed]",
            "text/plain": [
              "<Figure size 432x288 with 1 Axes>"
            ]
          },
          "metadata": {
            "tags": [],
            "needs_background": "light"
          }
        }
      ]
    },
    {
      "cell_type": "markdown",
      "metadata": {
        "id": "8ufru5Hi43pz"
      },
      "source": [
        "# Logistic Regression Model"
      ]
    },
    {
      "cell_type": "markdown",
      "metadata": {
        "id": "M3R4MXqsKrb4"
      },
      "source": [
        "Logistic Regression is one of the most simple and commonly used Machine Learning algorithms for two-class classification. It is easy to implement and can be used as the baseline for any binary classification problem  \n",
        "  \n",
        "Estimation: Maximum Likelihood"
      ]
    },
    {
      "cell_type": "code",
      "metadata": {
        "id": "JCxUcnoF4299"
      },
      "source": [
        "# creating a logistic regression classifier object \n",
        "log_reg = LogisticRegression()"
      ],
      "execution_count": 210,
      "outputs": []
    },
    {
      "cell_type": "code",
      "metadata": {
        "colab": {
          "base_uri": "https://localhost:8080/"
        },
        "id": "YAL7qyHh8g-C",
        "outputId": "4eff0251-fb79-4748-9180-266006615323"
      },
      "source": [
        "# gridsearch to optimize the logistic regression model\n",
        "LRparam_grid = {\n",
        "    'C': [0.001, 0.01, 0.1, 1, 10, 100], # inverse of regularization strength\n",
        "    'penalty': ['l1', 'l2'], # type of regularization penalty\n",
        "    'max_iter': list(range(100,800,100)),\n",
        "    'solver': ['newton-cg', 'lbfgs', 'liblinear', 'sag', 'saga']\n",
        "}\n",
        "\n",
        "LR_gridsearch = GridSearchCV(log_reg, \n",
        "                             param_grid=LRparam_grid, \n",
        "                             refit = True, \n",
        "                             verbose = 2, \n",
        "                             cv=skfold, \n",
        "                             n_jobs=-1)\n",
        "\n",
        "# fitting the model for grid search \n",
        "LR_gridsearch.fit(X_train , y_train)\n",
        "LR_gridsearch.best_params_\n"
      ],
      "execution_count": null,
      "outputs": [
        {
          "output_type": "stream",
          "text": [
            "Fitting 3 folds for each of 420 candidates, totalling 1260 fits\n"
          ],
          "name": "stdout"
        },
        {
          "output_type": "stream",
          "text": [
            "[Parallel(n_jobs=-1)]: Using backend LokyBackend with 2 concurrent workers.\n",
            "[Parallel(n_jobs=-1)]: Done  37 tasks      | elapsed:    4.4s\n",
            "[Parallel(n_jobs=-1)]: Done 178 tasks      | elapsed:   46.5s\n",
            "[Parallel(n_jobs=-1)]: Done 405 tasks      | elapsed:  1.9min\n",
            "[Parallel(n_jobs=-1)]: Done 700 tasks      | elapsed:  3.2min\n",
            "[Parallel(n_jobs=-1)]: Done 1085 tasks      | elapsed:  5.4min\n",
            "[Parallel(n_jobs=-1)]: Done 1260 out of 1260 | elapsed:  6.5min finished\n"
          ],
          "name": "stderr"
        },
        {
          "output_type": "execute_result",
          "data": {
            "text/plain": [
              "{'C': 10, 'max_iter': 100, 'penalty': 'l1', 'solver': 'liblinear'}"
            ]
          },
          "metadata": {
            "tags": []
          },
          "execution_count": 92
        }
      ]
    },
    {
      "cell_type": "code",
      "metadata": {
        "colab": {
          "base_uri": "https://localhost:8080/"
        },
        "id": "HWg5NQDR9_kJ",
        "outputId": "2d73a070-4774-4e4d-aea6-77f66b0db4d7"
      },
      "source": [
        "# summarize\n",
        "print('Mean Accuracy: %.3f' % LR_gridsearch.best_score_)\n",
        "print('Config: %s' % LR_gridsearch.best_params_)"
      ],
      "execution_count": null,
      "outputs": [
        {
          "output_type": "stream",
          "text": [
            "Mean Accuracy: 0.943\n",
            "Config: {'C': 10, 'max_iter': 100, 'penalty': 'l1', 'solver': 'liblinear'}\n"
          ],
          "name": "stdout"
        }
      ]
    },
    {
      "cell_type": "markdown",
      "metadata": {
        "id": "fj_suEBhO3rz"
      },
      "source": [
        "Gridsearched Logistic Regression Model"
      ]
    },
    {
      "cell_type": "code",
      "metadata": {
        "id": "xtPM7WKqCsx8"
      },
      "source": [
        "# optimal logistic regression model\n",
        "# C: inverse of regularization strength, \n",
        "# solver: algorithm used for optimization problem, \n",
        "# penalty: norm used in the penalization term (l1 vs l2)\n",
        "# max_iter: maximum no. of iterations for the solver to converge\n",
        "log_reg_opt = LogisticRegression(C= 10, max_iter= 100, penalty= 'l1', solver='liblinear')"
      ],
      "execution_count": null,
      "outputs": []
    },
    {
      "cell_type": "code",
      "metadata": {
        "colab": {
          "base_uri": "https://localhost:8080/"
        },
        "id": "AtaMu2w_Cx9x",
        "outputId": "001f4ea7-1579-43f6-ba78-1c45d4996982"
      },
      "source": [
        "# fitting the logistic regression model to the training data (LR model with gridsearch)\n",
        "log_reg_opt.fit(X_train, y_train)"
      ],
      "execution_count": null,
      "outputs": [
        {
          "output_type": "execute_result",
          "data": {
            "text/plain": [
              "LogisticRegression(C=10, class_weight=None, dual=False, fit_intercept=True,\n",
              "                   intercept_scaling=1, l1_ratio=None, max_iter=100,\n",
              "                   multi_class='auto', n_jobs=None, penalty='l1',\n",
              "                   random_state=None, solver='liblinear', tol=0.0001, verbose=0,\n",
              "                   warm_start=False)"
            ]
          },
          "metadata": {
            "tags": []
          },
          "execution_count": 95
        }
      ]
    },
    {
      "cell_type": "code",
      "metadata": {
        "id": "BHtuYQeXERZ8"
      },
      "source": [
        "# predicting on the test set\n",
        "y_pred_lr_opt = log_reg_opt.predict(X_test)"
      ],
      "execution_count": null,
      "outputs": []
    },
    {
      "cell_type": "code",
      "metadata": {
        "colab": {
          "base_uri": "https://localhost:8080/"
        },
        "id": "2Aa2I6YeEXv3",
        "outputId": "26f70668-c4b5-47bf-8370-5ad1059acd08"
      },
      "source": [
        "# unique values (of a numpy array) of the predictions\n",
        "np.unique(y_pred_lr_opt, return_counts=True)"
      ],
      "execution_count": null,
      "outputs": [
        {
          "output_type": "execute_result",
          "data": {
            "text/plain": [
              "(array([0, 1]), array([782,   6]))"
            ]
          },
          "metadata": {
            "tags": []
          },
          "execution_count": 97
        }
      ]
    },
    {
      "cell_type": "markdown",
      "metadata": {
        "id": "dq-8MI5VOwnh"
      },
      "source": [
        "Regular Logistic regression without Gridsearch"
      ]
    },
    {
      "cell_type": "code",
      "metadata": {
        "id": "cI-Fhk8fq4RA",
        "colab": {
          "base_uri": "https://localhost:8080/"
        },
        "outputId": "63f76aba-9f75-4069-b4f5-55d58cfe7e17"
      },
      "source": [
        "# fitting the logistic regression model to the training data (regular LR model without gridsearch)\n",
        "log_reg.fit(X_train, y_train)"
      ],
      "execution_count": 211,
      "outputs": [
        {
          "output_type": "execute_result",
          "data": {
            "text/plain": [
              "LogisticRegression(C=1.0, class_weight=None, dual=False, fit_intercept=True,\n",
              "                   intercept_scaling=1, l1_ratio=None, max_iter=100,\n",
              "                   multi_class='auto', n_jobs=None, penalty='l2',\n",
              "                   random_state=None, solver='lbfgs', tol=0.0001, verbose=0,\n",
              "                   warm_start=False)"
            ]
          },
          "metadata": {
            "tags": []
          },
          "execution_count": 211
        }
      ]
    },
    {
      "cell_type": "code",
      "metadata": {
        "id": "HmxdOYdW6Dmb"
      },
      "source": [
        "# predicting on the test set\n",
        "y_pred_lr = log_reg.predict(X_test)"
      ],
      "execution_count": 214,
      "outputs": []
    },
    {
      "cell_type": "code",
      "metadata": {
        "colab": {
          "base_uri": "https://localhost:8080/"
        },
        "id": "96TxqqveLorH",
        "outputId": "a131d80b-def3-4404-a384-bf32e993d5bb"
      },
      "source": [
        "# unique values (of a numpy array) of the predictions\n",
        "np.unique(y_pred_lr, return_counts=True)"
      ],
      "execution_count": 213,
      "outputs": [
        {
          "output_type": "execute_result",
          "data": {
            "text/plain": [
              "(array([0, 1]), array([979,  20]))"
            ]
          },
          "metadata": {
            "tags": []
          },
          "execution_count": 213
        }
      ]
    },
    {
      "cell_type": "code",
      "metadata": {
        "id": "Jnzt4ILOPHS0",
        "colab": {
          "base_uri": "https://localhost:8080/"
        },
        "outputId": "58a3d838-12e2-48d6-d0f4-64b417315842"
      },
      "source": [
        "# unique values (of a numpy array) of the validation targets\n",
        "np.unique(y_test, return_counts=True)"
      ],
      "execution_count": 215,
      "outputs": [
        {
          "output_type": "execute_result",
          "data": {
            "text/plain": [
              "(array([0, 1]), array([942,  57]))"
            ]
          },
          "metadata": {
            "tags": []
          },
          "execution_count": 215
        }
      ]
    },
    {
      "cell_type": "code",
      "metadata": {
        "colab": {
          "base_uri": "https://localhost:8080/"
        },
        "id": "i0MFeVXt2U8V",
        "outputId": "46d04a5f-4db7-4165-b7cd-7334a2a6d651"
      },
      "source": [
        "y_pred_lr.shape"
      ],
      "execution_count": 216,
      "outputs": [
        {
          "output_type": "execute_result",
          "data": {
            "text/plain": [
              "(999,)"
            ]
          },
          "metadata": {
            "tags": []
          },
          "execution_count": 216
        }
      ]
    },
    {
      "cell_type": "markdown",
      "metadata": {
        "id": "T0pOgC5ZL4NW"
      },
      "source": [
        "Model evaluation Gridsearched Log Reg"
      ]
    },
    {
      "cell_type": "code",
      "metadata": {
        "colab": {
          "base_uri": "https://localhost:8080/",
          "height": 187
        },
        "id": "GOmy2vjsO96W",
        "outputId": "a5b3722a-e262-4287-f021-7a4a1457430f"
      },
      "source": [
        "# computing the balanced accuracy score for the predictions (gridsearched Log Reg)\n",
        "balanced_accuracy_score(y_test, y_pred_lr_opt)"
      ],
      "execution_count": 217,
      "outputs": [
        {
          "output_type": "error",
          "ename": "NameError",
          "evalue": "ignored",
          "traceback": [
            "\u001b[0;31m---------------------------------------------------------------------------\u001b[0m",
            "\u001b[0;31mNameError\u001b[0m                                 Traceback (most recent call last)",
            "\u001b[0;32m<ipython-input-217-ff8fa2e842e5>\u001b[0m in \u001b[0;36m<module>\u001b[0;34m()\u001b[0m\n\u001b[1;32m      1\u001b[0m \u001b[0;31m# computing the balanced accuracy score for the predictions (gridsearched Log Reg)\u001b[0m\u001b[0;34m\u001b[0m\u001b[0;34m\u001b[0m\u001b[0;34m\u001b[0m\u001b[0m\n\u001b[0;32m----> 2\u001b[0;31m \u001b[0mbalanced_accuracy_score\u001b[0m\u001b[0;34m(\u001b[0m\u001b[0my_test\u001b[0m\u001b[0;34m,\u001b[0m \u001b[0my_pred_lr_opt\u001b[0m\u001b[0;34m)\u001b[0m\u001b[0;34m\u001b[0m\u001b[0;34m\u001b[0m\u001b[0m\n\u001b[0m",
            "\u001b[0;31mNameError\u001b[0m: name 'y_pred_lr_opt' is not defined"
          ]
        }
      ]
    },
    {
      "cell_type": "code",
      "metadata": {
        "colab": {
          "base_uri": "https://localhost:8080/"
        },
        "id": "hZaekUCpQEmr",
        "outputId": "e3a52e8b-e8a6-425c-815f-0c5af6ca1024"
      },
      "source": [
        "# evaluation the predicted classifications using a confusion matrix (gridsearched Log Reg)\n",
        "\n",
        "conf_matrix = confusion_matrix(y_test, y_pred_lr_opt)\n",
        "\n",
        "conf_matrix"
      ],
      "execution_count": null,
      "outputs": [
        {
          "output_type": "execute_result",
          "data": {
            "text/plain": [
              "array([[741,   4],\n",
              "       [ 41,   2]])"
            ]
          },
          "metadata": {
            "tags": []
          },
          "execution_count": 102
        }
      ]
    },
    {
      "cell_type": "markdown",
      "metadata": {
        "id": "QAjzDpclQL22"
      },
      "source": [
        "Model evaluation regular Log Reg"
      ]
    },
    {
      "cell_type": "code",
      "metadata": {
        "colab": {
          "base_uri": "https://localhost:8080/"
        },
        "id": "BdYFdj_m2Ked",
        "outputId": "7407ff1b-590c-48ed-bbf5-c68a3ec94aa0"
      },
      "source": [
        "# computing an accuracy score for the predictions (evaluating predictions)\n",
        "accuracy_score(y_test, y_pred_lr)"
      ],
      "execution_count": null,
      "outputs": [
        {
          "output_type": "execute_result",
          "data": {
            "text/plain": [
              "0.9365482233502538"
            ]
          },
          "metadata": {
            "tags": []
          },
          "execution_count": 103
        }
      ]
    },
    {
      "cell_type": "code",
      "metadata": {
        "colab": {
          "base_uri": "https://localhost:8080/"
        },
        "id": "Y-3OZItiNzZS",
        "outputId": "c5b7f763-bc8a-46b7-c3b1-e2c754777d4a"
      },
      "source": [
        "# computing the balanced accuracy score for the predictions\n",
        "balanced_accuracy_score(y_test, y_pred_lr)"
      ],
      "execution_count": 218,
      "outputs": [
        {
          "output_type": "execute_result",
          "data": {
            "text/plain": [
              "0.5358978656833165"
            ]
          },
          "metadata": {
            "tags": []
          },
          "execution_count": 218
        }
      ]
    },
    {
      "cell_type": "code",
      "metadata": {
        "colab": {
          "base_uri": "https://localhost:8080/"
        },
        "id": "SRdUe3SlL5nu",
        "outputId": "5b51c989-71be-4739-ae34-a96c586a725e"
      },
      "source": [
        "# evaluation the predicted classifications using a confusion matrix\n",
        "\n",
        "conf_matrix = confusion_matrix(y_test, y_pred_lr)\n",
        "\n",
        "conf_matrix"
      ],
      "execution_count": 219,
      "outputs": [
        {
          "output_type": "execute_result",
          "data": {
            "text/plain": [
              "array([[927,  15],\n",
              "       [ 52,   5]])"
            ]
          },
          "metadata": {
            "tags": []
          },
          "execution_count": 219
        }
      ]
    },
    {
      "cell_type": "markdown",
      "metadata": {
        "id": "KfghPxgcMzU5"
      },
      "source": [
        "The Receiver Operating Characteristic(ROC) curve is a plot of the true positive rate against the false positive rate. It shows the tradeoff between sensitivity and specificity"
      ]
    },
    {
      "cell_type": "code",
      "metadata": {
        "colab": {
          "base_uri": "https://localhost:8080/",
          "height": 265
        },
        "id": "X2uKymX3MSsv",
        "outputId": "68a8b085-624b-4b6c-f786-fc6439b7f801"
      },
      "source": [
        "# Plotting the Receiver Operator Curve (ROC)\n",
        "y_pred_proba = log_reg.predict_proba(X_test)[::,1]\n",
        "fpr, tpr, _ = roc_curve(y_test,  y_pred_proba)\n",
        "auc = roc_auc_score(y_test, y_pred_proba)\n",
        "plt.plot(fpr,tpr,label=\"data 1, auc=\"+str(auc))\n",
        "plt.legend(loc=4)\n",
        "plt.show()"
      ],
      "execution_count": null,
      "outputs": [
        {
          "output_type": "display_data",
          "data": {
            "image/png": "[encoded data removed]",
            "text/plain": [
              "<Figure size 432x288 with 1 Axes>"
            ]
          },
          "metadata": {
            "tags": [],
            "needs_background": "light"
          }
        }
      ]
    },
    {
      "cell_type": "markdown",
      "metadata": {
        "id": "z-7mDMfmOWgi"
      },
      "source": [
        "# Naive Bayes"
      ]
    },
    {
      "cell_type": "markdown",
      "metadata": {
        "id": "46EhqmwcPzMq"
      },
      "source": [
        "Naive Bayes methods are a set of supervised learning algorithms based on applying Bayes’ theorem with the “naive” assumption of conditional independence between every pair of features given the value of the class variable"
      ]
    },
    {
      "cell_type": "code",
      "metadata": {
        "id": "phsHAddqOXbo"
      },
      "source": [
        "# initializing a Gaussian Naive Bayes Classifier\n",
        "gnb = GaussianNB()"
      ],
      "execution_count": null,
      "outputs": []
    },
    {
      "cell_type": "code",
      "metadata": {
        "colab": {
          "base_uri": "https://localhost:8080/"
        },
        "id": "iBj31HhLOi_o",
        "outputId": "3887a68e-9cc2-4675-d80b-d0b8ade6c398"
      },
      "source": [
        "# fitting the model to the training data\n",
        "gnb.fit(X_train, y_train)"
      ],
      "execution_count": null,
      "outputs": [
        {
          "output_type": "execute_result",
          "data": {
            "text/plain": [
              "GaussianNB(priors=None, var_smoothing=1e-09)"
            ]
          },
          "metadata": {
            "tags": []
          },
          "execution_count": 107
        }
      ]
    },
    {
      "cell_type": "code",
      "metadata": {
        "colab": {
          "base_uri": "https://localhost:8080/"
        },
        "id": "eo_6aMpYOnaJ",
        "outputId": "c07cd3f1-f103-4eb3-d710-d45c8dd52ee9"
      },
      "source": [
        "# obtaining predictions\n",
        "y_pred_nb = gnb.predict(X_test)\n",
        "print(\"Number of mislabeled points out of a total %d points : %d\"\n",
        "% (X_test.shape[0], (y_test != y_pred_nb).sum()))"
      ],
      "execution_count": null,
      "outputs": [
        {
          "output_type": "stream",
          "text": [
            "Number of mislabeled points out of a total 788 points : 64\n"
          ],
          "name": "stdout"
        }
      ]
    },
    {
      "cell_type": "code",
      "metadata": {
        "colab": {
          "base_uri": "https://localhost:8080/"
        },
        "id": "CGTQIuiAO7fU",
        "outputId": "0e95b851-74e6-4be6-f1b1-5f1c0f6b25a8"
      },
      "source": [
        "# unique values (of a numpy array) of the predictions\n",
        "np.unique(y_pred_nb, return_counts=True)"
      ],
      "execution_count": null,
      "outputs": [
        {
          "output_type": "execute_result",
          "data": {
            "text/plain": [
              "(array([0, 1]), array([759,  29]))"
            ]
          },
          "metadata": {
            "tags": []
          },
          "execution_count": 109
        }
      ]
    },
    {
      "cell_type": "markdown",
      "metadata": {
        "id": "XYEQO1_SPCk9"
      },
      "source": [
        "Model Evaluation"
      ]
    },
    {
      "cell_type": "code",
      "metadata": {
        "colab": {
          "base_uri": "https://localhost:8080/"
        },
        "id": "g4GeEPIuPB4s",
        "outputId": "a17faf4e-446d-4a4c-fa7c-1ac736a6ff2b"
      },
      "source": [
        "# computing the balanced accuracy score for the predictions\n",
        "balanced_accuracy_score(y_test, y_pred_nb)"
      ],
      "execution_count": null,
      "outputs": [
        {
          "output_type": "execute_result",
          "data": {
            "text/plain": [
              "0.5297331044170439"
            ]
          },
          "metadata": {
            "tags": []
          },
          "execution_count": 110
        }
      ]
    },
    {
      "cell_type": "code",
      "metadata": {
        "colab": {
          "base_uri": "https://localhost:8080/"
        },
        "id": "bxtI-Wmx6dfg",
        "outputId": "04d7bd32-f3b6-4336-e4d9-71cd6d89c803"
      },
      "source": [
        "# computing an accuracy score for the predictions (evaluating predictions)\n",
        "accuracy_score(y_test, y_pred_nb)"
      ],
      "execution_count": null,
      "outputs": [
        {
          "output_type": "execute_result",
          "data": {
            "text/plain": [
              "0.9212198221092758"
            ]
          },
          "metadata": {
            "tags": []
          },
          "execution_count": 58
        }
      ]
    },
    {
      "cell_type": "code",
      "metadata": {
        "colab": {
          "base_uri": "https://localhost:8080/"
        },
        "id": "YZ5MtadpPd1p",
        "outputId": "7f5dfb76-42a7-48ac-b5a6-b8a6f6b91474"
      },
      "source": [
        "# evaluation the predicted classifications using a confusion matrix\n",
        "\n",
        "conf_matrix = confusion_matrix(y_test, y_pred_nb)\n",
        "\n",
        "conf_matrix"
      ],
      "execution_count": null,
      "outputs": [
        {
          "output_type": "execute_result",
          "data": {
            "text/plain": [
              "array([[720,  25],\n",
              "       [ 39,   4]])"
            ]
          },
          "metadata": {
            "tags": []
          },
          "execution_count": 111
        }
      ]
    },
    {
      "cell_type": "markdown",
      "metadata": {
        "id": "uC_wxYBWgsQp"
      },
      "source": [
        "# Final model with all Training data for Server submission"
      ]
    },
    {
      "cell_type": "code",
      "metadata": {
        "colab": {
          "base_uri": "https://localhost:8080/"
        },
        "id": "NdF7NzLjg6Ll",
        "outputId": "b81ac957-ea2a-43fc-bec7-9f0f773ba422"
      },
      "source": [
        "# we train a final model on 5000 data points\n",
        "# labels \n",
        "y_train = train_final[\"Ownership_Indicator\"]\n",
        "\n",
        "\n",
        "# y_test is unknown\n",
        "\n",
        "print(y_train)"
      ],
      "execution_count": 236,
      "outputs": [
        {
          "output_type": "stream",
          "text": [
            "0       0\n",
            "1       0\n",
            "2       0\n",
            "3       0\n",
            "4       0\n",
            "       ..\n",
            "4995    0\n",
            "4996    0\n",
            "4997    0\n",
            "4998    0\n",
            "4999    0\n",
            "Name: Ownership_Indicator, Length: 5000, dtype: int64\n"
          ],
          "name": "stdout"
        }
      ]
    },
    {
      "cell_type": "code",
      "metadata": {
        "colab": {
          "base_uri": "https://localhost:8080/"
        },
        "id": "w-6ZkWZ7rXPq",
        "outputId": "4cf39a47-2559-461a-e62e-e9f6208bedf0"
      },
      "source": [
        "# comparing column names of the final training data and the final test data\n",
        "train_final.columns.isin(test_final.columns)"
      ],
      "execution_count": 237,
      "outputs": [
        {
          "output_type": "execute_result",
          "data": {
            "text/plain": [
              "array([False,  True,  True,  True,  True,  True,  True,  True,  True,\n",
              "        True,  True,  True,  True,  True,  True,  True,  True,  True,\n",
              "        True,  True, False,  True,  True,  True,  True,  True,  True,\n",
              "        True,  True,  True, False,  True, False, False, False,  True,\n",
              "        True, False,  True,  True,  True,  True,  True,  True,  True,\n",
              "        True,  True,  True,  True,  True,  True,  True, False,  True,\n",
              "        True, False,  True, False,  True,  True,  True,  True,  True,\n",
              "        True,  True, False,  True,  True,  True,  True,  True,  True,\n",
              "        True])"
            ]
          },
          "metadata": {
            "tags": []
          },
          "execution_count": 237
        }
      ]
    },
    {
      "cell_type": "code",
      "metadata": {
        "colab": {
          "base_uri": "https://localhost:8080/"
        },
        "id": "-mLOXnGzrkqX",
        "outputId": "d61e9edc-8aff-4615-d1f9-b67a7a7f6ffc"
      },
      "source": [
        "# returning the columns only present in the training set but not in the test set\n",
        "train_final.columns[~train_final.columns.isin(test_final.columns)]"
      ],
      "execution_count": 238,
      "outputs": [
        {
          "output_type": "execute_result",
          "data": {
            "text/plain": [
              "Index(['Ownership_Indicator', 'x0_Chiropractic Providers',\n",
              "       'x0_Medical Genetics', 'x0_Neuromusculoskeletal Medicine & OMM',\n",
              "       'x0_Neuromusculoskeletal Medicine, Sports Medicine',\n",
              "       'x0_Nuclear Medicine', 'x0_Oral & Maxillofacial Surgery',\n",
              "       'x1_Charitable Contribution',\n",
              "       'x1_Compensation for serving as faculty or as a speaker for an accredited or certified continuing education program',\n",
              "       'x1_Current or prospective ownership or investment interest',\n",
              "       'x2_Combination'],\n",
              "      dtype='object')"
            ]
          },
          "metadata": {
            "tags": []
          },
          "execution_count": 238
        }
      ]
    },
    {
      "cell_type": "code",
      "metadata": {
        "colab": {
          "base_uri": "https://localhost:8080/"
        },
        "id": "JfF0Mni3uOyj",
        "outputId": "95b8117a-e4d5-4719-8d89-0133b6d0407e"
      },
      "source": [
        "all_features_test = test_final.columns[1:test_final.columns.shape[0]]\n",
        "\n",
        "all_features_test = enc_features.drop(\"x0_Phlebology\") # dropping the feature column not present in the training data\n",
        "\n",
        "all_features_test"
      ],
      "execution_count": 247,
      "outputs": [
        {
          "output_type": "execute_result",
          "data": {
            "text/plain": [
              "Index(['total_payments', 'number_of_payments', 'total_of_top_nature',\n",
              "       'range_count', 'range_total', 'top_company', 'pay_count', 'std',\n",
              "       'rpi_count', 'cash', 'services', 'stock', 'stock_opt', 'any_ownership',\n",
              "       'dividend', 'stock_or_other', 'fop_count', 'x0_Allergy & Immunology',\n",
              "       'x0_Anesthesiology', 'x0_Colon & Rectal Surgery', 'x0_Dental Providers',\n",
              "       'x0_Dermatology', 'x0_Emergency Medicine',\n",
              "       'x0_Eye and Vision Services Providers', 'x0_Family Medicine',\n",
              "       'x0_General Practice', 'x0_Hospitalist', 'x0_Internal Medicine',\n",
              "       'x0_Neurological Surgery', 'x0_Obstetrics & Gynecology',\n",
              "       'x0_Ophthalmology', 'x0_Orthopaedic Surgery', 'x0_Otolaryngology',\n",
              "       'x0_Pain Medicine', 'x0_Pathology', 'x0_Pediatrics',\n",
              "       'x0_Physical Medicine & Rehabilitation', 'x0_Plastic Surgery',\n",
              "       'x0_Podiatric Medicine & Surgery Service Providers',\n",
              "       'x0_Preventive Medicine', 'x0_Psychiatry & Neurology', 'x0_Radiology',\n",
              "       'x0_Surgery', 'x0_Thoracic Surgery (Cardiothoracic Vascular Surgery)',\n",
              "       'x0_Urology',\n",
              "       'x1_Compensation for services other than consulting, including serving as faculty or as a speaker at a venue other than a continuing education program',\n",
              "       'x1_Compensation for serving as faculty or as a speaker for a non-accredited and noncertified continuing education program',\n",
              "       'x1_Consulting Fee', 'x1_Education', 'x1_Food and Beverage', 'x1_Gift',\n",
              "       'x1_Grant', 'x1_Honoraria', 'x1_Royalty or License',\n",
              "       'x1_Travel and Lodging', 'x2_Covered', 'x2_No', 'x2_Non-Covered',\n",
              "       'x2_None', 'x2_Yes', 'x3_Cash or cash equivalent',\n",
              "       'x3_In-kind items and services'],\n",
              "      dtype='object')"
            ]
          },
          "metadata": {
            "tags": []
          },
          "execution_count": 247
        }
      ]
    },
    {
      "cell_type": "code",
      "metadata": {
        "colab": {
          "base_uri": "https://localhost:8080/"
        },
        "id": "1ItgWB71gw23",
        "outputId": "abde9c06-cd1d-478e-c61d-c168b1e3be49"
      },
      "source": [
        "# features (manually) 5000 data points\n",
        "X_train = train_final.drop(['Ownership_Indicator', 'x0_Chiropractic Providers',\n",
        "       'x0_Medical Genetics', 'x0_Neuromusculoskeletal Medicine & OMM',\n",
        "       'x0_Neuromusculoskeletal Medicine, Sports Medicine',\n",
        "       'x0_Nuclear Medicine', 'x0_Oral & Maxillofacial Surgery',\n",
        "       'x1_Charitable Contribution',\n",
        "       'x1_Compensation for serving as faculty or as a speaker for an accredited or certified continuing education program',\n",
        "       'x1_Current or prospective ownership or investment interest',\n",
        "       'x2_Combination'], axis=1)\n",
        "#X_train = X_train[enc_features] # subsetting features\n",
        "\n",
        "# 1000 data points for test set features\n",
        "X_test = test_final[all_features_test]\n",
        "print(X_train, X_test)\n",
        "\n",
        "print(X_train.shape, X_test.shape)"
      ],
      "execution_count": 248,
      "outputs": [
        {
          "output_type": "stream",
          "text": [
            "      total_payments  ...  x3_In-kind items and services\n",
            "0             952.93  ...                            1.0\n",
            "1          120924.92  ...                            1.0\n",
            "2            3523.93  ...                            1.0\n",
            "3           26745.61  ...                            1.0\n",
            "4           25411.21  ...                            1.0\n",
            "...              ...  ...                            ...\n",
            "4995         5528.35  ...                            1.0\n",
            "4996        19714.41  ...                            1.0\n",
            "4997         2946.90  ...                            1.0\n",
            "4998         7870.54  ...                            1.0\n",
            "4999         5779.80  ...                            0.0\n",
            "\n",
            "[5000 rows x 62 columns]      total_payments  ...  x3_In-kind items and services\n",
            "0           5775.53  ...                            1.0\n",
            "1          92123.24  ...                            1.0\n",
            "2           3159.49  ...                            1.0\n",
            "3           1614.34  ...                            1.0\n",
            "4           6494.00  ...                            1.0\n",
            "..              ...  ...                            ...\n",
            "995       175432.11  ...                            1.0\n",
            "996         2920.08  ...                            1.0\n",
            "997         1036.32  ...                            1.0\n",
            "998        14156.35  ...                            1.0\n",
            "999         1560.30  ...                            1.0\n",
            "\n",
            "[1000 rows x 62 columns]\n",
            "(5000, 62) (1000, 62)\n"
          ],
          "name": "stdout"
        }
      ]
    },
    {
      "cell_type": "code",
      "metadata": {
        "colab": {
          "base_uri": "https://localhost:8080/"
        },
        "id": "v3rc8kwmiWYw",
        "outputId": "93463ef3-aaec-42a2-ad18-74eccde65c27"
      },
      "source": [
        "X_train.columns"
      ],
      "execution_count": 245,
      "outputs": [
        {
          "output_type": "execute_result",
          "data": {
            "text/plain": [
              "Index(['total_payments', 'number_of_payments', 'total_of_top_nature',\n",
              "       'range_count', 'range_total', 'top_company', 'pay_count', 'std',\n",
              "       'rpi_count', 'cash', 'services', 'stock', 'stock_opt', 'any_ownership',\n",
              "       'dividend', 'stock_or_other', 'fop_count', 'x0_Allergy & Immunology',\n",
              "       'x0_Anesthesiology', 'x0_Colon & Rectal Surgery', 'x0_Dental Providers',\n",
              "       'x0_Dermatology', 'x0_Emergency Medicine',\n",
              "       'x0_Eye and Vision Services Providers', 'x0_Family Medicine',\n",
              "       'x0_General Practice', 'x0_Hospitalist', 'x0_Internal Medicine',\n",
              "       'x0_Neurological Surgery', 'x0_Obstetrics & Gynecology',\n",
              "       'x0_Ophthalmology', 'x0_Orthopaedic Surgery', 'x0_Otolaryngology',\n",
              "       'x0_Pain Medicine', 'x0_Pathology', 'x0_Pediatrics',\n",
              "       'x0_Physical Medicine & Rehabilitation', 'x0_Plastic Surgery',\n",
              "       'x0_Podiatric Medicine & Surgery Service Providers',\n",
              "       'x0_Preventive Medicine', 'x0_Psychiatry & Neurology', 'x0_Radiology',\n",
              "       'x0_Surgery', 'x0_Thoracic Surgery (Cardiothoracic Vascular Surgery)',\n",
              "       'x0_Urology',\n",
              "       'x1_Compensation for services other than consulting, including serving as faculty or as a speaker at a venue other than a continuing education program',\n",
              "       'x1_Compensation for serving as faculty or as a speaker for a non-accredited and noncertified continuing education program',\n",
              "       'x1_Consulting Fee', 'x1_Education', 'x1_Food and Beverage', 'x1_Gift',\n",
              "       'x1_Grant', 'x1_Honoraria', 'x1_Royalty or License',\n",
              "       'x1_Travel and Lodging', 'x2_Covered', 'x2_No', 'x2_Non-Covered',\n",
              "       'x2_None', 'x2_Yes', 'x3_Cash or cash equivalent',\n",
              "       'x3_In-kind items and services'],\n",
              "      dtype='object')"
            ]
          },
          "metadata": {
            "tags": []
          },
          "execution_count": 245
        }
      ]
    },
    {
      "cell_type": "code",
      "metadata": {
        "colab": {
          "base_uri": "https://localhost:8080/"
        },
        "id": "JbAnbPFkicPQ",
        "outputId": "2498ff7f-0c7b-4bad-e0fc-7363007e386e"
      },
      "source": [
        "X_test.columns"
      ],
      "execution_count": 246,
      "outputs": [
        {
          "output_type": "execute_result",
          "data": {
            "text/plain": [
              "Index(['total_payments', 'number_of_payments', 'total_of_top_nature',\n",
              "       'range_count', 'range_total', 'top_company', 'pay_count', 'std',\n",
              "       'rpi_count', 'cash', 'services', 'stock', 'stock_opt', 'any_ownership',\n",
              "       'dividend', 'stock_or_other', 'fop_count', 'x0_Allergy & Immunology',\n",
              "       'x0_Anesthesiology', 'x0_Colon & Rectal Surgery', 'x0_Dental Providers',\n",
              "       'x0_Dermatology', 'x0_Emergency Medicine',\n",
              "       'x0_Eye and Vision Services Providers', 'x0_Family Medicine',\n",
              "       'x0_General Practice', 'x0_Hospitalist', 'x0_Internal Medicine',\n",
              "       'x0_Neurological Surgery', 'x0_Obstetrics & Gynecology',\n",
              "       'x0_Ophthalmology', 'x0_Orthopaedic Surgery', 'x0_Otolaryngology',\n",
              "       'x0_Pain Medicine', 'x0_Pathology', 'x0_Pediatrics', 'x0_Phlebology',\n",
              "       'x0_Physical Medicine & Rehabilitation', 'x0_Plastic Surgery',\n",
              "       'x0_Podiatric Medicine & Surgery Service Providers',\n",
              "       'x0_Preventive Medicine', 'x0_Psychiatry & Neurology', 'x0_Radiology',\n",
              "       'x0_Surgery', 'x0_Thoracic Surgery (Cardiothoracic Vascular Surgery)',\n",
              "       'x0_Urology',\n",
              "       'x1_Compensation for services other than consulting, including serving as faculty or as a speaker at a venue other than a continuing education program',\n",
              "       'x1_Compensation for serving as faculty or as a speaker for a non-accredited and noncertified continuing education program',\n",
              "       'x1_Consulting Fee', 'x1_Education', 'x1_Food and Beverage', 'x1_Gift',\n",
              "       'x1_Grant', 'x1_Honoraria', 'x1_Royalty or License',\n",
              "       'x1_Travel and Lodging', 'x2_Covered', 'x2_No', 'x2_Non-Covered',\n",
              "       'x2_None', 'x2_Yes', 'x3_Cash or cash equivalent',\n",
              "       'x3_In-kind items and services'],\n",
              "      dtype='object')"
            ]
          },
          "metadata": {
            "tags": []
          },
          "execution_count": 246
        }
      ]
    },
    {
      "cell_type": "markdown",
      "metadata": {
        "id": "CjGknbHnoLta"
      },
      "source": [
        "Fitting an XGBClassifier model on 5000 data points"
      ]
    },
    {
      "cell_type": "code",
      "metadata": {
        "colab": {
          "base_uri": "https://localhost:8080/"
        },
        "id": "h52LBMgyoykQ",
        "outputId": "98064cf5-1ec4-49fc-c363-aefa4b3b72a6"
      },
      "source": [
        "# count # of examples/data points in each class\n",
        "counter = Counter(y_train)\n",
        "\n",
        "counter\n"
      ],
      "execution_count": 249,
      "outputs": [
        {
          "output_type": "execute_result",
          "data": {
            "text/plain": [
              "Counter({0: 4700, 1: 300})"
            ]
          },
          "metadata": {
            "tags": []
          },
          "execution_count": 249
        }
      ]
    },
    {
      "cell_type": "code",
      "metadata": {
        "colab": {
          "base_uri": "https://localhost:8080/"
        },
        "id": "tSCAsfS-oykU",
        "outputId": "ac860fb3-4dbd-4312-cdc0-e92aa987914e"
      },
      "source": [
        "# estimate scale_pos_weight value, assuming the class labels are 0 and 1\n",
        "weight = counter[0] / counter[1]\n",
        "\n",
        "weight\n"
      ],
      "execution_count": 250,
      "outputs": [
        {
          "output_type": "execute_result",
          "data": {
            "text/plain": [
              "15.666666666666666"
            ]
          },
          "metadata": {
            "tags": []
          },
          "execution_count": 250
        }
      ]
    },
    {
      "cell_type": "code",
      "metadata": {
        "id": "L_YNgazqoykX"
      },
      "source": [
        "# initilizing the XGBClassifier as an object: (using all the default hyperparameters)\n",
        "# here we initialize an XGBClassifier with a scale_pos_weight for imbalanced classification data\n",
        "xgbc_final = xgb.XGBClassifier(scale_pos_weight= weight)\n",
        "\n"
      ],
      "execution_count": 251,
      "outputs": []
    },
    {
      "cell_type": "markdown",
      "metadata": {
        "id": "ZkTY4I7l8TZB"
      },
      "source": [
        "## Final Random Search & Model fit"
      ]
    },
    {
      "cell_type": "code",
      "metadata": {
        "id": "8F-HD2Yd8hYO"
      },
      "source": [
        "# CV type 3: repeated stratified k-fold CV (due to imbalance in the data set) \n",
        "# maintains the ratio of instances in each class for each fold\n",
        "# Repeated stratified k-fold CV involves simply repeating the cross-validation procedure multiple times \n",
        "# and reporting the mean result across all folds from all runs\n",
        "\n",
        "n_folds=3 # no. of folds\n",
        "n_repeats=3 # no. of runs\n",
        "\n",
        "rskfold = RepeatedStratifiedKFold(n_splits=n_folds,n_repeats=n_repeats,\n",
        "                                 random_state=123)"
      ],
      "execution_count": 252,
      "outputs": []
    },
    {
      "cell_type": "code",
      "metadata": {
        "colab": {
          "base_uri": "https://localhost:8080/"
        },
        "id": "q8n7Jmnt8hYP",
        "outputId": "78893eab-1383-4e86-9973-1e3df4843caf"
      },
      "source": [
        "# estimator = xgbc is the xgb classifier model; \"cv\" determines the cross validation splitting strategy; \"scoring\" determines the loss function\n",
        "clf_rscv_scores = cross_val_score(xgbc_final, X_train, y_train, cv=rskfold, scoring='balanced_accuracy')\n",
        "print(\"Repeated Stratified K-fold CV average score: %.2f\" % clf_rscv_scores.mean())\n",
        "\n",
        "clf_rscv_scores # score per fold and run"
      ],
      "execution_count": 253,
      "outputs": [
        {
          "output_type": "stream",
          "text": [
            "Repeated Stratified K-fold CV average score: 0.71\n"
          ],
          "name": "stdout"
        },
        {
          "output_type": "execute_result",
          "data": {
            "text/plain": [
              "array([0.71725271, 0.6892693 , 0.69678799, 0.70352585, 0.73331206,\n",
              "       0.71273946, 0.74682195, 0.68607849, 0.73157088])"
            ]
          },
          "metadata": {
            "tags": []
          },
          "execution_count": 253
        }
      ]
    },
    {
      "cell_type": "code",
      "metadata": {
        "id": "QH-mbfdL8hYS"
      },
      "source": [
        "# define a search space for the RSCV\n",
        "space = dict()\n",
        "# Log-uniform is useful for searching penalty values as we often explore values at different orders of magnitude, at least as a first step.\n",
        "space['reg_lambda'] = loguniform(1e-5, 100)\n",
        "space['reg_alpha'] = loguniform(1e-5, 100) # loguniform distribution\n",
        "space['max_depth'] = [3, 4, 5, 6, 7, 8, 9] # fixed set of values\n",
        "space['min_child_weight'] = [1, 2, 3, 4]\n",
        "space['colsample_by_tree'] = uniform(0.5, 0.4) # uniform distribution with lower bound 0.5 and range 0.4 so between 0.5 and 0.9\n",
        "space['subsample'] = uniform(0.5, 0.4)\n",
        "space['n_estimators'] = randint(150, 1000) # returns a pseudo random integer number from the given range \n",
        "space['learning_rate'] = uniform(0.01, 0.6)\n"
      ],
      "execution_count": 254,
      "outputs": []
    },
    {
      "cell_type": "code",
      "metadata": {
        "id": "JuZYP-aG8hYW"
      },
      "source": [
        "# Randomized Search cross validation (scoring parameter is used to set the loss function for the gscv)\n",
        "# n_iter: sets the number of iterations (the # of random combinations from the search space to try)\n",
        "\n",
        "xgbc_rscv = RandomizedSearchCV(estimator = xgbc_final, \n",
        "                               n_iter= 20, \n",
        "                               scoring = 'balanced_accuracy', \n",
        "                               param_distributions = space, \n",
        "                               verbose=1, \n",
        "                               cv = rskfold, \n",
        "                               n_jobs=-1, \n",
        "                               random_state=123,\n",
        "                               return_train_score = True)"
      ],
      "execution_count": 255,
      "outputs": []
    },
    {
      "cell_type": "code",
      "metadata": {
        "colab": {
          "base_uri": "https://localhost:8080/"
        },
        "id": "dZV1mMAM8hYX",
        "outputId": "331efaee-9853-40ae-e8f0-e5b8a3577350"
      },
      "source": [
        "# fitting the model multiple times to find the best hyperparameter combination\n",
        "xgbc_rscv.fit(X_train, y_train)"
      ],
      "execution_count": 256,
      "outputs": [
        {
          "output_type": "stream",
          "text": [
            "Fitting 9 folds for each of 20 candidates, totalling 180 fits\n"
          ],
          "name": "stdout"
        },
        {
          "output_type": "stream",
          "text": [
            "[Parallel(n_jobs=-1)]: Using backend LokyBackend with 2 concurrent workers.\n",
            "[Parallel(n_jobs=-1)]: Done  46 tasks      | elapsed:  3.5min\n",
            "[Parallel(n_jobs=-1)]: Done 180 out of 180 | elapsed: 12.9min finished\n"
          ],
          "name": "stderr"
        },
        {
          "output_type": "execute_result",
          "data": {
            "text/plain": [
              "RandomizedSearchCV(cv=RepeatedStratifiedKFold(n_repeats=3, n_splits=3, random_state=123),\n",
              "                   error_score=nan,\n",
              "                   estimator=XGBClassifier(base_score=0.5, booster='gbtree',\n",
              "                                           colsample_bylevel=1,\n",
              "                                           colsample_bynode=1,\n",
              "                                           colsample_bytree=1, gamma=0,\n",
              "                                           learning_rate=0.1, max_delta_step=0,\n",
              "                                           max_depth=3, min_child_weight=1,\n",
              "                                           missing=None, n_estimators=100,\n",
              "                                           n_jobs=1, nthread=None,\n",
              "                                           objecti...\n",
              "                                        'reg_alpha': <scipy.stats._distn_infrastructure.rv_frozen object at 0x7fb5a194ceb8>,\n",
              "                                        'reg_lambda': <scipy.stats._distn_infrastructure.rv_frozen object at 0x7fb5a194cd68>,\n",
              "                                        'subsample': <scipy.stats._distn_infrastructure.rv_frozen object at 0x7fb5a2ba8780>},\n",
              "                   pre_dispatch='2*n_jobs', random_state=123, refit=True,\n",
              "                   return_train_score=True, scoring='balanced_accuracy',\n",
              "                   verbose=1)"
            ]
          },
          "metadata": {
            "tags": []
          },
          "execution_count": 256
        }
      ]
    },
    {
      "cell_type": "code",
      "metadata": {
        "colab": {
          "base_uri": "https://localhost:8080/"
        },
        "id": "CSGqTwTy8hYa",
        "outputId": "f8a3e599-12dd-41f6-d1aa-4b83789c549c"
      },
      "source": [
        "# obtaining the best hyperparameter values from the Randomized Search CV\n",
        "xgbc_rscv.best_params_"
      ],
      "execution_count": 257,
      "outputs": [
        {
          "output_type": "execute_result",
          "data": {
            "text/plain": [
              "{'colsample_by_tree': 0.6577480215811099,\n",
              " 'learning_rate': 0.44864382150673426,\n",
              " 'max_depth': 5,\n",
              " 'min_child_weight': 4,\n",
              " 'n_estimators': 557,\n",
              " 'reg_alpha': 81.72374423958811,\n",
              " 'reg_lambda': 0.002791929884483455,\n",
              " 'subsample': 0.8304820510130102}"
            ]
          },
          "metadata": {
            "tags": []
          },
          "execution_count": 257
        }
      ]
    },
    {
      "cell_type": "code",
      "metadata": {
        "colab": {
          "base_uri": "https://localhost:8080/"
        },
        "id": "TW988_u18hYb",
        "outputId": "ab9f8f7c-a49a-48cb-ca73-d2a249c0a982"
      },
      "source": [
        "# best score \n",
        "print(xgbc_rscv.scoring, xgbc_rscv.best_score_)"
      ],
      "execution_count": 258,
      "outputs": [
        {
          "output_type": "stream",
          "text": [
            "balanced_accuracy 0.7173286283028646\n"
          ],
          "name": "stdout"
        }
      ]
    },
    {
      "cell_type": "markdown",
      "metadata": {
        "id": "1s1dVxt68hYd"
      },
      "source": [
        "## Fitting the Optimal Model"
      ]
    },
    {
      "cell_type": "markdown",
      "metadata": {
        "id": "rXro7ND08hYd"
      },
      "source": [
        "{'colsample_by_tree': 0.7,\n",
        " 'learning_rate': 0.01,\n",
        " 'max_depth': 5,\n",
        " 'min_child_weight': 1,\n",
        " 'n_estimators': 250,\n",
        " 'reg_alpha': 0.0,\n",
        " 'reg_lambda': 0.8,\n",
        " 'subsample': 0.7}"
      ]
    },
    {
      "cell_type": "code",
      "metadata": {
        "id": "WzOKKwqe8hYn"
      },
      "source": [
        "# setting up the optimal xgb classifier model using the configuration of hyperparameters from the GSCV or RSCV\n",
        "xgbc_final_opt = xgb.XGBClassifier(objective=\"binary:logistic\", obj=\"balanced_accuracy\", feval = \"balanced_accuracy\", scale_pos_weight = weight, booster=\"gbtree\",learning_rate=0.44864382150673426, colsample_bytree=0.6577480215811099, max_depth=5, min_child_weight=4,n_estimators = 557, subsample = 0.8304820510130102, reg_alpha =81.72374423958811, reg_lambda=0.002791929884483455)"
      ],
      "execution_count": 259,
      "outputs": []
    },
    {
      "cell_type": "code",
      "metadata": {
        "colab": {
          "base_uri": "https://localhost:8080/"
        },
        "id": "CtCpeMTz8hYq",
        "outputId": "4ec19512-7617-40d7-89bb-d47bd68af14a"
      },
      "source": [
        "# fitting the XGB classifier model to the training data (final model with optimal hyperparameters from the gscv)\n",
        "xgbc_final_opt.fit(X_train, y_train)"
      ],
      "execution_count": 260,
      "outputs": [
        {
          "output_type": "execute_result",
          "data": {
            "text/plain": [
              "XGBClassifier(base_score=0.5, booster='gbtree', colsample_bylevel=1,\n",
              "              colsample_bynode=1, colsample_bytree=0.6577480215811099,\n",
              "              feval='balanced_accuracy', gamma=0,\n",
              "              learning_rate=0.44864382150673426, max_delta_step=0, max_depth=5,\n",
              "              min_child_weight=4, missing=None, n_estimators=557, n_jobs=1,\n",
              "              nthread=None, obj='balanced_accuracy',\n",
              "              objective='binary:logistic', random_state=0,\n",
              "              reg_alpha=81.72374423958811, reg_lambda=0.002791929884483455,\n",
              "              scale_pos_weight=15.666666666666666, seed=None, silent=None,\n",
              "              subsample=0.8304820510130102, verbosity=1)"
            ]
          },
          "metadata": {
            "tags": []
          },
          "execution_count": 260
        }
      ]
    },
    {
      "cell_type": "code",
      "metadata": {
        "id": "65cxp0un8hYt"
      },
      "source": [
        "# making predictions using the test data\n",
        "y_pred_xgbc_final = xgbc_final_opt.predict(X_test)\n"
      ],
      "execution_count": 261,
      "outputs": []
    },
    {
      "cell_type": "code",
      "metadata": {
        "colab": {
          "base_uri": "https://localhost:8080/"
        },
        "id": "Ew3eG0TN8hYy",
        "outputId": "d36ed342-c1f8-4b21-f698-a8e985dc2c5a"
      },
      "source": [
        "# unique values (of a numpy array) of the predictions\n",
        "np.unique(y_pred_xgbc_final, return_counts=True)\n"
      ],
      "execution_count": 262,
      "outputs": [
        {
          "output_type": "execute_result",
          "data": {
            "text/plain": [
              "(array([0, 1]), array([835, 165]))"
            ]
          },
          "metadata": {
            "tags": []
          },
          "execution_count": 262
        }
      ]
    },
    {
      "cell_type": "markdown",
      "metadata": {
        "id": "NM5NjzRSQk-p"
      },
      "source": [
        "# Exporting the predicitions for a submission"
      ]
    },
    {
      "cell_type": "markdown",
      "metadata": {
        "id": "Ba_zeEaKUZfZ"
      },
      "source": [
        "Export predictions into csv file  \n",
        "• Format: id, prediction  \n",
        "• Predictions must be 0 or 1 (not 0.5, not ‘Yes’, not ‘FALSE’)  \n",
        "• Must contain all instances of the original test dataset"
      ]
    },
    {
      "cell_type": "code",
      "metadata": {
        "colab": {
          "base_uri": "https://localhost:8080/"
        },
        "id": "BDcIGv_EZkoW",
        "outputId": "0a30f748-1db6-4520-e8cc-ad24a5c0fb97"
      },
      "source": [
        "test_final.columns"
      ],
      "execution_count": 263,
      "outputs": [
        {
          "output_type": "execute_result",
          "data": {
            "text/plain": [
              "Index(['Physician_ID', 'total_payments', 'number_of_payments',\n",
              "       'total_of_top_nature', 'range_count', 'range_total', 'top_company',\n",
              "       'pay_count', 'std', 'rpi_count', 'cash', 'services', 'stock',\n",
              "       'stock_opt', 'any_ownership', 'dividend', 'stock_or_other', 'fop_count',\n",
              "       'x0_Allergy & Immunology', 'x0_Anesthesiology',\n",
              "       'x0_Colon & Rectal Surgery', 'x0_Dental Providers', 'x0_Dermatology',\n",
              "       'x0_Emergency Medicine', 'x0_Eye and Vision Services Providers',\n",
              "       'x0_Family Medicine', 'x0_General Practice', 'x0_Hospitalist',\n",
              "       'x0_Internal Medicine', 'x0_Neurological Surgery',\n",
              "       'x0_Obstetrics & Gynecology', 'x0_Ophthalmology',\n",
              "       'x0_Orthopaedic Surgery', 'x0_Otolaryngology', 'x0_Pain Medicine',\n",
              "       'x0_Pathology', 'x0_Pediatrics', 'x0_Phlebology',\n",
              "       'x0_Physical Medicine & Rehabilitation', 'x0_Plastic Surgery',\n",
              "       'x0_Podiatric Medicine & Surgery Service Providers',\n",
              "       'x0_Preventive Medicine', 'x0_Psychiatry & Neurology', 'x0_Radiology',\n",
              "       'x0_Surgery', 'x0_Thoracic Surgery (Cardiothoracic Vascular Surgery)',\n",
              "       'x0_Urology',\n",
              "       'x1_Compensation for services other than consulting, including serving as faculty or as a speaker at a venue other than a continuing education program',\n",
              "       'x1_Compensation for serving as faculty or as a speaker for a non-accredited and noncertified continuing education program',\n",
              "       'x1_Consulting Fee', 'x1_Education', 'x1_Food and Beverage', 'x1_Gift',\n",
              "       'x1_Grant', 'x1_Honoraria', 'x1_Royalty or License',\n",
              "       'x1_Travel and Lodging', 'x2_Covered', 'x2_No', 'x2_Non-Covered',\n",
              "       'x2_None', 'x2_Yes', 'x3_Cash or cash equivalent',\n",
              "       'x3_In-kind items and services'],\n",
              "      dtype='object')"
            ]
          },
          "metadata": {
            "tags": []
          },
          "execution_count": 263
        }
      ]
    },
    {
      "cell_type": "code",
      "metadata": {
        "id": "KuyVVNIt7h0v"
      },
      "source": [
        "final_preds = y_pred_xgbc_final"
      ],
      "execution_count": 264,
      "outputs": []
    },
    {
      "cell_type": "code",
      "metadata": {
        "colab": {
          "base_uri": "https://localhost:8080/",
          "height": 424
        },
        "id": "d4jvdms2QkYf",
        "outputId": "335e546b-708b-40c5-c380-25adeec7e0c9"
      },
      "source": [
        "# storing the ids and the corresponding predictions as a combined dataframe\n",
        "\n",
        "submission = pd.DataFrame()\n",
        "\n",
        "submission[\"id\"] = test_final[\"Physician_ID\"]\n",
        "\n",
        "submission[\"prediction\"] = final_preds\n",
        "\n",
        "\n",
        "submission\n",
        "\n"
      ],
      "execution_count": 265,
      "outputs": [
        {
          "output_type": "execute_result",
          "data": {
            "text/html": [
              "<div>\n",
              "<style scoped>\n",
              "    .dataframe tbody tr th:only-of-type {\n",
              "        vertical-align: middle;\n",
              "    }\n",
              "\n",
              "    .dataframe tbody tr th {\n",
              "        vertical-align: top;\n",
              "    }\n",
              "\n",
              "    .dataframe thead th {\n",
              "        text-align: right;\n",
              "    }\n",
              "</style>\n",
              "<table border=\"1\" class=\"dataframe\">\n",
              "  <thead>\n",
              "    <tr style=\"text-align: right;\">\n",
              "      <th></th>\n",
              "      <th>id</th>\n",
              "      <th>prediction</th>\n",
              "    </tr>\n",
              "  </thead>\n",
              "  <tbody>\n",
              "    <tr>\n",
              "      <th>0</th>\n",
              "      <td>14</td>\n",
              "      <td>0</td>\n",
              "    </tr>\n",
              "    <tr>\n",
              "      <th>1</th>\n",
              "      <td>18</td>\n",
              "      <td>0</td>\n",
              "    </tr>\n",
              "    <tr>\n",
              "      <th>2</th>\n",
              "      <td>42</td>\n",
              "      <td>0</td>\n",
              "    </tr>\n",
              "    <tr>\n",
              "      <th>3</th>\n",
              "      <td>46</td>\n",
              "      <td>0</td>\n",
              "    </tr>\n",
              "    <tr>\n",
              "      <th>4</th>\n",
              "      <td>47</td>\n",
              "      <td>0</td>\n",
              "    </tr>\n",
              "    <tr>\n",
              "      <th>...</th>\n",
              "      <td>...</td>\n",
              "      <td>...</td>\n",
              "    </tr>\n",
              "    <tr>\n",
              "      <th>995</th>\n",
              "      <td>5953</td>\n",
              "      <td>0</td>\n",
              "    </tr>\n",
              "    <tr>\n",
              "      <th>996</th>\n",
              "      <td>5959</td>\n",
              "      <td>0</td>\n",
              "    </tr>\n",
              "    <tr>\n",
              "      <th>997</th>\n",
              "      <td>5964</td>\n",
              "      <td>0</td>\n",
              "    </tr>\n",
              "    <tr>\n",
              "      <th>998</th>\n",
              "      <td>5972</td>\n",
              "      <td>1</td>\n",
              "    </tr>\n",
              "    <tr>\n",
              "      <th>999</th>\n",
              "      <td>5999</td>\n",
              "      <td>0</td>\n",
              "    </tr>\n",
              "  </tbody>\n",
              "</table>\n",
              "<p>1000 rows × 2 columns</p>\n",
              "</div>"
            ],
            "text/plain": [
              "       id  prediction\n",
              "0      14           0\n",
              "1      18           0\n",
              "2      42           0\n",
              "3      46           0\n",
              "4      47           0\n",
              "..    ...         ...\n",
              "995  5953           0\n",
              "996  5959           0\n",
              "997  5964           0\n",
              "998  5972           1\n",
              "999  5999           0\n",
              "\n",
              "[1000 rows x 2 columns]"
            ]
          },
          "metadata": {
            "tags": []
          },
          "execution_count": 265
        }
      ]
    },
    {
      "cell_type": "code",
      "metadata": {
        "id": "aQFIxLuwU3fW"
      },
      "source": [
        "# storing the submission data in a csv file\n",
        "submission.to_csv('submission_team_sgs_4.csv', index=False) "
      ],
      "execution_count": 266,
      "outputs": []
    },
    {
      "cell_type": "code",
      "metadata": {
        "colab": {
          "base_uri": "https://localhost:8080/",
          "height": 17
        },
        "id": "dqmqkJ62AhsQ",
        "outputId": "495d50a6-aa0d-4143-dde9-fd64ab384727"
      },
      "source": [
        "from google.colab import files\n",
        "files.download(\"submission_team_sgs_4.csv\")"
      ],
      "execution_count": 267,
      "outputs": [
        {
          "output_type": "display_data",
          "data": {
            "application/javascript": [
              "\n",
              "    async function download(id, filename, size) {\n",
              "      if (!google.colab.kernel.accessAllowed) {\n",
              "        return;\n",
              "      }\n",
              "      const div = document.createElement('div');\n",
              "      const label = document.createElement('label');\n",
              "      label.textContent = `Downloading \"${filename}\": `;\n",
              "      div.appendChild(label);\n",
              "      const progress = document.createElement('progress');\n",
              "      progress.max = size;\n",
              "      div.appendChild(progress);\n",
              "      document.body.appendChild(div);\n",
              "\n",
              "      const buffers = [];\n",
              "      let downloaded = 0;\n",
              "\n",
              "      const channel = await google.colab.kernel.comms.open(id);\n",
              "      // Send a message to notify the kernel that we're ready.\n",
              "      channel.send({})\n",
              "\n",
              "      for await (const message of channel.messages) {\n",
              "        // Send a message to notify the kernel that we're ready.\n",
              "        channel.send({})\n",
              "        if (message.buffers) {\n",
              "          for (const buffer of message.buffers) {\n",
              "            buffers.push(buffer);\n",
              "            downloaded += buffer.byteLength;\n",
              "            progress.value = downloaded;\n",
              "          }\n",
              "        }\n",
              "      }\n",
              "      const blob = new Blob(buffers, {type: 'application/binary'});\n",
              "      const a = document.createElement('a');\n",
              "      a.href = window.URL.createObjectURL(blob);\n",
              "      a.download = filename;\n",
              "      div.appendChild(a);\n",
              "      a.click();\n",
              "      div.remove();\n",
              "    }\n",
              "  "
            ],
            "text/plain": [
              "<IPython.core.display.Javascript object>"
            ]
          },
          "metadata": {
            "tags": []
          }
        },
        {
          "output_type": "display_data",
          "data": {
            "application/javascript": [
              "download(\"download_c822984e-e6ed-4d48-b49d-8ef10e7625c5\", \"submission_team_sgs_4.csv\", 6836)"
            ],
            "text/plain": [
              "<IPython.core.display.Javascript object>"
            ]
          },
          "metadata": {
            "tags": []
          }
        }
      ]
    }
  ]
}