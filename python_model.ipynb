{
 "cells": [
  {
   "cell_type": "markdown",
   "metadata": {},
   "source": [
    "# Business Analytics - Analytics Cup 21\n",
    "Team SGS"
   ]
  },
  {
   "cell_type": "markdown",
   "metadata": {},
   "source": [
    "# Setup conda environment\n",
    "To ensure that the following code works, please set up a virtual conda environment in which the following packages are installed. To do this, please run the following commands on your terminal. After that you can start the jupyter notebook\n",
    "### Create an environment called \"py35\"\n",
    "`conda create -n py35 python=3.5'`\n",
    "### Install numpy and other necessary packages into the \"py35\" environment\n",
    "`conda install matplotlib pandas numpy jupyter nb_conda -n py35`\n",
    "### Activate the environment\n",
    "`conda activate py35`\n",
    "### Start Jupyter notebook\n",
    "`jupyter notebook`"
   ]
  },
  {
   "cell_type": "markdown",
   "metadata": {},
   "source": [
    "# Importing libaries and set cwd\n",
    "set the project_folder to the folder where the csvs are located"
   ]
  },
  {
   "cell_type": "code",
   "execution_count": 1,
   "metadata": {},
   "outputs": [],
   "source": [
    "import os\n",
    "import pandas as pd\n",
    "import numpy as np\n",
    "import matplotlib.pyplot as plt\n",
    "\n",
    "project_folder = '/Users/mgattinger/Dropbox/TUM/Master/2_Semester/BA/analytics_cup'\n",
    "os.chdir(project_folder)"
   ]
  },
  {
   "cell_type": "markdown",
   "metadata": {},
   "source": [
    "# Read CSVs"
   ]
  },
  {
   "cell_type": "code",
   "execution_count": 2,
   "metadata": {},
   "outputs": [],
   "source": [
    "# payments\n",
    "payments_df = pd.read_csv('payments.csv', delimiter=',',low_memory=False)\n",
    "payments_df = payments_df.set_index('Record_ID')\n",
    "payments_df = payments_df.loc[payments_df['Total_Amount_of_Payment_USDollars'] < 5000000]\n",
    "#physicians\n",
    "physicians_df = pd.read_csv('physicians.csv', delimiter=',',low_memory=False)\n",
    "physicians_df = physicians_df.set_index('id')"
   ]
  },
  {
   "cell_type": "code",
   "execution_count": 3,
   "metadata": {},
   "outputs": [
    {
     "name": "stdout",
     "output_type": "stream",
     "text": [
      "Index(['Physician_ID', 'Company_ID', 'Total_Amount_of_Payment_USDollars',\n",
      "       'Date', 'Number_of_Payments', 'Form_of_Payment_or_Transfer_of_Value',\n",
      "       'Nature_of_Payment_or_Transfer_of_Value', 'City_of_Travel',\n",
      "       'State_of_Travel', 'Country_of_Travel', 'Ownership_Indicator',\n",
      "       'Third_Party_Recipient', 'Charity', 'Third_Party_Covered',\n",
      "       'Contextual_Information', 'Related_Product_Indicator', 'Product_Code_1',\n",
      "       'Product_Code_2', 'Product_Code_3', 'Product_Type_1', 'Product_Type_2',\n",
      "       'Product_Type_3', 'Product_Name_1', 'Product_Name_2', 'Product_Name_3',\n",
      "       'Product_Category_1', 'Product_Category_2', 'Product_Category_3'],\n",
      "      dtype='object')\n",
      "Index(['set', 'First_Name', 'Middle_Name', 'Last_Name', 'Name_Suffix', 'City',\n",
      "       'State', 'Zipcode', 'Country', 'Province', 'Primary_Specialty',\n",
      "       'License_State_1', 'License_State_2', 'License_State_3',\n",
      "       'License_State_4', 'License_State_5'],\n",
      "      dtype='object')\n"
     ]
    }
   ],
   "source": [
    "print(payments_df.columns)\n",
    "print(physicians_df.columns)"
   ]
  },
  {
   "cell_type": "markdown",
   "metadata": {},
   "source": [
    "# Data preperation"
   ]
  },
  {
   "cell_type": "markdown",
   "metadata": {},
   "source": [
    "## remove \"Allopathic & Osteopathic Physicians|\""
   ]
  },
  {
   "cell_type": "code",
   "execution_count": 4,
   "metadata": {},
   "outputs": [
    {
     "data": {
      "text/plain": [
       "id\n",
       "1    Allopathic & Osteopathic Physicians|Obstetrics...\n",
       "2    Allopathic & Osteopathic Physicians|Anesthesio...\n",
       "3    Podiatric Medicine & Surgery Service Providers...\n",
       "4    Allopathic & Osteopathic Physicians|Internal M...\n",
       "5    Allopathic & Osteopathic Physicians|Orthopaedi...\n",
       "Name: Primary_Specialty, dtype: object"
      ]
     },
     "execution_count": 4,
     "metadata": {},
     "output_type": "execute_result"
    }
   ],
   "source": [
    "# before\n",
    "physicians_df['Primary_Specialty'].head()"
   ]
  },
  {
   "cell_type": "code",
   "execution_count": 5,
   "metadata": {},
   "outputs": [],
   "source": [
    "# remove\n",
    "physicians_df['Primary_Specialty'] = physicians_df['Primary_Specialty'].str.replace(r'Allopathic & Osteopathic Physicians\\|', '')"
   ]
  },
  {
   "cell_type": "code",
   "execution_count": 6,
   "metadata": {},
   "outputs": [
    {
     "data": {
      "text/plain": [
       "id\n",
       "1                   Obstetrics & Gynecology|Gynecology\n",
       "2                                       Anesthesiology\n",
       "3    Podiatric Medicine & Surgery Service Providers...\n",
       "4             Internal Medicine|Cardiovascular Disease\n",
       "5                  Orthopaedic Surgery|Sports Medicine\n",
       "Name: Primary_Specialty, dtype: object"
      ]
     },
     "execution_count": 6,
     "metadata": {},
     "output_type": "execute_result"
    }
   ],
   "source": [
    "# after\n",
    "physicians_df['Primary_Specialty'].head()"
   ]
  },
  {
   "cell_type": "markdown",
   "metadata": {},
   "source": [
    "## remove \"\\|.*\""
   ]
  },
  {
   "cell_type": "code",
   "execution_count": 7,
   "metadata": {},
   "outputs": [
    {
     "data": {
      "text/plain": [
       "id\n",
       "1                           Obstetrics & Gynecology\n",
       "2                                    Anesthesiology\n",
       "3    Podiatric Medicine & Surgery Service Providers\n",
       "4                                 Internal Medicine\n",
       "5                               Orthopaedic Surgery\n",
       "Name: Primary_Specialty, dtype: object"
      ]
     },
     "execution_count": 7,
     "metadata": {},
     "output_type": "execute_result"
    }
   ],
   "source": [
    "# remove\n",
    "physicians_df['Primary_Specialty'] = physicians_df['Primary_Specialty'].str.replace(r'\\|.*', '')\n",
    "#after\n",
    "physicians_df['Primary_Specialty'].head()"
   ]
  },
  {
   "cell_type": "markdown",
   "metadata": {},
   "source": [
    "## split sets"
   ]
  },
  {
   "cell_type": "code",
   "execution_count": 8,
   "metadata": {},
   "outputs": [],
   "source": [
    "#valid_physicians_df = physicians_df.loc[physicians_df['set'] == 'train']\n",
    "#train_physicians_df = valid_physicians_df.sample(n=4000, random_state=1)\n",
    "train_physicians_df = physicians_df.loc[physicians_df['set'] == 'train']\n",
    "train_physicians_df = train_physicians_df.reset_index()\n",
    "train_physicians_df = train_physicians_df.rename(columns={\"id\": \"Physician_ID\"})\n",
    "train_physicians_df = train_physicians_df.set_index('Physician_ID')\n",
    "\n",
    "test_physicians_df = physicians_df.loc[physicians_df['set'] == 'test']\n",
    "test_physicians_df = test_physicians_df.reset_index()\n",
    "test_physicians_df = test_physicians_df.rename(columns={\"id\": \"Physician_ID\"})\n",
    "test_physicians_df = test_physicians_df.set_index('Physician_ID')\n",
    "\n",
    "#valid_physicians_df = valid_physicians_df[~valid_physicians_df.index.isin(train_physicians_df.index)]\n",
    "#valid_physicians_df.sort_index(inplace=True)\n",
    "#train_physicians_df.sort_index(inplace=True)\n",
    "#test_physicians_df.sort_index(inplace=True)"
   ]
  },
  {
   "cell_type": "markdown",
   "metadata": {},
   "source": [
    "## Mutate Ownership_Indicator"
   ]
  },
  {
   "cell_type": "code",
   "execution_count": 9,
   "metadata": {},
   "outputs": [],
   "source": [
    "payments_df.Ownership_Indicator = payments_df.Ownership_Indicator.replace(\"No\", 0)\n",
    "payments_df.Ownership_Indicator = payments_df.Ownership_Indicator.replace(\"Yes\", 1)\n"
   ]
  },
  {
   "cell_type": "markdown",
   "metadata": {},
   "source": [
    "# Feature generation\n",
    "## Get ownership interest df"
   ]
  },
  {
   "cell_type": "code",
   "execution_count": 10,
   "metadata": {},
   "outputs": [
    {
     "data": {
      "text/html": [
       "<div>\n",
       "<style scoped>\n",
       "    .dataframe tbody tr th:only-of-type {\n",
       "        vertical-align: middle;\n",
       "    }\n",
       "\n",
       "    .dataframe tbody tr th {\n",
       "        vertical-align: top;\n",
       "    }\n",
       "\n",
       "    .dataframe thead th {\n",
       "        text-align: right;\n",
       "    }\n",
       "</style>\n",
       "<table border=\"1\" class=\"dataframe\">\n",
       "  <thead>\n",
       "    <tr style=\"text-align: right;\">\n",
       "      <th></th>\n",
       "      <th>Ownership_Indicator</th>\n",
       "    </tr>\n",
       "    <tr>\n",
       "      <th>Physician_ID</th>\n",
       "      <th></th>\n",
       "    </tr>\n",
       "  </thead>\n",
       "  <tbody>\n",
       "    <tr>\n",
       "      <th>1</th>\n",
       "      <td>0</td>\n",
       "    </tr>\n",
       "    <tr>\n",
       "      <th>2</th>\n",
       "      <td>0</td>\n",
       "    </tr>\n",
       "    <tr>\n",
       "      <th>3</th>\n",
       "      <td>0</td>\n",
       "    </tr>\n",
       "    <tr>\n",
       "      <th>4</th>\n",
       "      <td>0</td>\n",
       "    </tr>\n",
       "    <tr>\n",
       "      <th>5</th>\n",
       "      <td>0</td>\n",
       "    </tr>\n",
       "  </tbody>\n",
       "</table>\n",
       "</div>"
      ],
      "text/plain": [
       "              Ownership_Indicator\n",
       "Physician_ID                     \n",
       "1                               0\n",
       "2                               0\n",
       "3                               0\n",
       "4                               0\n",
       "5                               0"
      ]
     },
     "execution_count": 10,
     "metadata": {},
     "output_type": "execute_result"
    }
   ],
   "source": [
    "ownership_interest_df = payments_df[[\"Ownership_Indicator\",\"Physician_ID\"]].groupby(by=[\"Physician_ID\"]).max()\n",
    "ownership_interest_df.head()"
   ]
  },
  {
   "cell_type": "markdown",
   "metadata": {},
   "source": [
    "## Get sum of payments by Physician_ID"
   ]
  },
  {
   "cell_type": "code",
   "execution_count": 11,
   "metadata": {},
   "outputs": [
    {
     "data": {
      "text/html": [
       "<div>\n",
       "<style scoped>\n",
       "    .dataframe tbody tr th:only-of-type {\n",
       "        vertical-align: middle;\n",
       "    }\n",
       "\n",
       "    .dataframe tbody tr th {\n",
       "        vertical-align: top;\n",
       "    }\n",
       "\n",
       "    .dataframe thead th {\n",
       "        text-align: right;\n",
       "    }\n",
       "</style>\n",
       "<table border=\"1\" class=\"dataframe\">\n",
       "  <thead>\n",
       "    <tr style=\"text-align: right;\">\n",
       "      <th></th>\n",
       "      <th>total_payments</th>\n",
       "    </tr>\n",
       "    <tr>\n",
       "      <th>Physician_ID</th>\n",
       "      <th></th>\n",
       "    </tr>\n",
       "  </thead>\n",
       "  <tbody>\n",
       "    <tr>\n",
       "      <th>1</th>\n",
       "      <td>952.93</td>\n",
       "    </tr>\n",
       "    <tr>\n",
       "      <th>2</th>\n",
       "      <td>120924.92</td>\n",
       "    </tr>\n",
       "    <tr>\n",
       "      <th>3</th>\n",
       "      <td>3523.93</td>\n",
       "    </tr>\n",
       "    <tr>\n",
       "      <th>4</th>\n",
       "      <td>26745.61</td>\n",
       "    </tr>\n",
       "    <tr>\n",
       "      <th>5</th>\n",
       "      <td>25411.21</td>\n",
       "    </tr>\n",
       "  </tbody>\n",
       "</table>\n",
       "</div>"
      ],
      "text/plain": [
       "              total_payments\n",
       "Physician_ID                \n",
       "1                     952.93\n",
       "2                  120924.92\n",
       "3                    3523.93\n",
       "4                   26745.61\n",
       "5                   25411.21"
      ]
     },
     "execution_count": 11,
     "metadata": {},
     "output_type": "execute_result"
    }
   ],
   "source": [
    "total_payments_df = payments_df[[\"Total_Amount_of_Payment_USDollars\",\"Physician_ID\"]].groupby(by=[\"Physician_ID\"]).sum()\n",
    "total_payments_df = total_payments_df.rename(columns={\"Total_Amount_of_Payment_USDollars\": \"total_payments\"})\n",
    "total_payments_df.head()"
   ]
  },
  {
   "cell_type": "markdown",
   "metadata": {},
   "source": [
    "## Get number of payments by Physician_ID"
   ]
  },
  {
   "cell_type": "code",
   "execution_count": 12,
   "metadata": {},
   "outputs": [
    {
     "data": {
      "text/html": [
       "<div>\n",
       "<style scoped>\n",
       "    .dataframe tbody tr th:only-of-type {\n",
       "        vertical-align: middle;\n",
       "    }\n",
       "\n",
       "    .dataframe tbody tr th {\n",
       "        vertical-align: top;\n",
       "    }\n",
       "\n",
       "    .dataframe thead th {\n",
       "        text-align: right;\n",
       "    }\n",
       "</style>\n",
       "<table border=\"1\" class=\"dataframe\">\n",
       "  <thead>\n",
       "    <tr style=\"text-align: right;\">\n",
       "      <th></th>\n",
       "      <th>number_of_payments</th>\n",
       "    </tr>\n",
       "    <tr>\n",
       "      <th>Physician_ID</th>\n",
       "      <th></th>\n",
       "    </tr>\n",
       "  </thead>\n",
       "  <tbody>\n",
       "    <tr>\n",
       "      <th>1</th>\n",
       "      <td>47</td>\n",
       "    </tr>\n",
       "    <tr>\n",
       "      <th>2</th>\n",
       "      <td>154</td>\n",
       "    </tr>\n",
       "    <tr>\n",
       "      <th>3</th>\n",
       "      <td>132</td>\n",
       "    </tr>\n",
       "    <tr>\n",
       "      <th>4</th>\n",
       "      <td>411</td>\n",
       "    </tr>\n",
       "    <tr>\n",
       "      <th>5</th>\n",
       "      <td>98</td>\n",
       "    </tr>\n",
       "  </tbody>\n",
       "</table>\n",
       "</div>"
      ],
      "text/plain": [
       "              number_of_payments\n",
       "Physician_ID                    \n",
       "1                             47\n",
       "2                            154\n",
       "3                            132\n",
       "4                            411\n",
       "5                             98"
      ]
     },
     "execution_count": 12,
     "metadata": {},
     "output_type": "execute_result"
    }
   ],
   "source": [
    "number_payments_df = payments_df[[\"Total_Amount_of_Payment_USDollars\",\"Physician_ID\"]].groupby(by=[\"Physician_ID\"]).count()\n",
    "number_payments_df = number_payments_df.rename(columns={\"Total_Amount_of_Payment_USDollars\": \"number_of_payments\"})\n",
    "number_payments_df.head()"
   ]
  },
  {
   "cell_type": "markdown",
   "metadata": {},
   "source": [
    "## Get top nature of payment by Physician_ID"
   ]
  },
  {
   "cell_type": "code",
   "execution_count": 13,
   "metadata": {},
   "outputs": [
    {
     "data": {
      "text/html": [
       "<div>\n",
       "<style scoped>\n",
       "    .dataframe tbody tr th:only-of-type {\n",
       "        vertical-align: middle;\n",
       "    }\n",
       "\n",
       "    .dataframe tbody tr th {\n",
       "        vertical-align: top;\n",
       "    }\n",
       "\n",
       "    .dataframe thead th {\n",
       "        text-align: right;\n",
       "    }\n",
       "</style>\n",
       "<table border=\"1\" class=\"dataframe\">\n",
       "  <thead>\n",
       "    <tr style=\"text-align: right;\">\n",
       "      <th></th>\n",
       "      <th>top_nature</th>\n",
       "      <th>total_of_top_nature</th>\n",
       "    </tr>\n",
       "    <tr>\n",
       "      <th>Physician_ID</th>\n",
       "      <th></th>\n",
       "      <th></th>\n",
       "    </tr>\n",
       "  </thead>\n",
       "  <tbody>\n",
       "    <tr>\n",
       "      <th>1</th>\n",
       "      <td>Food and Beverage</td>\n",
       "      <td>842.44</td>\n",
       "    </tr>\n",
       "    <tr>\n",
       "      <th>2</th>\n",
       "      <td>Compensation for services other than consultin...</td>\n",
       "      <td>45190.70</td>\n",
       "    </tr>\n",
       "    <tr>\n",
       "      <th>3</th>\n",
       "      <td>Food and Beverage</td>\n",
       "      <td>3523.93</td>\n",
       "    </tr>\n",
       "    <tr>\n",
       "      <th>4</th>\n",
       "      <td>Compensation for services other than consultin...</td>\n",
       "      <td>18011.81</td>\n",
       "    </tr>\n",
       "    <tr>\n",
       "      <th>5</th>\n",
       "      <td>Education</td>\n",
       "      <td>8792.00</td>\n",
       "    </tr>\n",
       "  </tbody>\n",
       "</table>\n",
       "</div>"
      ],
      "text/plain": [
       "                                                     top_nature  \\\n",
       "Physician_ID                                                      \n",
       "1                                             Food and Beverage   \n",
       "2             Compensation for services other than consultin...   \n",
       "3                                             Food and Beverage   \n",
       "4             Compensation for services other than consultin...   \n",
       "5                                                     Education   \n",
       "\n",
       "              total_of_top_nature  \n",
       "Physician_ID                       \n",
       "1                          842.44  \n",
       "2                        45190.70  \n",
       "3                         3523.93  \n",
       "4                        18011.81  \n",
       "5                         8792.00  "
      ]
     },
     "execution_count": 13,
     "metadata": {},
     "output_type": "execute_result"
    }
   ],
   "source": [
    "top_nature_df = payments_df[[\"Nature_of_Payment_or_Transfer_of_Value\",\"Total_Amount_of_Payment_USDollars\",\"Physician_ID\"]].groupby(by=[\"Physician_ID\",\"Nature_of_Payment_or_Transfer_of_Value\"]).sum()\n",
    "# nlargest(1, 'Total_Amount_of_Payment_USDollars','first')\n",
    "top_nature_df.reset_index(inplace=True)\n",
    "top_nature_df = top_nature_df.groupby(by=[\"Physician_ID\"])\n",
    "top_nature_df = top_nature_df.apply(lambda _df: _df.nlargest(1,'Total_Amount_of_Payment_USDollars','first'))\n",
    "top_nature_df.reset_index(drop=True,inplace=True)\n",
    "top_nature_df.set_index('Physician_ID',inplace=True)\n",
    "top_nature_df = top_nature_df.rename(columns={\"Nature_of_Payment_or_Transfer_of_Value\": \"top_nature\",\"Total_Amount_of_Payment_USDollars\":\"total_of_top_nature\"})\n",
    "top_nature_df.head()"
   ]
  },
  {
   "cell_type": "markdown",
   "metadata": {},
   "source": [
    "## Create year and month column for grouping"
   ]
  },
  {
   "cell_type": "code",
   "execution_count": 14,
   "metadata": {},
   "outputs": [
    {
     "data": {
      "text/html": [
       "<div>\n",
       "<style scoped>\n",
       "    .dataframe tbody tr th:only-of-type {\n",
       "        vertical-align: middle;\n",
       "    }\n",
       "\n",
       "    .dataframe tbody tr th {\n",
       "        vertical-align: top;\n",
       "    }\n",
       "\n",
       "    .dataframe thead th {\n",
       "        text-align: right;\n",
       "    }\n",
       "</style>\n",
       "<table border=\"1\" class=\"dataframe\">\n",
       "  <thead>\n",
       "    <tr style=\"text-align: right;\">\n",
       "      <th></th>\n",
       "      <th>Year</th>\n",
       "      <th>Month</th>\n",
       "      <th>Physician_ID</th>\n",
       "      <th>Total_Amount_of_Payment_USDollars</th>\n",
       "    </tr>\n",
       "    <tr>\n",
       "      <th>Record_ID</th>\n",
       "      <th></th>\n",
       "      <th></th>\n",
       "      <th></th>\n",
       "      <th></th>\n",
       "    </tr>\n",
       "  </thead>\n",
       "  <tbody>\n",
       "    <tr>\n",
       "      <th>80021</th>\n",
       "      <td>2014</td>\n",
       "      <td>01</td>\n",
       "      <td>3328</td>\n",
       "      <td>105.87</td>\n",
       "    </tr>\n",
       "    <tr>\n",
       "      <th>80022</th>\n",
       "      <td>2014</td>\n",
       "      <td>01</td>\n",
       "      <td>2439</td>\n",
       "      <td>42.33</td>\n",
       "    </tr>\n",
       "    <tr>\n",
       "      <th>80023</th>\n",
       "      <td>2014</td>\n",
       "      <td>01</td>\n",
       "      <td>3164</td>\n",
       "      <td>12.93</td>\n",
       "    </tr>\n",
       "    <tr>\n",
       "      <th>80024</th>\n",
       "      <td>2014</td>\n",
       "      <td>01</td>\n",
       "      <td>968</td>\n",
       "      <td>19.45</td>\n",
       "    </tr>\n",
       "    <tr>\n",
       "      <th>80025</th>\n",
       "      <td>2014</td>\n",
       "      <td>01</td>\n",
       "      <td>1608</td>\n",
       "      <td>10.26</td>\n",
       "    </tr>\n",
       "  </tbody>\n",
       "</table>\n",
       "</div>"
      ],
      "text/plain": [
       "           Year Month  Physician_ID  Total_Amount_of_Payment_USDollars\n",
       "Record_ID                                                             \n",
       "80021      2014    01          3328                             105.87\n",
       "80022      2014    01          2439                              42.33\n",
       "80023      2014    01          3164                              12.93\n",
       "80024      2014    01           968                              19.45\n",
       "80025      2014    01          1608                              10.26"
      ]
     },
     "execution_count": 14,
     "metadata": {},
     "output_type": "execute_result"
    }
   ],
   "source": [
    "payments_per_month_df = payments_df[[\"Date\",\"Physician_ID\",\"Total_Amount_of_Payment_USDollars\"]]\n",
    "payments_per_month_df_year = payments_per_month_df[\"Date\"].str.replace(r'../../', '')\n",
    "payments_per_month_df_month = payments_per_month_df[\"Date\"].str.replace(r'/../....', '')\n",
    "payments_per_month_df.insert(1, \"Year\", payments_per_month_df_year, False) \n",
    "payments_per_month_df.insert(2, \"Month\", payments_per_month_df_month, False)\n",
    "payments_per_month_df = payments_per_month_df.drop(['Date'], axis=1)\n",
    "payments_per_month_df = payments_per_month_df.loc[payments_per_month_df['Year'] > '2013']\n",
    "payments_per_month_df.head()"
   ]
  },
  {
   "cell_type": "markdown",
   "metadata": {},
   "source": [
    "## Get range of number of payments by Physician_ID"
   ]
  },
  {
   "cell_type": "code",
   "execution_count": 15,
   "metadata": {},
   "outputs": [
    {
     "data": {
      "text/html": [
       "<div>\n",
       "<style scoped>\n",
       "    .dataframe tbody tr th:only-of-type {\n",
       "        vertical-align: middle;\n",
       "    }\n",
       "\n",
       "    .dataframe tbody tr th {\n",
       "        vertical-align: top;\n",
       "    }\n",
       "\n",
       "    .dataframe thead th {\n",
       "        text-align: right;\n",
       "    }\n",
       "</style>\n",
       "<table border=\"1\" class=\"dataframe\">\n",
       "  <thead>\n",
       "    <tr style=\"text-align: right;\">\n",
       "      <th></th>\n",
       "      <th>range_count</th>\n",
       "    </tr>\n",
       "    <tr>\n",
       "      <th>Physician_ID</th>\n",
       "      <th></th>\n",
       "    </tr>\n",
       "  </thead>\n",
       "  <tbody>\n",
       "    <tr>\n",
       "      <th>1</th>\n",
       "      <td>8</td>\n",
       "    </tr>\n",
       "    <tr>\n",
       "      <th>2</th>\n",
       "      <td>45</td>\n",
       "    </tr>\n",
       "    <tr>\n",
       "      <th>3</th>\n",
       "      <td>12</td>\n",
       "    </tr>\n",
       "    <tr>\n",
       "      <th>4</th>\n",
       "      <td>50</td>\n",
       "    </tr>\n",
       "    <tr>\n",
       "      <th>5</th>\n",
       "      <td>18</td>\n",
       "    </tr>\n",
       "  </tbody>\n",
       "</table>\n",
       "</div>"
      ],
      "text/plain": [
       "              range_count\n",
       "Physician_ID             \n",
       "1                       8\n",
       "2                      45\n",
       "3                      12\n",
       "4                      50\n",
       "5                      18"
      ]
     },
     "execution_count": 15,
     "metadata": {},
     "output_type": "execute_result"
    }
   ],
   "source": [
    "range_number_of_payments_df = payments_per_month_df.groupby(by=[\"Year\",\"Month\",\"Physician_ID\"]).agg(['count'])\n",
    "range_number_of_payments_df = range_number_of_payments_df.groupby(by=[\"Year\",\"Physician_ID\"]).agg(['sum'])\n",
    "range_number_of_payments_df = range_number_of_payments_df.groupby(by=[\"Physician_ID\"]).agg(['max','min'])\n",
    "range_number_of_payments_df_max = range_number_of_payments_df['Total_Amount_of_Payment_USDollars']['count']['sum']['max']\n",
    "range_number_of_payments_df_min = range_number_of_payments_df['Total_Amount_of_Payment_USDollars']['count']['sum']['min']\n",
    "range_number_of_payments_df['range_count'] = range_number_of_payments_df_max - range_number_of_payments_df_min\n",
    "range_number_of_payments_df = range_number_of_payments_df.drop(['Total_Amount_of_Payment_USDollars'],axis=1)\n",
    "range_number_of_payments_df.columns = range_number_of_payments_df.columns.droplevel(level = [1,2,3])\n",
    "range_number_of_payments_df.head()"
   ]
  },
  {
   "cell_type": "markdown",
   "metadata": {},
   "source": [
    "## Get range of payments by Physician_ID"
   ]
  },
  {
   "cell_type": "code",
   "execution_count": 16,
   "metadata": {
    "scrolled": true
   },
   "outputs": [
    {
     "data": {
      "text/html": [
       "<div>\n",
       "<style scoped>\n",
       "    .dataframe tbody tr th:only-of-type {\n",
       "        vertical-align: middle;\n",
       "    }\n",
       "\n",
       "    .dataframe tbody tr th {\n",
       "        vertical-align: top;\n",
       "    }\n",
       "\n",
       "    .dataframe thead th {\n",
       "        text-align: right;\n",
       "    }\n",
       "</style>\n",
       "<table border=\"1\" class=\"dataframe\">\n",
       "  <thead>\n",
       "    <tr style=\"text-align: right;\">\n",
       "      <th></th>\n",
       "      <th>range_total</th>\n",
       "    </tr>\n",
       "    <tr>\n",
       "      <th>Physician_ID</th>\n",
       "      <th></th>\n",
       "    </tr>\n",
       "  </thead>\n",
       "  <tbody>\n",
       "    <tr>\n",
       "      <th>1</th>\n",
       "      <td>170.41</td>\n",
       "    </tr>\n",
       "    <tr>\n",
       "      <th>2</th>\n",
       "      <td>35030.52</td>\n",
       "    </tr>\n",
       "    <tr>\n",
       "      <th>3</th>\n",
       "      <td>462.42</td>\n",
       "    </tr>\n",
       "    <tr>\n",
       "      <th>4</th>\n",
       "      <td>13247.09</td>\n",
       "    </tr>\n",
       "    <tr>\n",
       "      <th>5</th>\n",
       "      <td>9079.72</td>\n",
       "    </tr>\n",
       "  </tbody>\n",
       "</table>\n",
       "</div>"
      ],
      "text/plain": [
       "              range_total\n",
       "Physician_ID             \n",
       "1                  170.41\n",
       "2                35030.52\n",
       "3                  462.42\n",
       "4                13247.09\n",
       "5                 9079.72"
      ]
     },
     "execution_count": 16,
     "metadata": {},
     "output_type": "execute_result"
    }
   ],
   "source": [
    "range_of_payments_df = payments_per_month_df.groupby(by=[\"Year\",\"Month\",\"Physician_ID\"]).agg(['sum'])\n",
    "range_of_payments_df = range_of_payments_df.groupby(by=[\"Year\",\"Physician_ID\"]).agg(['sum'])\n",
    "range_of_payments_df = range_of_payments_df.groupby(by=[\"Physician_ID\"]).agg(['max','min'])\n",
    "range_of_payments_df_max = range_of_payments_df['Total_Amount_of_Payment_USDollars']['sum']['sum']['max']\n",
    "range_of_payments_df_min = range_of_payments_df['Total_Amount_of_Payment_USDollars']['sum']['sum']['min']\n",
    "range_of_payments_df['range_total'] = range_of_payments_df_max - range_of_payments_df_min\n",
    "range_of_payments_df = range_of_payments_df.drop(['Total_Amount_of_Payment_USDollars'],axis=1)\n",
    "range_of_payments_df.columns = range_of_payments_df.columns.droplevel(level = [1,2,3])\n",
    "range_of_payments_df.head()"
   ]
  },
  {
   "cell_type": "markdown",
   "metadata": {},
   "source": [
    "## Group by Company_ID and get sum, count and mean of payments by company "
   ]
  },
  {
   "cell_type": "code",
   "execution_count": 17,
   "metadata": {},
   "outputs": [
    {
     "data": {
      "text/html": [
       "<div>\n",
       "<style scoped>\n",
       "    .dataframe tbody tr th:only-of-type {\n",
       "        vertical-align: middle;\n",
       "    }\n",
       "\n",
       "    .dataframe tbody tr th {\n",
       "        vertical-align: top;\n",
       "    }\n",
       "\n",
       "    .dataframe thead tr th {\n",
       "        text-align: left;\n",
       "    }\n",
       "\n",
       "    .dataframe thead tr:last-of-type th {\n",
       "        text-align: right;\n",
       "    }\n",
       "</style>\n",
       "<table border=\"1\" class=\"dataframe\">\n",
       "  <thead>\n",
       "    <tr>\n",
       "      <th></th>\n",
       "      <th></th>\n",
       "      <th colspan=\"3\" halign=\"left\">Total_Amount_of_Payment_USDollars</th>\n",
       "    </tr>\n",
       "    <tr>\n",
       "      <th></th>\n",
       "      <th></th>\n",
       "      <th>sum</th>\n",
       "      <th>count</th>\n",
       "      <th>mean</th>\n",
       "    </tr>\n",
       "    <tr>\n",
       "      <th>Physician_ID</th>\n",
       "      <th>Company_ID</th>\n",
       "      <th></th>\n",
       "      <th></th>\n",
       "      <th></th>\n",
       "    </tr>\n",
       "  </thead>\n",
       "  <tbody>\n",
       "    <tr>\n",
       "      <th rowspan=\"5\" valign=\"top\">1</th>\n",
       "      <th>69</th>\n",
       "      <td>43.85</td>\n",
       "      <td>3</td>\n",
       "      <td>14.616667</td>\n",
       "    </tr>\n",
       "    <tr>\n",
       "      <th>122</th>\n",
       "      <td>44.30</td>\n",
       "      <td>3</td>\n",
       "      <td>14.766667</td>\n",
       "    </tr>\n",
       "    <tr>\n",
       "      <th>123</th>\n",
       "      <td>22.64</td>\n",
       "      <td>1</td>\n",
       "      <td>22.640000</td>\n",
       "    </tr>\n",
       "    <tr>\n",
       "      <th>138</th>\n",
       "      <td>16.88</td>\n",
       "      <td>1</td>\n",
       "      <td>16.880000</td>\n",
       "    </tr>\n",
       "    <tr>\n",
       "      <th>140</th>\n",
       "      <td>44.53</td>\n",
       "      <td>3</td>\n",
       "      <td>14.843333</td>\n",
       "    </tr>\n",
       "  </tbody>\n",
       "</table>\n",
       "</div>"
      ],
      "text/plain": [
       "                        Total_Amount_of_Payment_USDollars                 \n",
       "                                                      sum count       mean\n",
       "Physician_ID Company_ID                                                   \n",
       "1            69                                     43.85     3  14.616667\n",
       "             122                                    44.30     3  14.766667\n",
       "             123                                    22.64     1  22.640000\n",
       "             138                                    16.88     1  16.880000\n",
       "             140                                    44.53     3  14.843333"
      ]
     },
     "execution_count": 17,
     "metadata": {},
     "output_type": "execute_result"
    }
   ],
   "source": [
    "company_df = payments_df[[\"Company_ID\",\"Physician_ID\",\"Total_Amount_of_Payment_USDollars\"]]\n",
    "company_df = company_df.groupby(by=['Physician_ID','Company_ID']).agg(['sum','count','mean'])\n",
    "company_df.head()"
   ]
  },
  {
   "cell_type": "markdown",
   "metadata": {},
   "source": [
    "## Get top paying company by physician"
   ]
  },
  {
   "cell_type": "code",
   "execution_count": 18,
   "metadata": {},
   "outputs": [
    {
     "data": {
      "text/html": [
       "<div>\n",
       "<style scoped>\n",
       "    .dataframe tbody tr th:only-of-type {\n",
       "        vertical-align: middle;\n",
       "    }\n",
       "\n",
       "    .dataframe tbody tr th {\n",
       "        vertical-align: top;\n",
       "    }\n",
       "\n",
       "    .dataframe thead th {\n",
       "        text-align: right;\n",
       "    }\n",
       "</style>\n",
       "<table border=\"1\" class=\"dataframe\">\n",
       "  <thead>\n",
       "    <tr style=\"text-align: right;\">\n",
       "      <th></th>\n",
       "      <th>top_company</th>\n",
       "    </tr>\n",
       "    <tr>\n",
       "      <th>Physician_ID</th>\n",
       "      <th></th>\n",
       "    </tr>\n",
       "  </thead>\n",
       "  <tbody>\n",
       "    <tr>\n",
       "      <th>1</th>\n",
       "      <td>550</td>\n",
       "    </tr>\n",
       "    <tr>\n",
       "      <th>2</th>\n",
       "      <td>601</td>\n",
       "    </tr>\n",
       "    <tr>\n",
       "      <th>3</th>\n",
       "      <td>340</td>\n",
       "    </tr>\n",
       "    <tr>\n",
       "      <th>4</th>\n",
       "      <td>18</td>\n",
       "    </tr>\n",
       "    <tr>\n",
       "      <th>5</th>\n",
       "      <td>442</td>\n",
       "    </tr>\n",
       "  </tbody>\n",
       "</table>\n",
       "</div>"
      ],
      "text/plain": [
       "             top_company\n",
       "Physician_ID            \n",
       "1                    550\n",
       "2                    601\n",
       "3                    340\n",
       "4                     18\n",
       "5                    442"
      ]
     },
     "execution_count": 18,
     "metadata": {},
     "output_type": "execute_result"
    }
   ],
   "source": [
    "top_companys = company_df['Total_Amount_of_Payment_USDollars']['sum']\n",
    "top_companys = top_companys.reset_index()\n",
    "top_companys = top_companys.groupby(by=[\"Physician_ID\"])\n",
    "top_companys = top_companys.apply(lambda _df: _df.nlargest(1,'sum','first'))\n",
    "top_companys = top_companys.reset_index(drop=True)\n",
    "top_companys = top_companys.set_index('Physician_ID')\n",
    "top_companys = top_companys.drop(['sum'],axis=1)\n",
    "top_companys['Company_ID']= top_companys['Company_ID'].map(str)\n",
    "top_companys = top_companys.rename(columns={\"Company_ID\": \"top_company\"})\n",
    "top_companys.head()"
   ]
  },
  {
   "cell_type": "markdown",
   "metadata": {},
   "source": [
    "## Get count of company payments by physician"
   ]
  },
  {
   "cell_type": "code",
   "execution_count": 19,
   "metadata": {},
   "outputs": [
    {
     "data": {
      "text/html": [
       "<div>\n",
       "<style scoped>\n",
       "    .dataframe tbody tr th:only-of-type {\n",
       "        vertical-align: middle;\n",
       "    }\n",
       "\n",
       "    .dataframe tbody tr th {\n",
       "        vertical-align: top;\n",
       "    }\n",
       "\n",
       "    .dataframe thead th {\n",
       "        text-align: right;\n",
       "    }\n",
       "</style>\n",
       "<table border=\"1\" class=\"dataframe\">\n",
       "  <thead>\n",
       "    <tr style=\"text-align: right;\">\n",
       "      <th></th>\n",
       "      <th>pay_count</th>\n",
       "    </tr>\n",
       "    <tr>\n",
       "      <th>Physician_ID</th>\n",
       "      <th></th>\n",
       "    </tr>\n",
       "  </thead>\n",
       "  <tbody>\n",
       "    <tr>\n",
       "      <th>1</th>\n",
       "      <td>18</td>\n",
       "    </tr>\n",
       "    <tr>\n",
       "      <th>2</th>\n",
       "      <td>13</td>\n",
       "    </tr>\n",
       "    <tr>\n",
       "      <th>3</th>\n",
       "      <td>15</td>\n",
       "    </tr>\n",
       "    <tr>\n",
       "      <th>4</th>\n",
       "      <td>32</td>\n",
       "    </tr>\n",
       "    <tr>\n",
       "      <th>5</th>\n",
       "      <td>13</td>\n",
       "    </tr>\n",
       "  </tbody>\n",
       "</table>\n",
       "</div>"
      ],
      "text/plain": [
       "              pay_count\n",
       "Physician_ID           \n",
       "1                    18\n",
       "2                    13\n",
       "3                    15\n",
       "4                    32\n",
       "5                    13"
      ]
     },
     "execution_count": 19,
     "metadata": {},
     "output_type": "execute_result"
    }
   ],
   "source": [
    "companys_pay_count_df = company_df.groupby('Physician_ID').agg(['count'])\n",
    "companys_pay_count_df_count = companys_pay_count_df['Total_Amount_of_Payment_USDollars']['mean']['count']\n",
    "companys_pay_count_df['pay_count'] = companys_pay_count_df_count\n",
    "companys_pay_count_df = companys_pay_count_df.drop(['Total_Amount_of_Payment_USDollars'],axis=1)\n",
    "companys_pay_count_df.columns = companys_pay_count_df.columns.droplevel(level = [1,2])\n",
    "companys_pay_count_df.head()"
   ]
  },
  {
   "cell_type": "markdown",
   "metadata": {},
   "source": [
    "## Get std of company payments by physician"
   ]
  },
  {
   "cell_type": "code",
   "execution_count": 20,
   "metadata": {},
   "outputs": [
    {
     "data": {
      "text/html": [
       "<div>\n",
       "<style scoped>\n",
       "    .dataframe tbody tr th:only-of-type {\n",
       "        vertical-align: middle;\n",
       "    }\n",
       "\n",
       "    .dataframe tbody tr th {\n",
       "        vertical-align: top;\n",
       "    }\n",
       "\n",
       "    .dataframe thead th {\n",
       "        text-align: right;\n",
       "    }\n",
       "</style>\n",
       "<table border=\"1\" class=\"dataframe\">\n",
       "  <thead>\n",
       "    <tr style=\"text-align: right;\">\n",
       "      <th></th>\n",
       "      <th>std</th>\n",
       "    </tr>\n",
       "    <tr>\n",
       "      <th>Physician_ID</th>\n",
       "      <th></th>\n",
       "    </tr>\n",
       "  </thead>\n",
       "  <tbody>\n",
       "    <tr>\n",
       "      <th>1</th>\n",
       "      <td>6.498346</td>\n",
       "    </tr>\n",
       "    <tr>\n",
       "      <th>2</th>\n",
       "      <td>478.199770</td>\n",
       "    </tr>\n",
       "    <tr>\n",
       "      <th>3</th>\n",
       "      <td>35.449082</td>\n",
       "    </tr>\n",
       "    <tr>\n",
       "      <th>4</th>\n",
       "      <td>129.869365</td>\n",
       "    </tr>\n",
       "    <tr>\n",
       "      <th>5</th>\n",
       "      <td>1741.832451</td>\n",
       "    </tr>\n",
       "  </tbody>\n",
       "</table>\n",
       "</div>"
      ],
      "text/plain": [
       "                      std\n",
       "Physician_ID             \n",
       "1                6.498346\n",
       "2              478.199770\n",
       "3               35.449082\n",
       "4              129.869365\n",
       "5             1741.832451"
      ]
     },
     "execution_count": 20,
     "metadata": {},
     "output_type": "execute_result"
    }
   ],
   "source": [
    "companys_pay_std_df = company_df.groupby('Physician_ID').agg(['std'])\n",
    "companys_pay_std_df_std = companys_pay_std_df['Total_Amount_of_Payment_USDollars']['mean']['std']\n",
    "companys_pay_std_df['std'] = companys_pay_std_df_std\n",
    "companys_pay_std_df = companys_pay_std_df.drop(['Total_Amount_of_Payment_USDollars'],axis=1)\n",
    "companys_pay_std_df.columns = companys_pay_std_df.columns.droplevel(level = [1,2])\n",
    "companys_pay_std_df.head()"
   ]
  },
  {
   "cell_type": "markdown",
   "metadata": {},
   "source": [
    "## Get Related Product Indicator by physician"
   ]
  },
  {
   "cell_type": "code",
   "execution_count": 21,
   "metadata": {},
   "outputs": [
    {
     "data": {
      "text/html": [
       "<div>\n",
       "<style scoped>\n",
       "    .dataframe tbody tr th:only-of-type {\n",
       "        vertical-align: middle;\n",
       "    }\n",
       "\n",
       "    .dataframe tbody tr th {\n",
       "        vertical-align: top;\n",
       "    }\n",
       "\n",
       "    .dataframe thead th {\n",
       "        text-align: right;\n",
       "    }\n",
       "</style>\n",
       "<table border=\"1\" class=\"dataframe\">\n",
       "  <thead>\n",
       "    <tr style=\"text-align: right;\">\n",
       "      <th></th>\n",
       "      <th>top_rpi</th>\n",
       "      <th>rpi_count</th>\n",
       "    </tr>\n",
       "    <tr>\n",
       "      <th>Physician_ID</th>\n",
       "      <th></th>\n",
       "      <th></th>\n",
       "    </tr>\n",
       "  </thead>\n",
       "  <tbody>\n",
       "    <tr>\n",
       "      <th>1</th>\n",
       "      <td>Covered</td>\n",
       "      <td>26</td>\n",
       "    </tr>\n",
       "    <tr>\n",
       "      <th>2</th>\n",
       "      <td>Covered</td>\n",
       "      <td>88</td>\n",
       "    </tr>\n",
       "    <tr>\n",
       "      <th>3</th>\n",
       "      <td>Yes</td>\n",
       "      <td>75</td>\n",
       "    </tr>\n",
       "    <tr>\n",
       "      <th>4</th>\n",
       "      <td>Yes</td>\n",
       "      <td>231</td>\n",
       "    </tr>\n",
       "    <tr>\n",
       "      <th>5</th>\n",
       "      <td>Covered</td>\n",
       "      <td>41</td>\n",
       "    </tr>\n",
       "  </tbody>\n",
       "</table>\n",
       "</div>"
      ],
      "text/plain": [
       "              top_rpi  rpi_count\n",
       "Physician_ID                    \n",
       "1             Covered         26\n",
       "2             Covered         88\n",
       "3                 Yes         75\n",
       "4                 Yes        231\n",
       "5             Covered         41"
      ]
     },
     "execution_count": 21,
     "metadata": {},
     "output_type": "execute_result"
    }
   ],
   "source": [
    "rpi_df = payments_df[['Related_Product_Indicator','Physician_ID','Total_Amount_of_Payment_USDollars']]\n",
    "rpi_df = rpi_df.groupby(by=['Physician_ID','Related_Product_Indicator']).count()\n",
    "rpi_df = rpi_df.reset_index()\n",
    "rpi_df = rpi_df.groupby(by=[\"Physician_ID\"])\n",
    "rpi_df = rpi_df.apply(lambda _df: _df.nlargest(1,'Total_Amount_of_Payment_USDollars','first'))\n",
    "rpi_df = rpi_df.reset_index(drop=True)\n",
    "rpi_df = rpi_df.set_index('Physician_ID')\n",
    "rpi_df = rpi_df.rename(columns={\"Related_Product_Indicator\": \"top_rpi\",\"Total_Amount_of_Payment_USDollars\": \"rpi_count\"})\n",
    "rpi_df.head()"
   ]
  },
  {
   "cell_type": "markdown",
   "metadata": {},
   "source": [
    "## Generate Form_of_Payment_or_Transfer_of_Value (fop) dummy columns"
   ]
  },
  {
   "cell_type": "code",
   "execution_count": 22,
   "metadata": {},
   "outputs": [
    {
     "name": "stdout",
     "output_type": "stream",
     "text": [
      "['In-kind items and services' 'Cash or cash equivalent'\n",
      " 'Dividend, profit or other return on investment'\n",
      " 'Stock, stock option, or any other ownership interest'\n",
      " 'Any other ownership interest' 'Stock' 'Stock option']\n"
     ]
    }
   ],
   "source": [
    "print(payments_df.Form_of_Payment_or_Transfer_of_Value.unique())"
   ]
  },
  {
   "cell_type": "markdown",
   "metadata": {},
   "source": [
    "## payments grouped by fops and physician_id"
   ]
  },
  {
   "cell_type": "code",
   "execution_count": 23,
   "metadata": {},
   "outputs": [
    {
     "data": {
      "text/html": [
       "<div>\n",
       "<style scoped>\n",
       "    .dataframe tbody tr th:only-of-type {\n",
       "        vertical-align: middle;\n",
       "    }\n",
       "\n",
       "    .dataframe tbody tr th {\n",
       "        vertical-align: top;\n",
       "    }\n",
       "\n",
       "    .dataframe thead th {\n",
       "        text-align: right;\n",
       "    }\n",
       "</style>\n",
       "<table border=\"1\" class=\"dataframe\">\n",
       "  <thead>\n",
       "    <tr style=\"text-align: right;\">\n",
       "      <th></th>\n",
       "      <th>Form_of_Payment_or_Transfer_of_Value</th>\n",
       "      <th>fop_count</th>\n",
       "    </tr>\n",
       "    <tr>\n",
       "      <th>Physician_ID</th>\n",
       "      <th></th>\n",
       "      <th></th>\n",
       "    </tr>\n",
       "  </thead>\n",
       "  <tbody>\n",
       "    <tr>\n",
       "      <th>1</th>\n",
       "      <td>Cash or cash equivalent</td>\n",
       "      <td>4</td>\n",
       "    </tr>\n",
       "    <tr>\n",
       "      <th>1</th>\n",
       "      <td>In-kind items and services</td>\n",
       "      <td>43</td>\n",
       "    </tr>\n",
       "    <tr>\n",
       "      <th>2</th>\n",
       "      <td>Cash or cash equivalent</td>\n",
       "      <td>72</td>\n",
       "    </tr>\n",
       "    <tr>\n",
       "      <th>2</th>\n",
       "      <td>In-kind items and services</td>\n",
       "      <td>82</td>\n",
       "    </tr>\n",
       "    <tr>\n",
       "      <th>3</th>\n",
       "      <td>Cash or cash equivalent</td>\n",
       "      <td>39</td>\n",
       "    </tr>\n",
       "  </tbody>\n",
       "</table>\n",
       "</div>"
      ],
      "text/plain": [
       "             Form_of_Payment_or_Transfer_of_Value  fop_count\n",
       "Physician_ID                                                \n",
       "1                         Cash or cash equivalent          4\n",
       "1                      In-kind items and services         43\n",
       "2                         Cash or cash equivalent         72\n",
       "2                      In-kind items and services         82\n",
       "3                         Cash or cash equivalent         39"
      ]
     },
     "execution_count": 23,
     "metadata": {},
     "output_type": "execute_result"
    }
   ],
   "source": [
    "fops_df = payments_df[['Physician_ID','Form_of_Payment_or_Transfer_of_Value','Total_Amount_of_Payment_USDollars']]\n",
    "fops_df = fops_df.groupby(by=['Physician_ID','Form_of_Payment_or_Transfer_of_Value']).count()\n",
    "fops_df = fops_df.rename(columns={\"Total_Amount_of_Payment_USDollars\": \"fop_count\"})\n",
    "fops_df = fops_df.reset_index()\n",
    "fops_df = fops_df.set_index('Physician_ID')\n",
    "fops_df.head()"
   ]
  },
  {
   "cell_type": "markdown",
   "metadata": {},
   "source": [
    "## Create dummy df"
   ]
  },
  {
   "cell_type": "code",
   "execution_count": 24,
   "metadata": {},
   "outputs": [
    {
     "data": {
      "text/html": [
       "<div>\n",
       "<style scoped>\n",
       "    .dataframe tbody tr th:only-of-type {\n",
       "        vertical-align: middle;\n",
       "    }\n",
       "\n",
       "    .dataframe tbody tr th {\n",
       "        vertical-align: top;\n",
       "    }\n",
       "\n",
       "    .dataframe thead th {\n",
       "        text-align: right;\n",
       "    }\n",
       "</style>\n",
       "<table border=\"1\" class=\"dataframe\">\n",
       "  <thead>\n",
       "    <tr style=\"text-align: right;\">\n",
       "      <th></th>\n",
       "      <th>dummy</th>\n",
       "    </tr>\n",
       "    <tr>\n",
       "      <th>Physician_ID</th>\n",
       "      <th></th>\n",
       "    </tr>\n",
       "  </thead>\n",
       "  <tbody>\n",
       "    <tr>\n",
       "      <th>1</th>\n",
       "      <td>0</td>\n",
       "    </tr>\n",
       "    <tr>\n",
       "      <th>2</th>\n",
       "      <td>0</td>\n",
       "    </tr>\n",
       "    <tr>\n",
       "      <th>3</th>\n",
       "      <td>0</td>\n",
       "    </tr>\n",
       "    <tr>\n",
       "      <th>4</th>\n",
       "      <td>0</td>\n",
       "    </tr>\n",
       "    <tr>\n",
       "      <th>5</th>\n",
       "      <td>0</td>\n",
       "    </tr>\n",
       "  </tbody>\n",
       "</table>\n",
       "</div>"
      ],
      "text/plain": [
       "              dummy\n",
       "Physician_ID       \n",
       "1                 0\n",
       "2                 0\n",
       "3                 0\n",
       "4                 0\n",
       "5                 0"
      ]
     },
     "execution_count": 24,
     "metadata": {},
     "output_type": "execute_result"
    }
   ],
   "source": [
    "fops_dummy_df = rpi_df.copy(deep=True)\n",
    "fops_dummy_df.drop(['top_rpi','rpi_count'],axis=1,inplace=True)\n",
    "fops_dummy_df['dummy'] = 0\n",
    "fops_dummy_df.head()"
   ]
  },
  {
   "cell_type": "markdown",
   "metadata": {},
   "source": [
    "### Cash or cash equivalent"
   ]
  },
  {
   "cell_type": "code",
   "execution_count": 25,
   "metadata": {
    "scrolled": true
   },
   "outputs": [],
   "source": [
    "cash_df = fops_df.loc[fops_df['Form_of_Payment_or_Transfer_of_Value'] == 'Cash or cash equivalent']\n",
    "fops_dummy_df = pd.concat([fops_dummy_df, cash_df], axis=1, sort=False)\n",
    "fops_dummy_df = fops_dummy_df.rename(columns={\"fop_count\": \"cash\"})\n",
    "fops_dummy_df['cash'] = fops_dummy_df['cash'].fillna(0) \n",
    "fops_dummy_df.drop(['Form_of_Payment_or_Transfer_of_Value','dummy'],axis=1,inplace=True)"
   ]
  },
  {
   "cell_type": "markdown",
   "metadata": {},
   "source": [
    "### In-kind items and services"
   ]
  },
  {
   "cell_type": "code",
   "execution_count": 26,
   "metadata": {},
   "outputs": [],
   "source": [
    "services_df = fops_df.loc[fops_df['Form_of_Payment_or_Transfer_of_Value'] == 'In-kind items and services']\n",
    "fops_dummy_df = pd.concat([fops_dummy_df, services_df], axis=1, sort=False)\n",
    "fops_dummy_df = fops_dummy_df.rename(columns={\"fop_count\": \"services\"})\n",
    "fops_dummy_df['services'] = fops_dummy_df['services'].fillna(0) \n",
    "fops_dummy_df.drop(['Form_of_Payment_or_Transfer_of_Value'],axis=1,inplace=True)"
   ]
  },
  {
   "cell_type": "markdown",
   "metadata": {},
   "source": [
    "### Stock"
   ]
  },
  {
   "cell_type": "code",
   "execution_count": 27,
   "metadata": {},
   "outputs": [],
   "source": [
    "stock_df = fops_df.loc[fops_df['Form_of_Payment_or_Transfer_of_Value'] == 'Stock']\n",
    "fops_dummy_df = pd.concat([fops_dummy_df, stock_df], axis=1, sort=False)\n",
    "fops_dummy_df = fops_dummy_df.rename(columns={\"fop_count\": \"stock\"})\n",
    "fops_dummy_df['stock'] = fops_dummy_df['stock'].fillna(0) \n",
    "fops_dummy_df.drop(['Form_of_Payment_or_Transfer_of_Value'],axis=1,inplace=True)\n"
   ]
  },
  {
   "cell_type": "code",
   "execution_count": 28,
   "metadata": {},
   "outputs": [],
   "source": [
    "#fops_dummy_df.iloc[1713]"
   ]
  },
  {
   "cell_type": "markdown",
   "metadata": {},
   "source": [
    "### Stock option"
   ]
  },
  {
   "cell_type": "code",
   "execution_count": 29,
   "metadata": {},
   "outputs": [],
   "source": [
    "stock_opt_df = fops_df.loc[fops_df['Form_of_Payment_or_Transfer_of_Value'] == 'Stock option']\n",
    "fops_dummy_df = pd.concat([fops_dummy_df, stock_opt_df], axis=1, sort=False)\n",
    "fops_dummy_df = fops_dummy_df.rename(columns={\"fop_count\": \"stock_opt\"})\n",
    "fops_dummy_df['stock_opt'] = fops_dummy_df['stock_opt'].fillna(0) \n",
    "fops_dummy_df.drop(['Form_of_Payment_or_Transfer_of_Value'],axis=1,inplace=True)"
   ]
  },
  {
   "cell_type": "code",
   "execution_count": 30,
   "metadata": {},
   "outputs": [],
   "source": [
    "#fops_dummy_df.iloc[1033]"
   ]
  },
  {
   "cell_type": "markdown",
   "metadata": {},
   "source": [
    "## Any other ownership interest"
   ]
  },
  {
   "cell_type": "code",
   "execution_count": 31,
   "metadata": {},
   "outputs": [],
   "source": [
    "any_ownership_df = fops_df.loc[fops_df['Form_of_Payment_or_Transfer_of_Value'] == 'Any other ownership interest']\n",
    "fops_dummy_df = pd.concat([fops_dummy_df, any_ownership_df], axis=1, sort=False)\n",
    "fops_dummy_df = fops_dummy_df.rename(columns={\"fop_count\": \"any_ownership\"})\n",
    "fops_dummy_df['any_ownership'] = fops_dummy_df['any_ownership'].fillna(0) \n",
    "fops_dummy_df.drop(['Form_of_Payment_or_Transfer_of_Value'],axis=1,inplace=True)"
   ]
  },
  {
   "cell_type": "code",
   "execution_count": 32,
   "metadata": {},
   "outputs": [],
   "source": [
    "#fops_dummy_df.iloc[1058]"
   ]
  },
  {
   "cell_type": "markdown",
   "metadata": {},
   "source": [
    "### Dividend, profit or other return on investment"
   ]
  },
  {
   "cell_type": "code",
   "execution_count": 33,
   "metadata": {},
   "outputs": [],
   "source": [
    "dividend_df = fops_df.loc[fops_df['Form_of_Payment_or_Transfer_of_Value'] == 'Dividend, profit or other return on investment']\n",
    "fops_dummy_df = pd.concat([fops_dummy_df, dividend_df], axis=1, sort=False)\n",
    "fops_dummy_df = fops_dummy_df.rename(columns={\"fop_count\": \"dividend\"})\n",
    "fops_dummy_df['dividend'] = fops_dummy_df['dividend'].fillna(0) \n",
    "fops_dummy_df.drop(['Form_of_Payment_or_Transfer_of_Value'],axis=1,inplace=True)"
   ]
  },
  {
   "cell_type": "code",
   "execution_count": 34,
   "metadata": {},
   "outputs": [],
   "source": [
    "#fops_dummy_df.iloc[1058]"
   ]
  },
  {
   "cell_type": "markdown",
   "metadata": {},
   "source": [
    "### Stock, stock option, or any other ownership interest"
   ]
  },
  {
   "cell_type": "code",
   "execution_count": 35,
   "metadata": {},
   "outputs": [],
   "source": [
    "stock_or_other_df = fops_df.loc[fops_df['Form_of_Payment_or_Transfer_of_Value'] == 'Stock, stock option, or any other ownership interest']\n",
    "fops_dummy_df = pd.concat([fops_dummy_df, stock_or_other_df], axis=1, sort=False)\n",
    "fops_dummy_df = fops_dummy_df.rename(columns={\"fop_count\": \"stock_or_other\"})\n",
    "fops_dummy_df['stock_or_other'] = fops_dummy_df['stock_or_other'].fillna(0) \n",
    "fops_dummy_df.drop(['Form_of_Payment_or_Transfer_of_Value'],axis=1,inplace=True)"
   ]
  },
  {
   "cell_type": "code",
   "execution_count": 36,
   "metadata": {},
   "outputs": [],
   "source": [
    "#fops_dummy_df.iloc[1430]"
   ]
  },
  {
   "cell_type": "code",
   "execution_count": 37,
   "metadata": {},
   "outputs": [
    {
     "data": {
      "text/html": [
       "<div>\n",
       "<style scoped>\n",
       "    .dataframe tbody tr th:only-of-type {\n",
       "        vertical-align: middle;\n",
       "    }\n",
       "\n",
       "    .dataframe tbody tr th {\n",
       "        vertical-align: top;\n",
       "    }\n",
       "\n",
       "    .dataframe thead th {\n",
       "        text-align: right;\n",
       "    }\n",
       "</style>\n",
       "<table border=\"1\" class=\"dataframe\">\n",
       "  <thead>\n",
       "    <tr style=\"text-align: right;\">\n",
       "      <th></th>\n",
       "      <th>cash</th>\n",
       "      <th>services</th>\n",
       "      <th>stock</th>\n",
       "      <th>stock_opt</th>\n",
       "      <th>any_ownership</th>\n",
       "      <th>dividend</th>\n",
       "      <th>stock_or_other</th>\n",
       "    </tr>\n",
       "    <tr>\n",
       "      <th>Physician_ID</th>\n",
       "      <th></th>\n",
       "      <th></th>\n",
       "      <th></th>\n",
       "      <th></th>\n",
       "      <th></th>\n",
       "      <th></th>\n",
       "      <th></th>\n",
       "    </tr>\n",
       "  </thead>\n",
       "  <tbody>\n",
       "    <tr>\n",
       "      <th>1</th>\n",
       "      <td>4.0</td>\n",
       "      <td>43.0</td>\n",
       "      <td>0.0</td>\n",
       "      <td>0.0</td>\n",
       "      <td>0.0</td>\n",
       "      <td>0.0</td>\n",
       "      <td>0.0</td>\n",
       "    </tr>\n",
       "    <tr>\n",
       "      <th>2</th>\n",
       "      <td>72.0</td>\n",
       "      <td>82.0</td>\n",
       "      <td>0.0</td>\n",
       "      <td>0.0</td>\n",
       "      <td>0.0</td>\n",
       "      <td>0.0</td>\n",
       "      <td>0.0</td>\n",
       "    </tr>\n",
       "    <tr>\n",
       "      <th>3</th>\n",
       "      <td>39.0</td>\n",
       "      <td>93.0</td>\n",
       "      <td>0.0</td>\n",
       "      <td>0.0</td>\n",
       "      <td>0.0</td>\n",
       "      <td>0.0</td>\n",
       "      <td>0.0</td>\n",
       "    </tr>\n",
       "    <tr>\n",
       "      <th>4</th>\n",
       "      <td>131.0</td>\n",
       "      <td>280.0</td>\n",
       "      <td>0.0</td>\n",
       "      <td>0.0</td>\n",
       "      <td>0.0</td>\n",
       "      <td>0.0</td>\n",
       "      <td>0.0</td>\n",
       "    </tr>\n",
       "    <tr>\n",
       "      <th>5</th>\n",
       "      <td>16.0</td>\n",
       "      <td>82.0</td>\n",
       "      <td>0.0</td>\n",
       "      <td>0.0</td>\n",
       "      <td>0.0</td>\n",
       "      <td>0.0</td>\n",
       "      <td>0.0</td>\n",
       "    </tr>\n",
       "  </tbody>\n",
       "</table>\n",
       "</div>"
      ],
      "text/plain": [
       "               cash  services  stock  stock_opt  any_ownership  dividend  \\\n",
       "Physician_ID                                                               \n",
       "1               4.0      43.0    0.0        0.0            0.0       0.0   \n",
       "2              72.0      82.0    0.0        0.0            0.0       0.0   \n",
       "3              39.0      93.0    0.0        0.0            0.0       0.0   \n",
       "4             131.0     280.0    0.0        0.0            0.0       0.0   \n",
       "5              16.0      82.0    0.0        0.0            0.0       0.0   \n",
       "\n",
       "              stock_or_other  \n",
       "Physician_ID                  \n",
       "1                        0.0  \n",
       "2                        0.0  \n",
       "3                        0.0  \n",
       "4                        0.0  \n",
       "5                        0.0  "
      ]
     },
     "execution_count": 37,
     "metadata": {},
     "output_type": "execute_result"
    }
   ],
   "source": [
    "fops_dummy_df.head()"
   ]
  },
  {
   "cell_type": "markdown",
   "metadata": {},
   "source": [
    "## Get top form of payment by physician"
   ]
  },
  {
   "cell_type": "code",
   "execution_count": 38,
   "metadata": {},
   "outputs": [
    {
     "data": {
      "text/html": [
       "<div>\n",
       "<style scoped>\n",
       "    .dataframe tbody tr th:only-of-type {\n",
       "        vertical-align: middle;\n",
       "    }\n",
       "\n",
       "    .dataframe tbody tr th {\n",
       "        vertical-align: top;\n",
       "    }\n",
       "\n",
       "    .dataframe thead th {\n",
       "        text-align: right;\n",
       "    }\n",
       "</style>\n",
       "<table border=\"1\" class=\"dataframe\">\n",
       "  <thead>\n",
       "    <tr style=\"text-align: right;\">\n",
       "      <th></th>\n",
       "      <th>top_fop</th>\n",
       "      <th>fop_count</th>\n",
       "    </tr>\n",
       "    <tr>\n",
       "      <th>Physician_ID</th>\n",
       "      <th></th>\n",
       "      <th></th>\n",
       "    </tr>\n",
       "  </thead>\n",
       "  <tbody>\n",
       "    <tr>\n",
       "      <th>1</th>\n",
       "      <td>In-kind items and services</td>\n",
       "      <td>43</td>\n",
       "    </tr>\n",
       "    <tr>\n",
       "      <th>2</th>\n",
       "      <td>In-kind items and services</td>\n",
       "      <td>82</td>\n",
       "    </tr>\n",
       "    <tr>\n",
       "      <th>3</th>\n",
       "      <td>In-kind items and services</td>\n",
       "      <td>93</td>\n",
       "    </tr>\n",
       "    <tr>\n",
       "      <th>4</th>\n",
       "      <td>In-kind items and services</td>\n",
       "      <td>280</td>\n",
       "    </tr>\n",
       "    <tr>\n",
       "      <th>5</th>\n",
       "      <td>In-kind items and services</td>\n",
       "      <td>82</td>\n",
       "    </tr>\n",
       "  </tbody>\n",
       "</table>\n",
       "</div>"
      ],
      "text/plain": [
       "                                 top_fop  fop_count\n",
       "Physician_ID                                       \n",
       "1             In-kind items and services         43\n",
       "2             In-kind items and services         82\n",
       "3             In-kind items and services         93\n",
       "4             In-kind items and services        280\n",
       "5             In-kind items and services         82"
      ]
     },
     "execution_count": 38,
     "metadata": {},
     "output_type": "execute_result"
    }
   ],
   "source": [
    "fops_df = fops_df.reset_index()\n",
    "fops_df = fops_df.groupby('Physician_ID')\n",
    "fops_df = fops_df.apply(lambda _df: _df.nlargest(1,'fop_count','first'))\n",
    "fops_df = fops_df.reset_index(drop=True)\n",
    "fops_df = fops_df.set_index('Physician_ID')\n",
    "fops_df = fops_df.rename(columns={\"Form_of_Payment_or_Transfer_of_Value\": \"top_fop\"})\n",
    "fops_df.head()"
   ]
  },
  {
   "cell_type": "code",
   "execution_count": 39,
   "metadata": {},
   "outputs": [],
   "source": [
    "#fops_df.iloc[232]"
   ]
  },
  {
   "cell_type": "code",
   "execution_count": 40,
   "metadata": {},
   "outputs": [],
   "source": [
    "features = pd.concat([total_payments_df,\n",
    "                      number_payments_df,\n",
    "                      top_nature_df,\n",
    "                      range_number_of_payments_df,\n",
    "                      range_of_payments_df,\n",
    "                      top_companys,\n",
    "                      companys_pay_count_df,\n",
    "                      companys_pay_std_df,\n",
    "                      rpi_df,\n",
    "                      fops_dummy_df,\n",
    "                      fops_df], axis=1, sort=False)"
   ]
  },
  {
   "cell_type": "code",
   "execution_count": 41,
   "metadata": {},
   "outputs": [
    {
     "name": "stdout",
     "output_type": "stream",
     "text": [
      "Index(['total_payments', 'number_of_payments', 'top_nature',\n",
      "       'total_of_top_nature', 'range_count', 'range_total', 'top_company',\n",
      "       'pay_count', 'std', 'top_rpi', 'rpi_count', 'cash', 'services', 'stock',\n",
      "       'stock_opt', 'any_ownership', 'dividend', 'stock_or_other', 'top_fop',\n",
      "       'fop_count'],\n",
      "      dtype='object')\n"
     ]
    }
   ],
   "source": [
    "print(features.columns)"
   ]
  },
  {
   "cell_type": "code",
   "execution_count": 42,
   "metadata": {},
   "outputs": [],
   "source": [
    "train_physicians_df = train_physicians_df[['State','Primary_Specialty']]\n",
    "test_physicians_df = test_physicians_df[['State','Primary_Specialty']]"
   ]
  },
  {
   "cell_type": "code",
   "execution_count": 46,
   "metadata": {},
   "outputs": [],
   "source": [
    "train_physicians_df = pd.concat([train_physicians_df,ownership_interest_df],axis=1,join='inner')\n",
    "train_physicians_df= pd.concat([train_physicians_df,features],axis=1,join='inner')\n",
    "test_physicians_df= pd.concat([test_physicians_df,features],axis=1,join='inner')\n"
   ]
  },
  {
   "cell_type": "code",
   "execution_count": 47,
   "metadata": {},
   "outputs": [],
   "source": [
    "train_physicians_df.to_csv('train_physicians_df_22_Fs.csv',sep=';')\n",
    "test_physicians_df.to_csv('test_physicians_df_22_Fs.csv',sep=';')"
   ]
  },
  {
   "cell_type": "code",
   "execution_count": null,
   "metadata": {},
   "outputs": [],
   "source": []
  }
 ],
 "metadata": {
  "kernelspec": {
   "display_name": "Python 3",
   "language": "python",
   "name": "python3"
  },
  "language_info": {
   "codemirror_mode": {
    "name": "ipython",
    "version": 3
   },
   "file_extension": ".py",
   "mimetype": "text/x-python",
   "name": "python",
   "nbconvert_exporter": "python",
   "pygments_lexer": "ipython3",
   "version": "3.5.6"
  }
 },
 "nbformat": 4,
 "nbformat_minor": 4
}
