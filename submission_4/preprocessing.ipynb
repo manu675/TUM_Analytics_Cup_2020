{
 "cells": [
  {
   "cell_type": "markdown",
   "metadata": {},
   "source": [
    "# Business Analytics - Analytics Cup 21\n",
    "Team SGS"
   ]
  },
  {
   "cell_type": "markdown",
   "metadata": {},
   "source": [
    "# Setup conda environment\n",
    "To ensure that the following code works, please set up a virtual conda environment in which the following packages are installed. To do this, please run the following commands on your terminal. After that you can start the jupyter notebook\n",
    "### Create an environment called \"py35\"\n",
    "`conda create -n py35 python=3.5'`\n",
    "### Install numpy and other necessary packages into the \"py35\" environment\n",
    "`conda install matplotlib pandas numpy jupyter nb_conda -n py35`\n",
    "### Activate the environment\n",
    "`conda activate py35`\n",
    "### Start Jupyter notebook\n",
    "`jupyter notebook`"
   ]
  },
  {
   "cell_type": "markdown",
   "metadata": {},
   "source": [
    "# Importing libaries and set cwd\n",
    "set the project_folder to the folder where the csvs are located"
   ]
  },
  {
   "cell_type": "code",
   "execution_count": null,
   "metadata": {},
   "outputs": [],
   "source": [
    "import os\n",
    "import pandas as pd\n",
    "import numpy as np\n",
    "import matplotlib.pyplot as plt\n",
    "\n",
    "project_folder = '/Users/Manu/Documents/GitHub/analytics_cup_21/submission_4'\n",
    "os.chdir(project_folder)"
   ]
  },
  {
   "cell_type": "markdown",
   "metadata": {},
   "source": [
    "# Read CSVs"
   ]
  },
  {
   "cell_type": "code",
   "execution_count": null,
   "metadata": {},
   "outputs": [],
   "source": [
    "# payments\n",
    "payments_df = pd.read_csv('payments.csv', delimiter=',',low_memory=False)\n",
    "payments_df = payments_df.set_index('Record_ID')\n",
    "payments_df = payments_df.loc[payments_df['Total_Amount_of_Payment_USDollars'] < 5000000]\n",
    "#physicians\n",
    "physicians_df = pd.read_csv('physicians.csv', delimiter=',',low_memory=False)\n",
    "physicians_df = physicians_df.set_index('id')"
   ]
  },
  {
   "cell_type": "code",
   "execution_count": null,
   "metadata": {},
   "outputs": [],
   "source": [
    "print(payments_df.columns)\n",
    "print(physicians_df.columns)"
   ]
  },
  {
   "cell_type": "markdown",
   "metadata": {},
   "source": [
    "# Data preperation"
   ]
  },
  {
   "cell_type": "markdown",
   "metadata": {},
   "source": [
    "## remove \"Allopathic & Osteopathic Physicians|\""
   ]
  },
  {
   "cell_type": "code",
   "execution_count": null,
   "metadata": {},
   "outputs": [],
   "source": [
    "# before\n",
    "physicians_df['Primary_Specialty'].head()"
   ]
  },
  {
   "cell_type": "code",
   "execution_count": null,
   "metadata": {},
   "outputs": [],
   "source": [
    "# remove\n",
    "physicians_df['Primary_Specialty'] = physicians_df['Primary_Specialty'].str.replace(r'Allopathic & Osteopathic Physicians\\|', '')"
   ]
  },
  {
   "cell_type": "code",
   "execution_count": null,
   "metadata": {},
   "outputs": [],
   "source": [
    "# after\n",
    "physicians_df['Primary_Specialty'].head()"
   ]
  },
  {
   "cell_type": "markdown",
   "metadata": {},
   "source": [
    "## remove \"\\|.*\""
   ]
  },
  {
   "cell_type": "code",
   "execution_count": null,
   "metadata": {},
   "outputs": [],
   "source": [
    "# remove\n",
    "physicians_df['Primary_Specialty'] = physicians_df['Primary_Specialty'].str.replace(r'\\|.*', '')\n",
    "#after\n",
    "physicians_df['Primary_Specialty'].head()"
   ]
  },
  {
   "cell_type": "markdown",
   "metadata": {},
   "source": [
    "## split sets"
   ]
  },
  {
   "cell_type": "code",
   "execution_count": null,
   "metadata": {},
   "outputs": [],
   "source": [
    "#valid_physicians_df = physicians_df.loc[physicians_df['set'] == 'train']\n",
    "#train_physicians_df = valid_physicians_df.sample(n=4000, random_state=1)\n",
    "train_physicians_df = physicians_df.loc[physicians_df['set'] == 'train']\n",
    "train_physicians_df = train_physicians_df.reset_index()\n",
    "train_physicians_df = train_physicians_df.rename(columns={\"id\": \"Physician_ID\"})\n",
    "train_physicians_df = train_physicians_df.set_index('Physician_ID')\n",
    "\n",
    "test_physicians_df = physicians_df.loc[physicians_df['set'] == 'test']\n",
    "test_physicians_df = test_physicians_df.reset_index()\n",
    "test_physicians_df = test_physicians_df.rename(columns={\"id\": \"Physician_ID\"})\n",
    "test_physicians_df = test_physicians_df.set_index('Physician_ID')\n",
    "\n",
    "#valid_physicians_df = valid_physicians_df[~valid_physicians_df.index.isin(train_physicians_df.index)]\n",
    "#valid_physicians_df.sort_index(inplace=True)\n",
    "#train_physicians_df.sort_index(inplace=True)\n",
    "#test_physicians_df.sort_index(inplace=True)"
   ]
  },
  {
   "cell_type": "markdown",
   "metadata": {},
   "source": [
    "## Mutate Ownership_Indicator"
   ]
  },
  {
   "cell_type": "code",
   "execution_count": null,
   "metadata": {},
   "outputs": [],
   "source": [
    "payments_df.Ownership_Indicator = payments_df.Ownership_Indicator.replace(\"No\", 0)\n",
    "payments_df.Ownership_Indicator = payments_df.Ownership_Indicator.replace(\"Yes\", 1)\n"
   ]
  },
  {
   "cell_type": "markdown",
   "metadata": {},
   "source": [
    "# Feature generation\n",
    "## Get ownership interest df"
   ]
  },
  {
   "cell_type": "code",
   "execution_count": null,
   "metadata": {},
   "outputs": [],
   "source": [
    "ownership_interest_df = payments_df[[\"Ownership_Indicator\",\"Physician_ID\"]].groupby(by=[\"Physician_ID\"]).max()\n",
    "ownership_interest_df.head()"
   ]
  },
  {
   "cell_type": "markdown",
   "metadata": {},
   "source": [
    "## Get sum of payments by Physician_ID"
   ]
  },
  {
   "cell_type": "code",
   "execution_count": null,
   "metadata": {},
   "outputs": [],
   "source": [
    "total_payments_df = payments_df[[\"Total_Amount_of_Payment_USDollars\",\"Physician_ID\"]].groupby(by=[\"Physician_ID\"]).sum()\n",
    "total_payments_df = total_payments_df.rename(columns={\"Total_Amount_of_Payment_USDollars\": \"total_payments\"})\n",
    "total_payments_df.head()"
   ]
  },
  {
   "cell_type": "markdown",
   "metadata": {},
   "source": [
    "## Get number of payments by Physician_ID"
   ]
  },
  {
   "cell_type": "code",
   "execution_count": null,
   "metadata": {},
   "outputs": [],
   "source": [
    "number_payments_df = payments_df[[\"Total_Amount_of_Payment_USDollars\",\"Physician_ID\"]].groupby(by=[\"Physician_ID\"]).count()\n",
    "number_payments_df = number_payments_df.rename(columns={\"Total_Amount_of_Payment_USDollars\": \"number_of_payments\"})\n",
    "number_payments_df.head()"
   ]
  },
  {
   "cell_type": "markdown",
   "metadata": {},
   "source": [
    "## Get top nature of payment by Physician_ID"
   ]
  },
  {
   "cell_type": "code",
   "execution_count": null,
   "metadata": {},
   "outputs": [],
   "source": [
    "top_nature_df = payments_df[[\"Nature_of_Payment_or_Transfer_of_Value\",\"Total_Amount_of_Payment_USDollars\",\"Physician_ID\"]].groupby(by=[\"Physician_ID\",\"Nature_of_Payment_or_Transfer_of_Value\"]).sum()\n",
    "# nlargest(1, 'Total_Amount_of_Payment_USDollars','first')\n",
    "top_nature_df.reset_index(inplace=True)\n",
    "top_nature_df = top_nature_df.groupby(by=[\"Physician_ID\"])\n",
    "top_nature_df = top_nature_df.apply(lambda _df: _df.nlargest(1,'Total_Amount_of_Payment_USDollars','first'))\n",
    "top_nature_df.reset_index(drop=True,inplace=True)\n",
    "top_nature_df.set_index('Physician_ID',inplace=True)\n",
    "top_nature_df = top_nature_df.rename(columns={\"Nature_of_Payment_or_Transfer_of_Value\": \"top_nature\",\"Total_Amount_of_Payment_USDollars\":\"total_of_top_nature\"})\n",
    "top_nature_df.head()"
   ]
  },
  {
   "cell_type": "markdown",
   "metadata": {},
   "source": [
    "## Create year and month column for grouping"
   ]
  },
  {
   "cell_type": "code",
   "execution_count": null,
   "metadata": {},
   "outputs": [],
   "source": [
    "payments_per_month_df = payments_df[[\"Date\",\"Physician_ID\",\"Total_Amount_of_Payment_USDollars\"]]\n",
    "payments_per_month_df_year = payments_per_month_df[\"Date\"].str.replace(r'../../', '')\n",
    "payments_per_month_df_month = payments_per_month_df[\"Date\"].str.replace(r'/../....', '')\n",
    "payments_per_month_df.insert(1, \"Year\", payments_per_month_df_year, False) \n",
    "payments_per_month_df.insert(2, \"Month\", payments_per_month_df_month, False)\n",
    "payments_per_month_df = payments_per_month_df.drop(['Date'], axis=1)\n",
    "payments_per_month_df = payments_per_month_df.loc[payments_per_month_df['Year'] > '2013']\n",
    "payments_per_month_df.head()"
   ]
  },
  {
   "cell_type": "markdown",
   "metadata": {},
   "source": [
    "## Get range of number of payments by Physician_ID"
   ]
  },
  {
   "cell_type": "code",
   "execution_count": null,
   "metadata": {},
   "outputs": [],
   "source": [
    "range_number_of_payments_df = payments_per_month_df.groupby(by=[\"Year\",\"Month\",\"Physician_ID\"]).agg(['count'])\n",
    "range_number_of_payments_df = range_number_of_payments_df.groupby(by=[\"Year\",\"Physician_ID\"]).agg(['sum'])\n",
    "range_number_of_payments_df = range_number_of_payments_df.groupby(by=[\"Physician_ID\"]).agg(['max','min'])\n",
    "range_number_of_payments_df_max = range_number_of_payments_df['Total_Amount_of_Payment_USDollars']['count']['sum']['max']\n",
    "range_number_of_payments_df_min = range_number_of_payments_df['Total_Amount_of_Payment_USDollars']['count']['sum']['min']\n",
    "range_number_of_payments_df['range_count'] = range_number_of_payments_df_max - range_number_of_payments_df_min\n",
    "range_number_of_payments_df = range_number_of_payments_df.drop(['Total_Amount_of_Payment_USDollars'],axis=1)\n",
    "range_number_of_payments_df.columns = range_number_of_payments_df.columns.droplevel(level = [1,2,3])\n",
    "range_number_of_payments_df.head()"
   ]
  },
  {
   "cell_type": "markdown",
   "metadata": {},
   "source": [
    "## Get range of payments by Physician_ID"
   ]
  },
  {
   "cell_type": "code",
   "execution_count": null,
   "metadata": {
    "scrolled": true
   },
   "outputs": [],
   "source": [
    "range_of_payments_df = payments_per_month_df.groupby(by=[\"Year\",\"Month\",\"Physician_ID\"]).agg(['sum'])\n",
    "range_of_payments_df = range_of_payments_df.groupby(by=[\"Year\",\"Physician_ID\"]).agg(['sum'])\n",
    "range_of_payments_df = range_of_payments_df.groupby(by=[\"Physician_ID\"]).agg(['max','min'])\n",
    "range_of_payments_df_max = range_of_payments_df['Total_Amount_of_Payment_USDollars']['sum']['sum']['max']\n",
    "range_of_payments_df_min = range_of_payments_df['Total_Amount_of_Payment_USDollars']['sum']['sum']['min']\n",
    "range_of_payments_df['range_total'] = range_of_payments_df_max - range_of_payments_df_min\n",
    "range_of_payments_df = range_of_payments_df.drop(['Total_Amount_of_Payment_USDollars'],axis=1)\n",
    "range_of_payments_df.columns = range_of_payments_df.columns.droplevel(level = [1,2,3])\n",
    "range_of_payments_df.head()"
   ]
  },
  {
   "cell_type": "markdown",
   "metadata": {},
   "source": [
    "## Group by Company_ID and get sum, count and mean of payments by company "
   ]
  },
  {
   "cell_type": "code",
   "execution_count": null,
   "metadata": {},
   "outputs": [],
   "source": [
    "company_df = payments_df[[\"Company_ID\",\"Physician_ID\",\"Total_Amount_of_Payment_USDollars\"]]\n",
    "company_df = company_df.groupby(by=['Physician_ID','Company_ID']).agg(['sum','count','mean'])\n",
    "company_df.head()"
   ]
  },
  {
   "cell_type": "markdown",
   "metadata": {},
   "source": [
    "## Get top paying company by physician"
   ]
  },
  {
   "cell_type": "code",
   "execution_count": null,
   "metadata": {},
   "outputs": [],
   "source": [
    "top_companys = company_df['Total_Amount_of_Payment_USDollars']['sum']\n",
    "top_companys = top_companys.reset_index()\n",
    "top_companys = top_companys.groupby(by=[\"Physician_ID\"])\n",
    "top_companys = top_companys.apply(lambda _df: _df.nlargest(1,'sum','first'))\n",
    "top_companys = top_companys.reset_index(drop=True)\n",
    "top_companys = top_companys.set_index('Physician_ID')\n",
    "top_companys = top_companys.drop(['sum'],axis=1)\n",
    "top_companys['Company_ID']= top_companys['Company_ID'].map(str)\n",
    "top_companys = top_companys.rename(columns={\"Company_ID\": \"top_company\"})\n",
    "top_companys.head()"
   ]
  },
  {
   "cell_type": "markdown",
   "metadata": {},
   "source": [
    "## Get count of company payments by physician"
   ]
  },
  {
   "cell_type": "code",
   "execution_count": null,
   "metadata": {},
   "outputs": [],
   "source": [
    "companys_pay_count_df = company_df.groupby('Physician_ID').agg(['count'])\n",
    "companys_pay_count_df_count = companys_pay_count_df['Total_Amount_of_Payment_USDollars']['mean']['count']\n",
    "companys_pay_count_df['pay_count'] = companys_pay_count_df_count\n",
    "companys_pay_count_df = companys_pay_count_df.drop(['Total_Amount_of_Payment_USDollars'],axis=1)\n",
    "companys_pay_count_df.columns = companys_pay_count_df.columns.droplevel(level = [1,2])\n",
    "companys_pay_count_df.head()"
   ]
  },
  {
   "cell_type": "markdown",
   "metadata": {},
   "source": [
    "## Get std of company payments by physician"
   ]
  },
  {
   "cell_type": "code",
   "execution_count": null,
   "metadata": {},
   "outputs": [],
   "source": [
    "companys_pay_std_df = company_df.groupby('Physician_ID').agg(['std'])\n",
    "companys_pay_std_df_std = companys_pay_std_df['Total_Amount_of_Payment_USDollars']['mean']['std']\n",
    "companys_pay_std_df['std'] = companys_pay_std_df_std\n",
    "companys_pay_std_df = companys_pay_std_df.drop(['Total_Amount_of_Payment_USDollars'],axis=1)\n",
    "companys_pay_std_df.columns = companys_pay_std_df.columns.droplevel(level = [1,2])\n",
    "companys_pay_std_df.head()"
   ]
  },
  {
   "cell_type": "markdown",
   "metadata": {},
   "source": [
    "## Get Related Product Indicator by physician"
   ]
  },
  {
   "cell_type": "code",
   "execution_count": null,
   "metadata": {},
   "outputs": [],
   "source": [
    "rpi_df = payments_df[['Related_Product_Indicator','Physician_ID','Total_Amount_of_Payment_USDollars']]\n",
    "rpi_df = rpi_df.groupby(by=['Physician_ID','Related_Product_Indicator']).count()\n",
    "rpi_df = rpi_df.reset_index()\n",
    "rpi_df = rpi_df.groupby(by=[\"Physician_ID\"])\n",
    "rpi_df = rpi_df.apply(lambda _df: _df.nlargest(1,'Total_Amount_of_Payment_USDollars','first'))\n",
    "rpi_df = rpi_df.reset_index(drop=True)\n",
    "rpi_df = rpi_df.set_index('Physician_ID')\n",
    "rpi_df = rpi_df.rename(columns={\"Related_Product_Indicator\": \"top_rpi\",\"Total_Amount_of_Payment_USDollars\": \"rpi_count\"})\n",
    "rpi_df.head()"
   ]
  },
  {
   "cell_type": "markdown",
   "metadata": {},
   "source": [
    "## Generate Form_of_Payment_or_Transfer_of_Value (fop) dummy columns"
   ]
  },
  {
   "cell_type": "code",
   "execution_count": null,
   "metadata": {},
   "outputs": [],
   "source": [
    "print(payments_df.Form_of_Payment_or_Transfer_of_Value.unique())"
   ]
  },
  {
   "cell_type": "markdown",
   "metadata": {},
   "source": [
    "## payments grouped by fops and physician_id"
   ]
  },
  {
   "cell_type": "code",
   "execution_count": null,
   "metadata": {},
   "outputs": [],
   "source": [
    "fops_df = payments_df[['Physician_ID','Form_of_Payment_or_Transfer_of_Value','Total_Amount_of_Payment_USDollars']]\n",
    "fops_df = fops_df.groupby(by=['Physician_ID','Form_of_Payment_or_Transfer_of_Value']).count()\n",
    "fops_df = fops_df.rename(columns={\"Total_Amount_of_Payment_USDollars\": \"fop_count\"})\n",
    "fops_df = fops_df.reset_index()\n",
    "fops_df = fops_df.set_index('Physician_ID')\n",
    "fops_df.head()"
   ]
  },
  {
   "cell_type": "markdown",
   "metadata": {},
   "source": [
    "## Create dummy df"
   ]
  },
  {
   "cell_type": "code",
   "execution_count": null,
   "metadata": {},
   "outputs": [],
   "source": [
    "fops_dummy_df = rpi_df.copy(deep=True)\n",
    "fops_dummy_df.drop(['top_rpi','rpi_count'],axis=1,inplace=True)\n",
    "fops_dummy_df['dummy'] = 0\n",
    "fops_dummy_df.head()"
   ]
  },
  {
   "cell_type": "markdown",
   "metadata": {},
   "source": [
    "### Cash or cash equivalent"
   ]
  },
  {
   "cell_type": "code",
   "execution_count": null,
   "metadata": {
    "scrolled": true
   },
   "outputs": [],
   "source": [
    "cash_df = fops_df.loc[fops_df['Form_of_Payment_or_Transfer_of_Value'] == 'Cash or cash equivalent']\n",
    "fops_dummy_df = pd.concat([fops_dummy_df, cash_df], axis=1, sort=False)\n",
    "fops_dummy_df = fops_dummy_df.rename(columns={\"fop_count\": \"cash\"})\n",
    "fops_dummy_df['cash'] = fops_dummy_df['cash'].fillna(0) \n",
    "fops_dummy_df.drop(['Form_of_Payment_or_Transfer_of_Value','dummy'],axis=1,inplace=True)"
   ]
  },
  {
   "cell_type": "markdown",
   "metadata": {},
   "source": [
    "### In-kind items and services"
   ]
  },
  {
   "cell_type": "code",
   "execution_count": null,
   "metadata": {},
   "outputs": [],
   "source": [
    "services_df = fops_df.loc[fops_df['Form_of_Payment_or_Transfer_of_Value'] == 'In-kind items and services']\n",
    "fops_dummy_df = pd.concat([fops_dummy_df, services_df], axis=1, sort=False)\n",
    "fops_dummy_df = fops_dummy_df.rename(columns={\"fop_count\": \"services\"})\n",
    "fops_dummy_df['services'] = fops_dummy_df['services'].fillna(0) \n",
    "fops_dummy_df.drop(['Form_of_Payment_or_Transfer_of_Value'],axis=1,inplace=True)"
   ]
  },
  {
   "cell_type": "markdown",
   "metadata": {},
   "source": [
    "### Stock"
   ]
  },
  {
   "cell_type": "code",
   "execution_count": null,
   "metadata": {},
   "outputs": [],
   "source": [
    "stock_df = fops_df.loc[fops_df['Form_of_Payment_or_Transfer_of_Value'] == 'Stock']\n",
    "fops_dummy_df = pd.concat([fops_dummy_df, stock_df], axis=1, sort=False)\n",
    "fops_dummy_df = fops_dummy_df.rename(columns={\"fop_count\": \"stock\"})\n",
    "fops_dummy_df['stock'] = fops_dummy_df['stock'].fillna(0) \n",
    "fops_dummy_df.drop(['Form_of_Payment_or_Transfer_of_Value'],axis=1,inplace=True)\n"
   ]
  },
  {
   "cell_type": "code",
   "execution_count": null,
   "metadata": {},
   "outputs": [],
   "source": [
    "#fops_dummy_df.iloc[1713]"
   ]
  },
  {
   "cell_type": "markdown",
   "metadata": {},
   "source": [
    "### Stock option"
   ]
  },
  {
   "cell_type": "code",
   "execution_count": null,
   "metadata": {},
   "outputs": [],
   "source": [
    "stock_opt_df = fops_df.loc[fops_df['Form_of_Payment_or_Transfer_of_Value'] == 'Stock option']\n",
    "fops_dummy_df = pd.concat([fops_dummy_df, stock_opt_df], axis=1, sort=False)\n",
    "fops_dummy_df = fops_dummy_df.rename(columns={\"fop_count\": \"stock_opt\"})\n",
    "fops_dummy_df['stock_opt'] = fops_dummy_df['stock_opt'].fillna(0) \n",
    "fops_dummy_df.drop(['Form_of_Payment_or_Transfer_of_Value'],axis=1,inplace=True)"
   ]
  },
  {
   "cell_type": "code",
   "execution_count": null,
   "metadata": {},
   "outputs": [],
   "source": [
    "#fops_dummy_df.iloc[1033]"
   ]
  },
  {
   "cell_type": "markdown",
   "metadata": {},
   "source": [
    "## Any other ownership interest"
   ]
  },
  {
   "cell_type": "code",
   "execution_count": null,
   "metadata": {},
   "outputs": [],
   "source": [
    "any_ownership_df = fops_df.loc[fops_df['Form_of_Payment_or_Transfer_of_Value'] == 'Any other ownership interest']\n",
    "fops_dummy_df = pd.concat([fops_dummy_df, any_ownership_df], axis=1, sort=False)\n",
    "fops_dummy_df = fops_dummy_df.rename(columns={\"fop_count\": \"any_ownership\"})\n",
    "fops_dummy_df['any_ownership'] = fops_dummy_df['any_ownership'].fillna(0) \n",
    "fops_dummy_df.drop(['Form_of_Payment_or_Transfer_of_Value'],axis=1,inplace=True)"
   ]
  },
  {
   "cell_type": "code",
   "execution_count": null,
   "metadata": {},
   "outputs": [],
   "source": [
    "#fops_dummy_df.iloc[1058]"
   ]
  },
  {
   "cell_type": "markdown",
   "metadata": {},
   "source": [
    "### Dividend, profit or other return on investment"
   ]
  },
  {
   "cell_type": "code",
   "execution_count": null,
   "metadata": {},
   "outputs": [],
   "source": [
    "dividend_df = fops_df.loc[fops_df['Form_of_Payment_or_Transfer_of_Value'] == 'Dividend, profit or other return on investment']\n",
    "fops_dummy_df = pd.concat([fops_dummy_df, dividend_df], axis=1, sort=False)\n",
    "fops_dummy_df = fops_dummy_df.rename(columns={\"fop_count\": \"dividend\"})\n",
    "fops_dummy_df['dividend'] = fops_dummy_df['dividend'].fillna(0) \n",
    "fops_dummy_df.drop(['Form_of_Payment_or_Transfer_of_Value'],axis=1,inplace=True)"
   ]
  },
  {
   "cell_type": "code",
   "execution_count": null,
   "metadata": {},
   "outputs": [],
   "source": [
    "#fops_dummy_df.iloc[1058]"
   ]
  },
  {
   "cell_type": "markdown",
   "metadata": {},
   "source": [
    "### Stock, stock option, or any other ownership interest"
   ]
  },
  {
   "cell_type": "code",
   "execution_count": null,
   "metadata": {},
   "outputs": [],
   "source": [
    "stock_or_other_df = fops_df.loc[fops_df['Form_of_Payment_or_Transfer_of_Value'] == 'Stock, stock option, or any other ownership interest']\n",
    "fops_dummy_df = pd.concat([fops_dummy_df, stock_or_other_df], axis=1, sort=False)\n",
    "fops_dummy_df = fops_dummy_df.rename(columns={\"fop_count\": \"stock_or_other\"})\n",
    "fops_dummy_df['stock_or_other'] = fops_dummy_df['stock_or_other'].fillna(0) \n",
    "fops_dummy_df.drop(['Form_of_Payment_or_Transfer_of_Value'],axis=1,inplace=True)"
   ]
  },
  {
   "cell_type": "code",
   "execution_count": null,
   "metadata": {},
   "outputs": [],
   "source": [
    "#fops_dummy_df.iloc[1430]"
   ]
  },
  {
   "cell_type": "code",
   "execution_count": null,
   "metadata": {},
   "outputs": [],
   "source": [
    "fops_dummy_df.head()"
   ]
  },
  {
   "cell_type": "markdown",
   "metadata": {},
   "source": [
    "## Get top form of payment by physician"
   ]
  },
  {
   "cell_type": "code",
   "execution_count": null,
   "metadata": {},
   "outputs": [],
   "source": [
    "fops_df = fops_df.reset_index()\n",
    "fops_df = fops_df.groupby('Physician_ID')\n",
    "fops_df = fops_df.apply(lambda _df: _df.nlargest(1,'fop_count','first'))\n",
    "fops_df = fops_df.reset_index(drop=True)\n",
    "fops_df = fops_df.set_index('Physician_ID')\n",
    "fops_df = fops_df.rename(columns={\"Form_of_Payment_or_Transfer_of_Value\": \"top_fop\"})\n",
    "fops_df.head()"
   ]
  },
  {
   "cell_type": "code",
   "execution_count": null,
   "metadata": {},
   "outputs": [],
   "source": [
    "#fops_df.iloc[232]"
   ]
  },
  {
   "cell_type": "code",
   "execution_count": null,
   "metadata": {},
   "outputs": [],
   "source": [
    "features = pd.concat([total_payments_df,\n",
    "                      number_payments_df,\n",
    "                      top_nature_df,\n",
    "                      range_number_of_payments_df,\n",
    "                      range_of_payments_df,\n",
    "                      top_companys,\n",
    "                      companys_pay_count_df,\n",
    "                      companys_pay_std_df,\n",
    "                      rpi_df,\n",
    "                      fops_dummy_df,\n",
    "                      fops_df], axis=1, sort=False)"
   ]
  },
  {
   "cell_type": "code",
   "execution_count": null,
   "metadata": {},
   "outputs": [],
   "source": [
    "print(features.columns)"
   ]
  },
  {
   "cell_type": "code",
   "execution_count": null,
   "metadata": {},
   "outputs": [],
   "source": [
    "train_physicians_df = train_physicians_df[['State','Primary_Specialty']]\n",
    "test_physicians_df = test_physicians_df[['State','Primary_Specialty']]"
   ]
  },
  {
   "cell_type": "code",
   "execution_count": null,
   "metadata": {},
   "outputs": [],
   "source": [
    "train_physicians_df = pd.concat([train_physicians_df,ownership_interest_df],axis=1,join='inner')\n",
    "train_physicians_df= pd.concat([train_physicians_df,features],axis=1,join='inner')\n",
    "test_physicians_df= pd.concat([test_physicians_df,features],axis=1,join='inner')\n"
   ]
  },
  {
   "cell_type": "code",
   "execution_count": null,
   "metadata": {},
   "outputs": [],
   "source": [
    "train_physicians_df.to_csv('train_physicians_df_22_F.csv',sep=';')\n",
    "test_physicians_df.to_csv('test_physicians_df_22_F.csv',sep=';')"
   ]
  },
  {
   "cell_type": "code",
   "execution_count": null,
   "metadata": {},
   "outputs": [],
   "source": []
  }
 ],
 "metadata": {
  "kernelspec": {
   "display_name": "Python 3",
   "language": "python",
   "name": "python3"
  },
  "language_info": {
   "codemirror_mode": {
    "name": "ipython",
    "version": 3
   },
   "file_extension": ".py",
   "mimetype": "text/x-python",
   "name": "python",
   "nbconvert_exporter": "python",
   "pygments_lexer": "ipython3",
   "version": "3.7.3"
  }
 },
 "nbformat": 4,
 "nbformat_minor": 4
}
