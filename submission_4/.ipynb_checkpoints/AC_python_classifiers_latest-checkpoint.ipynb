{
 "cells": [
  {
   "cell_type": "markdown",
   "metadata": {
    "id": "E2ODJLpinREX"
   },
   "source": [
    "# Business Analytics - Analytics Cup 21"
   ]
  },
  {
   "cell_type": "markdown",
   "metadata": {
    "id": "B0VibpYcQoYX"
   },
   "source": [
    "**Status Quo (January 31):**   \n",
    "XGB Classifier - balanced accuracy: 0.7136  \n",
    "Logistic Regression - balanced accuracy: 0.5359  \n",
    "Naive Bayes - balanced accuracy: 0.5297  "
   ]
  },
  {
   "cell_type": "markdown",
   "metadata": {
    "id": "xxjUQevkqatd"
   },
   "source": [
    "General background on imbalanced classification:  \n",
    "https://towardsdatascience.com/guide-to-classification-on-imbalanced-datasets-d6653aa5fa23"
   ]
  },
  {
   "cell_type": "markdown",
   "metadata": {
    "id": "Ah95bJj1nF1e"
   },
   "source": [
    "# Importing Libraries"
   ]
  },
  {
   "cell_type": "code",
   "execution_count": null,
   "metadata": {
    "colab": {
     "base_uri": "https://localhost:8080/"
    },
    "id": "5HzAXqivnQpi",
    "outputId": "879742e3-920c-49a6-8e4f-3006bf798478"
   },
   "outputs": [],
   "source": [
    "# installing a library to learn from imbalanced data sets via the terminal\n",
    "#! sudo pip install imbalanced-learn "
   ]
  },
  {
   "cell_type": "code",
   "execution_count": null,
   "metadata": {},
   "outputs": [],
   "source": [
    "import os\n",
    "project_folder = '/Users/Manu/Documents/GitHub/analytics_cup_21/submission_4'\n",
    "os.chdir(project_folder)"
   ]
  },
  {
   "cell_type": "code",
   "execution_count": null,
   "metadata": {
    "colab": {
     "base_uri": "https://localhost:8080/"
    },
    "id": "8fwxwIAcVzZr",
    "outputId": "a2ba64da-373e-403c-acb6-17ff38bd3792"
   },
   "outputs": [],
   "source": [
    "# importing libaries:\n",
    "\n",
    "import pandas as pd\n",
    "import numpy as np\n",
    "import matplotlib.pyplot as plt\n",
    "\n",
    "import xgboost as xgb\n",
    "from sklearn.metrics import accuracy_score\n",
    "from sklearn.model_selection import train_test_split, GridSearchCV, RandomizedSearchCV, RepeatedStratifiedKFold\n",
    "from sklearn.metrics import confusion_matrix, balanced_accuracy_score, roc_curve, roc_auc_score\n",
    "from sklearn.preprocessing import OneHotEncoder, OrdinalEncoder\n",
    "\n",
    "from sklearn.model_selection import cross_val_score, KFold, StratifiedKFold\n",
    "from sklearn.linear_model import LogisticRegression\n",
    "from sklearn.naive_bayes import GaussianNB\n",
    "\n",
    "from collections import Counter\n",
    "\n",
    "from scipy.stats import loguniform, randint, uniform\n",
    "\n",
    "import imblearn\n",
    "print(imblearn.__version__)\n",
    "\n",
    "from imblearn.over_sampling import RandomOverSampler\n",
    "from sklearn.utils import class_weight\n"
   ]
  },
  {
   "cell_type": "code",
   "execution_count": null,
   "metadata": {
    "id": "T7HfIUDGN6Fu"
   },
   "outputs": [],
   "source": [
    "# hiding warnings\n",
    "import warnings\n",
    "warnings.filterwarnings('ignore')"
   ]
  },
  {
   "cell_type": "markdown",
   "metadata": {
    "id": "XP95P5UkeEOE"
   },
   "source": [
    "## Reading in the data"
   ]
  },
  {
   "cell_type": "code",
   "execution_count": null,
   "metadata": {
    "id": "As67ZzCexgNH"
   },
   "outputs": [],
   "source": [
    "train = pd.read_csv(\"train_physicians_df_22_F.csv\", sep =\";\")"
   ]
  },
  {
   "cell_type": "code",
   "execution_count": null,
   "metadata": {
    "id": "-phjbGRAxgTO"
   },
   "outputs": [],
   "source": [
    "test = pd.read_csv(\"test_physicians_df_22_F.csv\", sep =\";\")"
   ]
  },
  {
   "cell_type": "code",
   "execution_count": null,
   "metadata": {
    "colab": {
     "base_uri": "https://localhost:8080/",
     "height": 487
    },
    "id": "1mGNXvDMxprc",
    "outputId": "8257e258-190f-4b50-f068-85eb53a1f525"
   },
   "outputs": [],
   "source": [
    "train.head()"
   ]
  },
  {
   "cell_type": "code",
   "execution_count": null,
   "metadata": {
    "colab": {
     "base_uri": "https://localhost:8080/",
     "height": 487
    },
    "id": "IR_LmYeFxp8i",
    "outputId": "1a2e371f-b784-4a79-d44d-51af662d2209"
   },
   "outputs": [],
   "source": [
    "test.head()"
   ]
  },
  {
   "cell_type": "code",
   "execution_count": null,
   "metadata": {
    "colab": {
     "base_uri": "https://localhost:8080/"
    },
    "id": "OHn-nLYJSiH1",
    "outputId": "723930ac-226a-4ed8-c52f-63bdaf4ba8ae"
   },
   "outputs": [],
   "source": [
    "train.shape"
   ]
  },
  {
   "cell_type": "code",
   "execution_count": null,
   "metadata": {
    "colab": {
     "base_uri": "https://localhost:8080/"
    },
    "id": "NTXuu59l-8cE",
    "outputId": "19706745-674d-41a0-fe1f-3a2e51e1151a"
   },
   "outputs": [],
   "source": [
    "test.shape"
   ]
  },
  {
   "cell_type": "code",
   "execution_count": null,
   "metadata": {
    "id": "muQmoBuGy8wb"
   },
   "outputs": [],
   "source": [
    "train = train.set_index('Physician_ID')"
   ]
  },
  {
   "cell_type": "code",
   "execution_count": null,
   "metadata": {
    "colab": {
     "base_uri": "https://localhost:8080/"
    },
    "id": "Ab_hVKT8Glcs",
    "outputId": "bc54763a-d7c5-4b45-b036-02b2ca6bd529"
   },
   "outputs": [],
   "source": [
    "train[\"Ownership_Indicator\"].value_counts()"
   ]
  },
  {
   "cell_type": "code",
   "execution_count": null,
   "metadata": {
    "colab": {
     "base_uri": "https://localhost:8080/"
    },
    "id": "HNNZQQ4Ex3JB",
    "outputId": "7ccf503d-982d-43d7-b45c-1653c213ce1b"
   },
   "outputs": [],
   "source": [
    "# labels \n",
    "y_train = train[\"Ownership_Indicator\"][0:4000]\n",
    "\n",
    "y_test = train[\"Ownership_Indicator\"][4001:5000]\n",
    "\n",
    "print(y_train, y_test)"
   ]
  },
  {
   "cell_type": "code",
   "execution_count": null,
   "metadata": {
    "colab": {
     "base_uri": "https://localhost:8080/"
    },
    "id": "9py6VZ9mLpon",
    "outputId": "5f97b206-ec8c-4829-fc51-5290ba42c43d"
   },
   "outputs": [],
   "source": [
    "y_train.value_counts()"
   ]
  },
  {
   "cell_type": "code",
   "execution_count": null,
   "metadata": {
    "colab": {
     "base_uri": "https://localhost:8080/"
    },
    "id": "G1Z3t7ZSLOVT",
    "outputId": "62e62f5d-d83d-4cb4-d6ab-20f6e69b185e"
   },
   "outputs": [],
   "source": [
    "y_test.value_counts()"
   ]
  },
  {
   "cell_type": "code",
   "execution_count": null,
   "metadata": {
    "colab": {
     "base_uri": "https://localhost:8080/"
    },
    "id": "f7oIrvmMLtRH",
    "outputId": "0a99bfcd-6929-426e-c5e8-83b0947e75da"
   },
   "outputs": [],
   "source": [
    "train.columns"
   ]
  },
  {
   "cell_type": "code",
   "execution_count": null,
   "metadata": {
    "id": "oLnecGlox3OU"
   },
   "outputs": [],
   "source": [
    "# features (manually)\n",
    "X_train = train[['Primary_Specialty', 'Ownership_Indicator', 'total_payments',\n",
    "       'number_of_payments', 'top_nature', 'total_of_top_nature',\n",
    "       'range_count', 'range_total', 'top_company', 'pay_count', 'std',\n",
    "       'top_rpi', 'rpi_count', 'cash', 'services', 'stock', 'stock_opt',\n",
    "       'any_ownership', 'dividend', 'stock_or_other', 'top_fop', 'fop_count']][0:4000]\n",
    "\n",
    "X_test = train[['Primary_Specialty', 'Ownership_Indicator', 'total_payments',\n",
    "       'number_of_payments', 'top_nature', 'total_of_top_nature',\n",
    "       'range_count', 'range_total', 'top_company', 'pay_count', 'std',\n",
    "       'top_rpi', 'rpi_count', 'cash', 'services', 'stock', 'stock_opt',\n",
    "       'any_ownership', 'dividend', 'stock_or_other', 'top_fop', 'fop_count']][4001:5000]"
   ]
  },
  {
   "cell_type": "markdown",
   "metadata": {
    "id": "jiIADW2DnOEs"
   },
   "source": [
    "# Preprocessing"
   ]
  },
  {
   "cell_type": "markdown",
   "metadata": {
    "id": "7kpr5eXZle7g"
   },
   "source": [
    "# Ordinal/One-hot Encoding "
   ]
  },
  {
   "cell_type": "markdown",
   "metadata": {
    "id": "l7lSZ9d2hjyB"
   },
   "source": [
    " \n",
    "Link: https://machinelearningmastery.com/one-hot-encoding-for-categorical-data/"
   ]
  },
  {
   "cell_type": "markdown",
   "metadata": {
    "id": "c9XjZ-ByhrDp"
   },
   "source": [
    "Machine learning models require all input and output variables to be numeric.\n",
    "\n",
    "This means that if your data contains categorical data, you must encode it to numbers before you can fit and evaluate a model.  \n",
    "\n",
    "Types of data:    \n",
    "**Numerical data**. Variable or features that is only composed of numbers, such as integers or floating-point values  \n",
    "**Nominal/Categorical Variable**. Variable comprises a finite set of discrete values with no relationship between values.  \n",
    "**Ordinal Variable**. Variable comprises a finite set of discrete values with a ranked ordering between values.\n",
    "\n",
    "A numerical variable can be converted to an ordinal variable by dividing the range of the numerical variable into bins and assigning values to each bin. For example, a numerical variable between 1 and 10 can be divided into an ordinal variable with 5 labels with an ordinal relationship: 1-2, 3-4, 5-6, 7-8, 9-10. This is called **discretization**.\n",
    "\n",
    "\n",
    "The following variants exist:\n",
    "* One-hot encoding (each category value is converted into a new column and assigned a 1 or 0 (notation for true/false) value to the column)\n",
    "* Ordinal encoding (=Integer Encoding) (each unique category value is assigned an integer value For example, “red” is 1, “green” is 2, and “blue” is 3)\n",
    "* Label encoding (This approach is very simple and it involves converting each value in a column to a number)\n",
    "\n",
    "\n",
    "\n",
    "\n"
   ]
  },
  {
   "cell_type": "markdown",
   "metadata": {
    "id": "5MhOWXwml_h-"
   },
   "source": [
    "**However, some algorithms can work with categorical data directly.**\n",
    "\n",
    "For example, a decision tree can be learned directly from categorical data with no data transform required (this depends on the specific implementation)."
   ]
  },
  {
   "cell_type": "code",
   "execution_count": null,
   "metadata": {
    "colab": {
     "base_uri": "https://localhost:8080/",
     "height": 518
    },
    "id": "5US7_QHQpkQE",
    "outputId": "21cb3b0f-42df-42c4-8528-4f760b55031b"
   },
   "outputs": [],
   "source": [
    "train.head()"
   ]
  },
  {
   "cell_type": "code",
   "execution_count": null,
   "metadata": {
    "colab": {
     "base_uri": "https://localhost:8080/"
    },
    "id": "Wx97yGlxTIoB",
    "outputId": "8c8aef07-b4d4-4f6f-ea54-c565c2fb368a"
   },
   "outputs": [],
   "source": [
    "train.shape"
   ]
  },
  {
   "cell_type": "code",
   "execution_count": null,
   "metadata": {
    "colab": {
     "base_uri": "https://localhost:8080/"
    },
    "id": "bVBhFdqlnR0D",
    "outputId": "0acfc7d6-03d7-46a4-8512-a1a7a926b73e"
   },
   "outputs": [],
   "source": [
    "# checking the column data types to figures out which attributes are categorical (object) and which ones numerical (int)\n",
    "train.dtypes"
   ]
  },
  {
   "cell_type": "code",
   "execution_count": null,
   "metadata": {
    "colab": {
     "base_uri": "https://localhost:8080/"
    },
    "id": "RLADKhOWnVF5",
    "outputId": "732df917-b57d-44c2-eb49-c685c52baa5e"
   },
   "outputs": [],
   "source": [
    "cat_feature_mask = train.dtypes == object # boolean test (mask) of whether the col is of \"object type\" or not\n",
    "cat_feature_mask"
   ]
  },
  {
   "cell_type": "code",
   "execution_count": null,
   "metadata": {
    "colab": {
     "base_uri": "https://localhost:8080/"
    },
    "id": "k-yp3o2fnssi",
    "outputId": "57a1ffee-107f-4736-9ee9-44a9c55def34"
   },
   "outputs": [],
   "source": [
    "# filter categorical columns using the mask and turn it into a list\n",
    "cat_list = train.columns[cat_feature_mask].to_list()\n",
    "\n",
    "cat_list"
   ]
  },
  {
   "cell_type": "code",
   "execution_count": null,
   "metadata": {
    "colab": {
     "base_uri": "https://localhost:8080/"
    },
    "id": "zuNzopn3pMl5",
    "outputId": "79933ac7-7c9a-454b-af9d-b990f50f642e"
   },
   "outputs": [],
   "source": [
    "# removing a list element\n",
    "cat_list.remove(\"State\")\n",
    "\n",
    "cat_list"
   ]
  },
  {
   "cell_type": "code",
   "execution_count": null,
   "metadata": {
    "colab": {
     "base_uri": "https://localhost:8080/"
    },
    "id": "Ojislg4LrzMR",
    "outputId": "5fb44a42-78d5-4f4e-f724-5a861361d0cf"
   },
   "outputs": [],
   "source": [
    "train[\"Primary_Specialty\"].unique()"
   ]
  },
  {
   "cell_type": "code",
   "execution_count": null,
   "metadata": {
    "colab": {
     "base_uri": "https://localhost:8080/"
    },
    "id": "psbO1eljP7rl",
    "outputId": "89214218-59de-4a1f-e8b2-ae0748775004"
   },
   "outputs": [],
   "source": [
    "train[\"Primary_Specialty\"].unique().shape"
   ]
  },
  {
   "cell_type": "code",
   "execution_count": null,
   "metadata": {
    "colab": {
     "base_uri": "https://localhost:8080/"
    },
    "id": "7TPqoy0nPsU8",
    "outputId": "1a4a5879-3bee-4c55-ec38-2d17a1a3d73d"
   },
   "outputs": [],
   "source": [
    "train[\"top_nature\"].unique()"
   ]
  },
  {
   "cell_type": "code",
   "execution_count": null,
   "metadata": {
    "colab": {
     "base_uri": "https://localhost:8080/"
    },
    "id": "nqxp50ZwQPw4",
    "outputId": "a9b18d03-5e64-42b0-c44f-cd601a8d097f"
   },
   "outputs": [],
   "source": [
    "train[\"top_nature\"].unique().shape"
   ]
  },
  {
   "cell_type": "markdown",
   "metadata": {
    "id": "rvYkrHK7lXKO"
   },
   "source": [
    "removing NaN values"
   ]
  },
  {
   "cell_type": "code",
   "execution_count": null,
   "metadata": {
    "colab": {
     "base_uri": "https://localhost:8080/"
    },
    "id": "xX88nHMIlV8A",
    "outputId": "b6244a4e-2d59-498c-d8b3-ac5d7f7686c2"
   },
   "outputs": [],
   "source": [
    "# detecting and counting missing values (NaNs)\n",
    "train.isnull().sum()"
   ]
  },
  {
   "cell_type": "code",
   "execution_count": null,
   "metadata": {
    "colab": {
     "base_uri": "https://localhost:8080/"
    },
    "id": "zQY4oEKGlV8S",
    "outputId": "ac840d84-5972-44f1-d428-6bba3f596e49"
   },
   "outputs": [],
   "source": [
    "# mode class = Internal Medicine \n",
    "train[\"Primary_Specialty\"].value_counts()"
   ]
  },
  {
   "cell_type": "code",
   "execution_count": null,
   "metadata": {
    "id": "tJKo5RKslV8U"
   },
   "outputs": [],
   "source": [
    "# imputation of  NaN values with the most frequent class\n",
    "train[\"Primary_Specialty\"] = train[\"Primary_Specialty\"].replace(np.nan, 'Internal Medicine', regex=True)"
   ]
  },
  {
   "cell_type": "code",
   "execution_count": null,
   "metadata": {
    "colab": {
     "base_uri": "https://localhost:8080/"
    },
    "id": "LR3-xsYCmChD",
    "outputId": "e331b926-8287-4615-b3de-24dc996e3b65"
   },
   "outputs": [],
   "source": [
    "train[\"std\"].describe()"
   ]
  },
  {
   "cell_type": "code",
   "execution_count": null,
   "metadata": {
    "colab": {
     "base_uri": "https://localhost:8080/"
    },
    "id": "TBmnYfpTmu25",
    "outputId": "b6ad284d-e248-4216-97f7-cfc05c76c72e"
   },
   "outputs": [],
   "source": [
    "train[\"std\"].median()"
   ]
  },
  {
   "cell_type": "code",
   "execution_count": null,
   "metadata": {
    "id": "hVXyP7Hkl5AN"
   },
   "outputs": [],
   "source": [
    "# imputation of  NaN values with the median value of the feature\n",
    "train[\"std\"] = train[\"std\"].replace(np.nan, train[\"std\"].median(), regex=True)"
   ]
  },
  {
   "cell_type": "code",
   "execution_count": null,
   "metadata": {
    "colab": {
     "base_uri": "https://localhost:8080/"
    },
    "id": "w30RqVPYlV8W",
    "outputId": "293e0d20-a7af-40ec-fb27-d3ade5df9212"
   },
   "outputs": [],
   "source": [
    "train.isnull().sum() # check"
   ]
  },
  {
   "cell_type": "code",
   "execution_count": null,
   "metadata": {
    "colab": {
     "base_uri": "https://localhost:8080/"
    },
    "id": "voic4qaWhjEf",
    "outputId": "c5ca94f3-4326-4db7-e865-b804a4b8ecc0"
   },
   "outputs": [],
   "source": [
    "# transforming the categorical columns to numerical values using a ONE HOT ENCODER\n",
    "\n",
    "# The encoder has a method called fit_transform(). It takes a dataframe as an input, and will spit out the \n",
    "# transformed dataframe. Remember to specify the columns you need to transform (you have a list for this). \n",
    "\n",
    "\n",
    "# define one hot encoding\n",
    "onehot_encoder = OneHotEncoder(sparse=False)\n",
    "\n",
    "# one hot encoding primary specialty\n",
    "##ps_enc = onehot_encoder.fit_transform(train[\"Primary_Specialty\"])\n",
    "\n",
    "data = train[cat_list]\n",
    "\n",
    "# transform data\n",
    "result_oh = pd.DataFrame(onehot_encoder.fit_transform(data))\n",
    "print(result_oh)\n"
   ]
  },
  {
   "cell_type": "code",
   "execution_count": null,
   "metadata": {
    "colab": {
     "base_uri": "https://localhost:8080/"
    },
    "id": "LQR8aUzZlvc-",
    "outputId": "e96fc028-43a7-450f-9c92-a55021121160"
   },
   "outputs": [],
   "source": [
    "# colnames of encoded features\n",
    "onehot_encoder.get_feature_names()"
   ]
  },
  {
   "cell_type": "code",
   "execution_count": null,
   "metadata": {
    "colab": {
     "base_uri": "https://localhost:8080/",
     "height": 652
    },
    "id": "e7DEVJx1lxSs",
    "outputId": "08344c43-6f19-4209-9430-50363771bcea"
   },
   "outputs": [],
   "source": [
    "# renaming the encoded columns \n",
    "result_oh.columns = onehot_encoder.get_feature_names()\n",
    "\n",
    "result_oh"
   ]
  },
  {
   "cell_type": "code",
   "execution_count": null,
   "metadata": {
    "id": "DEIXKrQCNX8i"
   },
   "outputs": [],
   "source": [
    "# transforming the categorical columns to numerical values using an ORDINAL ENCODER\n",
    "\n",
    "# The encoder has a method called fit_transform(). It takes a dataframe as an input, and will spit out the \n",
    "# transformed dataframe. Remember to specify the columns you need to transform (you have a list for this). \n",
    "\n",
    "\n",
    "# define ordinal encoding\n",
    "##ordinal_encoder = OrdinalEncoder()\n",
    "\n",
    "# one hot encoding primary specialty\n",
    "##ps_enc = onehot_encoder.fit_transform(train[\"Primary_Specialty\"])\n",
    "\n",
    "#data = train[cat_list]\n",
    "\n",
    "# transform data\n",
    "##result = pd.DataFrame(ordinal_encoder.fit_transform(data))\n",
    "##print(result)\n",
    "\n"
   ]
  },
  {
   "cell_type": "markdown",
   "metadata": {
    "id": "DGU1Bl6_QjSt"
   },
   "source": [
    "Adding the encoded columns to the training and test data"
   ]
  },
  {
   "cell_type": "code",
   "execution_count": null,
   "metadata": {
    "colab": {
     "base_uri": "https://localhost:8080/",
     "height": 1000
    },
    "id": "pANrUhIZQoU_",
    "outputId": "085d85e1-a8fd-4fe8-8ccc-b781cd1d0f6d"
   },
   "outputs": [],
   "source": [
    "# merging the two dfs\n",
    "train_final = pd.concat([train.reset_index(drop=True), result_oh], axis=1)\n",
    "\n",
    "train_final"
   ]
  },
  {
   "cell_type": "code",
   "execution_count": null,
   "metadata": {
    "id": "I5V9rIrkT158"
   },
   "outputs": [],
   "source": [
    "# dropping the categorical features that have been encoded\n",
    "train_final = train_final.drop([\"Primary_Specialty\",\"top_nature\",\"top_rpi\", \"top_fop\", \"State\"], axis=1)\n",
    "\n"
   ]
  },
  {
   "cell_type": "code",
   "execution_count": null,
   "metadata": {
    "colab": {
     "base_uri": "https://localhost:8080/",
     "height": 435
    },
    "id": "4YZD_T3XUZxB",
    "outputId": "3ac1dd5c-ec78-4fe9-84a5-6bfcab69899e"
   },
   "outputs": [],
   "source": [
    "train_final.head()"
   ]
  },
  {
   "cell_type": "markdown",
   "metadata": {
    "id": "4b0HjygAUqCP"
   },
   "source": [
    "train test split"
   ]
  },
  {
   "cell_type": "code",
   "execution_count": null,
   "metadata": {
    "colab": {
     "base_uri": "https://localhost:8080/"
    },
    "id": "Z2DD8IvAUeIK",
    "outputId": "83930a82-857f-41fc-e6dd-08a3bb54adfd"
   },
   "outputs": [],
   "source": [
    "# labels \n",
    "y_train = train_final[\"Ownership_Indicator\"][0:4000]\n",
    "\n",
    "y_test = train_final[\"Ownership_Indicator\"][4001:5000]\n",
    "\n",
    "print(y_train, y_test)"
   ]
  },
  {
   "cell_type": "code",
   "execution_count": null,
   "metadata": {
    "colab": {
     "base_uri": "https://localhost:8080/"
    },
    "id": "Wda6uBz_VKJm",
    "outputId": "5e1c53aa-da36-4ab1-a878-109327cb66f9"
   },
   "outputs": [],
   "source": [
    "# features (manually)\n",
    "X_train = train_final.drop([\"Ownership_Indicator\"], axis=1)[0:4000]\n",
    "\n",
    "X_test = train_final.drop([\"Ownership_Indicator\"], axis=1)[4001:5000]\n",
    "print(X_train, X_test)"
   ]
  },
  {
   "cell_type": "markdown",
   "metadata": {
    "id": "1w32y6Ieb8Us"
   },
   "source": [
    "encoding test set"
   ]
  },
  {
   "cell_type": "code",
   "execution_count": null,
   "metadata": {
    "colab": {
     "base_uri": "https://localhost:8080/",
     "height": 487
    },
    "id": "vg6Mv0VmcFJs",
    "outputId": "41d26c56-748e-4403-f58f-c3270807f6f5"
   },
   "outputs": [],
   "source": [
    "test.head()"
   ]
  },
  {
   "cell_type": "code",
   "execution_count": null,
   "metadata": {
    "colab": {
     "base_uri": "https://localhost:8080/"
    },
    "id": "1bUWvvawdKfE",
    "outputId": "d820d69b-fa6b-4185-9c9e-f528dbccda86"
   },
   "outputs": [],
   "source": [
    "cat_feature_mask_ts = test.dtypes == object # boolean test (mask) of whether the col is of \"object type\" or not\n",
    "cat_feature_mask_ts"
   ]
  },
  {
   "cell_type": "code",
   "execution_count": null,
   "metadata": {
    "colab": {
     "base_uri": "https://localhost:8080/"
    },
    "id": "swQCcVHscaKz",
    "outputId": "5031dbc7-e1cc-444e-893b-ee8374efac24"
   },
   "outputs": [],
   "source": [
    "# filter categorical columns using the mask and turn it into a list\n",
    "cat_list_ts = test.columns[cat_feature_mask_ts].to_list()\n",
    "\n",
    "cat_list_ts"
   ]
  },
  {
   "cell_type": "code",
   "execution_count": null,
   "metadata": {
    "id": "XuEbQwc8ch3B"
   },
   "outputs": [],
   "source": [
    "cat_list_ts.remove(\"State\")\n"
   ]
  },
  {
   "cell_type": "code",
   "execution_count": null,
   "metadata": {
    "colab": {
     "base_uri": "https://localhost:8080/",
     "height": 424
    },
    "id": "BgTLHEveeGm0",
    "outputId": "2ced139d-1574-43fa-ba25-3fddb206771f"
   },
   "outputs": [],
   "source": [
    "test[cat_list_ts]"
   ]
  },
  {
   "cell_type": "code",
   "execution_count": null,
   "metadata": {
    "colab": {
     "base_uri": "https://localhost:8080/"
    },
    "id": "AIiHjAmue1eb",
    "outputId": "8b22c5cd-d9bf-4d62-aa62-b31d05b80be9"
   },
   "outputs": [],
   "source": [
    "# detecting and counting missing values (NaNs)\n",
    "test.isnull().sum()"
   ]
  },
  {
   "cell_type": "code",
   "execution_count": null,
   "metadata": {
    "colab": {
     "base_uri": "https://localhost:8080/"
    },
    "id": "rWtQsV4ze-Ds",
    "outputId": "f4880150-b70f-45bc-b351-897705fd7467"
   },
   "outputs": [],
   "source": [
    "# mode class = Internal Medicine \n",
    "test[\"Primary_Specialty\"].value_counts()"
   ]
  },
  {
   "cell_type": "code",
   "execution_count": null,
   "metadata": {
    "id": "VZnRvX_6fUTM"
   },
   "outputs": [],
   "source": [
    "# imputation of  NaN values with the most frequent class\n",
    "test[\"Primary_Specialty\"] = test[\"Primary_Specialty\"].replace(np.nan, 'Internal Medicine', regex=True)"
   ]
  },
  {
   "cell_type": "code",
   "execution_count": null,
   "metadata": {
    "colab": {
     "base_uri": "https://localhost:8080/"
    },
    "id": "oBG12jzipmJ_",
    "outputId": "4640ba6c-3c67-48ed-e082-1f7650f5d832"
   },
   "outputs": [],
   "source": [
    "test[\"std\"].describe()"
   ]
  },
  {
   "cell_type": "code",
   "execution_count": null,
   "metadata": {
    "id": "nrNzNQUVpFrE"
   },
   "outputs": [],
   "source": [
    "# imputation of  NaN values with the median value of the feature\n",
    "test[\"std\"] = test[\"std\"].replace(np.nan, test[\"std\"].median(), regex=True)"
   ]
  },
  {
   "cell_type": "code",
   "execution_count": null,
   "metadata": {
    "colab": {
     "base_uri": "https://localhost:8080/"
    },
    "id": "odsMniq5fsI2",
    "outputId": "10c8f4ca-a3e4-47f4-9850-7ce91a0a4f2d"
   },
   "outputs": [],
   "source": [
    "test.isnull().sum() # check"
   ]
  },
  {
   "cell_type": "code",
   "execution_count": null,
   "metadata": {
    "colab": {
     "base_uri": "https://localhost:8080/"
    },
    "id": "USmWeNjtVPgl",
    "outputId": "a3c6a827-9fec-4683-b92a-1f7505007066"
   },
   "outputs": [],
   "source": [
    "# transforming the categorical columns to numerical values using a ONE HOT ENCODER\n",
    "\n",
    "# The encoder has a method called fit_transform(). It takes a dataframe as an input, and will spit out the \n",
    "# transformed dataframe. Remember to specify the columns you need to transform (you have a list for this). \n",
    "\n",
    "\n",
    "# define one hot encoding\n",
    "onehot_encoder = OneHotEncoder(sparse=False)\n",
    "\n",
    "# one hot encoding primary specialty\n",
    "##ps_enc = onehot_encoder.fit_transform(train[\"Primary_Specialty\"])\n",
    "\n",
    "data = test[cat_list_ts]\n",
    "\n",
    "\n",
    "\n",
    "# transform data\n",
    "result_test_oh = pd.DataFrame(onehot_encoder.fit_transform(data))\n",
    "print(result_test_oh)\n"
   ]
  },
  {
   "cell_type": "code",
   "execution_count": null,
   "metadata": {
    "colab": {
     "base_uri": "https://localhost:8080/"
    },
    "id": "3HhQrqrvkjb-",
    "outputId": "cae107c9-e897-484d-cf7e-c14716089617"
   },
   "outputs": [],
   "source": [
    "# colnames of encoded features\n",
    "onehot_encoder.get_feature_names()"
   ]
  },
  {
   "cell_type": "code",
   "execution_count": null,
   "metadata": {
    "colab": {
     "base_uri": "https://localhost:8080/",
     "height": 652
    },
    "id": "9vwNI1Wck3iJ",
    "outputId": "ddd01cbb-91c0-4053-eb2c-13c85910b5d1"
   },
   "outputs": [],
   "source": [
    "# renaming the encoded columns \n",
    "result_test_oh.columns = onehot_encoder.get_feature_names()\n",
    "\n",
    "result_test_oh"
   ]
  },
  {
   "cell_type": "code",
   "execution_count": null,
   "metadata": {
    "colab": {
     "base_uri": "https://localhost:8080/",
     "height": 1000
    },
    "id": "F1iUu8XqgDXg",
    "outputId": "3a8a1754-ff38-41ef-a9b4-3661220278b1"
   },
   "outputs": [],
   "source": [
    "# merging the two dfs\n",
    "test_final = pd.concat([test.reset_index(drop=True), result_test_oh], axis=1,)\n",
    "\n",
    "test_final"
   ]
  },
  {
   "cell_type": "code",
   "execution_count": null,
   "metadata": {
    "colab": {
     "base_uri": "https://localhost:8080/",
     "height": 652
    },
    "id": "IoLiAbM8kGXZ",
    "outputId": "0026f81f-2dea-4c2f-d061-81659a4c0ac7"
   },
   "outputs": [],
   "source": [
    "# dropping the categorical features that have been encoded\n",
    "test_final = test_final.drop([\"Primary_Specialty\",\"top_nature\",\"top_rpi\", \"top_fop\", \"State\"], axis=1)\n",
    "\n",
    "test_final\n"
   ]
  },
  {
   "cell_type": "code",
   "execution_count": null,
   "metadata": {
    "colab": {
     "base_uri": "https://localhost:8080/"
    },
    "id": "8qjCAHYv0FEw",
    "outputId": "cc2c0306-5a7a-48d7-fd10-d33571f03300"
   },
   "outputs": [],
   "source": [
    "enc_features = test_final.columns[1:test_final.columns.shape[0]]\n",
    "\n",
    "enc_features"
   ]
  },
  {
   "cell_type": "code",
   "execution_count": null,
   "metadata": {
    "colab": {
     "base_uri": "https://localhost:8080/"
    },
    "id": "peYxISKO0GXR",
    "outputId": "6670885c-e448-4aa1-b176-8705d461293f"
   },
   "outputs": [],
   "source": [
    "\n",
    "~X_train.columns.isin(X_test.columns)"
   ]
  },
  {
   "cell_type": "code",
   "execution_count": null,
   "metadata": {
    "colab": {
     "base_uri": "https://localhost:8080/"
    },
    "id": "eHCfsHMOq5kW",
    "outputId": "114b8d99-99d4-4755-a1e7-0efeaaf56b99"
   },
   "outputs": [],
   "source": [
    "~X_test.columns.isin(X_train.columns)"
   ]
  },
  {
   "cell_type": "markdown",
   "metadata": {
    "id": "QRGwK7JlT2W2"
   },
   "source": [
    "End encoding & preprocessing"
   ]
  },
  {
   "cell_type": "code",
   "execution_count": null,
   "metadata": {
    "colab": {
     "base_uri": "https://localhost:8080/"
    },
    "id": "KjrfIV_DYMZi",
    "outputId": "75f81169-27a9-4219-a3a0-5e5cbc36ebcb"
   },
   "outputs": [],
   "source": [
    "X_train.shape, X_test.shape, y_train.shape, y_test.shape"
   ]
  },
  {
   "cell_type": "code",
   "execution_count": null,
   "metadata": {
    "colab": {
     "base_uri": "https://localhost:8080/",
     "height": 435
    },
    "id": "2CuIOASamrKl",
    "outputId": "7fd61f68-a698-40a5-c756-89c8284705b8"
   },
   "outputs": [],
   "source": [
    "X_train.head()"
   ]
  },
  {
   "cell_type": "markdown",
   "metadata": {
    "id": "tO3YF0MBl_6W"
   },
   "source": [
    "# Random Resampling"
   ]
  },
  {
   "cell_type": "markdown",
   "metadata": {
    "id": "n0XFcIdgli82"
   },
   "source": [
    "Things to try:\n",
    "**Random Oversampling**:  \n",
    "https://machinelearningmastery.com/random-oversampling-and-undersampling-for-imbalanced-classification/"
   ]
  },
  {
   "cell_type": "markdown",
   "metadata": {
    "id": "wuV-58HWl4AW"
   },
   "source": [
    "The simplest strategy is to choose examples for the transformed dataset randomly, called random resampling.  \n",
    "\n",
    "Resampling involves creating a new transformed version of the training dataset in which the selected examples have a different class distribution.  \n",
    "\n",
    "There are two main approaches to random resampling for imbalanced classification; they are oversampling and undersampling.\n",
    "\n",
    "**Random Oversampling**: Randomly duplicate examples in the minority class.  \n",
    "**Random Undersampling**: Randomly delete examples in the majority class"
   ]
  },
  {
   "cell_type": "code",
   "execution_count": null,
   "metadata": {
    "colab": {
     "base_uri": "https://localhost:8080/"
    },
    "id": "tArwi1AEm_KY",
    "outputId": "1ee026f3-e03a-4b49-aadb-56f8c66d04dc"
   },
   "outputs": [],
   "source": [
    "# summarize class distribution\n",
    "print(Counter(y_train))\n",
    "# define oversampling strategy\n",
    "oversample = RandomOverSampler(sampling_strategy='minority')\n",
    "# fit and apply the transform\n",
    "X_train_over, y_train_over = oversample.fit_resample(X_train, y_train)\n",
    "# summarize class distribution\n",
    "print(Counter(y_train_over))"
   ]
  },
  {
   "cell_type": "code",
   "execution_count": null,
   "metadata": {
    "colab": {
     "base_uri": "https://localhost:8080/"
    },
    "id": "znX8txmb323M",
    "outputId": "d5f8db7b-5e43-487b-9c02-aa987680f734"
   },
   "outputs": [],
   "source": [
    "# summarize class distribution\n",
    "print(Counter(y_test))\n",
    "# define oversampling strategy\n",
    "oversample = RandomOverSampler(sampling_strategy='minority')\n",
    "# fit and apply the transform\n",
    "X_test_over, y_test_over = oversample.fit_resample(X_test, y_test)\n",
    "# summarize class distribution\n",
    "print(Counter(y_test_over))"
   ]
  },
  {
   "cell_type": "markdown",
   "metadata": {
    "id": "-UGiPFvxpMnX"
   },
   "source": [
    "We have randomly oversampled the 241 instances of the minority class and we now have 3759 instances in each class "
   ]
  },
  {
   "cell_type": "markdown",
   "metadata": {
    "id": "AyEaX4owaWvX"
   },
   "source": [
    "**Using the XGB Classifier with randomly resampled data:**\n",
    "\n"
   ]
  },
  {
   "cell_type": "code",
   "execution_count": null,
   "metadata": {
    "id": "7lvjmAJgak5g"
   },
   "outputs": [],
   "source": [
    "# initilizing the XGBClassifier as an object: (using all the default hyperparameters)\n",
    "# here we initialize an XGBClassifier with a scale_pos_weight for imbalanced classification data\n",
    "xgbc_os = xgb.XGBClassifier()\n",
    "\n"
   ]
  },
  {
   "cell_type": "code",
   "execution_count": null,
   "metadata": {
    "id": "q_P_69Mra1lU"
   },
   "outputs": [],
   "source": [
    "# CV type 3: repeated stratified k-fold CV (due to imbalance in the data set) \n",
    "# maintains the ratio of instances in each class for each fold\n",
    "# Repeated stratified k-fold CV involves simply repeating the cross-validation procedure multiple times \n",
    "# and reporting the mean result across all folds from all runs\n",
    "\n",
    "n_folds=3 # no. of folds\n",
    "n_repeats=3 # no. of runs\n",
    "\n",
    "rskfold = RepeatedStratifiedKFold(n_splits=n_folds,n_repeats=n_repeats,\n",
    "                                 random_state=123)"
   ]
  },
  {
   "cell_type": "code",
   "execution_count": null,
   "metadata": {
    "colab": {
     "base_uri": "https://localhost:8080/"
    },
    "id": "otIitD7ya1lV",
    "outputId": "8688fbd8-a563-4acf-96f3-bcbb0108166e"
   },
   "outputs": [],
   "source": [
    "# estimator = xgbc is the xgb classifier model; \"cv\" determines the cross validation splitting strategy; \"scoring\" determines the loss function\n",
    "clf_rscv_scores_os = cross_val_score(xgbc_os, X_train_over, y_train_over, cv=rskfold, scoring='balanced_accuracy')\n",
    "print(\"Repeated Stratified K-fold CV average score: %.2f\" % clf_rscv_scores_os.mean())\n",
    "\n",
    "clf_rscv_scores_os # score per fold and run"
   ]
  },
  {
   "cell_type": "code",
   "execution_count": null,
   "metadata": {
    "id": "aMFfrttpa1lX"
   },
   "outputs": [],
   "source": [
    "# define a search space for the RSCV\n",
    "space = dict()\n",
    "# Log-uniform is useful for searching penalty values as we often explore values at different orders of magnitude, at least as a first step.\n",
    "space['reg_lambda'] = loguniform(1e-5, 100)\n",
    "space['reg_alpha'] = loguniform(1e-5, 100) # loguniform distribution\n",
    "space['max_depth'] = [3, 4, 5, 6, 7, 8, 9] # fixed set of values\n",
    "space['min_child_weight'] = [1, 2, 3, 4]\n",
    "space['colsample_by_tree'] = uniform(0.5, 0.4) # uniform distribution with lower bound 0.5 and range 0.4 so between 0.5 and 0.9\n",
    "space['subsample'] = uniform(0.5, 0.4)\n",
    "space['n_estimators'] = randint(150, 1000) # returns a pseudo random integer number from the given range \n",
    "space['learning_rate'] = uniform(0.01, 0.6)\n"
   ]
  },
  {
   "cell_type": "code",
   "execution_count": null,
   "metadata": {
    "id": "NZASw9DLa1lX"
   },
   "outputs": [],
   "source": [
    "# Randomized Search cross validation (scoring parameter is used to set the loss function for the gscv)\n",
    "# n_iter: sets the number of iterations (the # of random combinations from the search space to try)\n",
    "\n",
    "xgbc_rscv_os = RandomizedSearchCV(estimator = xgbc_os, \n",
    "                               n_iter= 20, \n",
    "                               scoring = 'balanced_accuracy', \n",
    "                               param_distributions = space, \n",
    "                               verbose=2, \n",
    "                               cv = rskfold, \n",
    "                               n_jobs=-1, \n",
    "                               random_state=123,\n",
    "                               return_train_score = True)"
   ]
  },
  {
   "cell_type": "code",
   "execution_count": null,
   "metadata": {
    "colab": {
     "base_uri": "https://localhost:8080/"
    },
    "id": "lTZbQB7ka1lY",
    "outputId": "19f9ce05-3d68-4398-8f57-1ee666c3070e"
   },
   "outputs": [],
   "source": [
    "# fitting the model multiple times to find the best hyperparameter combination\n",
    "##xgbc_rscv_os.fit(X_train_over, y_train_over)"
   ]
  },
  {
   "cell_type": "code",
   "execution_count": null,
   "metadata": {
    "colab": {
     "base_uri": "https://localhost:8080/"
    },
    "id": "Ys1Vy_4ya1la",
    "outputId": "e341e26a-b218-4796-e8c5-d641fc84c6d7"
   },
   "outputs": [],
   "source": [
    "# obtaining the best hyperparameter values from the Randomized Search CV\n",
    "##xgbc_rscv_os.best_params_"
   ]
  },
  {
   "cell_type": "code",
   "execution_count": null,
   "metadata": {
    "colab": {
     "base_uri": "https://localhost:8080/"
    },
    "id": "-XkWn3x8a1lb",
    "outputId": "05544def-49c9-4631-dc9a-38804ca5a69c"
   },
   "outputs": [],
   "source": [
    "# best score \n",
    "##print(xgbc_rscv_os.scoring, xgbc_rscv_os.best_score_)"
   ]
  },
  {
   "cell_type": "code",
   "execution_count": null,
   "metadata": {
    "id": "rdtTOImXa1le"
   },
   "outputs": [],
   "source": [
    "# setting up the optimal xgb classifier model using the configuration of hyperparameters from the GSCV or RSCV\n",
    "xgbc_opt_os = xgb.XGBClassifier(objective=\"binary:logistic\", obj=\"balanced_accuracy\", feval = \"balanced_accuracy\", scale_pos_weight = 1, booster=\"gbtree\",learning_rate=0.44467319491638113, colsample_bytree=0.8397727176311158, max_depth=7, min_child_weight=1,n_estimators = 330, subsample = 0.6495205707200266, reg_alpha =0.008326637080293384, reg_lambda=0.3828680728500237)"
   ]
  },
  {
   "cell_type": "code",
   "execution_count": null,
   "metadata": {
    "colab": {
     "base_uri": "https://localhost:8080/"
    },
    "id": "Tpox68gla1lf",
    "outputId": "78e17812-9b7a-4d45-cc23-454d931b7763"
   },
   "outputs": [],
   "source": [
    "# fitting the XGB classifier model to the training data (final model with optimal hyperparameters from the gscv)\n",
    "xgbc_opt_os.fit(X_train_over, y_train_over)"
   ]
  },
  {
   "cell_type": "code",
   "execution_count": null,
   "metadata": {
    "id": "iLJcD0ona1lg"
   },
   "outputs": [],
   "source": [
    "# making predictions using the test data\n",
    "y_pred_xgbc_os = xgbc_opt_os.predict(X_test_over)\n"
   ]
  },
  {
   "cell_type": "code",
   "execution_count": null,
   "metadata": {
    "colab": {
     "base_uri": "https://localhost:8080/"
    },
    "id": "pcqq_lvya1lh",
    "outputId": "f42629c4-f41f-422b-9d29-7d7d48d2b51c"
   },
   "outputs": [],
   "source": [
    "# unique values (of a numpy array) of the predictions\n",
    "np.unique(y_pred_xgbc_os, return_counts=True)\n"
   ]
  },
  {
   "cell_type": "code",
   "execution_count": null,
   "metadata": {
    "colab": {
     "base_uri": "https://localhost:8080/"
    },
    "id": "rkqrL0Csa1lj",
    "outputId": "eda227b8-e5e3-4232-a2eb-a46dd1e0f725"
   },
   "outputs": [],
   "source": [
    "np.unique(y_test_over, return_counts=True)"
   ]
  },
  {
   "cell_type": "code",
   "execution_count": null,
   "metadata": {
    "colab": {
     "base_uri": "https://localhost:8080/"
    },
    "id": "S1-8wp8sa1lr",
    "outputId": "1d311393-a70c-49a1-9dc5-b95494c1de13"
   },
   "outputs": [],
   "source": [
    "# computing the balanced accuracy score for the predictions\n",
    "balanced_accuracy_score(y_test_over, y_pred_xgbc_os)"
   ]
  },
  {
   "cell_type": "markdown",
   "metadata": {
    "id": "xOVJd3eemxYu"
   },
   "source": [
    "# Cost-Sensitive Learning"
   ]
  },
  {
   "cell_type": "markdown",
   "metadata": {
    "id": "bSJd9lXNmo6Q"
   },
   "source": [
    "\n",
    "\n",
    "We have discussed sampling techniques and are now ready to discuss cost-sensitive learning. In many ways, the two approaches are analogous — the main difference being that in cost-sensitive learning we perform under- and over-sampling by altering the relative weighting of individual samples"
   ]
  },
  {
   "cell_type": "markdown",
   "metadata": {
    "id": "7ygAqAGIRkmx"
   },
   "source": [
    "* **Upweighting**. Upweighting is analogous to over-sampling and works by increasing the weight of one of the classes keeping the weight of the other class at one.  \n",
    "\n",
    "* **Down-weighting**. Down-weighting is analogous to under-sampling and works by decreasing the weight of one of the classes keeping the weight of the other class at one."
   ]
  },
  {
   "cell_type": "markdown",
   "metadata": {
    "id": "m3MDrnudR12_"
   },
   "source": [
    "The sklearn.utils function class_weight() can be applied to any sklearn classifier and with keras"
   ]
  },
  {
   "cell_type": "markdown",
   "metadata": {
    "id": "Vb6W7xesp_hb"
   },
   "source": [
    "    from sklearn.utils import class_weight\n",
    "    class_weights = class_weight.compute_class_weight('balanced', np.unique(y_train), y_train)\n",
    "    model.fit(X_train, y_train, class_weight=class_weights)"
   ]
  },
  {
   "cell_type": "code",
   "execution_count": null,
   "metadata": {
    "id": "YptDYbfQRE-d"
   },
   "outputs": [],
   "source": [
    "# Computing the class weights of the data \n",
    "##class_weights = class_weight.compute_class_weight('balanced', np.unique(y_train), y_train)                                                 np.unique(y_train), y_train)\n",
    "##model.fit(X_train, y_train, class_weight=class_weights) # the class_weights can be applied to any classifier"
   ]
  },
  {
   "cell_type": "markdown",
   "metadata": {
    "id": "4ILF9hWZqUvY"
   },
   "source": [
    "In this case, we have set the instances to be ‘balanced’, meaning that we will treat these instances to have balanced weighting based on their relative number of points — this is what I would recommend unless you have a good reason for setting the values yourself"
   ]
  },
  {
   "cell_type": "markdown",
   "metadata": {
    "id": "W2d01zObGVm7"
   },
   "source": [
    "XGBoostClassifier’s \"scale_pos_weight\" parameter is used to train a class-weighted XGBoost classifier for imbalanced data\n",
    "\n",
    "scale_pos_weight = (sum(negative instances i.e. 0s) / sum(positive instances i.e. 1s)\n",
    "\n",
    "Generally, **scale_pos_weight is the ratio of the number of negative class instances to the number of positive class instances**.\n",
    "\n",
    "Suppose, the dataset has 90 observations of the negative class and 10 observations of the positive class, then the ideal value of scale_pos_weight should be 9."
   ]
  },
  {
   "cell_type": "code",
   "execution_count": null,
   "metadata": {
    "colab": {
     "base_uri": "https://localhost:8080/"
    },
    "id": "_JZyA0kgWOA2",
    "outputId": "b5f0c8f5-9461-470d-8438-570a80ea6ce5"
   },
   "outputs": [],
   "source": [
    "# count # of examples/data points in each class\n",
    "counter = Counter(y_train)\n",
    "\n",
    "counter\n"
   ]
  },
  {
   "cell_type": "code",
   "execution_count": null,
   "metadata": {
    "colab": {
     "base_uri": "https://localhost:8080/"
    },
    "id": "tgZh8sXMWaOR",
    "outputId": "3c341d84-9a1a-4301-af47-68c7f94dbae5"
   },
   "outputs": [],
   "source": [
    "# estimate scale_pos_weight value, assuming the class labels are 0 and 1\n",
    "weight = counter[0] / counter[1]\n",
    "\n",
    "weight\n"
   ]
  },
  {
   "cell_type": "markdown",
   "metadata": {
    "id": "9uP4xvxEjrJy"
   },
   "source": [
    "# XGB Boosting Classifier"
   ]
  },
  {
   "cell_type": "markdown",
   "metadata": {
    "id": "PxMLWRd6UqPR"
   },
   "source": [
    "Blogpost about using an XGB Classifier for imbalanced classification data\n",
    "https://towardsdatascience.com/how-to-effectively-predict-imbalanced-classes-in-python-e8cd3b5720c4"
   ]
  },
  {
   "cell_type": "code",
   "execution_count": null,
   "metadata": {
    "id": "Ktet0jdcWJDR"
   },
   "outputs": [],
   "source": [
    "# initilizing the XGBClassifier as an object: (using all the default hyperparameters)\n",
    "# here we initialize an XGBClassifier with a scale_pos_weight for imbalanced classification data\n",
    "xgbc = xgb.XGBClassifier(scale_pos_weight= weight)\n",
    "\n"
   ]
  },
  {
   "cell_type": "markdown",
   "metadata": {
    "id": "mXv_uklPlNbq"
   },
   "source": [
    "When to use which splitting strategy:\n",
    "\n",
    "Generally, k-fold cross validation is the gold-standard for evaluating the performance of a machine learning algorithm on unseen data with k set to 3, 5, or 10.  \n",
    "Use stratified cross validation to enforce class distributions when there are a large number of classes or an imbalance in instances for each class."
   ]
  },
  {
   "cell_type": "markdown",
   "metadata": {
    "id": "GQvSYqOMIikx"
   },
   "source": [
    "There are 3 different APIs for evaluating the quality of a model’s predictions:\n",
    "\n",
    "* Estimator score method: Estimators have a score method providing a default   \n",
    "evaluation criterion for the problem they are designed to solve.   This is not discussed on this page, but in each estimator’s documentation.  \n",
    "\n",
    "* Scoring parameter: Model-evaluation tools using cross-validation (such as model_selection.cross_val_score and model_selection.GridSearchCV) rely on an internal scoring strategy. This is discussed in the section The scoring parameter: defining model evaluation rules.  \n",
    "\n",
    "* Metric functions: The sklearn.metrics module implements functions assessing prediction error for specific purposes. These metrics are detailed in sections on Classification metrics, Multilabel ranking metrics, Regression metrics and Clustering metrics.\n"
   ]
  },
  {
   "cell_type": "markdown",
   "metadata": {
    "id": "-EhkHvzpI5-r"
   },
   "source": [
    "The list of available scoring metrics is the following one:\n",
    "https://scikit-learn.org/stable/modules/model_evaluation.html"
   ]
  },
  {
   "cell_type": "markdown",
   "metadata": {
    "id": "fNcA-zLWRh7A"
   },
   "source": [
    "\"binary:logistic\": logistic regression for binary classification, output probability\n",
    "\n",
    "\"binary:hinge\": hinge loss for binary classification. This makes predictions of 0 or 1, rather than producing probabilities."
   ]
  },
  {
   "cell_type": "markdown",
   "metadata": {
    "id": "MhioCcluO9h0"
   },
   "source": [
    "Balanced Accuracy = (((TP/(TP+FN)+(TN/(TN+FP))) / 2\n",
    " <->\n",
    "Balanced Accuracy = (Sensitivity + Specificity) / 2\n",
    "\n",
    "* When the outcome classes are the same size, accuracy and balanced accuracy are the same but the two metrics differ if the classes are imbalanced   \n",
    "\n",
    "* Balanced accuracy is a good measure when you have imbalanced data and you are indifferent between correctly predicting the negative and positive classes"
   ]
  },
  {
   "cell_type": "code",
   "execution_count": null,
   "metadata": {
    "id": "FTCtxgyK0kzb"
   },
   "outputs": [],
   "source": [
    "# CV type 1: k-fold CV\n",
    "##kfold = KFold(n_splits=5, shuffle=True) "
   ]
  },
  {
   "cell_type": "markdown",
   "metadata": {
    "id": "NtnM-hP_Deoy"
   },
   "source": [
    "Stratified Cross Validation"
   ]
  },
  {
   "cell_type": "code",
   "execution_count": null,
   "metadata": {
    "id": "oTW3bQM_DkVX"
   },
   "outputs": [],
   "source": [
    "# CV type 2: stratified k-fold CV (due to imbalance in the data set) -> maintains the ratio of instances in each class for each fold\n",
    "skfold = StratifiedKFold(n_splits=3, shuffle=True, random_state = 123) \n",
    "# printing the skfold CV folds\n",
    "##for train_index, test_index in skfold.split(X_train, y_train):\n",
    "##    print(\"TRAIN:\", train_index, \"TEST:\", test_index)"
   ]
  },
  {
   "cell_type": "code",
   "execution_count": null,
   "metadata": {
    "colab": {
     "base_uri": "https://localhost:8080/"
    },
    "id": "5oB6w-bbYZ0a",
    "outputId": "7302e15d-34eb-46df-bd31-0048ee411d2b"
   },
   "outputs": [],
   "source": [
    "# estimator = xgbc is the xgb classifier model; \"cv\" determines the cross validation splitting strategy; \"scoring\" determines the loss function\n",
    "clf_cv_scores = cross_val_score(xgbc, X_train, y_train, cv=skfold,scoring='balanced_accuracy')\n",
    "print(\"Stratified K-fold CV average score: %.2f\" % clf_cv_scores.mean())\n",
    "\n",
    "clf_cv_scores # score per fold\n"
   ]
  },
  {
   "cell_type": "markdown",
   "metadata": {
    "id": "TGUmPAgCv4x7"
   },
   "source": [
    "# Hyperparametertuning"
   ]
  },
  {
   "cell_type": "markdown",
   "metadata": {
    "id": "Gwubcg21v-z2"
   },
   "source": [
    "**Hyperparameter tuning** is the process of determining the right combination of hyperparameters that allows the model to maximize model performance"
   ]
  },
  {
   "cell_type": "markdown",
   "metadata": {
    "id": "CB6Hozt0vpza"
   },
   "source": [
    "* **Model parameters**: These are the parameters that are estimated by the model from the given data\n",
    "* **Model hyperparameters**: These are the parameters that cannot be estimated by the model from the given data. These parameters are used to estimate the model parameters"
   ]
  },
  {
   "cell_type": "markdown",
   "metadata": {
    "id": "7Q6giLrtWa5l"
   },
   "source": [
    "*Methods:*\n",
    "* **Random Search**. Define a search space as a bounded domain of hyperparameter values, randomly select a combination of hyperparameters from that domain in each iteration and record the corresponding model performance. After the last iteration, return the best performing combination of hyperparameters.\n",
    "* **Grid Search**. Define a search space as a grid of hyperparameter values and evaluate every position in the grid. It fits the model on each and every combination of hyperparameter possible and records the model performance. Finally, it returns the best model with the best hyperparameters.\n",
    "\n",
    "**Pros/Cons:**  \n",
    "\n",
    "* Grid search is great for spot-checking combinations that are known to perform well generally.   \n",
    "* Random search is great for discovery and getting hyperparameter combinations that you would not have guessed intuitively, although it often requires more time to execute."
   ]
  },
  {
   "cell_type": "markdown",
   "metadata": {
    "id": "timi3zB4WvUt"
   },
   "source": [
    "*Useful links:*  \n",
    "https://machinelearningmastery.com/hyperparameter-optimization-with-random-search-and-grid-search/  \n",
    "https://neptune.ai/blog/hyperparameter-tuning-in-python-a-complete-guide-2020"
   ]
  },
  {
   "cell_type": "markdown",
   "metadata": {
    "id": "Jx34EX0yEOw8"
   },
   "source": [
    "## Grid Search CV"
   ]
  },
  {
   "cell_type": "markdown",
   "metadata": {
    "id": "nR1j9ZNKy5DY"
   },
   "source": [
    "Learning rate: determines the step size of exploration during gradient descent  \n",
    "Min_child_weight: Defines the minimum sum of weights of all observations required in a child. Too high values can lead to underfitting  \n",
    "max_depth: The maximum depth of a tree  \n",
    "subsample: Denotes the fraction of observations to be random samples for each tree.  \n",
    "colsample_by_tree: Denotes the fraction of columns to be random samples for each tree.  \n",
    "reg_lambda: L2 regularization term on weights (analogous to Ridge regression). Combats overfitting.   \n",
    "reg_alpha: L1 regularization term on weight (analogous to Lasso regression)  \n",
    "scale_pos_weight: can be set up to deal with class imbalance  \n",
    "n_estimators: number of base learners (usually trees)"
   ]
  },
  {
   "cell_type": "code",
   "execution_count": null,
   "metadata": {
    "id": "BnBmAce9C_k6"
   },
   "outputs": [],
   "source": [
    "# gridsearch cross validation (scoring parameter is used to set the loss function for the gscv)\n",
    "\n",
    "xgbc_gscv = GridSearchCV(estimator = xgbc, \n",
    "                         scoring = 'balanced_accuracy', \n",
    "                         param_grid = {'colsample_by_tree':[0.7,0.9], # [0.6,0.7,0.8,0.9]\n",
    "                                       'subsample':[0.7,0.9], # [0.6,0.7,0.8,0.9]\n",
    "                                       \"min_child_weight\":[1,3], # default = 1.0\n",
    "                                       'learning_rate': [0.01,0.1] ,  # [0.001,0.01,0.1,0.3]\n",
    "                                       'max_depth': [5,10], # [2,5,10,20]\n",
    "                                       'n_estimators': [100,250], # [100,250,500]\n",
    "                                       'reg_lambda': [0.8,1], # default = 1\n",
    "                                       'reg_alpha':[0.0,0.2]}, # default = 0\n",
    "                         verbose=1, \n",
    "                         cv = skfold, \n",
    "                         n_jobs=-1)"
   ]
  },
  {
   "cell_type": "code",
   "execution_count": null,
   "metadata": {
    "colab": {
     "base_uri": "https://localhost:8080/"
    },
    "id": "Sci7mCWsESEn",
    "outputId": "cd58e1bf-a52e-4db1-ec64-3de67e5e4000"
   },
   "outputs": [],
   "source": [
    "# fitting the model multiple times to find the best hyperparameter combination\n",
    "##xgbc_gscv.fit(X_train, y_train)"
   ]
  },
  {
   "cell_type": "code",
   "execution_count": null,
   "metadata": {
    "colab": {
     "base_uri": "https://localhost:8080/"
    },
    "id": "kxpwgYGLDbX4",
    "outputId": "28f5761c-6b5d-42c2-8dc7-7498c594a03c"
   },
   "outputs": [],
   "source": [
    "# obtaining the best hyperparameter values from the Gridsearch CV\n",
    "##xgbc_gscv.best_params_"
   ]
  },
  {
   "cell_type": "code",
   "execution_count": null,
   "metadata": {
    "colab": {
     "base_uri": "https://localhost:8080/"
    },
    "id": "qKpq-USHNO4n",
    "outputId": "f9987d79-a5cc-49fc-992a-c38b8e87fe12"
   },
   "outputs": [],
   "source": [
    "##print(xgbc_gscv.scoring, xgbc_gscv.best_score_)"
   ]
  },
  {
   "cell_type": "code",
   "execution_count": null,
   "metadata": {
    "colab": {
     "base_uri": "https://localhost:8080/"
    },
    "id": "i6Gs-sZaMqfs",
    "outputId": "7017abbb-4ca4-4223-ee89-6f298be922c2"
   },
   "outputs": [],
   "source": [
    "##xgbc_gscv.best_estimator_"
   ]
  },
  {
   "cell_type": "markdown",
   "metadata": {
    "id": "SweGr4LaUuRK"
   },
   "source": [
    "## Randomized Search CV "
   ]
  },
  {
   "cell_type": "markdown",
   "metadata": {
    "id": "P3JLNxV1XxrN"
   },
   "source": [
    "In contrast to GridSearchCV, not all parameter values are tried out, but\n",
    "rather a fixed number of parameter settings is sampled from the specified\n",
    "distributions. The number of parameter settings that are tried is\n",
    "given by n_iter."
   ]
  },
  {
   "cell_type": "markdown",
   "metadata": {
    "id": "oeVNIMWn1rCm"
   },
   "source": [
    "**Repeated stratified k-fold CV** involves simply repeating the cross-validation procedure multiple times and reporting the mean result across all folds from all runs  \n",
    "This mean result is expected to be a more accurate estimate of the true unknown underlying mean performance of the model on the dataset, as calculated using the standard error."
   ]
  },
  {
   "cell_type": "code",
   "execution_count": null,
   "metadata": {
    "id": "ecRCeg63eMyQ"
   },
   "outputs": [],
   "source": [
    "# CV type 3: repeated stratified k-fold CV (due to imbalance in the data set) \n",
    "# maintains the ratio of instances in each class for each fold\n",
    "# Repeated stratified k-fold CV involves simply repeating the cross-validation procedure multiple times \n",
    "# and reporting the mean result across all folds from all runs\n",
    "\n",
    "n_folds=3 # no. of folds\n",
    "n_repeats=3 # no. of runs\n",
    "\n",
    "rskfold = RepeatedStratifiedKFold(n_splits=n_folds,n_repeats=n_repeats,\n",
    "                                 random_state=123)"
   ]
  },
  {
   "cell_type": "code",
   "execution_count": null,
   "metadata": {
    "colab": {
     "base_uri": "https://localhost:8080/"
    },
    "id": "XBH-Yqnv5JY5",
    "outputId": "dcd3c762-f531-4141-955c-ed183893aec1"
   },
   "outputs": [],
   "source": [
    "# estimator = xgbc is the xgb classifier model; \"cv\" determines the cross validation splitting strategy; \"scoring\" determines the loss function\n",
    "clf_rscv_scores = cross_val_score(xgbc, X_train, y_train, cv=rskfold, scoring='balanced_accuracy')\n",
    "print(\"Repeated Stratified K-fold CV average score: %.2f\" % clf_rscv_scores.mean())\n",
    "\n",
    "clf_rscv_scores # score per fold and run"
   ]
  },
  {
   "cell_type": "markdown",
   "metadata": {
    "id": "RPYJ8BKxaSNH"
   },
   "source": [
    "The Search Space is a dictionary where names are arguments to the model and values are distributions from which to draw samples"
   ]
  },
  {
   "cell_type": "code",
   "execution_count": null,
   "metadata": {
    "id": "JP2noCA5Yo1g"
   },
   "outputs": [],
   "source": [
    "# define a search space for the RSCV\n",
    "space = dict()\n",
    "# Log-uniform is useful for searching penalty values as we often explore values at different orders of magnitude, at least as a first step.\n",
    "space['reg_lambda'] = loguniform(1e-5, 100)\n",
    "space['reg_alpha'] = loguniform(1e-5, 100) # loguniform distribution\n",
    "space['max_depth'] = [3, 4, 5, 6, 7, 8, 9] # fixed set of values\n",
    "space['min_child_weight'] = [1, 2, 3, 4]\n",
    "space['colsample_by_tree'] = uniform(0.5, 0.4) # uniform distribution with lower bound 0.5 and range 0.4 so between 0.5 and 0.9\n",
    "space['subsample'] = uniform(0.5, 0.4)\n",
    "space['n_estimators'] = randint(150, 1000) # returns a pseudo random integer number from the given range \n",
    "space['learning_rate'] = uniform(0.01, 0.6)\n"
   ]
  },
  {
   "cell_type": "code",
   "execution_count": null,
   "metadata": {
    "id": "Rf-SfpUVVSDu"
   },
   "outputs": [],
   "source": [
    "# Randomized Search cross validation (scoring parameter is used to set the loss function for the gscv)\n",
    "# n_iter: sets the number of iterations (the # of random combinations from the search space to try)\n",
    "\n",
    "xgbc_rscv = RandomizedSearchCV(estimator = xgbc, \n",
    "                               n_iter= 20, \n",
    "                               scoring = 'balanced_accuracy', \n",
    "                               param_distributions = space, \n",
    "                               verbose=1, \n",
    "                               cv = rskfold, \n",
    "                               n_jobs=-1, \n",
    "                               random_state=123,\n",
    "                               return_train_score = True)"
   ]
  },
  {
   "cell_type": "code",
   "execution_count": null,
   "metadata": {
    "colab": {
     "base_uri": "https://localhost:8080/"
    },
    "id": "7DshptzjVSDy",
    "outputId": "157f9167-6db1-4860-bd59-9a5f51ecaffd"
   },
   "outputs": [],
   "source": [
    "# fitting the model multiple times to find the best hyperparameter combination\n",
    "##xgbc_rscv.fit(X_train, y_train)"
   ]
  },
  {
   "cell_type": "code",
   "execution_count": null,
   "metadata": {
    "colab": {
     "base_uri": "https://localhost:8080/"
    },
    "id": "gKjvcLFwYJPe",
    "outputId": "823d4aca-7df2-4a71-827d-9091427166ee"
   },
   "outputs": [],
   "source": [
    "# obtaining the best hyperparameter values from the Randomized Search CV\n",
    "##xgbc_rscv.best_params_"
   ]
  },
  {
   "cell_type": "code",
   "execution_count": null,
   "metadata": {
    "colab": {
     "base_uri": "https://localhost:8080/"
    },
    "id": "IO6TLip_YJYA",
    "outputId": "e557d159-dd5a-4240-fc67-3da3e5d67e7c"
   },
   "outputs": [],
   "source": [
    "# best score \n",
    "##print(xgbc_rscv.scoring, xgbc_rscv.best_score_)"
   ]
  },
  {
   "cell_type": "markdown",
   "metadata": {
    "id": "AbWLLHFhU_uH"
   },
   "source": [
    "## Fitting the Optimal Model"
   ]
  },
  {
   "cell_type": "markdown",
   "metadata": {
    "id": "vNL0ZWsgL_wm"
   },
   "source": [
    "{'colsample_by_tree': 0.7,\n",
    " 'learning_rate': 0.01,\n",
    " 'max_depth': 5,\n",
    " 'min_child_weight': 1,\n",
    " 'n_estimators': 250,\n",
    " 'reg_alpha': 0.0,\n",
    " 'reg_lambda': 0.8,\n",
    " 'subsample': 0.7}"
   ]
  },
  {
   "cell_type": "code",
   "execution_count": null,
   "metadata": {
    "id": "3mVthI1rF1K-"
   },
   "outputs": [],
   "source": [
    "# setting up the optimal xgb classifier model using the configuration of hyperparameters from the GSCV or RSCV\n",
    "xgbc_opt = xgb.XGBClassifier(objective=\"binary:logistic\", obj=\"balanced_accuracy\", feval = \"balanced_accuracy\", scale_pos_weight = weight, booster=\"gbtree\",learning_rate=0.44864382150673426, colsample_bytree=0.6577480215811099, max_depth=5, min_child_weight=4,n_estimators = 557, subsample = 0.8304820510130102, reg_alpha =81.7237442395881, reg_lambda=0.002791929884483455)"
   ]
  },
  {
   "cell_type": "code",
   "execution_count": null,
   "metadata": {
    "colab": {
     "base_uri": "https://localhost:8080/"
    },
    "id": "2cH6zrz5ZH66",
    "outputId": "0faee1d2-caf1-4e7a-949c-5e09462815e8"
   },
   "outputs": [],
   "source": [
    "# fitting the XGB classifier model to the training data (final model with optimal hyperparameters from the gscv)\n",
    "xgbc_opt.fit(X_train, y_train)"
   ]
  },
  {
   "cell_type": "code",
   "execution_count": null,
   "metadata": {
    "colab": {
     "base_uri": "https://localhost:8080/"
    },
    "id": "Lc63IZD5QN1E",
    "outputId": "cc278f26-cc14-4365-eb48-b5549e2db2c4"
   },
   "outputs": [],
   "source": [
    "xgbc_opt.evals_result"
   ]
  },
  {
   "cell_type": "code",
   "execution_count": null,
   "metadata": {
    "id": "npeGK-hEY4YU"
   },
   "outputs": [],
   "source": [
    "# making predictions using the test data\n",
    "y_pred_xgbc = xgbc_opt.predict(X_test)\n"
   ]
  },
  {
   "cell_type": "code",
   "execution_count": null,
   "metadata": {
    "colab": {
     "base_uri": "https://localhost:8080/"
    },
    "id": "LGV28R0jHuIj",
    "outputId": "ac0a438f-8d56-44a0-eb21-6c30d73c0944"
   },
   "outputs": [],
   "source": [
    "y_pred_xgbc[0:10]"
   ]
  },
  {
   "cell_type": "code",
   "execution_count": null,
   "metadata": {
    "colab": {
     "base_uri": "https://localhost:8080/"
    },
    "id": "9luj6CKrHorW",
    "outputId": "4cafeabe-7da3-431a-c0f7-1dde5fb79485"
   },
   "outputs": [],
   "source": [
    "# transforming the true/false values into 0/1 values\n",
    "##y_pred_xgbc = y_pred_xgbc.astype(int)\n",
    "\n",
    "##y_pred_xgbc[0:10]"
   ]
  },
  {
   "cell_type": "code",
   "execution_count": null,
   "metadata": {
    "colab": {
     "base_uri": "https://localhost:8080/"
    },
    "id": "6Hm49vLYZWlR",
    "outputId": "56a7c126-edbd-4aa2-c5e9-40d715fb7fc8"
   },
   "outputs": [],
   "source": [
    "# unique values (of a numpy array) of the predictions\n",
    "np.unique(y_pred_xgbc, return_counts=True)\n"
   ]
  },
  {
   "cell_type": "code",
   "execution_count": null,
   "metadata": {
    "colab": {
     "base_uri": "https://localhost:8080/"
    },
    "id": "nYGrYMqEmYmt",
    "outputId": "f16477cc-9c90-418d-87b1-acd960cb5713"
   },
   "outputs": [],
   "source": [
    "np.unique(y_test, return_counts=True)"
   ]
  },
  {
   "cell_type": "markdown",
   "metadata": {
    "id": "fn5Ed1jLL8qz"
   },
   "source": [
    "Model Evaluation"
   ]
  },
  {
   "cell_type": "code",
   "execution_count": null,
   "metadata": {
    "colab": {
     "base_uri": "https://localhost:8080/"
    },
    "id": "Ey5fh4adZoYO",
    "outputId": "155597a0-16b9-4341-99db-f414f1e7d664"
   },
   "outputs": [],
   "source": [
    "# evaluation the predicted classifications using a confusion matrix\n",
    "\n",
    "conf_matrix = confusion_matrix(y_test, y_pred_xgbc)\n",
    "\n",
    "conf_matrix"
   ]
  },
  {
   "cell_type": "code",
   "execution_count": null,
   "metadata": {
    "colab": {
     "base_uri": "https://localhost:8080/"
    },
    "id": "VM_Huuu7ZoaX",
    "outputId": "f837a5f6-cfef-40f1-ef4b-79db640ffd3b"
   },
   "outputs": [],
   "source": [
    "# computing an accuracy score for the predictions (evaluating predictions)\n",
    "accuracy_score(y_test, y_pred_xgbc)"
   ]
  },
  {
   "cell_type": "code",
   "execution_count": null,
   "metadata": {
    "colab": {
     "base_uri": "https://localhost:8080/"
    },
    "id": "t9WvokJF0VJy",
    "outputId": "5b960017-678c-448a-a452-26c9ccad8943"
   },
   "outputs": [],
   "source": [
    "# computing the balanced accuracy score for the predictions\n",
    "balanced_accuracy_score(y_test, y_pred_xgbc)"
   ]
  },
  {
   "cell_type": "code",
   "execution_count": null,
   "metadata": {
    "colab": {
     "base_uri": "https://localhost:8080/"
    },
    "id": "0H8iGxoAZv-D",
    "outputId": "a9992b1d-6a9e-444a-a724-c9e4ea6bc205"
   },
   "outputs": [],
   "source": [
    "# feature scores\n",
    "xgbc_opt.get_booster().get_fscore()"
   ]
  },
  {
   "cell_type": "code",
   "execution_count": null,
   "metadata": {
    "colab": {
     "base_uri": "https://localhost:8080/",
     "height": 295
    },
    "id": "RMz2vYKHq1qW",
    "outputId": "78cf93c2-9f52-432d-c21d-08cc15003cc8"
   },
   "outputs": [],
   "source": [
    "# feature importance plot\n",
    "xgb.plot_importance(xgbc_opt)\n",
    "plt.rcParams['figure.figsize'] = [12, 12]\n",
    "plt.show()"
   ]
  },
  {
   "cell_type": "markdown",
   "metadata": {
    "id": "8ufru5Hi43pz"
   },
   "source": [
    "# Logistic Regression Model"
   ]
  },
  {
   "cell_type": "markdown",
   "metadata": {
    "id": "M3R4MXqsKrb4"
   },
   "source": [
    "Logistic Regression is one of the most simple and commonly used Machine Learning algorithms for two-class classification. It is easy to implement and can be used as the baseline for any binary classification problem  \n",
    "  \n",
    "Estimation: Maximum Likelihood"
   ]
  },
  {
   "cell_type": "code",
   "execution_count": null,
   "metadata": {
    "id": "JCxUcnoF4299"
   },
   "outputs": [],
   "source": [
    "# creating a logistic regression classifier object \n",
    "log_reg = LogisticRegression()"
   ]
  },
  {
   "cell_type": "markdown",
   "metadata": {
    "id": "dq-8MI5VOwnh"
   },
   "source": [
    "Regular Logistic regression without Gridsearch"
   ]
  },
  {
   "cell_type": "code",
   "execution_count": null,
   "metadata": {
    "colab": {
     "base_uri": "https://localhost:8080/"
    },
    "id": "cI-Fhk8fq4RA",
    "outputId": "63f76aba-9f75-4069-b4f5-55d58cfe7e17"
   },
   "outputs": [],
   "source": [
    "# fitting the logistic regression model to the training data (regular LR model without gridsearch)\n",
    "log_reg.fit(X_train, y_train)"
   ]
  },
  {
   "cell_type": "code",
   "execution_count": null,
   "metadata": {
    "id": "HmxdOYdW6Dmb"
   },
   "outputs": [],
   "source": [
    "# predicting on the test set\n",
    "y_pred_lr = log_reg.predict(X_test)"
   ]
  },
  {
   "cell_type": "code",
   "execution_count": null,
   "metadata": {
    "colab": {
     "base_uri": "https://localhost:8080/"
    },
    "id": "96TxqqveLorH",
    "outputId": "a131d80b-def3-4404-a384-bf32e993d5bb"
   },
   "outputs": [],
   "source": [
    "# unique values (of a numpy array) of the predictions\n",
    "np.unique(y_pred_lr, return_counts=True)"
   ]
  },
  {
   "cell_type": "code",
   "execution_count": null,
   "metadata": {
    "colab": {
     "base_uri": "https://localhost:8080/"
    },
    "id": "Jnzt4ILOPHS0",
    "outputId": "58a3d838-12e2-48d6-d0f4-64b417315842"
   },
   "outputs": [],
   "source": [
    "# unique values (of a numpy array) of the validation targets\n",
    "np.unique(y_test, return_counts=True)"
   ]
  },
  {
   "cell_type": "code",
   "execution_count": null,
   "metadata": {
    "colab": {
     "base_uri": "https://localhost:8080/"
    },
    "id": "i0MFeVXt2U8V",
    "outputId": "46d04a5f-4db7-4165-b7cd-7334a2a6d651"
   },
   "outputs": [],
   "source": [
    "y_pred_lr.shape"
   ]
  },
  {
   "cell_type": "markdown",
   "metadata": {
    "id": "QAjzDpclQL22"
   },
   "source": [
    "Model evaluation regular Log Reg"
   ]
  },
  {
   "cell_type": "code",
   "execution_count": null,
   "metadata": {
    "colab": {
     "base_uri": "https://localhost:8080/"
    },
    "id": "BdYFdj_m2Ked",
    "outputId": "7407ff1b-590c-48ed-bbf5-c68a3ec94aa0"
   },
   "outputs": [],
   "source": [
    "# computing an accuracy score for the predictions (evaluating predictions)\n",
    "accuracy_score(y_test, y_pred_lr)"
   ]
  },
  {
   "cell_type": "code",
   "execution_count": null,
   "metadata": {
    "colab": {
     "base_uri": "https://localhost:8080/"
    },
    "id": "Y-3OZItiNzZS",
    "outputId": "c5b7f763-bc8a-46b7-c3b1-e2c754777d4a"
   },
   "outputs": [],
   "source": [
    "# computing the balanced accuracy score for the predictions\n",
    "balanced_accuracy_score(y_test, y_pred_lr)"
   ]
  },
  {
   "cell_type": "code",
   "execution_count": null,
   "metadata": {
    "colab": {
     "base_uri": "https://localhost:8080/"
    },
    "id": "SRdUe3SlL5nu",
    "outputId": "5b51c989-71be-4739-ae34-a96c586a725e"
   },
   "outputs": [],
   "source": [
    "# evaluation the predicted classifications using a confusion matrix\n",
    "\n",
    "conf_matrix = confusion_matrix(y_test, y_pred_lr)\n",
    "\n",
    "conf_matrix"
   ]
  },
  {
   "cell_type": "markdown",
   "metadata": {
    "id": "KfghPxgcMzU5"
   },
   "source": [
    "The Receiver Operating Characteristic(ROC) curve is a plot of the true positive rate against the false positive rate. It shows the tradeoff between sensitivity and specificity"
   ]
  },
  {
   "cell_type": "code",
   "execution_count": null,
   "metadata": {
    "colab": {
     "base_uri": "https://localhost:8080/",
     "height": 265
    },
    "id": "X2uKymX3MSsv",
    "outputId": "68a8b085-624b-4b6c-f786-fc6439b7f801"
   },
   "outputs": [],
   "source": [
    "# Plotting the Receiver Operator Curve (ROC)\n",
    "y_pred_proba = log_reg.predict_proba(X_test)[::,1]\n",
    "fpr, tpr, _ = roc_curve(y_test,  y_pred_proba)\n",
    "auc = roc_auc_score(y_test, y_pred_proba)\n",
    "plt.plot(fpr,tpr,label=\"data 1, auc=\"+str(auc))\n",
    "plt.legend(loc=4)\n",
    "plt.show()"
   ]
  },
  {
   "cell_type": "markdown",
   "metadata": {
    "id": "z-7mDMfmOWgi"
   },
   "source": [
    "# Naive Bayes"
   ]
  },
  {
   "cell_type": "markdown",
   "metadata": {
    "id": "46EhqmwcPzMq"
   },
   "source": [
    "Naive Bayes methods are a set of supervised learning algorithms based on applying Bayes’ theorem with the “naive” assumption of conditional independence between every pair of features given the value of the class variable"
   ]
  },
  {
   "cell_type": "code",
   "execution_count": null,
   "metadata": {
    "id": "phsHAddqOXbo"
   },
   "outputs": [],
   "source": [
    "# initializing a Gaussian Naive Bayes Classifier\n",
    "gnb = GaussianNB()"
   ]
  },
  {
   "cell_type": "code",
   "execution_count": null,
   "metadata": {
    "colab": {
     "base_uri": "https://localhost:8080/"
    },
    "id": "iBj31HhLOi_o",
    "outputId": "3887a68e-9cc2-4675-d80b-d0b8ade6c398"
   },
   "outputs": [],
   "source": [
    "# fitting the model to the training data\n",
    "gnb.fit(X_train, y_train)"
   ]
  },
  {
   "cell_type": "code",
   "execution_count": null,
   "metadata": {
    "colab": {
     "base_uri": "https://localhost:8080/"
    },
    "id": "eo_6aMpYOnaJ",
    "outputId": "c07cd3f1-f103-4eb3-d710-d45c8dd52ee9"
   },
   "outputs": [],
   "source": [
    "# obtaining predictions\n",
    "y_pred_nb = gnb.predict(X_test)\n",
    "print(\"Number of mislabeled points out of a total %d points : %d\"\n",
    "% (X_test.shape[0], (y_test != y_pred_nb).sum()))"
   ]
  },
  {
   "cell_type": "code",
   "execution_count": null,
   "metadata": {
    "colab": {
     "base_uri": "https://localhost:8080/"
    },
    "id": "CGTQIuiAO7fU",
    "outputId": "0e95b851-74e6-4be6-f1b1-5f1c0f6b25a8"
   },
   "outputs": [],
   "source": [
    "# unique values (of a numpy array) of the predictions\n",
    "np.unique(y_pred_nb, return_counts=True)"
   ]
  },
  {
   "cell_type": "markdown",
   "metadata": {
    "id": "XYEQO1_SPCk9"
   },
   "source": [
    "Model Evaluation"
   ]
  },
  {
   "cell_type": "code",
   "execution_count": null,
   "metadata": {
    "colab": {
     "base_uri": "https://localhost:8080/"
    },
    "id": "g4GeEPIuPB4s",
    "outputId": "a17faf4e-446d-4a4c-fa7c-1ac736a6ff2b"
   },
   "outputs": [],
   "source": [
    "# computing the balanced accuracy score for the predictions\n",
    "balanced_accuracy_score(y_test, y_pred_nb)"
   ]
  },
  {
   "cell_type": "code",
   "execution_count": null,
   "metadata": {
    "colab": {
     "base_uri": "https://localhost:8080/"
    },
    "id": "bxtI-Wmx6dfg",
    "outputId": "04d7bd32-f3b6-4336-e4d9-71cd6d89c803"
   },
   "outputs": [],
   "source": [
    "# computing an accuracy score for the predictions (evaluating predictions)\n",
    "accuracy_score(y_test, y_pred_nb)"
   ]
  },
  {
   "cell_type": "code",
   "execution_count": null,
   "metadata": {
    "colab": {
     "base_uri": "https://localhost:8080/"
    },
    "id": "YZ5MtadpPd1p",
    "outputId": "7f5dfb76-42a7-48ac-b5a6-b8a6f6b91474"
   },
   "outputs": [],
   "source": [
    "# evaluation the predicted classifications using a confusion matrix\n",
    "\n",
    "conf_matrix = confusion_matrix(y_test, y_pred_nb)\n",
    "\n",
    "conf_matrix"
   ]
  },
  {
   "cell_type": "markdown",
   "metadata": {
    "id": "uC_wxYBWgsQp"
   },
   "source": [
    "# Final model with all Training data for Server submission"
   ]
  },
  {
   "cell_type": "code",
   "execution_count": null,
   "metadata": {
    "colab": {
     "base_uri": "https://localhost:8080/"
    },
    "id": "NdF7NzLjg6Ll",
    "outputId": "b81ac957-ea2a-43fc-bec7-9f0f773ba422"
   },
   "outputs": [],
   "source": [
    "# we train a final model on 5000 data points\n",
    "# labels \n",
    "y_train = train_final[\"Ownership_Indicator\"]\n",
    "\n",
    "\n",
    "# y_test is unknown\n",
    "\n",
    "print(y_train)"
   ]
  },
  {
   "cell_type": "code",
   "execution_count": null,
   "metadata": {
    "colab": {
     "base_uri": "https://localhost:8080/"
    },
    "id": "w-6ZkWZ7rXPq",
    "outputId": "4cf39a47-2559-461a-e62e-e9f6208bedf0"
   },
   "outputs": [],
   "source": [
    "# comparing column names of the final training data and the final test data\n",
    "train_final.columns.isin(test_final.columns)"
   ]
  },
  {
   "cell_type": "code",
   "execution_count": null,
   "metadata": {
    "colab": {
     "base_uri": "https://localhost:8080/"
    },
    "id": "-mLOXnGzrkqX",
    "outputId": "d61e9edc-8aff-4615-d1f9-b67a7a7f6ffc"
   },
   "outputs": [],
   "source": [
    "# returning the columns only present in the training set but not in the test set\n",
    "train_final.columns[~train_final.columns.isin(test_final.columns)]"
   ]
  },
  {
   "cell_type": "code",
   "execution_count": null,
   "metadata": {
    "colab": {
     "base_uri": "https://localhost:8080/"
    },
    "id": "JfF0Mni3uOyj",
    "outputId": "95b8117a-e4d5-4719-8d89-0133b6d0407e"
   },
   "outputs": [],
   "source": [
    "all_features_test = test_final.columns[1:test_final.columns.shape[0]]\n",
    "\n",
    "all_features_test = enc_features.drop(\"x0_Phlebology\") # dropping the feature column not present in the training data\n",
    "\n",
    "all_features_test"
   ]
  },
  {
   "cell_type": "code",
   "execution_count": null,
   "metadata": {
    "colab": {
     "base_uri": "https://localhost:8080/"
    },
    "id": "1ItgWB71gw23",
    "outputId": "abde9c06-cd1d-478e-c61d-c168b1e3be49"
   },
   "outputs": [],
   "source": [
    "# features (manually) 5000 data points\n",
    "X_train = train_final.drop(['Ownership_Indicator', 'x0_Chiropractic Providers',\n",
    "       'x0_Medical Genetics', 'x0_Neuromusculoskeletal Medicine & OMM',\n",
    "       'x0_Neuromusculoskeletal Medicine, Sports Medicine',\n",
    "       'x0_Nuclear Medicine', 'x0_Oral & Maxillofacial Surgery',\n",
    "       'x1_Charitable Contribution',\n",
    "       'x1_Compensation for serving as faculty or as a speaker for an accredited or certified continuing education program',\n",
    "       'x1_Current or prospective ownership or investment interest',\n",
    "       'x2_Combination'], axis=1)\n",
    "#X_train = X_train[enc_features] # subsetting features\n",
    "\n",
    "# 1000 data points for test set features\n",
    "X_test = test_final[all_features_test]\n",
    "print(X_train, X_test)\n",
    "\n",
    "print(X_train.shape, X_test.shape)"
   ]
  },
  {
   "cell_type": "code",
   "execution_count": null,
   "metadata": {
    "colab": {
     "base_uri": "https://localhost:8080/"
    },
    "id": "v3rc8kwmiWYw",
    "outputId": "93463ef3-aaec-42a2-ad18-74eccde65c27"
   },
   "outputs": [],
   "source": [
    "X_train.columns"
   ]
  },
  {
   "cell_type": "code",
   "execution_count": null,
   "metadata": {
    "colab": {
     "base_uri": "https://localhost:8080/"
    },
    "id": "JbAnbPFkicPQ",
    "outputId": "2498ff7f-0c7b-4bad-e0fc-7363007e386e"
   },
   "outputs": [],
   "source": [
    "X_test.columns"
   ]
  },
  {
   "cell_type": "markdown",
   "metadata": {
    "id": "CjGknbHnoLta"
   },
   "source": [
    "Fitting an XGBClassifier model on 5000 data points"
   ]
  },
  {
   "cell_type": "code",
   "execution_count": null,
   "metadata": {
    "colab": {
     "base_uri": "https://localhost:8080/"
    },
    "id": "h52LBMgyoykQ",
    "outputId": "98064cf5-1ec4-49fc-c363-aefa4b3b72a6"
   },
   "outputs": [],
   "source": [
    "# count # of examples/data points in each class\n",
    "counter = Counter(y_train)\n",
    "\n",
    "counter\n"
   ]
  },
  {
   "cell_type": "code",
   "execution_count": null,
   "metadata": {
    "colab": {
     "base_uri": "https://localhost:8080/"
    },
    "id": "tSCAsfS-oykU",
    "outputId": "ac860fb3-4dbd-4312-cdc0-e92aa987914e"
   },
   "outputs": [],
   "source": [
    "# estimate scale_pos_weight value, assuming the class labels are 0 and 1\n",
    "weight = counter[0] / counter[1]\n",
    "\n",
    "weight\n"
   ]
  },
  {
   "cell_type": "code",
   "execution_count": null,
   "metadata": {
    "id": "L_YNgazqoykX"
   },
   "outputs": [],
   "source": [
    "# initilizing the XGBClassifier as an object: (using all the default hyperparameters)\n",
    "# here we initialize an XGBClassifier with a scale_pos_weight for imbalanced classification data\n",
    "xgbc_final = xgb.XGBClassifier(scale_pos_weight= weight)\n",
    "\n"
   ]
  },
  {
   "cell_type": "markdown",
   "metadata": {
    "id": "ZkTY4I7l8TZB"
   },
   "source": [
    "## Final Random Search & Model fit"
   ]
  },
  {
   "cell_type": "code",
   "execution_count": null,
   "metadata": {
    "id": "8F-HD2Yd8hYO"
   },
   "outputs": [],
   "source": [
    "# CV type 3: repeated stratified k-fold CV (due to imbalance in the data set) \n",
    "# maintains the ratio of instances in each class for each fold\n",
    "# Repeated stratified k-fold CV involves simply repeating the cross-validation procedure multiple times \n",
    "# and reporting the mean result across all folds from all runs\n",
    "\n",
    "n_folds=3 # no. of folds\n",
    "n_repeats=3 # no. of runs\n",
    "\n",
    "rskfold = RepeatedStratifiedKFold(n_splits=n_folds,n_repeats=n_repeats,\n",
    "                                 random_state=123)"
   ]
  },
  {
   "cell_type": "code",
   "execution_count": null,
   "metadata": {
    "colab": {
     "base_uri": "https://localhost:8080/"
    },
    "id": "q8n7Jmnt8hYP",
    "outputId": "78893eab-1383-4e86-9973-1e3df4843caf"
   },
   "outputs": [],
   "source": [
    "# estimator = xgbc is the xgb classifier model; \"cv\" determines the cross validation splitting strategy; \"scoring\" determines the loss function\n",
    "clf_rscv_scores = cross_val_score(xgbc_final, X_train, y_train, cv=rskfold, scoring='balanced_accuracy')\n",
    "print(\"Repeated Stratified K-fold CV average score: %.2f\" % clf_rscv_scores.mean())\n",
    "\n",
    "clf_rscv_scores # score per fold and run"
   ]
  },
  {
   "cell_type": "code",
   "execution_count": null,
   "metadata": {
    "id": "QH-mbfdL8hYS"
   },
   "outputs": [],
   "source": [
    "# define a search space for the RSCV\n",
    "space = dict()\n",
    "# Log-uniform is useful for searching penalty values as we often explore values at different orders of magnitude, at least as a first step.\n",
    "space['reg_lambda'] = loguniform(1e-5, 100)\n",
    "space['reg_alpha'] = loguniform(1e-5, 100) # loguniform distribution\n",
    "space['max_depth'] = [3, 4, 5, 6, 7, 8, 9] # fixed set of values\n",
    "space['min_child_weight'] = [1, 2, 3, 4]\n",
    "space['colsample_by_tree'] = uniform(0.5, 0.4) # uniform distribution with lower bound 0.5 and range 0.4 so between 0.5 and 0.9\n",
    "space['subsample'] = uniform(0.5, 0.4)\n",
    "space['n_estimators'] = randint(150, 1000) # returns a pseudo random integer number from the given range \n",
    "space['learning_rate'] = uniform(0.01, 0.6)\n"
   ]
  },
  {
   "cell_type": "code",
   "execution_count": null,
   "metadata": {
    "id": "JuZYP-aG8hYW"
   },
   "outputs": [],
   "source": [
    "# Randomized Search cross validation (scoring parameter is used to set the loss function for the gscv)\n",
    "# n_iter: sets the number of iterations (the # of random combinations from the search space to try)\n",
    "\n",
    "xgbc_rscv = RandomizedSearchCV(estimator = xgbc_final, \n",
    "                               n_iter= 20, \n",
    "                               scoring = 'balanced_accuracy', \n",
    "                               param_distributions = space, \n",
    "                               verbose=1, \n",
    "                               cv = rskfold, \n",
    "                               n_jobs=-1, \n",
    "                               random_state=123,\n",
    "                               return_train_score = True)"
   ]
  },
  {
   "cell_type": "code",
   "execution_count": null,
   "metadata": {
    "colab": {
     "base_uri": "https://localhost:8080/"
    },
    "id": "dZV1mMAM8hYX",
    "outputId": "331efaee-9853-40ae-e8f0-e5b8a3577350"
   },
   "outputs": [],
   "source": [
    "# fitting the model multiple times to find the best hyperparameter combination\n",
    "##xgbc_rscv.fit(X_train, y_train)"
   ]
  },
  {
   "cell_type": "code",
   "execution_count": null,
   "metadata": {
    "colab": {
     "base_uri": "https://localhost:8080/"
    },
    "id": "CSGqTwTy8hYa",
    "outputId": "f8a3e599-12dd-41f6-d1aa-4b83789c549c"
   },
   "outputs": [],
   "source": [
    "# obtaining the best hyperparameter values from the Randomized Search CV\n",
    "##xgbc_rscv.best_params_"
   ]
  },
  {
   "cell_type": "code",
   "execution_count": null,
   "metadata": {
    "colab": {
     "base_uri": "https://localhost:8080/"
    },
    "id": "TW988_u18hYb",
    "outputId": "ab9f8f7c-a49a-48cb-ca73-d2a249c0a982"
   },
   "outputs": [],
   "source": [
    "# best score \n",
    "##print(xgbc_rscv.scoring, xgbc_rscv.best_score_)"
   ]
  },
  {
   "cell_type": "markdown",
   "metadata": {
    "id": "1s1dVxt68hYd"
   },
   "source": [
    "## Fitting the Optimal Model"
   ]
  },
  {
   "cell_type": "markdown",
   "metadata": {
    "id": "rXro7ND08hYd"
   },
   "source": [
    "{'colsample_by_tree': 0.7,\n",
    " 'learning_rate': 0.01,\n",
    " 'max_depth': 5,\n",
    " 'min_child_weight': 1,\n",
    " 'n_estimators': 250,\n",
    " 'reg_alpha': 0.0,\n",
    " 'reg_lambda': 0.8,\n",
    " 'subsample': 0.7}"
   ]
  },
  {
   "cell_type": "code",
   "execution_count": null,
   "metadata": {
    "id": "WzOKKwqe8hYn"
   },
   "outputs": [],
   "source": [
    "# setting up the optimal xgb classifier model using the configuration of hyperparameters from the GSCV or RSCV\n",
    "xgbc_final_opt = xgb.XGBClassifier(objective=\"binary:logistic\", obj=\"balanced_accuracy\", feval = \"balanced_accuracy\", scale_pos_weight = weight, booster=\"gbtree\",learning_rate=0.44864382150673426, colsample_bytree=0.6577480215811099, max_depth=5, min_child_weight=4,n_estimators = 557, subsample = 0.8304820510130102, reg_alpha =81.72374423958811, reg_lambda=0.002791929884483455)"
   ]
  },
  {
   "cell_type": "code",
   "execution_count": null,
   "metadata": {
    "colab": {
     "base_uri": "https://localhost:8080/"
    },
    "id": "CtCpeMTz8hYq",
    "outputId": "4ec19512-7617-40d7-89bb-d47bd68af14a"
   },
   "outputs": [],
   "source": [
    "# fitting the XGB classifier model to the training data (final model with optimal hyperparameters from the gscv)\n",
    "xgbc_final_opt.fit(X_train, y_train)"
   ]
  },
  {
   "cell_type": "code",
   "execution_count": null,
   "metadata": {
    "id": "65cxp0un8hYt"
   },
   "outputs": [],
   "source": [
    "# making predictions using the test data\n",
    "y_pred_xgbc_final = xgbc_final_opt.predict(X_test)\n"
   ]
  },
  {
   "cell_type": "code",
   "execution_count": null,
   "metadata": {
    "colab": {
     "base_uri": "https://localhost:8080/"
    },
    "id": "Ew3eG0TN8hYy",
    "outputId": "d36ed342-c1f8-4b21-f698-a8e985dc2c5a"
   },
   "outputs": [],
   "source": [
    "# unique values (of a numpy array) of the predictions\n",
    "np.unique(y_pred_xgbc_final, return_counts=True)\n"
   ]
  },
  {
   "cell_type": "markdown",
   "metadata": {
    "id": "NM5NjzRSQk-p"
   },
   "source": [
    "# Exporting the predicitions for a submission"
   ]
  },
  {
   "cell_type": "markdown",
   "metadata": {
    "id": "Ba_zeEaKUZfZ"
   },
   "source": [
    "Export predictions into csv file  \n",
    "• Format: id, prediction  \n",
    "• Predictions must be 0 or 1 (not 0.5, not ‘Yes’, not ‘FALSE’)  \n",
    "• Must contain all instances of the original test dataset"
   ]
  },
  {
   "cell_type": "code",
   "execution_count": null,
   "metadata": {
    "colab": {
     "base_uri": "https://localhost:8080/"
    },
    "id": "BDcIGv_EZkoW",
    "outputId": "0a30f748-1db6-4520-e8cc-ad24a5c0fb97"
   },
   "outputs": [],
   "source": [
    "test_final.columns"
   ]
  },
  {
   "cell_type": "code",
   "execution_count": null,
   "metadata": {
    "id": "KuyVVNIt7h0v"
   },
   "outputs": [],
   "source": [
    "final_preds = y_pred_xgbc_final"
   ]
  },
  {
   "cell_type": "code",
   "execution_count": null,
   "metadata": {
    "colab": {
     "base_uri": "https://localhost:8080/",
     "height": 424
    },
    "id": "d4jvdms2QkYf",
    "outputId": "335e546b-708b-40c5-c380-25adeec7e0c9"
   },
   "outputs": [],
   "source": [
    "# storing the ids and the corresponding predictions as a combined dataframe\n",
    "\n",
    "submission = pd.DataFrame()\n",
    "\n",
    "submission[\"id\"] = test_final[\"Physician_ID\"]\n",
    "\n",
    "submission[\"prediction\"] = final_preds\n",
    "\n",
    "\n",
    "submission\n",
    "\n"
   ]
  },
  {
   "cell_type": "code",
   "execution_count": null,
   "metadata": {
    "id": "aQFIxLuwU3fW"
   },
   "outputs": [],
   "source": [
    "# storing the submission data in a csv file\n",
    "submission.to_csv('submission_team_sgs_4.csv', index=False) "
   ]
  }
 ],
 "metadata": {
  "colab": {
   "collapsed_sections": [],
   "name": "AC_python_classifiers_latest.ipynb",
   "provenance": [],
   "toc_visible": true
  },
  "kernelspec": {
   "display_name": "Python 3",
   "language": "python",
   "name": "python3"
  },
  "language_info": {
   "codemirror_mode": {
    "name": "ipython",
    "version": 3
   },
   "file_extension": ".py",
   "mimetype": "text/x-python",
   "name": "python",
   "nbconvert_exporter": "python",
   "pygments_lexer": "ipython3",
   "version": "3.7.3"
  }
 },
 "nbformat": 4,
 "nbformat_minor": 1
}
